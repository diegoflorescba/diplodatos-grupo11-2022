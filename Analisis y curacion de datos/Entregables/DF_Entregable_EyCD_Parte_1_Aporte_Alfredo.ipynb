{
 "cells": [
  {
   "cell_type": "markdown",
   "id": "e0ff301b-5595-4a0b-a2b8-3d5609a0485d",
   "metadata": {
    "id": "e0ff301b-5595-4a0b-a2b8-3d5609a0485d"
   },
   "source": [
    "**Diplomatura en Ciencia de Datos, Aprendizaje Automático y sus Aplicaciones**\n",
    "\n",
    "**Exploración y Curación de Datos**\n",
    "\n",
    "*Edición 2022*\n",
    "\n",
    "----\n",
    "\n",
    "# Trabajo práctico entregable - parte 1\n",
    "\n",
    "En esta notebook, vamos a cargar el conjunto de datos de [la compentencia Kaggle](https://www.kaggle.com/dansbecker/melbourne-housing-snapshot) sobre estimación de precios de ventas de propiedades en Melbourne, Australia.\n",
    "\n",
    "Utilizaremos el conjunto de datos reducido producido por [DanB](https://www.kaggle.com/dansbecker). Hemos subido una copia a un servidor de la Universidad Nacional de Córdoba para facilitar su acceso remoto."
   ]
  },
  {
   "cell_type": "code",
   "execution_count": 1,
   "id": "f5ac98f7-51f3-4f91-ac49-60ef5fe249be",
   "metadata": {
    "id": "f5ac98f7-51f3-4f91-ac49-60ef5fe249be"
   },
   "outputs": [],
   "source": [
    "import matplotlib.pyplot as plt\n",
    "import numpy as np\n",
    "import pandas as pd\n",
    "import missingno as msno\n",
    "\n",
    "\n",
    "import seaborn as sns\n",
    "sns.set_context('talk')\n",
    "\n",
    "from sqlalchemy import create_engine, text\n",
    "import sqlite3"
   ]
  },
  {
   "cell_type": "code",
   "execution_count": 2,
   "id": "ce478cbd-0f49-4f15-8dc5-1fe1a5b39f17",
   "metadata": {
    "id": "ce478cbd-0f49-4f15-8dc5-1fe1a5b39f17"
   },
   "outputs": [
    {
     "data": {
      "text/plain": [
       "'4.14.3'"
      ]
     },
     "execution_count": 2,
     "metadata": {},
     "output_type": "execute_result"
    }
   ],
   "source": [
    "import plotly\n",
    "plotly.__version__\n",
    "# Make sure it's 4.14.3"
   ]
  },
  {
   "cell_type": "code",
   "execution_count": 3,
   "id": "5ba8bfd5-199a-4390-a5b4-11ec9669b3e1",
   "metadata": {
    "id": "5ba8bfd5-199a-4390-a5b4-11ec9669b3e1",
    "outputId": "4649b09b-6fad-44b5-c0ad-5c59f8512d14"
   },
   "outputs": [
    {
     "data": {
      "text/html": [
       "<div>\n",
       "<style scoped>\n",
       "    .dataframe tbody tr th:only-of-type {\n",
       "        vertical-align: middle;\n",
       "    }\n",
       "\n",
       "    .dataframe tbody tr th {\n",
       "        vertical-align: top;\n",
       "    }\n",
       "\n",
       "    .dataframe thead th {\n",
       "        text-align: right;\n",
       "    }\n",
       "</style>\n",
       "<table border=\"1\" class=\"dataframe\">\n",
       "  <thead>\n",
       "    <tr style=\"text-align: right;\">\n",
       "      <th></th>\n",
       "      <th>Suburb</th>\n",
       "      <th>Address</th>\n",
       "      <th>Rooms</th>\n",
       "      <th>Type</th>\n",
       "      <th>Price</th>\n",
       "      <th>Method</th>\n",
       "      <th>SellerG</th>\n",
       "      <th>Date</th>\n",
       "      <th>Distance</th>\n",
       "      <th>Postcode</th>\n",
       "      <th>...</th>\n",
       "      <th>Bathroom</th>\n",
       "      <th>Car</th>\n",
       "      <th>Landsize</th>\n",
       "      <th>BuildingArea</th>\n",
       "      <th>YearBuilt</th>\n",
       "      <th>CouncilArea</th>\n",
       "      <th>Lattitude</th>\n",
       "      <th>Longtitude</th>\n",
       "      <th>Regionname</th>\n",
       "      <th>Propertycount</th>\n",
       "    </tr>\n",
       "  </thead>\n",
       "  <tbody>\n",
       "    <tr>\n",
       "      <th>0</th>\n",
       "      <td>Abbotsford</td>\n",
       "      <td>85 Turner St</td>\n",
       "      <td>2</td>\n",
       "      <td>h</td>\n",
       "      <td>1480000.0</td>\n",
       "      <td>S</td>\n",
       "      <td>Biggin</td>\n",
       "      <td>3/12/2016</td>\n",
       "      <td>2.5</td>\n",
       "      <td>3067.0</td>\n",
       "      <td>...</td>\n",
       "      <td>1.0</td>\n",
       "      <td>1.0</td>\n",
       "      <td>202.0</td>\n",
       "      <td>NaN</td>\n",
       "      <td>NaN</td>\n",
       "      <td>Yarra</td>\n",
       "      <td>-37.7996</td>\n",
       "      <td>144.9984</td>\n",
       "      <td>Northern Metropolitan</td>\n",
       "      <td>4019.0</td>\n",
       "    </tr>\n",
       "    <tr>\n",
       "      <th>1</th>\n",
       "      <td>Abbotsford</td>\n",
       "      <td>25 Bloomburg St</td>\n",
       "      <td>2</td>\n",
       "      <td>h</td>\n",
       "      <td>1035000.0</td>\n",
       "      <td>S</td>\n",
       "      <td>Biggin</td>\n",
       "      <td>4/02/2016</td>\n",
       "      <td>2.5</td>\n",
       "      <td>3067.0</td>\n",
       "      <td>...</td>\n",
       "      <td>1.0</td>\n",
       "      <td>0.0</td>\n",
       "      <td>156.0</td>\n",
       "      <td>79.0</td>\n",
       "      <td>1900.0</td>\n",
       "      <td>Yarra</td>\n",
       "      <td>-37.8079</td>\n",
       "      <td>144.9934</td>\n",
       "      <td>Northern Metropolitan</td>\n",
       "      <td>4019.0</td>\n",
       "    </tr>\n",
       "    <tr>\n",
       "      <th>2</th>\n",
       "      <td>Abbotsford</td>\n",
       "      <td>5 Charles St</td>\n",
       "      <td>3</td>\n",
       "      <td>h</td>\n",
       "      <td>1465000.0</td>\n",
       "      <td>SP</td>\n",
       "      <td>Biggin</td>\n",
       "      <td>4/03/2017</td>\n",
       "      <td>2.5</td>\n",
       "      <td>3067.0</td>\n",
       "      <td>...</td>\n",
       "      <td>2.0</td>\n",
       "      <td>0.0</td>\n",
       "      <td>134.0</td>\n",
       "      <td>150.0</td>\n",
       "      <td>1900.0</td>\n",
       "      <td>Yarra</td>\n",
       "      <td>-37.8093</td>\n",
       "      <td>144.9944</td>\n",
       "      <td>Northern Metropolitan</td>\n",
       "      <td>4019.0</td>\n",
       "    </tr>\n",
       "  </tbody>\n",
       "</table>\n",
       "<p>3 rows × 21 columns</p>\n",
       "</div>"
      ],
      "text/plain": [
       "       Suburb          Address  Rooms Type      Price Method SellerG  \\\n",
       "0  Abbotsford     85 Turner St      2    h  1480000.0      S  Biggin   \n",
       "1  Abbotsford  25 Bloomburg St      2    h  1035000.0      S  Biggin   \n",
       "2  Abbotsford     5 Charles St      3    h  1465000.0     SP  Biggin   \n",
       "\n",
       "        Date  Distance  Postcode  ...  Bathroom  Car  Landsize  BuildingArea  \\\n",
       "0  3/12/2016       2.5    3067.0  ...       1.0  1.0     202.0           NaN   \n",
       "1  4/02/2016       2.5    3067.0  ...       1.0  0.0     156.0          79.0   \n",
       "2  4/03/2017       2.5    3067.0  ...       2.0  0.0     134.0         150.0   \n",
       "\n",
       "   YearBuilt  CouncilArea Lattitude  Longtitude             Regionname  \\\n",
       "0        NaN        Yarra  -37.7996    144.9984  Northern Metropolitan   \n",
       "1     1900.0        Yarra  -37.8079    144.9934  Northern Metropolitan   \n",
       "2     1900.0        Yarra  -37.8093    144.9944  Northern Metropolitan   \n",
       "\n",
       "  Propertycount  \n",
       "0        4019.0  \n",
       "1        4019.0  \n",
       "2        4019.0  \n",
       "\n",
       "[3 rows x 21 columns]"
      ]
     },
     "execution_count": 3,
     "metadata": {},
     "output_type": "execute_result"
    }
   ],
   "source": [
    "melb_df = pd.read_csv('melb_data.csv')\n",
    "melb_df[:3]"
   ]
  },
  {
   "cell_type": "code",
   "execution_count": 4,
   "id": "7b80a4da-7f9f-45d8-97a3-3f0936332ed2",
   "metadata": {},
   "outputs": [
    {
     "name": "stderr",
     "output_type": "stream",
     "text": [
      "/tmp/ipykernel_3670/1799704423.py:7: DtypeWarning: Columns (35) have mixed types. Specify dtype option on import or set low_memory=False.\n",
      "  airbnb_df = pd.read_csv(\n"
     ]
    }
   ],
   "source": [
    "interesting_cols = [\n",
    "  'description', 'neighborhood_overview',\n",
    "  'street', 'neighborhood', 'city', 'suburb', 'state', 'zipcode',\n",
    "  'price', 'weekly_price', 'monthly_price',\n",
    "  'latitude', 'longitude',\n",
    "]\n",
    "airbnb_df = pd.read_csv(\n",
    "    'cleansed_listings_dec18.csv',\n",
    "    usecols=interesting_cols)"
   ]
  },
  {
   "cell_type": "code",
   "execution_count": 42,
   "id": "887d0352-9498-4170-b996-9c84c0a2472a",
   "metadata": {},
   "outputs": [
    {
     "data": {
      "text/plain": [
       "(13580, 21)"
      ]
     },
     "execution_count": 42,
     "metadata": {},
     "output_type": "execute_result"
    }
   ],
   "source": [
    "melb_df.shape"
   ]
  },
  {
   "cell_type": "markdown",
   "id": "6cffe5bf-2498-498c-aa06-3e61422d91e6",
   "metadata": {
    "id": "6cffe5bf-2498-498c-aa06-3e61422d91e6"
   },
   "source": [
    "## Ejercicio 1 SQL: \n",
    "\n",
    "1. Crear una base de datos en SQLite utilizando la libreria [SQLalchemy](https://stackoverflow.com/questions/2268050/execute-sql-from-file-in-sqlalchemy).\n",
    "https://docs.sqlalchemy.org/en/14/core/engines.html#sqlite\n",
    "\n",
    "2. Ingestar los datos provistos en 'https://cs.famaf.unc.edu.ar/~mteruel/datasets/diplodatos/melb_data.csv' en una tabla y el dataset generado en clase con datos de airbnb y sus precios por codigo postal en otra.\n",
    "\n",
    "3. Implementar consultas en SQL que respondan con la siguiente información:\n",
    "\n",
    "    - cantidad de registros totales por ciudad.\n",
    "    - cantidad de registros totales por barrio y ciudad.\n",
    "\n",
    "4. Combinar los datasets de ambas tablas ingestadas utilizando el comando JOIN de SQL  para obtener un resultado similar a lo realizado con Pandas en clase.  \n",
    "\n"
   ]
  },
  {
   "cell_type": "code",
   "execution_count": 5,
   "id": "14e72943-91d7-4231-bf5f-fda6db6508ad",
   "metadata": {},
   "outputs": [],
   "source": [
    "# Ejercicio 1.1: Crear una base de datos en SQLite utilizando la libreria [SQLalchemy]\n",
    "engine = create_engine('sqlite:///grupo11.db', echo=True)"
   ]
  },
  {
   "cell_type": "code",
   "execution_count": 6,
   "id": "319fd4bd-4731-4d29-900c-a6f89d09b8f1",
   "metadata": {},
   "outputs": [
    {
     "name": "stdout",
     "output_type": "stream",
     "text": [
      "2022-05-29 20:15:42,832 INFO sqlalchemy.engine.Engine PRAGMA main.table_info(\"melb_data\")\n",
      "2022-05-29 20:15:42,832 INFO sqlalchemy.engine.Engine [raw sql] ()\n",
      "2022-05-29 20:15:42,833 INFO sqlalchemy.engine.Engine PRAGMA temp.table_info(\"melb_data\")\n",
      "2022-05-29 20:15:42,833 INFO sqlalchemy.engine.Engine [raw sql] ()\n",
      "2022-05-29 20:15:42,835 INFO sqlalchemy.engine.Engine BEGIN (implicit)\n",
      "2022-05-29 20:15:42,836 INFO sqlalchemy.engine.Engine \n",
      "CREATE TABLE melb_data (\n",
      "\t\"index\" BIGINT, \n",
      "\t\"Suburb\" TEXT, \n",
      "\t\"Address\" TEXT, \n",
      "\t\"Rooms\" BIGINT, \n",
      "\t\"Type\" TEXT, \n",
      "\t\"Price\" FLOAT, \n",
      "\t\"Method\" TEXT, \n",
      "\t\"SellerG\" TEXT, \n",
      "\t\"Date\" TEXT, \n",
      "\t\"Distance\" FLOAT, \n",
      "\t\"Postcode\" FLOAT, \n",
      "\t\"Bedroom2\" FLOAT, \n",
      "\t\"Bathroom\" FLOAT, \n",
      "\t\"Car\" FLOAT, \n",
      "\t\"Landsize\" FLOAT, \n",
      "\t\"BuildingArea\" FLOAT, \n",
      "\t\"YearBuilt\" FLOAT, \n",
      "\t\"CouncilArea\" TEXT, \n",
      "\t\"Lattitude\" FLOAT, \n",
      "\t\"Longtitude\" FLOAT, \n",
      "\t\"Regionname\" TEXT, \n",
      "\t\"Propertycount\" FLOAT\n",
      ")\n",
      "\n",
      "\n",
      "2022-05-29 20:15:42,836 INFO sqlalchemy.engine.Engine [no key 0.00047s] ()\n",
      "2022-05-29 20:15:42,839 INFO sqlalchemy.engine.Engine CREATE INDEX ix_melb_data_index ON melb_data (\"index\")\n",
      "2022-05-29 20:15:42,839 INFO sqlalchemy.engine.Engine [no key 0.00040s] ()\n",
      "2022-05-29 20:15:42,841 INFO sqlalchemy.engine.Engine COMMIT\n",
      "2022-05-29 20:15:42,853 INFO sqlalchemy.engine.Engine BEGIN (implicit)\n",
      "2022-05-29 20:15:42,968 INFO sqlalchemy.engine.Engine INSERT INTO melb_data (\"index\", \"Suburb\", \"Address\", \"Rooms\", \"Type\", \"Price\", \"Method\", \"SellerG\", \"Date\", \"Distance\", \"Postcode\", \"Bedroom2\", \"Bathroom\", \"Car\", \"Landsize\", \"BuildingArea\", \"YearBuilt\", \"CouncilArea\", \"Lattitude\", \"Longtitude\", \"Regionname\", \"Propertycount\") VALUES (?, ?, ?, ?, ?, ?, ?, ?, ?, ?, ?, ?, ?, ?, ?, ?, ?, ?, ?, ?, ?, ?)\n",
      "2022-05-29 20:15:42,969 INFO sqlalchemy.engine.Engine [generated in 0.09333s] ((0, 'Abbotsford', '85 Turner St', 2, 'h', 1480000.0, 'S', 'Biggin', '3/12/2016', 2.5, 3067.0, 2.0, 1.0, 1.0, 202.0, None, None, 'Yarra', -37.7996, 144.9984, 'Northern Metropolitan', 4019.0), (1, 'Abbotsford', '25 Bloomburg St', 2, 'h', 1035000.0, 'S', 'Biggin', '4/02/2016', 2.5, 3067.0, 2.0, 1.0, 0.0, 156.0, 79.0, 1900.0, 'Yarra', -37.8079, 144.9934, 'Northern Metropolitan', 4019.0), (2, 'Abbotsford', '5 Charles St', 3, 'h', 1465000.0, 'SP', 'Biggin', '4/03/2017', 2.5, 3067.0, 3.0, 2.0, 0.0, 134.0, 150.0, 1900.0, 'Yarra', -37.8093, 144.9944, 'Northern Metropolitan', 4019.0), (3, 'Abbotsford', '40 Federation La', 3, 'h', 850000.0, 'PI', 'Biggin', '4/03/2017', 2.5, 3067.0, 3.0, 2.0, 1.0, 94.0, None, None, 'Yarra', -37.7969, 144.9969, 'Northern Metropolitan', 4019.0), (4, 'Abbotsford', '55a Park St', 4, 'h', 1600000.0, 'VB', 'Nelson', '4/06/2016', 2.5, 3067.0, 3.0, 1.0, 2.0, 120.0, 142.0, 2014.0, 'Yarra', -37.8072, 144.9941, 'Northern Metropolitan', 4019.0), (5, 'Abbotsford', '129 Charles St', 2, 'h', 941000.0, 'S', 'Jellis', '7/05/2016', 2.5, 3067.0, 2.0, 1.0, 0.0, 181.0, None, None, 'Yarra', -37.8041, 144.9953, 'Northern Metropolitan', 4019.0), (6, 'Abbotsford', '124 Yarra St', 3, 'h', 1876000.0, 'S', 'Nelson', '7/05/2016', 2.5, 3067.0, 4.0, 2.0, 0.0, 245.0, 210.0, 1910.0, 'Yarra', -37.8024, 144.9993, 'Northern Metropolitan', 4019.0), (7, 'Abbotsford', '98 Charles St', 2, 'h', 1636000.0, 'S', 'Nelson', '8/10/2016', 2.5, 3067.0, 2.0, 1.0, 2.0, 256.0, 107.0, 1890.0, 'Yarra', -37.806, 144.9954, 'Northern Metropolitan', 4019.0)  ... displaying 10 of 13580 total bound parameter sets ...  (13578, 'Williamstown', '96 Verdon St', 4, 'h', 2500000.0, 'PI', 'Sweeney', '26/08/2017', 6.8, 3016.0, 4.0, 1.0, 5.0, 866.0, 157.0, 1920.0, None, -37.85908, 144.89299, 'Western Metropolitan', 6380.0), (13579, 'Yarraville', '6 Agnes St', 4, 'h', 1285000.0, 'SP', 'Village', '26/08/2017', 6.3, 3013.0, 4.0, 1.0, 1.0, 362.0, 112.0, 1920.0, None, -37.81188, 144.88449, 'Western Metropolitan', 6543.0))\n",
      "2022-05-29 20:15:43,004 INFO sqlalchemy.engine.Engine COMMIT\n"
     ]
    },
    {
     "data": {
      "text/plain": [
       "13580"
      ]
     },
     "execution_count": 6,
     "metadata": {},
     "output_type": "execute_result"
    }
   ],
   "source": [
    "# Ejercicio 1.2: Ingestar los datos en una tabla y el dataset de airbnb en otra.\n",
    "melb_df.to_sql('melb_data', con=engine, if_exists=\"replace\")"
   ]
  },
  {
   "cell_type": "code",
   "execution_count": 7,
   "id": "bfa67ab4-520f-4b34-bf61-7540447a83e8",
   "metadata": {},
   "outputs": [
    {
     "name": "stdout",
     "output_type": "stream",
     "text": [
      "2022-05-29 20:15:54,050 INFO sqlalchemy.engine.Engine PRAGMA main.table_info(\"airbnb_data\")\n",
      "2022-05-29 20:15:54,050 INFO sqlalchemy.engine.Engine [raw sql] ()\n",
      "2022-05-29 20:15:54,051 INFO sqlalchemy.engine.Engine PRAGMA temp.table_info(\"airbnb_data\")\n",
      "2022-05-29 20:15:54,051 INFO sqlalchemy.engine.Engine [raw sql] ()\n",
      "2022-05-29 20:15:54,053 INFO sqlalchemy.engine.Engine BEGIN (implicit)\n",
      "2022-05-29 20:15:54,054 INFO sqlalchemy.engine.Engine \n",
      "CREATE TABLE airbnb_data (\n",
      "\t\"index\" BIGINT, \n",
      "\tdescription TEXT, \n",
      "\tneighborhood_overview TEXT, \n",
      "\tstreet TEXT, \n",
      "\tneighborhood TEXT, \n",
      "\tcity TEXT, \n",
      "\tsuburb TEXT, \n",
      "\tstate TEXT, \n",
      "\tzipcode FLOAT, \n",
      "\tlatitude FLOAT, \n",
      "\tlongitude FLOAT, \n",
      "\tprice BIGINT, \n",
      "\tweekly_price FLOAT, \n",
      "\tmonthly_price FLOAT\n",
      ")\n",
      "\n",
      "\n",
      "2022-05-29 20:15:54,054 INFO sqlalchemy.engine.Engine [no key 0.00047s] ()\n",
      "2022-05-29 20:15:54,057 INFO sqlalchemy.engine.Engine CREATE INDEX ix_airbnb_data_index ON airbnb_data (\"index\")\n",
      "2022-05-29 20:15:54,057 INFO sqlalchemy.engine.Engine [no key 0.00043s] ()\n",
      "2022-05-29 20:15:54,060 INFO sqlalchemy.engine.Engine COMMIT\n",
      "2022-05-29 20:15:54,075 INFO sqlalchemy.engine.Engine BEGIN (implicit)\n",
      "2022-05-29 20:15:54,240 INFO sqlalchemy.engine.Engine INSERT INTO airbnb_data (\"index\", description, neighborhood_overview, street, neighborhood, city, suburb, state, zipcode, latitude, longitude, price, weekly_price, monthly_price) VALUES (?, ?, ?, ?, ?, ?, ?, ?, ?, ?, ?, ?, ?, ?)\n",
      "2022-05-29 20:15:54,241 INFO sqlalchemy.engine.Engine [generated in 0.14342s] ((0, 'House: Clean, New, Modern, Quite, Safe. 10Km from the City. Golf course, Tennis courts, bus stop & shops walking distance!! Rooms: Contains one queen ... (702 characters truncated) ... pproximately what your daily in and out hours might look like.  Note: There is a 5 year old fun loving dog who lives with us and is part of our famil', 'Very safe! Family oriented. Older age group.', 'Bulleen, VIC, Australia', 'Balwyn North', 'Manningham', 'Bulleen', 'VIC', 3105.0, -37.77268393, 145.0921328, 60, None, None), (1, \"A large air conditioned room with queen spring mattress bed in a vintage apartment. Located right outside is a tram to the city just 19 minutes away. ... (702 characters truncated) ... ou east to Bundoora and west to Pacoevale. The Lygon Street tram line that goes past Melbourne University is 10 minutes walk west and Sydney Road and\", \"This hip area is a crossroads between two great cultural strips of inner Northern Melbourne.  Located in East Brunswick, between High St, Northcote a ... (533 characters truncated) ... re three coffee places within 50metres, and the Lomond Hotel Pub right across the road has good live music and there's also a pizza place downstairs.\", 'Brunswick East, VIC, Australia', 'Brunswick', 'Moreland', 'Brunswick East', 'VIC', 3057.0, -37.76650512, 144.9807361, 35, 200.0, 803.0), (2, 'RIGHT IN THE HEART OF ST KILDA! It doesn\\'t get more central than this! A fabulous north facing balcony apartment that offers right in the heart of t ... (703 characters truncated) ... system with iPod dock & DVD/CD player Selection of books, magazines, DVDs, CDs Glass framed console/desk with lamp Bedroom with queen bed, hotel qual', 'A stay at our apartment means you can enjoy some of Melbourne’s best restaurants, bars, cafes, shopping, dining and night life, all at your doorstep. ... (288 characters truncated) ... ith the city skyline as a stunning backdrop. Our apartment is perfectly suited to those wanting an exclusive, authentic urban residential experience.', 'St Kilda, VIC, Australia', 'St Kilda', 'Port Phillip', 'St Kilda', 'VIC', 3182.0, -37.85975502, 144.9773691, 159, 1253.0, 4452.0), (3, \"Comfortable, relaxed house, a home away from  home! This is a shared house, you will be sharing with me, plus the occasional other guest. Rooms are l ... (702 characters truncated) ... om, watch a movie, or TV, or relax in the back yard. Guest's privacy will be respected at all times. If you need information and tips on where to go,\", 'This is a great neighbourhood – it is quiet, yet close to so many things. High Street, Northcote (hip bars, cafes and craft stores) are a 10 minute walk east; Sydney Road (ethnic delights and great food) is 8 minute drive west; city is 30 minutes by tram or train.', 'Thornbury, VIC, Australia', 'Thornbury', 'Darebin', 'Thornbury', 'VIC', 3071.0, -37.75897072, 144.9892279, 50, 250.0, 920.0), (4, 'We offer comfortable accommodation in Inner Melbourne in Clement House, a two storey Victorian built in 1888. Large double bedroom with balcony, priv ... (660 characters truncated) ... n smoking house with an outside courtyard for smokers. The rate for guests that stay for a week are heavily discounted and therefore very attractive.', None, 'St Kilda East, VIC, Australia', 'St Kilda East', 'Port Phillip', 'St Kilda East', 'VIC', 3183.0, -37.8645303, 144.9922379, 69, 400.0, 1900.0), (5, 'Please note: No booking will be accepted with children under the age of 13 years.  Accommodation is non smoking in apartment & on grounds.  All visit ... (702 characters truncated) ... om, toilet & living area with stereo and 32\" LCD TV. A second bedroom (Autumn Room) is available with another Queen size bed for extra travelers if r', 'Our street is quiet & secluded but within walking distance to almost anything you need.', 'Berwick, VIC, Australia', None, 'Casey', 'Berwick', 'VIC', 3806.0, -38.05725414, 145.3393561, 98, 540.0, None), (6, 'Easy to travel from and to the Airport; quiet and safe neighbourhood; a spacious and sunny room; backyard for sun baking; a friendly host who are eas ... (702 characters truncated) ... ovided here for your comfort is in a two bedroom unit with 100sqm backyard(my green garden). This bedroom is airy and bright with big windows. Your r', \"The neighbours are quiet and friendly,  please don't park the car on my driveway because one of our neighbours is doing shifting work as a nurse. There are plenty of space for parking in the guest parking bay and along the street for free.\", 'Reservoir, VIC, Australia', None, 'Darebin', 'Reservoir', 'VIC', 3073.0, -37.69729418, 145.0008156, 50, 335.0, 1400.0), (7, \"Comfortable and spacious room in an apartment close to the heart of Melbourne. High quality bedding and good sound proofing guarantees a good night's ... (702 characters truncated) ... take you right into the CBD, via Lonsdale Street and to Grattan Street, Melbourne University Tram 112 onto Collins Street Jolimont train station (10m\", \"MCG (15min walk) Rod Laver Arena Fitzroy Gardens Smith Street restaurants and bars (10min walk) Melbourne CBD  Parliament House St Vincent's Hospital (12min walk) The Royal Eye and Ear Hospital (11min walk) Keeping active while away: Pool Gym East Melbourne Tennis Club  Fitzroy Gardens\", 'East Melbourne, VIC, Australia', None, 'Melbourne', 'East Melbourne', 'VIC', 3002.0, -37.81026723, 144.98592, 100, None, None)  ... displaying 10 of 22895 total bound parameter sets ...  (22893, \"Immaculately presented and carefully maintained executive courtyard apartment, well spaced floor plan comprises a queen-sized bedroom with large mirr ... (702 characters truncated) ... Melbourne Exhibition and Convention Centres, (The Yarra's) Southbank Promenade (boasting an array of cafes, bars, restaurants and boutiques), The Cro\", \"A plethora of Melbourne highlights are just a few minutes walk away, including Melbourne Exhibition and Convention Centres, (The Yarra's) Southbank P ... (68 characters truncated) ... s), The Crown Casino Complex (offering a further array of dining, shopping and entertainment facilities), Clarendon Street South Melbourne's shopping\", 'Southbank, VIC, Australia', 'Southbank', 'Melbourne', 'Southbank', 'VIC', 3006.0, -37.8277951, 144.9549869, 130, None, None), (22894, \"An ENTIRE apartment unit ALL TO YOURSELF in Melbourne city, only a 5min walk to Melbourne Central and Queen Victoria Markets. Makes this cozy inner-c ... (702 characters truncated) ... s fully equipped and furnished  home is ready to go with: - Air Conditioning & heating  - Wireless internet (Pocket Wi-Fi) BEDROOM  - Queen sized bed\", None, 'Carlton, VIC, Australia', 'Carlton', 'Melbourne', 'Carlton', 'VIC', 3053.0, -37.80518635, 144.9623991, 179, None, None))\n",
      "2022-05-29 20:15:54,353 INFO sqlalchemy.engine.Engine COMMIT\n"
     ]
    },
    {
     "data": {
      "text/plain": [
       "22895"
      ]
     },
     "execution_count": 7,
     "metadata": {},
     "output_type": "execute_result"
    }
   ],
   "source": [
    "# Ejercicio 1.2: Ingestar los datos provistos de Airbnb y crear la tabla\n",
    "\n",
    "# Se unifica el typedata de la columna zipcode para luego poder hacer joins\n",
    "airbnb_df['zipcode'] = pd.to_numeric(airbnb_df.zipcode, errors='coerce')\n",
    "\n",
    "# Se crea la tabla en SQL en la DB\n",
    "airbnb_df.to_sql('airbnb_data', con=engine, if_exists=\"replace\")\n"
   ]
  },
  {
   "cell_type": "code",
   "execution_count": 8,
   "id": "4fa03fb3-5b8a-4314-b45d-5e1f25391cbc",
   "metadata": {},
   "outputs": [
    {
     "name": "stdout",
     "output_type": "stream",
     "text": [
      "2022-05-29 20:16:03,243 INFO sqlalchemy.engine.Engine SELECT city, COUNT(*) FROM airbnb_data\n",
      "GROUP BY city\n",
      "ORDER BY 2 DESC;\n",
      "2022-05-29 20:16:03,243 INFO sqlalchemy.engine.Engine [raw sql] ()\n"
     ]
    },
    {
     "data": {
      "text/html": [
       "<div>\n",
       "<style scoped>\n",
       "    .dataframe tbody tr th:only-of-type {\n",
       "        vertical-align: middle;\n",
       "    }\n",
       "\n",
       "    .dataframe tbody tr th {\n",
       "        vertical-align: top;\n",
       "    }\n",
       "\n",
       "    .dataframe thead th {\n",
       "        text-align: right;\n",
       "    }\n",
       "</style>\n",
       "<table border=\"1\" class=\"dataframe\">\n",
       "  <thead>\n",
       "    <tr style=\"text-align: right;\">\n",
       "      <th></th>\n",
       "      <th>city</th>\n",
       "      <th>COUNT(*)</th>\n",
       "    </tr>\n",
       "  </thead>\n",
       "  <tbody>\n",
       "    <tr>\n",
       "      <th>0</th>\n",
       "      <td>Melbourne</td>\n",
       "      <td>7368</td>\n",
       "    </tr>\n",
       "    <tr>\n",
       "      <th>1</th>\n",
       "      <td>Port Phillip</td>\n",
       "      <td>2808</td>\n",
       "    </tr>\n",
       "    <tr>\n",
       "      <th>2</th>\n",
       "      <td>Yarra</td>\n",
       "      <td>2049</td>\n",
       "    </tr>\n",
       "    <tr>\n",
       "      <th>3</th>\n",
       "      <td>Stonnington</td>\n",
       "      <td>1621</td>\n",
       "    </tr>\n",
       "    <tr>\n",
       "      <th>4</th>\n",
       "      <td>Moreland</td>\n",
       "      <td>967</td>\n",
       "    </tr>\n",
       "  </tbody>\n",
       "</table>\n",
       "</div>"
      ],
      "text/plain": [
       "           city  COUNT(*)\n",
       "0     Melbourne      7368\n",
       "1  Port Phillip      2808\n",
       "2         Yarra      2049\n",
       "3   Stonnington      1621\n",
       "4      Moreland       967"
      ]
     },
     "execution_count": 8,
     "metadata": {},
     "output_type": "execute_result"
    }
   ],
   "source": [
    "# Ejercicio 1.3: Implementar consultas en SQL que respondan con la siguiente información:\n",
    "# Cantidad de registros por ciudad en airbnb_data\n",
    "query1 = \"\"\"SELECT city, COUNT(*) FROM airbnb_data\n",
    "GROUP BY city\n",
    "ORDER BY 2 DESC;\"\"\" \n",
    "\n",
    "# Cantidad de registros por ciudad y barrio (suburb) en airbnb_data\n",
    "query2 = \"\"\"SELECT city, suburb, COUNT(*) FROM airbnb_data\n",
    "GROUP BY city, suburb\n",
    "ORDER BY 3 DESC;\"\"\"\n",
    "\n",
    "with engine.connect() as con:\n",
    "    query_result1 = pd.read_sql_query(query1, con)\n",
    "    \n",
    "query_result1.head()"
   ]
  },
  {
   "cell_type": "code",
   "execution_count": 9,
   "id": "7696a72d-4940-4b56-aa87-074184808226",
   "metadata": {},
   "outputs": [
    {
     "name": "stdout",
     "output_type": "stream",
     "text": [
      "2022-05-29 20:16:06,186 INFO sqlalchemy.engine.Engine SELECT city, suburb, COUNT(*) FROM airbnb_data\n",
      "GROUP BY city, suburb\n",
      "ORDER BY 3 DESC;\n",
      "2022-05-29 20:16:06,187 INFO sqlalchemy.engine.Engine [raw sql] ()\n"
     ]
    },
    {
     "data": {
      "text/html": [
       "<div>\n",
       "<style scoped>\n",
       "    .dataframe tbody tr th:only-of-type {\n",
       "        vertical-align: middle;\n",
       "    }\n",
       "\n",
       "    .dataframe tbody tr th {\n",
       "        vertical-align: top;\n",
       "    }\n",
       "\n",
       "    .dataframe thead th {\n",
       "        text-align: right;\n",
       "    }\n",
       "</style>\n",
       "<table border=\"1\" class=\"dataframe\">\n",
       "  <thead>\n",
       "    <tr style=\"text-align: right;\">\n",
       "      <th></th>\n",
       "      <th>city</th>\n",
       "      <th>suburb</th>\n",
       "      <th>COUNT(*)</th>\n",
       "    </tr>\n",
       "  </thead>\n",
       "  <tbody>\n",
       "    <tr>\n",
       "      <th>0</th>\n",
       "      <td>Melbourne</td>\n",
       "      <td>Melbourne</td>\n",
       "      <td>3850</td>\n",
       "    </tr>\n",
       "    <tr>\n",
       "      <th>1</th>\n",
       "      <td>Melbourne</td>\n",
       "      <td>Southbank</td>\n",
       "      <td>1190</td>\n",
       "    </tr>\n",
       "    <tr>\n",
       "      <th>2</th>\n",
       "      <td>Port Phillip</td>\n",
       "      <td>Saint Kilda</td>\n",
       "      <td>802</td>\n",
       "    </tr>\n",
       "    <tr>\n",
       "      <th>3</th>\n",
       "      <td>Stonnington</td>\n",
       "      <td>South Yarra</td>\n",
       "      <td>790</td>\n",
       "    </tr>\n",
       "    <tr>\n",
       "      <th>4</th>\n",
       "      <td>Melbourne</td>\n",
       "      <td>Docklands</td>\n",
       "      <td>612</td>\n",
       "    </tr>\n",
       "  </tbody>\n",
       "</table>\n",
       "</div>"
      ],
      "text/plain": [
       "           city       suburb  COUNT(*)\n",
       "0     Melbourne    Melbourne      3850\n",
       "1     Melbourne    Southbank      1190\n",
       "2  Port Phillip  Saint Kilda       802\n",
       "3   Stonnington  South Yarra       790\n",
       "4     Melbourne    Docklands       612"
      ]
     },
     "execution_count": 9,
     "metadata": {},
     "output_type": "execute_result"
    }
   ],
   "source": [
    "# Consulta de cantidad de registros por ciudad\n",
    "with engine.connect() as con:\n",
    "    query_result2 = pd.read_sql_query(query2, con)\n",
    "    \n",
    "query_result2.head()"
   ]
  },
  {
   "cell_type": "markdown",
   "id": "74193eb7-f05b-44d9-b03e-b6efba4831e7",
   "metadata": {},
   "source": [
    "***Ejercicio 1.4:*** Combinar los datasets de ambas tablas ingestadas utilizando el comando JOIN de SQL para obtener un resultado similar a lo realizado con Pandas en clase.\n",
    "\n",
    "En este ejercicio se sigue el siguiente procedimiento:-\n",
    "- sobre la tabla de Airbnb se calcula el promedio de los precios diarios, semanales y mensuales y se los pasa a una tabla nueva;\n",
    "- luego se hace el JOIN con la tabal de Melbourne usando como pivote el zipcode"
   ]
  },
  {
   "cell_type": "code",
   "execution_count": 10,
   "id": "0b845bdc-2394-4f6d-978c-f256f1ac4785",
   "metadata": {},
   "outputs": [
    {
     "name": "stdout",
     "output_type": "stream",
     "text": [
      "2022-05-29 20:16:13,182 INFO sqlalchemy.engine.Engine SELECT zipcode,\n",
      "AVG(price) avg_dayly_price,\n",
      "AVG(weekly_price) avg_weekly_price,\n",
      "AVG(monthly_price) avg_montly_price\n",
      "FROM airbnb_data\n",
      "GROUP BY zipcode\n",
      ";\n",
      "2022-05-29 20:16:13,183 INFO sqlalchemy.engine.Engine [raw sql] ()\n",
      "2022-05-29 20:16:13,205 INFO sqlalchemy.engine.Engine PRAGMA main.table_info(\"zipcode_average_prices\")\n",
      "2022-05-29 20:16:13,206 INFO sqlalchemy.engine.Engine [raw sql] ()\n",
      "2022-05-29 20:16:13,206 INFO sqlalchemy.engine.Engine PRAGMA temp.table_info(\"zipcode_average_prices\")\n",
      "2022-05-29 20:16:13,206 INFO sqlalchemy.engine.Engine [raw sql] ()\n",
      "2022-05-29 20:16:13,207 INFO sqlalchemy.engine.Engine BEGIN (implicit)\n",
      "2022-05-29 20:16:13,208 INFO sqlalchemy.engine.Engine \n",
      "CREATE TABLE zipcode_average_prices (\n",
      "\t\"index\" BIGINT, \n",
      "\tzipcode FLOAT, \n",
      "\tavg_dayly_price FLOAT, \n",
      "\tavg_weekly_price FLOAT, \n",
      "\tavg_montly_price FLOAT\n",
      ")\n",
      "\n",
      "\n",
      "2022-05-29 20:16:13,208 INFO sqlalchemy.engine.Engine [no key 0.00041s] ()\n",
      "2022-05-29 20:16:13,211 INFO sqlalchemy.engine.Engine CREATE INDEX ix_zipcode_average_prices_index ON zipcode_average_prices (\"index\")\n",
      "2022-05-29 20:16:13,212 INFO sqlalchemy.engine.Engine [no key 0.00058s] ()\n",
      "2022-05-29 20:16:13,214 INFO sqlalchemy.engine.Engine COMMIT\n",
      "2022-05-29 20:16:13,215 INFO sqlalchemy.engine.Engine BEGIN (implicit)\n",
      "2022-05-29 20:16:13,217 INFO sqlalchemy.engine.Engine INSERT INTO zipcode_average_prices (\"index\", zipcode, avg_dayly_price, avg_weekly_price, avg_montly_price) VALUES (?, ?, ?, ?, ?)\n",
      "2022-05-29 20:16:13,217 INFO sqlalchemy.engine.Engine [generated in 0.00097s] ((0, None, 159.63013698630138, 906.0833333333334, 3179.6666666666665), (1, 2010.0, 40.0, None, None), (2, 2134.0, 50.0, None, None), (3, 2582.0, 104.0, None, None), (4, 3000.0, 150.5043065043065, 918.7389558232932, 3407.204651162791), (5, 3001.0, 132.5, None, None), (6, 3002.0, 200.9796954314721, 956.3793103448276, 3712.714285714286), (7, 3003.0, 130.20599250936328, 760.2, 2629.5)  ... displaying 10 of 248 total bound parameter sets ...  (246, 9540.0, 245.0, None, None), (247, 30122.0, 75.0, 525.0, 2281.0))\n",
      "2022-05-29 20:16:13,218 INFO sqlalchemy.engine.Engine COMMIT\n"
     ]
    },
    {
     "data": {
      "text/plain": [
       "248"
      ]
     },
     "execution_count": 10,
     "metadata": {},
     "output_type": "execute_result"
    }
   ],
   "source": [
    "# Se calcula el promedio para el precio diario (price), semanal y mensual\n",
    "query3 = \"\"\"SELECT zipcode,\n",
    "AVG(price) avg_dayly_price,\n",
    "AVG(weekly_price) avg_weekly_price,\n",
    "AVG(monthly_price) avg_montly_price\n",
    "FROM airbnb_data\n",
    "GROUP BY zipcode\n",
    ";\"\"\"\n",
    "\n",
    "with engine.connect() as con:\n",
    "    result_query3 = pd.read_sql_query(query3, con)\n",
    "\n",
    "result_query3.to_sql('zipcode_average_prices', con=engine, if_exists=\"replace\")  \n"
   ]
  },
  {
   "cell_type": "code",
   "execution_count": 11,
   "id": "4253e291-4ee1-41cd-858d-4969e1130375",
   "metadata": {},
   "outputs": [
    {
     "name": "stdout",
     "output_type": "stream",
     "text": [
      "2022-05-29 20:16:16,767 INFO sqlalchemy.engine.Engine SELECT *\n",
      "from melb_data \n",
      "INNER JOIN zipcode_average_prices ON zipcode_average_prices.zipcode = melb_data.Postcode\n",
      "\n",
      "2022-05-29 20:16:16,768 INFO sqlalchemy.engine.Engine [raw sql] ()\n"
     ]
    }
   ],
   "source": [
    "# Se hace un INNER JOIN de la tabla de datos Melbourne con la de precios promedios y se crea la tabla\n",
    "query4 = \"\"\"SELECT *\n",
    "from melb_data \n",
    "INNER JOIN zipcode_average_prices ON zipcode_average_prices.zipcode = melb_data.Postcode\n",
    "\"\"\"\n",
    "with engine.connect() as con:\n",
    "    result_query4 = pd.read_sql_query(query4, con)"
   ]
  },
  {
   "cell_type": "code",
   "execution_count": null,
   "id": "156c6d1a-9901-4382-afcd-b294b9f0e5bf",
   "metadata": {},
   "outputs": [],
   "source": [
    "# Se escribe el archivo .csv extendidoo para el proximo ejercicio\n",
    "result_query4.to_csv(\"melb_data_extended.csv\", index=None)"
   ]
  },
  {
   "cell_type": "markdown",
   "id": "c5468c4f-5cdf-4df4-a317-60e1fb0c00db",
   "metadata": {
    "id": "c5468c4f-5cdf-4df4-a317-60e1fb0c00db"
   },
   "source": [
    "## Ejercicio 2: \n",
    "\n",
    "1. Seleccionar un subconjunto de columnas que les parezcan relevantes al problema de predicción del valor de la propiedad. Justificar las columnas seleccionadas y las que no lo fueron.\n",
    " - Eliminar los valores extremos que no sean relevantes para la predicción de valores de las propiedades.\n",
    "\n",
    "2. Agregar información adicional respectiva al entorno de una propiedad a partir del [conjunto de datos de AirBnB](https://www.kaggle.com/tylerx/melbourne-airbnb-open-data?select=cleansed_listings_dec18.csv) utilizado en el práctico. \n",
    "  1. Seleccionar qué variables agregar y qué combinaciones aplicar a cada una. Por ejemplo, pueden utilizar solo la columna `price`, o aplicar múltiples transformaciones como la mediana o el mínimo.\n",
    "  1. Utilizar la variable zipcode para unir los conjuntos de datos. Sólo incluir los zipcodes que tengan una cantidad mínima de registros (a elección) como para que la información agregada sea relevante.\n",
    "  2. Investigar al menos otras 2 variables que puedan servir para combinar los datos, y justificar si serían adecuadas o no. Pueden asumir que cuentan con la ayuda de anotadores expertos para encontrar equivalencias entre barrios o direcciones, o que cuentan con algoritmos para encontrar las n ubicaciones más cercanas a una propiedad a partir de sus coordenadas geográficas. **NO** es necesario que realicen la implementación.\n",
    "\n",
    "Pueden leer otras columnas del conjunto de AirBnB además de las que están en `interesting_cols`, si les parecen relevantes."
   ]
  },
  {
   "cell_type": "code",
   "execution_count": 12,
   "id": "99948147-bb95-4677-8b4a-440f6bd6a4b0",
   "metadata": {},
   "outputs": [
    {
     "data": {
      "text/plain": [
       "Index(['Suburb', 'Address', 'Rooms', 'Type', 'Price', 'Method', 'SellerG',\n",
       "       'Date', 'Distance', 'Postcode', 'Bedroom2', 'Bathroom', 'Car',\n",
       "       'Landsize', 'BuildingArea', 'YearBuilt', 'CouncilArea', 'Lattitude',\n",
       "       'Longtitude', 'Regionname', 'Propertycount', 'index.1', 'zipcode',\n",
       "       'avg_dayly_price', 'avg_weekly_price', 'avg_montly_price'],\n",
       "      dtype='object')"
      ]
     },
     "execution_count": 12,
     "metadata": {},
     "output_type": "execute_result"
    }
   ],
   "source": [
    "# Ejercicio 2.1: Se carga desde la fila de datos extendido con que termina el ejercicio anterior\n",
    "melb_combined_df = pd.read_csv('melb_data_extended.csv', index_col='index')\n",
    "melb_combined_df.columns"
   ]
  },
  {
   "cell_type": "code",
   "execution_count": 15,
   "id": "5f7ec160-0859-4eb8-a4f5-54e171ff4db8",
   "metadata": {},
   "outputs": [
    {
     "data": {
      "text/plain": [
       "(13560, 26)"
      ]
     },
     "execution_count": 15,
     "metadata": {},
     "output_type": "execute_result"
    }
   ],
   "source": [
    "melb_combined_df.shape"
   ]
  },
  {
   "cell_type": "markdown",
   "id": "3cd335e8-88a1-48cd-b6c7-a4c60b617ec7",
   "metadata": {},
   "source": [
    "Previos a los análisis cuantitativos, **eliminamos las columnas** que no consideramos relevantes para el problema de predicción de precios. Las columnas que no presentan relevancia son:\n",
    "- Propertycount: creemos que es solo un registro de numeración de propiedades por suburbio\n",
    "- index.1: una columna de indices que proviene de un Join anterior\n",
    "- zipcode: ya tenemos esa información en la variable Postcode\n",
    "- Date: existen solo 58 registros de esta fecha, con lo cual suponemos es la fecha de carga del dato. Es irrelevante al precio.\n",
    "- SellerG: figuran apellidos, deben ser los responsables de administrar la venta de la propiedad. Irrelevante al precio.\n",
    "- Address: la dirección específica de cada propiedad. No describe entorno."
   ]
  },
  {
   "cell_type": "code",
   "execution_count": 16,
   "id": "1ec34deb-67e6-4de1-8f97-aa87d22af357",
   "metadata": {},
   "outputs": [
    {
     "data": {
      "text/plain": [
       "Index(['Suburb', 'Rooms', 'Type', 'Price', 'Method', 'Distance', 'Postcode',\n",
       "       'Bedroom2', 'Bathroom', 'Car', 'Landsize', 'BuildingArea', 'YearBuilt',\n",
       "       'CouncilArea', 'Lattitude', 'Longtitude', 'Regionname',\n",
       "       'avg_dayly_price', 'avg_weekly_price', 'avg_montly_price'],\n",
       "      dtype='object')"
      ]
     },
     "execution_count": 16,
     "metadata": {},
     "output_type": "execute_result"
    }
   ],
   "source": [
    "columns_to_drop = ['Propertycount','index.1','zipcode','Date','SellerG','Address']\n",
    "melb_combined_df_droppped = melb_combined_df.drop(columns_to_drop,axis=1)\n",
    "melb_combined_df_droppped.columns"
   ]
  },
  {
   "cell_type": "code",
   "execution_count": 18,
   "id": "c619b022-9ccc-4122-9194-61ef124237c7",
   "metadata": {},
   "outputs": [
    {
     "data": {
      "text/plain": [
       "(13560, 20)"
      ]
     },
     "execution_count": 18,
     "metadata": {},
     "output_type": "execute_result"
    }
   ],
   "source": [
    "melb_combined_df_droppped.shape"
   ]
  },
  {
   "cell_type": "code",
   "execution_count": 20,
   "id": "4330c593-d68c-4aee-96ba-c8297d17d2eb",
   "metadata": {},
   "outputs": [
    {
     "data": {
      "text/html": [
       "<div>\n",
       "<style scoped>\n",
       "    .dataframe tbody tr th:only-of-type {\n",
       "        vertical-align: middle;\n",
       "    }\n",
       "\n",
       "    .dataframe tbody tr th {\n",
       "        vertical-align: top;\n",
       "    }\n",
       "\n",
       "    .dataframe thead th {\n",
       "        text-align: right;\n",
       "    }\n",
       "</style>\n",
       "<table border=\"1\" class=\"dataframe\">\n",
       "  <thead>\n",
       "    <tr style=\"text-align: right;\">\n",
       "      <th></th>\n",
       "      <th>Rooms</th>\n",
       "      <th>Price</th>\n",
       "      <th>Distance</th>\n",
       "      <th>Postcode</th>\n",
       "      <th>Bedroom2</th>\n",
       "      <th>Bathroom</th>\n",
       "      <th>Car</th>\n",
       "      <th>Landsize</th>\n",
       "      <th>BuildingArea</th>\n",
       "      <th>YearBuilt</th>\n",
       "      <th>Lattitude</th>\n",
       "      <th>Longtitude</th>\n",
       "      <th>avg_dayly_price</th>\n",
       "      <th>avg_weekly_price</th>\n",
       "      <th>avg_montly_price</th>\n",
       "    </tr>\n",
       "  </thead>\n",
       "  <tbody>\n",
       "    <tr>\n",
       "      <th>count</th>\n",
       "      <td>13560.0</td>\n",
       "      <td>13560.0</td>\n",
       "      <td>13560.0</td>\n",
       "      <td>13560.0</td>\n",
       "      <td>13560.0</td>\n",
       "      <td>13560.0</td>\n",
       "      <td>13498.0</td>\n",
       "      <td>13560.0</td>\n",
       "      <td>7119.0</td>\n",
       "      <td>8195.0</td>\n",
       "      <td>13560.0</td>\n",
       "      <td>13560.0</td>\n",
       "      <td>13560.0</td>\n",
       "      <td>12705.0</td>\n",
       "      <td>12312.0</td>\n",
       "    </tr>\n",
       "    <tr>\n",
       "      <th>mean</th>\n",
       "      <td>3.0</td>\n",
       "      <td>1076351.0</td>\n",
       "      <td>10.0</td>\n",
       "      <td>3105.0</td>\n",
       "      <td>3.0</td>\n",
       "      <td>2.0</td>\n",
       "      <td>2.0</td>\n",
       "      <td>550.0</td>\n",
       "      <td>146.0</td>\n",
       "      <td>1965.0</td>\n",
       "      <td>-38.0</td>\n",
       "      <td>145.0</td>\n",
       "      <td>131.0</td>\n",
       "      <td>707.0</td>\n",
       "      <td>2620.0</td>\n",
       "    </tr>\n",
       "    <tr>\n",
       "      <th>std</th>\n",
       "      <td>1.0</td>\n",
       "      <td>639486.0</td>\n",
       "      <td>6.0</td>\n",
       "      <td>90.0</td>\n",
       "      <td>1.0</td>\n",
       "      <td>1.0</td>\n",
       "      <td>1.0</td>\n",
       "      <td>3957.0</td>\n",
       "      <td>129.0</td>\n",
       "      <td>37.0</td>\n",
       "      <td>0.0</td>\n",
       "      <td>0.0</td>\n",
       "      <td>64.0</td>\n",
       "      <td>340.0</td>\n",
       "      <td>1454.0</td>\n",
       "    </tr>\n",
       "    <tr>\n",
       "      <th>min</th>\n",
       "      <td>1.0</td>\n",
       "      <td>85000.0</td>\n",
       "      <td>0.0</td>\n",
       "      <td>3000.0</td>\n",
       "      <td>0.0</td>\n",
       "      <td>0.0</td>\n",
       "      <td>0.0</td>\n",
       "      <td>0.0</td>\n",
       "      <td>0.0</td>\n",
       "      <td>1196.0</td>\n",
       "      <td>-38.0</td>\n",
       "      <td>145.0</td>\n",
       "      <td>40.0</td>\n",
       "      <td>160.0</td>\n",
       "      <td>600.0</td>\n",
       "    </tr>\n",
       "    <tr>\n",
       "      <th>25%</th>\n",
       "      <td>2.0</td>\n",
       "      <td>650000.0</td>\n",
       "      <td>6.0</td>\n",
       "      <td>3044.0</td>\n",
       "      <td>2.0</td>\n",
       "      <td>1.0</td>\n",
       "      <td>1.0</td>\n",
       "      <td>176.0</td>\n",
       "      <td>93.0</td>\n",
       "      <td>1940.0</td>\n",
       "      <td>-38.0</td>\n",
       "      <td>145.0</td>\n",
       "      <td>95.0</td>\n",
       "      <td>470.0</td>\n",
       "      <td>1568.0</td>\n",
       "    </tr>\n",
       "    <tr>\n",
       "      <th>50%</th>\n",
       "      <td>3.0</td>\n",
       "      <td>905000.0</td>\n",
       "      <td>9.0</td>\n",
       "      <td>3084.0</td>\n",
       "      <td>3.0</td>\n",
       "      <td>1.0</td>\n",
       "      <td>2.0</td>\n",
       "      <td>440.0</td>\n",
       "      <td>126.0</td>\n",
       "      <td>1970.0</td>\n",
       "      <td>-38.0</td>\n",
       "      <td>145.0</td>\n",
       "      <td>115.0</td>\n",
       "      <td>610.0</td>\n",
       "      <td>2298.0</td>\n",
       "    </tr>\n",
       "    <tr>\n",
       "      <th>75%</th>\n",
       "      <td>3.0</td>\n",
       "      <td>1330000.0</td>\n",
       "      <td>13.0</td>\n",
       "      <td>3148.0</td>\n",
       "      <td>3.0</td>\n",
       "      <td>2.0</td>\n",
       "      <td>2.0</td>\n",
       "      <td>650.0</td>\n",
       "      <td>174.0</td>\n",
       "      <td>1999.0</td>\n",
       "      <td>-38.0</td>\n",
       "      <td>145.0</td>\n",
       "      <td>148.0</td>\n",
       "      <td>920.0</td>\n",
       "      <td>3375.0</td>\n",
       "    </tr>\n",
       "    <tr>\n",
       "      <th>max</th>\n",
       "      <td>10.0</td>\n",
       "      <td>9000000.0</td>\n",
       "      <td>47.0</td>\n",
       "      <td>3977.0</td>\n",
       "      <td>20.0</td>\n",
       "      <td>8.0</td>\n",
       "      <td>10.0</td>\n",
       "      <td>433014.0</td>\n",
       "      <td>6791.0</td>\n",
       "      <td>2018.0</td>\n",
       "      <td>-38.0</td>\n",
       "      <td>146.0</td>\n",
       "      <td>759.0</td>\n",
       "      <td>2237.0</td>\n",
       "      <td>10060.0</td>\n",
       "    </tr>\n",
       "  </tbody>\n",
       "</table>\n",
       "</div>"
      ],
      "text/plain": [
       "         Rooms      Price  Distance  Postcode  Bedroom2  Bathroom      Car  \\\n",
       "count  13560.0    13560.0   13560.0   13560.0   13560.0   13560.0  13498.0   \n",
       "mean       3.0  1076351.0      10.0    3105.0       3.0       2.0      2.0   \n",
       "std        1.0   639486.0       6.0      90.0       1.0       1.0      1.0   \n",
       "min        1.0    85000.0       0.0    3000.0       0.0       0.0      0.0   \n",
       "25%        2.0   650000.0       6.0    3044.0       2.0       1.0      1.0   \n",
       "50%        3.0   905000.0       9.0    3084.0       3.0       1.0      2.0   \n",
       "75%        3.0  1330000.0      13.0    3148.0       3.0       2.0      2.0   \n",
       "max       10.0  9000000.0      47.0    3977.0      20.0       8.0     10.0   \n",
       "\n",
       "       Landsize  BuildingArea  YearBuilt  Lattitude  Longtitude  \\\n",
       "count   13560.0        7119.0     8195.0    13560.0     13560.0   \n",
       "mean      550.0         146.0     1965.0      -38.0       145.0   \n",
       "std      3957.0         129.0       37.0        0.0         0.0   \n",
       "min         0.0           0.0     1196.0      -38.0       145.0   \n",
       "25%       176.0          93.0     1940.0      -38.0       145.0   \n",
       "50%       440.0         126.0     1970.0      -38.0       145.0   \n",
       "75%       650.0         174.0     1999.0      -38.0       145.0   \n",
       "max    433014.0        6791.0     2018.0      -38.0       146.0   \n",
       "\n",
       "       avg_dayly_price  avg_weekly_price  avg_montly_price  \n",
       "count          13560.0           12705.0           12312.0  \n",
       "mean             131.0             707.0            2620.0  \n",
       "std               64.0             340.0            1454.0  \n",
       "min               40.0             160.0             600.0  \n",
       "25%               95.0             470.0            1568.0  \n",
       "50%              115.0             610.0            2298.0  \n",
       "75%              148.0             920.0            3375.0  \n",
       "max              759.0            2237.0           10060.0  "
      ]
     },
     "execution_count": 20,
     "metadata": {},
     "output_type": "execute_result"
    }
   ],
   "source": [
    "melb_combined_df_droppped.describe().round()"
   ]
  },
  {
   "cell_type": "markdown",
   "id": "665f2bae-59f3-411c-90aa-c9720537d8ff",
   "metadata": {},
   "source": [
    "Del análsis cuantitativo de las variables numéricas, se observa que **Landsize** y **BuildingArea** presentan valores máximos que se alejan mucho del percentil 75, además de tener desviaciónes estándar inusualmente altas. Por otra parte, la variable **YearBuilt** presenta un valor mínimo que no es consistente con la lógica del descriptor (año: 1196)."
   ]
  },
  {
   "cell_type": "code",
   "execution_count": 21,
   "id": "a08f6e9e-0f0a-4588-9b5d-9c6684ea56bf",
   "metadata": {},
   "outputs": [
    {
     "name": "stderr",
     "output_type": "stream",
     "text": [
      "/home/fredy/anaconda3/envs/diplodatos/lib/python3.9/site-packages/seaborn/_decorators.py:36: FutureWarning: Pass the following variable as a keyword arg: x. From version 0.12, the only valid positional argument will be `data`, and passing other arguments without an explicit keyword will result in an error or misinterpretation.\n",
      "  warnings.warn(\n"
     ]
    },
    {
     "data": {
      "text/plain": [
       "<AxesSubplot:xlabel='Landsize'>"
      ]
     },
     "execution_count": 21,
     "metadata": {},
     "output_type": "execute_result"
    },
    {
     "data": {
      "image/png": "[encoded data removed]",
      "text/plain": [
       "<Figure size 432x288 with 1 Axes>"
      ]
     },
     "metadata": {
      "needs_background": "light"
     },
     "output_type": "display_data"
    }
   ],
   "source": [
    "# Boxplot sobre Landsize para identificar outliers\n",
    "sns.boxplot(melb_combined_df_droppped['Landsize'])"
   ]
  },
  {
   "cell_type": "code",
   "execution_count": 22,
   "id": "07f71914-adf2-4bec-92f5-5f4024a143c1",
   "metadata": {},
   "outputs": [
    {
     "data": {
      "text/html": [
       "<div>\n",
       "<style scoped>\n",
       "    .dataframe tbody tr th:only-of-type {\n",
       "        vertical-align: middle;\n",
       "    }\n",
       "\n",
       "    .dataframe tbody tr th {\n",
       "        vertical-align: top;\n",
       "    }\n",
       "\n",
       "    .dataframe thead th {\n",
       "        text-align: right;\n",
       "    }\n",
       "</style>\n",
       "<table border=\"1\" class=\"dataframe\">\n",
       "  <thead>\n",
       "    <tr style=\"text-align: right;\">\n",
       "      <th></th>\n",
       "      <th>Suburb</th>\n",
       "      <th>Rooms</th>\n",
       "      <th>Type</th>\n",
       "      <th>Price</th>\n",
       "      <th>Method</th>\n",
       "      <th>Distance</th>\n",
       "      <th>Postcode</th>\n",
       "      <th>Bedroom2</th>\n",
       "      <th>Bathroom</th>\n",
       "      <th>Car</th>\n",
       "      <th>Landsize</th>\n",
       "      <th>BuildingArea</th>\n",
       "      <th>YearBuilt</th>\n",
       "      <th>CouncilArea</th>\n",
       "      <th>Lattitude</th>\n",
       "      <th>Longtitude</th>\n",
       "      <th>Regionname</th>\n",
       "      <th>avg_dayly_price</th>\n",
       "      <th>avg_weekly_price</th>\n",
       "      <th>avg_montly_price</th>\n",
       "    </tr>\n",
       "    <tr>\n",
       "      <th>index</th>\n",
       "      <th></th>\n",
       "      <th></th>\n",
       "      <th></th>\n",
       "      <th></th>\n",
       "      <th></th>\n",
       "      <th></th>\n",
       "      <th></th>\n",
       "      <th></th>\n",
       "      <th></th>\n",
       "      <th></th>\n",
       "      <th></th>\n",
       "      <th></th>\n",
       "      <th></th>\n",
       "      <th></th>\n",
       "      <th></th>\n",
       "      <th></th>\n",
       "      <th></th>\n",
       "      <th></th>\n",
       "      <th></th>\n",
       "      <th></th>\n",
       "    </tr>\n",
       "  </thead>\n",
       "  <tbody>\n",
       "    <tr>\n",
       "      <th>11020</th>\n",
       "      <td>Fitzroy</td>\n",
       "      <td>3</td>\n",
       "      <td>h</td>\n",
       "      <td>2700000.0</td>\n",
       "      <td>VB</td>\n",
       "      <td>2.1</td>\n",
       "      <td>3065.0</td>\n",
       "      <td>3.0</td>\n",
       "      <td>3.0</td>\n",
       "      <td>1.0</td>\n",
       "      <td>433014.0</td>\n",
       "      <td>NaN</td>\n",
       "      <td>NaN</td>\n",
       "      <td>Yarra</td>\n",
       "      <td>-37.79751</td>\n",
       "      <td>144.98309</td>\n",
       "      <td>Northern Metropolitan</td>\n",
       "      <td>153.842377</td>\n",
       "      <td>1087.556962</td>\n",
       "      <td>3734.650</td>\n",
       "    </tr>\n",
       "    <tr>\n",
       "      <th>10504</th>\n",
       "      <td>Silvan</td>\n",
       "      <td>3</td>\n",
       "      <td>h</td>\n",
       "      <td>1085000.0</td>\n",
       "      <td>S</td>\n",
       "      <td>34.6</td>\n",
       "      <td>3795.0</td>\n",
       "      <td>3.0</td>\n",
       "      <td>2.0</td>\n",
       "      <td>2.0</td>\n",
       "      <td>76000.0</td>\n",
       "      <td>NaN</td>\n",
       "      <td>NaN</td>\n",
       "      <td>Yarra Ranges</td>\n",
       "      <td>-37.84739</td>\n",
       "      <td>145.47052</td>\n",
       "      <td>Eastern Victoria</td>\n",
       "      <td>149.500000</td>\n",
       "      <td>NaN</td>\n",
       "      <td>NaN</td>\n",
       "    </tr>\n",
       "    <tr>\n",
       "      <th>687</th>\n",
       "      <td>Balwyn North</td>\n",
       "      <td>3</td>\n",
       "      <td>h</td>\n",
       "      <td>2000000.0</td>\n",
       "      <td>VB</td>\n",
       "      <td>9.2</td>\n",
       "      <td>3104.0</td>\n",
       "      <td>3.0</td>\n",
       "      <td>1.0</td>\n",
       "      <td>2.0</td>\n",
       "      <td>75100.0</td>\n",
       "      <td>NaN</td>\n",
       "      <td>NaN</td>\n",
       "      <td>Boroondara</td>\n",
       "      <td>-37.80020</td>\n",
       "      <td>145.07000</td>\n",
       "      <td>Southern Metropolitan</td>\n",
       "      <td>97.268293</td>\n",
       "      <td>1118.000000</td>\n",
       "      <td>4063.000</td>\n",
       "    </tr>\n",
       "    <tr>\n",
       "      <th>5194</th>\n",
       "      <td>Reservoir</td>\n",
       "      <td>3</td>\n",
       "      <td>h</td>\n",
       "      <td>572000.0</td>\n",
       "      <td>S</td>\n",
       "      <td>11.2</td>\n",
       "      <td>3073.0</td>\n",
       "      <td>3.0</td>\n",
       "      <td>1.0</td>\n",
       "      <td>2.0</td>\n",
       "      <td>41400.0</td>\n",
       "      <td>NaN</td>\n",
       "      <td>NaN</td>\n",
       "      <td>Darebin</td>\n",
       "      <td>-37.71040</td>\n",
       "      <td>145.02570</td>\n",
       "      <td>Northern Metropolitan</td>\n",
       "      <td>273.926471</td>\n",
       "      <td>399.888889</td>\n",
       "      <td>1459.625</td>\n",
       "    </tr>\n",
       "    <tr>\n",
       "      <th>10045</th>\n",
       "      <td>Silvan</td>\n",
       "      <td>4</td>\n",
       "      <td>h</td>\n",
       "      <td>1070000.0</td>\n",
       "      <td>S</td>\n",
       "      <td>34.6</td>\n",
       "      <td>3795.0</td>\n",
       "      <td>4.0</td>\n",
       "      <td>2.0</td>\n",
       "      <td>3.0</td>\n",
       "      <td>38490.0</td>\n",
       "      <td>NaN</td>\n",
       "      <td>NaN</td>\n",
       "      <td>Yarra Ranges</td>\n",
       "      <td>-37.83229</td>\n",
       "      <td>145.43003</td>\n",
       "      <td>Eastern Victoria</td>\n",
       "      <td>149.500000</td>\n",
       "      <td>NaN</td>\n",
       "      <td>NaN</td>\n",
       "    </tr>\n",
       "  </tbody>\n",
       "</table>\n",
       "</div>"
      ],
      "text/plain": [
       "             Suburb  Rooms Type      Price Method  Distance  Postcode  \\\n",
       "index                                                                   \n",
       "11020       Fitzroy      3    h  2700000.0     VB       2.1    3065.0   \n",
       "10504        Silvan      3    h  1085000.0      S      34.6    3795.0   \n",
       "687    Balwyn North      3    h  2000000.0     VB       9.2    3104.0   \n",
       "5194      Reservoir      3    h   572000.0      S      11.2    3073.0   \n",
       "10045        Silvan      4    h  1070000.0      S      34.6    3795.0   \n",
       "\n",
       "       Bedroom2  Bathroom  Car  Landsize  BuildingArea  YearBuilt  \\\n",
       "index                                                               \n",
       "11020       3.0       3.0  1.0  433014.0           NaN        NaN   \n",
       "10504       3.0       2.0  2.0   76000.0           NaN        NaN   \n",
       "687         3.0       1.0  2.0   75100.0           NaN        NaN   \n",
       "5194        3.0       1.0  2.0   41400.0           NaN        NaN   \n",
       "10045       4.0       2.0  3.0   38490.0           NaN        NaN   \n",
       "\n",
       "        CouncilArea  Lattitude  Longtitude             Regionname  \\\n",
       "index                                                               \n",
       "11020         Yarra  -37.79751   144.98309  Northern Metropolitan   \n",
       "10504  Yarra Ranges  -37.84739   145.47052       Eastern Victoria   \n",
       "687      Boroondara  -37.80020   145.07000  Southern Metropolitan   \n",
       "5194        Darebin  -37.71040   145.02570  Northern Metropolitan   \n",
       "10045  Yarra Ranges  -37.83229   145.43003       Eastern Victoria   \n",
       "\n",
       "       avg_dayly_price  avg_weekly_price  avg_montly_price  \n",
       "index                                                       \n",
       "11020       153.842377       1087.556962          3734.650  \n",
       "10504       149.500000               NaN               NaN  \n",
       "687          97.268293       1118.000000          4063.000  \n",
       "5194        273.926471        399.888889          1459.625  \n",
       "10045       149.500000               NaN               NaN  "
      ]
     },
     "execution_count": 22,
     "metadata": {},
     "output_type": "execute_result"
    }
   ],
   "source": [
    "# Se identifica el index del oulier sobre Landsize (#11020)\n",
    "melb_combined_df_droppped.sort_values(by=['Landsize'], ascending=False).head(5)"
   ]
  },
  {
   "cell_type": "code",
   "execution_count": 23,
   "id": "f12f634a-1688-4d30-8742-ffb95a7e1059",
   "metadata": {},
   "outputs": [
    {
     "name": "stderr",
     "output_type": "stream",
     "text": [
      "/home/fredy/anaconda3/envs/diplodatos/lib/python3.9/site-packages/seaborn/_decorators.py:36: FutureWarning: Pass the following variable as a keyword arg: x. From version 0.12, the only valid positional argument will be `data`, and passing other arguments without an explicit keyword will result in an error or misinterpretation.\n",
      "  warnings.warn(\n"
     ]
    },
    {
     "data": {
      "text/plain": [
       "<AxesSubplot:xlabel='BuildingArea'>"
      ]
     },
     "execution_count": 23,
     "metadata": {},
     "output_type": "execute_result"
    },
    {
     "data": {
      "image/png": "[encoded data removed]",
      "text/plain": [
       "<Figure size 432x288 with 1 Axes>"
      ]
     },
     "metadata": {
      "needs_background": "light"
     },
     "output_type": "display_data"
    }
   ],
   "source": [
    "# Boxplot sobre BuildingArea para identificar outliers\n",
    "sns.boxplot(melb_combined_df_droppped['BuildingArea'])"
   ]
  },
  {
   "cell_type": "code",
   "execution_count": 24,
   "id": "b78111b1-e191-4810-9007-3c7a5194f45d",
   "metadata": {},
   "outputs": [
    {
     "data": {
      "text/html": [
       "<div>\n",
       "<style scoped>\n",
       "    .dataframe tbody tr th:only-of-type {\n",
       "        vertical-align: middle;\n",
       "    }\n",
       "\n",
       "    .dataframe tbody tr th {\n",
       "        vertical-align: top;\n",
       "    }\n",
       "\n",
       "    .dataframe thead th {\n",
       "        text-align: right;\n",
       "    }\n",
       "</style>\n",
       "<table border=\"1\" class=\"dataframe\">\n",
       "  <thead>\n",
       "    <tr style=\"text-align: right;\">\n",
       "      <th></th>\n",
       "      <th>Suburb</th>\n",
       "      <th>Rooms</th>\n",
       "      <th>Type</th>\n",
       "      <th>Price</th>\n",
       "      <th>Method</th>\n",
       "      <th>Distance</th>\n",
       "      <th>Postcode</th>\n",
       "      <th>Bedroom2</th>\n",
       "      <th>Bathroom</th>\n",
       "      <th>Car</th>\n",
       "      <th>Landsize</th>\n",
       "      <th>BuildingArea</th>\n",
       "      <th>YearBuilt</th>\n",
       "      <th>CouncilArea</th>\n",
       "      <th>Lattitude</th>\n",
       "      <th>Longtitude</th>\n",
       "      <th>Regionname</th>\n",
       "      <th>avg_dayly_price</th>\n",
       "      <th>avg_weekly_price</th>\n",
       "      <th>avg_montly_price</th>\n",
       "    </tr>\n",
       "    <tr>\n",
       "      <th>index</th>\n",
       "      <th></th>\n",
       "      <th></th>\n",
       "      <th></th>\n",
       "      <th></th>\n",
       "      <th></th>\n",
       "      <th></th>\n",
       "      <th></th>\n",
       "      <th></th>\n",
       "      <th></th>\n",
       "      <th></th>\n",
       "      <th></th>\n",
       "      <th></th>\n",
       "      <th></th>\n",
       "      <th></th>\n",
       "      <th></th>\n",
       "      <th></th>\n",
       "      <th></th>\n",
       "      <th></th>\n",
       "      <th></th>\n",
       "      <th></th>\n",
       "    </tr>\n",
       "  </thead>\n",
       "  <tbody>\n",
       "    <tr>\n",
       "      <th>1484</th>\n",
       "      <td>Bulleen</td>\n",
       "      <td>4</td>\n",
       "      <td>h</td>\n",
       "      <td>1280000.0</td>\n",
       "      <td>S</td>\n",
       "      <td>11.8</td>\n",
       "      <td>3105.0</td>\n",
       "      <td>4.0</td>\n",
       "      <td>1.0</td>\n",
       "      <td>2.0</td>\n",
       "      <td>732.0</td>\n",
       "      <td>6791.0</td>\n",
       "      <td>NaN</td>\n",
       "      <td>Manningham</td>\n",
       "      <td>-37.7615</td>\n",
       "      <td>145.0897</td>\n",
       "      <td>Eastern Metropolitan</td>\n",
       "      <td>116.260870</td>\n",
       "      <td>528.000000</td>\n",
       "      <td>2000.000000</td>\n",
       "    </tr>\n",
       "    <tr>\n",
       "      <th>2560</th>\n",
       "      <td>Fitzroy North</td>\n",
       "      <td>2</td>\n",
       "      <td>t</td>\n",
       "      <td>930000.0</td>\n",
       "      <td>S</td>\n",
       "      <td>3.5</td>\n",
       "      <td>3068.0</td>\n",
       "      <td>2.0</td>\n",
       "      <td>3.0</td>\n",
       "      <td>0.0</td>\n",
       "      <td>2778.0</td>\n",
       "      <td>3558.0</td>\n",
       "      <td>NaN</td>\n",
       "      <td>Yarra</td>\n",
       "      <td>-37.7903</td>\n",
       "      <td>144.9859</td>\n",
       "      <td>Northern Metropolitan</td>\n",
       "      <td>126.012987</td>\n",
       "      <td>801.315789</td>\n",
       "      <td>2801.842105</td>\n",
       "    </tr>\n",
       "    <tr>\n",
       "      <th>1588</th>\n",
       "      <td>Camberwell</td>\n",
       "      <td>5</td>\n",
       "      <td>h</td>\n",
       "      <td>2608000.0</td>\n",
       "      <td>S</td>\n",
       "      <td>7.8</td>\n",
       "      <td>3124.0</td>\n",
       "      <td>5.0</td>\n",
       "      <td>2.0</td>\n",
       "      <td>4.0</td>\n",
       "      <td>730.0</td>\n",
       "      <td>3112.0</td>\n",
       "      <td>1920.0</td>\n",
       "      <td>Boroondara</td>\n",
       "      <td>-37.8424</td>\n",
       "      <td>145.0639</td>\n",
       "      <td>Southern Metropolitan</td>\n",
       "      <td>138.556818</td>\n",
       "      <td>526.666667</td>\n",
       "      <td>2742.571429</td>\n",
       "    </tr>\n",
       "    <tr>\n",
       "      <th>2234</th>\n",
       "      <td>Elsternwick</td>\n",
       "      <td>2</td>\n",
       "      <td>u</td>\n",
       "      <td>741000.0</td>\n",
       "      <td>S</td>\n",
       "      <td>8.5</td>\n",
       "      <td>3185.0</td>\n",
       "      <td>3.0</td>\n",
       "      <td>1.0</td>\n",
       "      <td>1.0</td>\n",
       "      <td>0.0</td>\n",
       "      <td>1561.0</td>\n",
       "      <td>1966.0</td>\n",
       "      <td>Glen Eira</td>\n",
       "      <td>-37.8829</td>\n",
       "      <td>145.0033</td>\n",
       "      <td>Southern Metropolitan</td>\n",
       "      <td>154.132075</td>\n",
       "      <td>826.100000</td>\n",
       "      <td>3374.900000</td>\n",
       "    </tr>\n",
       "    <tr>\n",
       "      <th>2830</th>\n",
       "      <td>Glen Iris</td>\n",
       "      <td>2</td>\n",
       "      <td>t</td>\n",
       "      <td>600000.0</td>\n",
       "      <td>VB</td>\n",
       "      <td>9.2</td>\n",
       "      <td>3146.0</td>\n",
       "      <td>2.0</td>\n",
       "      <td>1.0</td>\n",
       "      <td>1.0</td>\n",
       "      <td>0.0</td>\n",
       "      <td>1143.0</td>\n",
       "      <td>NaN</td>\n",
       "      <td>Stonnington</td>\n",
       "      <td>-37.8506</td>\n",
       "      <td>145.0465</td>\n",
       "      <td>Southern Metropolitan</td>\n",
       "      <td>135.833333</td>\n",
       "      <td>770.111111</td>\n",
       "      <td>2940.750000</td>\n",
       "    </tr>\n",
       "  </tbody>\n",
       "</table>\n",
       "</div>"
      ],
      "text/plain": [
       "              Suburb  Rooms Type      Price Method  Distance  Postcode  \\\n",
       "index                                                                    \n",
       "1484         Bulleen      4    h  1280000.0      S      11.8    3105.0   \n",
       "2560   Fitzroy North      2    t   930000.0      S       3.5    3068.0   \n",
       "1588      Camberwell      5    h  2608000.0      S       7.8    3124.0   \n",
       "2234     Elsternwick      2    u   741000.0      S       8.5    3185.0   \n",
       "2830       Glen Iris      2    t   600000.0     VB       9.2    3146.0   \n",
       "\n",
       "       Bedroom2  Bathroom  Car  Landsize  BuildingArea  YearBuilt  \\\n",
       "index                                                               \n",
       "1484        4.0       1.0  2.0     732.0        6791.0        NaN   \n",
       "2560        2.0       3.0  0.0    2778.0        3558.0        NaN   \n",
       "1588        5.0       2.0  4.0     730.0        3112.0     1920.0   \n",
       "2234        3.0       1.0  1.0       0.0        1561.0     1966.0   \n",
       "2830        2.0       1.0  1.0       0.0        1143.0        NaN   \n",
       "\n",
       "       CouncilArea  Lattitude  Longtitude             Regionname  \\\n",
       "index                                                              \n",
       "1484    Manningham   -37.7615    145.0897   Eastern Metropolitan   \n",
       "2560         Yarra   -37.7903    144.9859  Northern Metropolitan   \n",
       "1588    Boroondara   -37.8424    145.0639  Southern Metropolitan   \n",
       "2234     Glen Eira   -37.8829    145.0033  Southern Metropolitan   \n",
       "2830   Stonnington   -37.8506    145.0465  Southern Metropolitan   \n",
       "\n",
       "       avg_dayly_price  avg_weekly_price  avg_montly_price  \n",
       "index                                                       \n",
       "1484        116.260870        528.000000       2000.000000  \n",
       "2560        126.012987        801.315789       2801.842105  \n",
       "1588        138.556818        526.666667       2742.571429  \n",
       "2234        154.132075        826.100000       3374.900000  \n",
       "2830        135.833333        770.111111       2940.750000  "
      ]
     },
     "execution_count": 24,
     "metadata": {},
     "output_type": "execute_result"
    }
   ],
   "source": [
    "# Se identifica el index del oulier sobre BuildingArea (#1484)\n",
    "melb_combined_df_droppped.sort_values(by=['BuildingArea'], ascending=False).head(5)"
   ]
  },
  {
   "cell_type": "code",
   "execution_count": 25,
   "id": "e57b986d-809b-4d9c-9d89-ed171d8786d7",
   "metadata": {},
   "outputs": [
    {
     "name": "stderr",
     "output_type": "stream",
     "text": [
      "/home/fredy/anaconda3/envs/diplodatos/lib/python3.9/site-packages/seaborn/_decorators.py:36: FutureWarning: Pass the following variable as a keyword arg: x. From version 0.12, the only valid positional argument will be `data`, and passing other arguments without an explicit keyword will result in an error or misinterpretation.\n",
      "  warnings.warn(\n"
     ]
    },
    {
     "data": {
      "text/plain": [
       "<AxesSubplot:xlabel='YearBuilt'>"
      ]
     },
     "execution_count": 25,
     "metadata": {},
     "output_type": "execute_result"
    },
    {
     "data": {
      "image/png": "[encoded data removed]",
      "text/plain": [
       "<Figure size 432x288 with 1 Axes>"
      ]
     },
     "metadata": {
      "needs_background": "light"
     },
     "output_type": "display_data"
    }
   ],
   "source": [
    "# Boxplot sobre YearBuilt para identificar outliers\n",
    "sns.boxplot(melb_combined_df_droppped['YearBuilt'])"
   ]
  },
  {
   "cell_type": "code",
   "execution_count": 26,
   "id": "b462ac95-ddd0-4d7e-ad20-5ea00617bc83",
   "metadata": {},
   "outputs": [
    {
     "data": {
      "text/html": [
       "<div>\n",
       "<style scoped>\n",
       "    .dataframe tbody tr th:only-of-type {\n",
       "        vertical-align: middle;\n",
       "    }\n",
       "\n",
       "    .dataframe tbody tr th {\n",
       "        vertical-align: top;\n",
       "    }\n",
       "\n",
       "    .dataframe thead th {\n",
       "        text-align: right;\n",
       "    }\n",
       "</style>\n",
       "<table border=\"1\" class=\"dataframe\">\n",
       "  <thead>\n",
       "    <tr style=\"text-align: right;\">\n",
       "      <th></th>\n",
       "      <th>Suburb</th>\n",
       "      <th>Rooms</th>\n",
       "      <th>Type</th>\n",
       "      <th>Price</th>\n",
       "      <th>Method</th>\n",
       "      <th>Distance</th>\n",
       "      <th>Postcode</th>\n",
       "      <th>Bedroom2</th>\n",
       "      <th>Bathroom</th>\n",
       "      <th>Car</th>\n",
       "      <th>Landsize</th>\n",
       "      <th>BuildingArea</th>\n",
       "      <th>YearBuilt</th>\n",
       "      <th>CouncilArea</th>\n",
       "      <th>Lattitude</th>\n",
       "      <th>Longtitude</th>\n",
       "      <th>Regionname</th>\n",
       "      <th>avg_dayly_price</th>\n",
       "      <th>avg_weekly_price</th>\n",
       "      <th>avg_montly_price</th>\n",
       "    </tr>\n",
       "    <tr>\n",
       "      <th>index</th>\n",
       "      <th></th>\n",
       "      <th></th>\n",
       "      <th></th>\n",
       "      <th></th>\n",
       "      <th></th>\n",
       "      <th></th>\n",
       "      <th></th>\n",
       "      <th></th>\n",
       "      <th></th>\n",
       "      <th></th>\n",
       "      <th></th>\n",
       "      <th></th>\n",
       "      <th></th>\n",
       "      <th></th>\n",
       "      <th></th>\n",
       "      <th></th>\n",
       "      <th></th>\n",
       "      <th></th>\n",
       "      <th></th>\n",
       "      <th></th>\n",
       "    </tr>\n",
       "  </thead>\n",
       "  <tbody>\n",
       "    <tr>\n",
       "      <th>9968</th>\n",
       "      <td>Mount Waverley</td>\n",
       "      <td>3</td>\n",
       "      <td>h</td>\n",
       "      <td>1200000.0</td>\n",
       "      <td>VB</td>\n",
       "      <td>14.2</td>\n",
       "      <td>3149.0</td>\n",
       "      <td>3.0</td>\n",
       "      <td>1.0</td>\n",
       "      <td>4.0</td>\n",
       "      <td>807.0</td>\n",
       "      <td>117.0</td>\n",
       "      <td>1196.0</td>\n",
       "      <td>Monash</td>\n",
       "      <td>-37.86788</td>\n",
       "      <td>145.12121</td>\n",
       "      <td>Eastern Metropolitan</td>\n",
       "      <td>119.415584</td>\n",
       "      <td>450.285714</td>\n",
       "      <td>1588.500000</td>\n",
       "    </tr>\n",
       "    <tr>\n",
       "      <th>2079</th>\n",
       "      <td>Collingwood</td>\n",
       "      <td>2</td>\n",
       "      <td>u</td>\n",
       "      <td>855000.0</td>\n",
       "      <td>S</td>\n",
       "      <td>1.6</td>\n",
       "      <td>3066.0</td>\n",
       "      <td>2.0</td>\n",
       "      <td>1.0</td>\n",
       "      <td>1.0</td>\n",
       "      <td>2886.0</td>\n",
       "      <td>122.0</td>\n",
       "      <td>1830.0</td>\n",
       "      <td>Yarra</td>\n",
       "      <td>-37.80420</td>\n",
       "      <td>144.98450</td>\n",
       "      <td>Northern Metropolitan</td>\n",
       "      <td>145.989899</td>\n",
       "      <td>920.078947</td>\n",
       "      <td>3087.230769</td>\n",
       "    </tr>\n",
       "    <tr>\n",
       "      <th>5860</th>\n",
       "      <td>St Kilda</td>\n",
       "      <td>3</td>\n",
       "      <td>u</td>\n",
       "      <td>1600000.0</td>\n",
       "      <td>PI</td>\n",
       "      <td>6.1</td>\n",
       "      <td>3182.0</td>\n",
       "      <td>3.0</td>\n",
       "      <td>2.0</td>\n",
       "      <td>2.0</td>\n",
       "      <td>0.0</td>\n",
       "      <td>3.0</td>\n",
       "      <td>1850.0</td>\n",
       "      <td>Port Phillip</td>\n",
       "      <td>-37.85840</td>\n",
       "      <td>144.98020</td>\n",
       "      <td>Southern Metropolitan</td>\n",
       "      <td>147.729515</td>\n",
       "      <td>1051.441026</td>\n",
       "      <td>3847.400000</td>\n",
       "    </tr>\n",
       "    <tr>\n",
       "      <th>4843</th>\n",
       "      <td>Prahran</td>\n",
       "      <td>2</td>\n",
       "      <td>u</td>\n",
       "      <td>841000.0</td>\n",
       "      <td>S</td>\n",
       "      <td>4.5</td>\n",
       "      <td>3181.0</td>\n",
       "      <td>2.0</td>\n",
       "      <td>2.0</td>\n",
       "      <td>1.0</td>\n",
       "      <td>0.0</td>\n",
       "      <td>101.0</td>\n",
       "      <td>1850.0</td>\n",
       "      <td>Stonnington</td>\n",
       "      <td>-37.84700</td>\n",
       "      <td>144.99360</td>\n",
       "      <td>Southern Metropolitan</td>\n",
       "      <td>148.169565</td>\n",
       "      <td>868.148148</td>\n",
       "      <td>3304.382353</td>\n",
       "    </tr>\n",
       "    <tr>\n",
       "      <th>2554</th>\n",
       "      <td>Fitzroy</td>\n",
       "      <td>2</td>\n",
       "      <td>h</td>\n",
       "      <td>677000.0</td>\n",
       "      <td>S</td>\n",
       "      <td>1.6</td>\n",
       "      <td>3065.0</td>\n",
       "      <td>2.0</td>\n",
       "      <td>1.0</td>\n",
       "      <td>0.0</td>\n",
       "      <td>67.0</td>\n",
       "      <td>NaN</td>\n",
       "      <td>1850.0</td>\n",
       "      <td>Yarra</td>\n",
       "      <td>-37.79690</td>\n",
       "      <td>144.97590</td>\n",
       "      <td>Northern Metropolitan</td>\n",
       "      <td>153.842377</td>\n",
       "      <td>1087.556962</td>\n",
       "      <td>3734.650000</td>\n",
       "    </tr>\n",
       "  </tbody>\n",
       "</table>\n",
       "</div>"
      ],
      "text/plain": [
       "               Suburb  Rooms Type      Price Method  Distance  Postcode  \\\n",
       "index                                                                     \n",
       "9968   Mount Waverley      3    h  1200000.0     VB      14.2    3149.0   \n",
       "2079      Collingwood      2    u   855000.0      S       1.6    3066.0   \n",
       "5860         St Kilda      3    u  1600000.0     PI       6.1    3182.0   \n",
       "4843          Prahran      2    u   841000.0      S       4.5    3181.0   \n",
       "2554          Fitzroy      2    h   677000.0      S       1.6    3065.0   \n",
       "\n",
       "       Bedroom2  Bathroom  Car  Landsize  BuildingArea  YearBuilt  \\\n",
       "index                                                               \n",
       "9968        3.0       1.0  4.0     807.0         117.0     1196.0   \n",
       "2079        2.0       1.0  1.0    2886.0         122.0     1830.0   \n",
       "5860        3.0       2.0  2.0       0.0           3.0     1850.0   \n",
       "4843        2.0       2.0  1.0       0.0         101.0     1850.0   \n",
       "2554        2.0       1.0  0.0      67.0           NaN     1850.0   \n",
       "\n",
       "        CouncilArea  Lattitude  Longtitude             Regionname  \\\n",
       "index                                                               \n",
       "9968         Monash  -37.86788   145.12121   Eastern Metropolitan   \n",
       "2079          Yarra  -37.80420   144.98450  Northern Metropolitan   \n",
       "5860   Port Phillip  -37.85840   144.98020  Southern Metropolitan   \n",
       "4843    Stonnington  -37.84700   144.99360  Southern Metropolitan   \n",
       "2554          Yarra  -37.79690   144.97590  Northern Metropolitan   \n",
       "\n",
       "       avg_dayly_price  avg_weekly_price  avg_montly_price  \n",
       "index                                                       \n",
       "9968        119.415584        450.285714       1588.500000  \n",
       "2079        145.989899        920.078947       3087.230769  \n",
       "5860        147.729515       1051.441026       3847.400000  \n",
       "4843        148.169565        868.148148       3304.382353  \n",
       "2554        153.842377       1087.556962       3734.650000  "
      ]
     },
     "execution_count": 26,
     "metadata": {},
     "output_type": "execute_result"
    }
   ],
   "source": [
    "# Se identifica el index del oulier sobre YearBuilt (#9968)\n",
    "melb_combined_df_droppped.sort_values(by=['YearBuilt'], ascending=True).head(5)"
   ]
  },
  {
   "cell_type": "markdown",
   "id": "29340256-b069-442b-832f-bedbbab29211",
   "metadata": {},
   "source": [
    "Claramente los valores atípicos son pocos y difieren mucho del resto y por ende decidimos eliminarlos para evitar distorsiones en el análisis, por lo que procedemos a eliminarlos y generamos un nuevo df."
   ]
  },
  {
   "cell_type": "code",
   "execution_count": 27,
   "id": "f0a05840-e462-4358-bf18-9236a2ee38ad",
   "metadata": {},
   "outputs": [],
   "source": [
    "# Se eliminan los 3 outliers más evidentes presentes en cada columna\n",
    "indexes_to_drop = [9968,11020,1484] # se puede extender si se utiliza un criterio mas estricto sobre outliers\n",
    "melb_cleaned = melb_combined_df_droppped.drop(index=indexes_to_drop)"
   ]
  },
  {
   "cell_type": "markdown",
   "id": "25a6fc11-7ce7-4667-8429-27da2c8f518d",
   "metadata": {},
   "source": [
    "Dado que el año de construcción es una variable crítica en el precio de la propiedad, \n",
    "analizamos si existen propiedades que son mucho más viejas que el grueso de datos"
   ]
  },
  {
   "cell_type": "code",
   "execution_count": 28,
   "id": "9e0cf73f-f1e2-4189-8663-b8b4ef22eeef",
   "metadata": {},
   "outputs": [
    {
     "name": "stderr",
     "output_type": "stream",
     "text": [
      "/home/fredy/anaconda3/envs/diplodatos/lib/python3.9/site-packages/seaborn/_decorators.py:36: FutureWarning: Pass the following variable as a keyword arg: x. From version 0.12, the only valid positional argument will be `data`, and passing other arguments without an explicit keyword will result in an error or misinterpretation.\n",
      "  warnings.warn(\n"
     ]
    },
    {
     "data": {
      "text/plain": [
       "<AxesSubplot:xlabel='YearBuilt'>"
      ]
     },
     "execution_count": 28,
     "metadata": {},
     "output_type": "execute_result"
    },
    {
     "data": {
      "image/png": "[encoded data removed]",
      "text/plain": [
       "<Figure size 432x288 with 1 Axes>"
      ]
     },
     "metadata": {
      "needs_background": "light"
     },
     "output_type": "display_data"
    }
   ],
   "source": [
    "# Boxplot sobre YearBuilt para identificar outliers\n",
    "sns.boxplot(melb_cleaned['YearBuilt'])"
   ]
  },
  {
   "cell_type": "markdown",
   "id": "7eb4bf77-fe84-49f2-8816-d546c66b4540",
   "metadata": {},
   "source": [
    "Del boxplot se observa que hay una **distribución pesada hacia la izquierda**, lo cual implica que hay un conjunto de propiedades muy antiguas, incluso dos outliers que son anteriores al año 1850. Las condiciones de precio de mercado para estas propiedades se supone son muy diferentes que para propiedades mas nuevas, con lo cual decidimimos analizar si conviene hacer un corte, por ejemplo, en propiedades desde el **año 1900 a la actualidad**."
   ]
  },
  {
   "cell_type": "code",
   "execution_count": 29,
   "id": "ea2a4c34-c612-4706-91be-e8661cd9defe",
   "metadata": {},
   "outputs": [
    {
     "name": "stdout",
     "output_type": "stream",
     "text": [
      "Propiedades antes de 1900: 367\n"
     ]
    }
   ],
   "source": [
    "# Se analizan cuantos datos existen previos al año 1900\n",
    "print(f'Propiedades antes de 1900: {melb_cleaned[melb_cleaned.YearBuilt < 1900].shape[0]}')"
   ]
  },
  {
   "cell_type": "markdown",
   "id": "7e85fac1-1cf6-4edc-bdf5-6e65c4724647",
   "metadata": {},
   "source": [
    "**La propiedades anteriores a 1990 son solo 367**, lo que **representa un 2%** del total del dataset. Consideramos útil eliminar estos datos por lo atipico de la fecha de construcción y teniendo en cuenta que no representa una pérdida significativa de información en el dataset."
   ]
  },
  {
   "cell_type": "code",
   "execution_count": 30,
   "id": "c5f0a63d-de86-4227-915c-a62614324c84",
   "metadata": {},
   "outputs": [],
   "source": [
    "# Eliminamos esos datos anteriores a 1900\n",
    "menor_1900 = melb_cleaned[melb_cleaned.YearBuilt < 1900].index\n",
    "melb_cleaned = melb_cleaned.drop(menor_1900)"
   ]
  },
  {
   "cell_type": "code",
   "execution_count": 31,
   "id": "a0821de7-7410-4770-87fe-31e92f6ceb30",
   "metadata": {},
   "outputs": [
    {
     "name": "stderr",
     "output_type": "stream",
     "text": [
      "/home/fredy/anaconda3/envs/diplodatos/lib/python3.9/site-packages/seaborn/_decorators.py:36: FutureWarning: Pass the following variable as a keyword arg: x. From version 0.12, the only valid positional argument will be `data`, and passing other arguments without an explicit keyword will result in an error or misinterpretation.\n",
      "  warnings.warn(\n"
     ]
    },
    {
     "data": {
      "text/plain": [
       "<AxesSubplot:xlabel='YearBuilt'>"
      ]
     },
     "execution_count": 31,
     "metadata": {},
     "output_type": "execute_result"
    },
    {
     "data": {
      "image/png": "[encoded data removed]",
      "text/plain": [
       "<Figure size 432x288 with 1 Axes>"
      ]
     },
     "metadata": {
      "needs_background": "light"
     },
     "output_type": "display_data"
    }
   ],
   "source": [
    "# Boxplot sobre YearBuilt para identificar outliers\n",
    "sns.boxplot(melb_cleaned['YearBuilt'])"
   ]
  },
  {
   "cell_type": "code",
   "execution_count": 32,
   "id": "9d1f47c9-4f91-45e3-81d8-ed2066f3e8d1",
   "metadata": {},
   "outputs": [
    {
     "data": {
      "text/plain": [
       "Index(['Suburb', 'Rooms', 'Type', 'Price', 'Method', 'Distance', 'Postcode',\n",
       "       'Bedroom2', 'Bathroom', 'Car', 'Landsize', 'BuildingArea', 'YearBuilt',\n",
       "       'CouncilArea', 'Lattitude', 'Longtitude', 'Regionname',\n",
       "       'avg_dayly_price', 'avg_weekly_price', 'avg_montly_price'],\n",
       "      dtype='object')"
      ]
     },
     "execution_count": 32,
     "metadata": {},
     "output_type": "execute_result"
    }
   ],
   "source": [
    "melb_cleaned.columns"
   ]
  },
  {
   "cell_type": "code",
   "execution_count": 34,
   "id": "356592ae-5243-4214-b0ae-d4e85d7c97a0",
   "metadata": {},
   "outputs": [
    {
     "data": {
      "text/plain": [
       "(13190, 20)"
      ]
     },
     "execution_count": 34,
     "metadata": {},
     "output_type": "execute_result"
    }
   ],
   "source": [
    "melb_cleaned.shape"
   ]
  },
  {
   "cell_type": "markdown",
   "id": "0f968bac-14a1-493c-8971-4d97286ab0ab",
   "metadata": {},
   "source": [
    "En esta sección vamos a realizar un **análisis de correlación intervariable** para ver si podemos eliminar columnas adicionales información redundante.  "
   ]
  },
  {
   "cell_type": "code",
   "execution_count": 35,
   "id": "d9271ed7-47e5-45ba-8c70-8ff3534332bd",
   "metadata": {},
   "outputs": [
    {
     "data": {
      "text/plain": [
       "<AxesSubplot:>"
      ]
     },
     "execution_count": 35,
     "metadata": {},
     "output_type": "execute_result"
    },
    {
     "data": {
      "image/png": "[encoded data removed]",
      "text/plain": [
       "<Figure size 1440x720 with 2 Axes>"
      ]
     },
     "metadata": {
      "needs_background": "light"
     },
     "output_type": "display_data"
    }
   ],
   "source": [
    "plt.figure(figsize=(20, 10))\n",
    "sns.heatmap(melb_cleaned.corr(method='pearson'), annot = True)"
   ]
  },
  {
   "cell_type": "markdown",
   "id": "17699e96-137f-4934-afeb-4b4ef6ebd3ff",
   "metadata": {},
   "source": [
    "De lo anterior, se detecta que 'Rooms' y 'Bedroom2' tienen información redundante. Analizamos cual sacar determinando cual resulta mas valiosa en términos de correlación con la variable target: 'Price'."
   ]
  },
  {
   "cell_type": "code",
   "execution_count": 36,
   "id": "b60a1cce-080a-4f5a-8740-a50792874d5c",
   "metadata": {},
   "outputs": [
    {
     "data": {
      "text/html": [
       "<div>\n",
       "<style scoped>\n",
       "    .dataframe tbody tr th:only-of-type {\n",
       "        vertical-align: middle;\n",
       "    }\n",
       "\n",
       "    .dataframe tbody tr th {\n",
       "        vertical-align: top;\n",
       "    }\n",
       "\n",
       "    .dataframe thead th {\n",
       "        text-align: right;\n",
       "    }\n",
       "</style>\n",
       "<table border=\"1\" class=\"dataframe\">\n",
       "  <thead>\n",
       "    <tr style=\"text-align: right;\">\n",
       "      <th></th>\n",
       "      <th>Rooms</th>\n",
       "      <th>Bedroom2</th>\n",
       "      <th>Price</th>\n",
       "    </tr>\n",
       "  </thead>\n",
       "  <tbody>\n",
       "    <tr>\n",
       "      <th>Rooms</th>\n",
       "      <td>1.000000</td>\n",
       "      <td>0.944052</td>\n",
       "      <td>0.500047</td>\n",
       "    </tr>\n",
       "    <tr>\n",
       "      <th>Bedroom2</th>\n",
       "      <td>0.944052</td>\n",
       "      <td>1.000000</td>\n",
       "      <td>0.478762</td>\n",
       "    </tr>\n",
       "    <tr>\n",
       "      <th>Price</th>\n",
       "      <td>0.500047</td>\n",
       "      <td>0.478762</td>\n",
       "      <td>1.000000</td>\n",
       "    </tr>\n",
       "  </tbody>\n",
       "</table>\n",
       "</div>"
      ],
      "text/plain": [
       "             Rooms  Bedroom2     Price\n",
       "Rooms     1.000000  0.944052  0.500047\n",
       "Bedroom2  0.944052  1.000000  0.478762\n",
       "Price     0.500047  0.478762  1.000000"
      ]
     },
     "execution_count": 36,
     "metadata": {},
     "output_type": "execute_result"
    }
   ],
   "source": [
    "cuartos = ['Rooms', 'Bedroom2', 'Price']\n",
    "melb_cleaned[cuartos].corr()"
   ]
  },
  {
   "cell_type": "markdown",
   "id": "502da9d5-8d76-430f-8259-c5a4c0d347d6",
   "metadata": {},
   "source": [
    "**Primera conclusión:** la variable 'Room' tiene un correlación con 'Price' ligeramente superior."
   ]
  },
  {
   "cell_type": "code",
   "execution_count": 37,
   "id": "b8e2a3ea-e9f5-47b5-8724-800f4f33eced",
   "metadata": {},
   "outputs": [
    {
     "data": {
      "text/html": [
       "<div>\n",
       "<style scoped>\n",
       "    .dataframe tbody tr th:only-of-type {\n",
       "        vertical-align: middle;\n",
       "    }\n",
       "\n",
       "    .dataframe tbody tr th {\n",
       "        vertical-align: top;\n",
       "    }\n",
       "\n",
       "    .dataframe thead th {\n",
       "        text-align: right;\n",
       "    }\n",
       "</style>\n",
       "<table border=\"1\" class=\"dataframe\">\n",
       "  <thead>\n",
       "    <tr style=\"text-align: right;\">\n",
       "      <th></th>\n",
       "      <th>Rooms</th>\n",
       "      <th>Bedroom2</th>\n",
       "      <th>Price</th>\n",
       "    </tr>\n",
       "  </thead>\n",
       "  <tbody>\n",
       "    <tr>\n",
       "      <th>count</th>\n",
       "      <td>13190.0</td>\n",
       "      <td>13190.0</td>\n",
       "      <td>13190.0</td>\n",
       "    </tr>\n",
       "    <tr>\n",
       "      <th>mean</th>\n",
       "      <td>3.0</td>\n",
       "      <td>3.0</td>\n",
       "      <td>1059287.0</td>\n",
       "    </tr>\n",
       "    <tr>\n",
       "      <th>std</th>\n",
       "      <td>1.0</td>\n",
       "      <td>1.0</td>\n",
       "      <td>620742.0</td>\n",
       "    </tr>\n",
       "    <tr>\n",
       "      <th>min</th>\n",
       "      <td>1.0</td>\n",
       "      <td>0.0</td>\n",
       "      <td>85000.0</td>\n",
       "    </tr>\n",
       "    <tr>\n",
       "      <th>25%</th>\n",
       "      <td>2.0</td>\n",
       "      <td>2.0</td>\n",
       "      <td>643775.0</td>\n",
       "    </tr>\n",
       "    <tr>\n",
       "      <th>50%</th>\n",
       "      <td>3.0</td>\n",
       "      <td>3.0</td>\n",
       "      <td>896500.0</td>\n",
       "    </tr>\n",
       "    <tr>\n",
       "      <th>75%</th>\n",
       "      <td>3.0</td>\n",
       "      <td>3.0</td>\n",
       "      <td>1310750.0</td>\n",
       "    </tr>\n",
       "    <tr>\n",
       "      <th>max</th>\n",
       "      <td>10.0</td>\n",
       "      <td>20.0</td>\n",
       "      <td>9000000.0</td>\n",
       "    </tr>\n",
       "  </tbody>\n",
       "</table>\n",
       "</div>"
      ],
      "text/plain": [
       "         Rooms  Bedroom2      Price\n",
       "count  13190.0   13190.0    13190.0\n",
       "mean       3.0       3.0  1059287.0\n",
       "std        1.0       1.0   620742.0\n",
       "min        1.0       0.0    85000.0\n",
       "25%        2.0       2.0   643775.0\n",
       "50%        3.0       3.0   896500.0\n",
       "75%        3.0       3.0  1310750.0\n",
       "max       10.0      20.0  9000000.0"
      ]
     },
     "execution_count": 37,
     "metadata": {},
     "output_type": "execute_result"
    }
   ],
   "source": [
    "melb_cleaned[cuartos].describe().round()"
   ]
  },
  {
   "cell_type": "markdown",
   "id": "87b03961-0a2a-43e6-8004-2b5f1ec1971b",
   "metadata": {},
   "source": [
    "**Segunda conclusión:** ambas variables contienen la misma cantidad de datos (13190), pero 'Room' presenta un valor máximo (10) menor que Bedroom2 (20), con lo cual se asume una distribución mas densa para 'Room'\n",
    "\n",
    "**Basado en los dos análisis, eliminamos la variable redundante 'Bedroom2'**"
   ]
  },
  {
   "cell_type": "code",
   "execution_count": 38,
   "id": "b30a6f6d-4e3d-4a06-b689-07591b7f706f",
   "metadata": {},
   "outputs": [
    {
     "data": {
      "text/plain": [
       "Index(['Suburb', 'Rooms', 'Type', 'Price', 'Method', 'Distance', 'Postcode',\n",
       "       'Bathroom', 'Car', 'Landsize', 'BuildingArea', 'YearBuilt',\n",
       "       'CouncilArea', 'Lattitude', 'Longtitude', 'Regionname',\n",
       "       'avg_dayly_price', 'avg_weekly_price', 'avg_montly_price'],\n",
       "      dtype='object')"
      ]
     },
     "execution_count": 38,
     "metadata": {},
     "output_type": "execute_result"
    }
   ],
   "source": [
    "melb_cleaned_final = melb_cleaned.drop('Bedroom2', axis=1)\n",
    "melb_cleaned_final.columns"
   ]
  },
  {
   "cell_type": "code",
   "execution_count": 39,
   "id": "f7adcd26-5a9f-4c20-8c2a-b8db61754efb",
   "metadata": {},
   "outputs": [
    {
     "data": {
      "text/plain": [
       "(13190, 19)"
      ]
     },
     "execution_count": 39,
     "metadata": {},
     "output_type": "execute_result"
    }
   ],
   "source": [
    "melb_cleaned_final.shape"
   ]
  },
  {
   "cell_type": "markdown",
   "id": "2db304cc-d229-4bd0-8b14-49fd1dd54892",
   "metadata": {},
   "source": [
    "A continuación analizamos la **consistencia de datos**, identificando valores faltantes y posibles necesidades de imputación a futuro."
   ]
  },
  {
   "cell_type": "code",
   "execution_count": 40,
   "id": "480d481a-a31f-40ca-ba80-2aca94bc8530",
   "metadata": {},
   "outputs": [
    {
     "data": {
      "text/plain": [
       "<AxesSubplot:>"
      ]
     },
     "execution_count": 40,
     "metadata": {},
     "output_type": "execute_result"
    },
    {
     "data": {
      "image/png": "[encoded data removed]",
      "text/plain": [
       "<Figure size 864x432 with 2 Axes>"
      ]
     },
     "metadata": {
      "needs_background": "light"
     },
     "output_type": "display_data"
    }
   ],
   "source": [
    "msno.matrix(melb_cleaned_final,figsize=(12, 6), fontsize=12, color=[0,0,0.2])"
   ]
  },
  {
   "cell_type": "markdown",
   "id": "0a23c111-9b1b-4e8c-9c95-91fa0e1484e7",
   "metadata": {},
   "source": [
    "Observamos en que hay 6 columnas con valores faltantes:\n",
    "- 4 provenientes del dataframe de Melbourne: Car, BuildingArea, YearBuilt y CouncilArea.\n",
    "- 2 provenientes del merge con el datafrane de AirBnB: acg_weekly_price y avg_monthly_price.\n"
   ]
  },
  {
   "cell_type": "markdown",
   "id": "82159e47-418f-40e6-84f1-68c4e7d3a8db",
   "metadata": {},
   "source": [
    "**Ejercicio 2.2: Agregar información adicional respectiva al entorno de una propiedad a partir del conjunto de datos de AirBnB.**"
   ]
  },
  {
   "cell_type": "markdown",
   "id": "61c9e071-e8a4-48be-ba14-599e9f06feb8",
   "metadata": {},
   "source": [
    "El dataframe que tenemos al momento contiene la información depurada del Melbourne dataframe, y el agregado de tres columnas ('avg_dayly_price', 'avg_weekly_price', 'avg_montly_price') obtenidas del dataframe de AirBnB. Asimismo, ya contamos con información que describe el entorno de la propiedad ('CouncilArea', 'Lattitude', 'Longtitude', 'Regionname'). Analizando la información disponible en el dataframe de AirBnB no vemos que exista una columna con información adicional que se aprecie de valor para correlacionar el precio con el entorno.\n"
   ]
  },
  {
   "cell_type": "markdown",
   "id": "c5303f27-3b15-441b-b291-8caf1c734139",
   "metadata": {
    "id": "c5303f27-3b15-441b-b291-8caf1c734139"
   },
   "source": [
    "## Ejercicio 3:\n",
    "\n",
    "Crear y guardar un nuevo conjunto de datos con todas las transformaciones realizadas anteriormente."
   ]
  },
  {
   "cell_type": "code",
   "execution_count": 41,
   "id": "5d210b95-836f-45ac-a52d-1a4dafdb447a",
   "metadata": {
    "id": "5d210b95-836f-45ac-a52d-1a4dafdb447a"
   },
   "outputs": [],
   "source": [
    "melb_cleaned_final.to_csv('melb_df_merged_Alfredo.csv', index=False)"
   ]
  },
  {
   "cell_type": "code",
   "execution_count": null,
   "id": "ed983008-d9fa-4b15-b317-7a078b5242f3",
   "metadata": {},
   "outputs": [],
   "source": []
  }
 ],
 "metadata": {
  "colab": {
   "name": "entregable_parte_1_22.ipynb",
   "provenance": []
  },
  "kernelspec": {
   "display_name": "Python 3 (ipykernel)",
   "language": "python",
   "name": "python3"
  },
  "language_info": {
   "codemirror_mode": {
    "name": "ipython",
    "version": 3
   },
   "file_extension": ".py",
   "mimetype": "text/x-python",
   "name": "python",
   "nbconvert_exporter": "python",
   "pygments_lexer": "ipython3",
   "version": "3.9.12"
  }
 },
 "nbformat": 4,
 "nbformat_minor": 5
}
