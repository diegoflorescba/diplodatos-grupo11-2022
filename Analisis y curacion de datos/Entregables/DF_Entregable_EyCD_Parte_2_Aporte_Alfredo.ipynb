{
 "cells": [
  {
   "cell_type": "markdown",
   "metadata": {
    "colab_type": "text",
    "id": "view-in-github"
   },
   "source": [
    "<a href=\"https://colab.research.google.com/github/DiploDatos/AnalisisYCuracion/blob/master/Entregable_Parte_2_2022.ipynb\" target=\"_parent\"><img src=\"https://colab.research.google.com/assets/colab-badge.svg\" alt=\"Open In Colab\"/></a>"
   ]
  },
  {
   "cell_type": "markdown",
   "metadata": {
    "id": "zO4bRoxr2Apy"
   },
   "source": [
    "**Diplomatura en Ciencia de Datos, Aprendizaje Automático y sus Aplicaciones**\n",
    "\n",
    "**Exploración y Curación de Datos**\n",
    "\n",
    "*Edición 2021*\n",
    "\n",
    "----\n",
    "\n",
    "# Trabajo práctico entregable - parte 2\n",
    "\n",
    "\n",
    "En el ejercicio 2 de la parte 1 del entregable seleccionaron las filas y columnas relevantes al problema de predicción de precios de una propiedad e imputaron los valores faltantes de las columnas `Suburb` y las columnas obtenidas a partir del conjunto de datos `airbnb`.\n",
    "\n",
    "En esta notebook, **se utilizará resultado de dichas operaciones.** que fue guardado en un archivo (Ejercicio 3 entregable 1). \n"
   ]
  },
  {
   "cell_type": "code",
   "execution_count": 1,
   "metadata": {
    "id": "4udjxjk1EtVU"
   },
   "outputs": [],
   "source": [
    "import matplotlib.pyplot as plt\n",
    "import numpy as np\n",
    "import pandas as pd\n",
    "from sklearn.preprocessing import OneHotEncoder\n",
    "from sklearn.compose import make_column_transformer\n",
    "\n",
    "from sklearn.experimental import enable_iterative_imputer\n",
    "from sklearn.neighbors import KNeighborsRegressor\n",
    "from sklearn.linear_model import BayesianRidge # para comparar el estimador de Iterative_Imputer\n",
    "from sklearn.impute import IterativeImputer\n",
    "from sklearn.preprocessing import MinMaxScaler\n",
    "from sklearn.decomposition import PCA\n",
    "\n",
    "import seaborn as sns\n",
    "\n",
    "sns.set_context('talk')"
   ]
  },
  {
   "cell_type": "code",
   "execution_count": 2,
   "metadata": {
    "colab": {
     "base_uri": "https://localhost:8080/",
     "height": 227
    },
    "id": "_qeFN3GnEvMk",
    "outputId": "02e6e659-1be0-414f-a6a0-8f8298bb84d7"
   },
   "outputs": [
    {
     "data": {
      "text/html": [
       "<div>\n",
       "<style scoped>\n",
       "    .dataframe tbody tr th:only-of-type {\n",
       "        vertical-align: middle;\n",
       "    }\n",
       "\n",
       "    .dataframe tbody tr th {\n",
       "        vertical-align: top;\n",
       "    }\n",
       "\n",
       "    .dataframe thead th {\n",
       "        text-align: right;\n",
       "    }\n",
       "</style>\n",
       "<table border=\"1\" class=\"dataframe\">\n",
       "  <thead>\n",
       "    <tr style=\"text-align: right;\">\n",
       "      <th></th>\n",
       "      <th>Suburb</th>\n",
       "      <th>Rooms</th>\n",
       "      <th>Type</th>\n",
       "      <th>Price</th>\n",
       "      <th>Method</th>\n",
       "      <th>Distance</th>\n",
       "      <th>Postcode</th>\n",
       "      <th>Bathroom</th>\n",
       "      <th>Car</th>\n",
       "      <th>Landsize</th>\n",
       "      <th>BuildingArea</th>\n",
       "      <th>YearBuilt</th>\n",
       "      <th>CouncilArea</th>\n",
       "      <th>Lattitude</th>\n",
       "      <th>Longtitude</th>\n",
       "      <th>Regionname</th>\n",
       "      <th>avg_dayly_price</th>\n",
       "      <th>avg_weekly_price</th>\n",
       "      <th>avg_montly_price</th>\n",
       "    </tr>\n",
       "  </thead>\n",
       "  <tbody>\n",
       "    <tr>\n",
       "      <th>0</th>\n",
       "      <td>Abbotsford</td>\n",
       "      <td>2</td>\n",
       "      <td>h</td>\n",
       "      <td>1480000.0</td>\n",
       "      <td>S</td>\n",
       "      <td>2.5</td>\n",
       "      <td>3067.0</td>\n",
       "      <td>1.0</td>\n",
       "      <td>1.0</td>\n",
       "      <td>202.0</td>\n",
       "      <td>NaN</td>\n",
       "      <td>NaN</td>\n",
       "      <td>Yarra</td>\n",
       "      <td>-37.7996</td>\n",
       "      <td>144.9984</td>\n",
       "      <td>Northern Metropolitan</td>\n",
       "      <td>130.624031</td>\n",
       "      <td>605.152174</td>\n",
       "      <td>2187.032258</td>\n",
       "    </tr>\n",
       "    <tr>\n",
       "      <th>1</th>\n",
       "      <td>Abbotsford</td>\n",
       "      <td>2</td>\n",
       "      <td>h</td>\n",
       "      <td>1035000.0</td>\n",
       "      <td>S</td>\n",
       "      <td>2.5</td>\n",
       "      <td>3067.0</td>\n",
       "      <td>1.0</td>\n",
       "      <td>0.0</td>\n",
       "      <td>156.0</td>\n",
       "      <td>79.0</td>\n",
       "      <td>1900.0</td>\n",
       "      <td>Yarra</td>\n",
       "      <td>-37.8079</td>\n",
       "      <td>144.9934</td>\n",
       "      <td>Northern Metropolitan</td>\n",
       "      <td>130.624031</td>\n",
       "      <td>605.152174</td>\n",
       "      <td>2187.032258</td>\n",
       "    </tr>\n",
       "    <tr>\n",
       "      <th>2</th>\n",
       "      <td>Abbotsford</td>\n",
       "      <td>3</td>\n",
       "      <td>h</td>\n",
       "      <td>1465000.0</td>\n",
       "      <td>SP</td>\n",
       "      <td>2.5</td>\n",
       "      <td>3067.0</td>\n",
       "      <td>2.0</td>\n",
       "      <td>0.0</td>\n",
       "      <td>134.0</td>\n",
       "      <td>150.0</td>\n",
       "      <td>1900.0</td>\n",
       "      <td>Yarra</td>\n",
       "      <td>-37.8093</td>\n",
       "      <td>144.9944</td>\n",
       "      <td>Northern Metropolitan</td>\n",
       "      <td>130.624031</td>\n",
       "      <td>605.152174</td>\n",
       "      <td>2187.032258</td>\n",
       "    </tr>\n",
       "  </tbody>\n",
       "</table>\n",
       "</div>"
      ],
      "text/plain": [
       "       Suburb  Rooms Type      Price Method  Distance  Postcode  Bathroom  \\\n",
       "0  Abbotsford      2    h  1480000.0      S       2.5    3067.0       1.0   \n",
       "1  Abbotsford      2    h  1035000.0      S       2.5    3067.0       1.0   \n",
       "2  Abbotsford      3    h  1465000.0     SP       2.5    3067.0       2.0   \n",
       "\n",
       "   Car  Landsize  BuildingArea  YearBuilt CouncilArea  Lattitude  Longtitude  \\\n",
       "0  1.0     202.0           NaN        NaN       Yarra   -37.7996    144.9984   \n",
       "1  0.0     156.0          79.0     1900.0       Yarra   -37.8079    144.9934   \n",
       "2  0.0     134.0         150.0     1900.0       Yarra   -37.8093    144.9944   \n",
       "\n",
       "              Regionname  avg_dayly_price  avg_weekly_price  avg_montly_price  \n",
       "0  Northern Metropolitan       130.624031        605.152174       2187.032258  \n",
       "1  Northern Metropolitan       130.624031        605.152174       2187.032258  \n",
       "2  Northern Metropolitan       130.624031        605.152174       2187.032258  "
      ]
     },
     "execution_count": 2,
     "metadata": {},
     "output_type": "execute_result"
    }
   ],
   "source": [
    "# Acá deberían leer el conjunto de datos que ya tienen.\n",
    "melb_df = pd.read_csv('melb_df_merged_Alfredo.csv')\n",
    "melb_df[:3]"
   ]
  },
  {
   "cell_type": "code",
   "execution_count": 3,
   "metadata": {},
   "outputs": [
    {
     "data": {
      "text/plain": [
       "(13190, 19)"
      ]
     },
     "execution_count": 3,
     "metadata": {},
     "output_type": "execute_result"
    }
   ],
   "source": [
    "melb_df.shape"
   ]
  },
  {
   "cell_type": "markdown",
   "metadata": {
    "id": "s-mixICN22kA"
   },
   "source": [
    "## Ejercicio 1: Encoding\n",
    "\n",
    "1. Seleccionar todas las filas y columnas del conjunto de datos obtenido en la parte 1 del entregable, **excepto** `BuildingArea` y `YearBuilt`, que volveremos a imputar más adelante.\n",
    "\n",
    "2. Aplicar una codificación One-hot encoding a cada fila, tanto para variables numéricas como categóricas. Si lo consideran necesario, pueden volver a reducir el número de categorías únicas.\n",
    "\n",
    "Algunas opciones:\n",
    "  1. Utilizar `OneHotEncoder` junto con el parámetro `categories` para las variables categóricas y luego usar `numpy.hstack` para concatenar el resultado con las variables numéricas. \n",
    "  2. `DictVectorizer` con algunos pasos de pre-proceso previo.\n",
    "\n",
    "Recordar también que el atributo `pandas.DataFrame.values` permite acceder a la matriz de numpy subyacente a un DataFrame.\n"
   ]
  },
  {
   "cell_type": "code",
   "execution_count": 4,
   "metadata": {},
   "outputs": [
    {
     "data": {
      "text/plain": [
       "Index(['Suburb', 'Rooms', 'Type', 'Price', 'Method', 'Distance', 'Postcode',\n",
       "       'Bathroom', 'Car', 'Landsize', 'BuildingArea', 'YearBuilt',\n",
       "       'CouncilArea', 'Lattitude', 'Longtitude', 'Regionname',\n",
       "       'avg_dayly_price', 'avg_weekly_price', 'avg_montly_price'],\n",
       "      dtype='object')"
      ]
     },
     "execution_count": 4,
     "metadata": {},
     "output_type": "execute_result"
    }
   ],
   "source": [
    "melb_df.columns"
   ]
  },
  {
   "cell_type": "markdown",
   "metadata": {},
   "source": [
    "Quitamos algunas columnas que no nos aportan valor, como \"Lattitude\" y \"Longitude\"."
   ]
  },
  {
   "cell_type": "code",
   "execution_count": 5,
   "metadata": {},
   "outputs": [
    {
     "data": {
      "text/html": [
       "<div>\n",
       "<style scoped>\n",
       "    .dataframe tbody tr th:only-of-type {\n",
       "        vertical-align: middle;\n",
       "    }\n",
       "\n",
       "    .dataframe tbody tr th {\n",
       "        vertical-align: top;\n",
       "    }\n",
       "\n",
       "    .dataframe thead th {\n",
       "        text-align: right;\n",
       "    }\n",
       "</style>\n",
       "<table border=\"1\" class=\"dataframe\">\n",
       "  <thead>\n",
       "    <tr style=\"text-align: right;\">\n",
       "      <th></th>\n",
       "      <th>Suburb</th>\n",
       "      <th>Rooms</th>\n",
       "      <th>Type</th>\n",
       "      <th>Price</th>\n",
       "      <th>Method</th>\n",
       "      <th>Distance</th>\n",
       "      <th>Postcode</th>\n",
       "      <th>Bathroom</th>\n",
       "      <th>Car</th>\n",
       "      <th>BuildingArea</th>\n",
       "      <th>YearBuilt</th>\n",
       "      <th>CouncilArea</th>\n",
       "      <th>Regionname</th>\n",
       "      <th>avg_dayly_price</th>\n",
       "      <th>avg_weekly_price</th>\n",
       "      <th>avg_montly_price</th>\n",
       "    </tr>\n",
       "  </thead>\n",
       "  <tbody>\n",
       "    <tr>\n",
       "      <th>0</th>\n",
       "      <td>Abbotsford</td>\n",
       "      <td>2</td>\n",
       "      <td>h</td>\n",
       "      <td>1480000.0</td>\n",
       "      <td>S</td>\n",
       "      <td>2.5</td>\n",
       "      <td>3067.0</td>\n",
       "      <td>1.0</td>\n",
       "      <td>1.0</td>\n",
       "      <td>NaN</td>\n",
       "      <td>NaN</td>\n",
       "      <td>Yarra</td>\n",
       "      <td>Northern Metropolitan</td>\n",
       "      <td>130.624031</td>\n",
       "      <td>605.152174</td>\n",
       "      <td>2187.032258</td>\n",
       "    </tr>\n",
       "    <tr>\n",
       "      <th>1</th>\n",
       "      <td>Abbotsford</td>\n",
       "      <td>2</td>\n",
       "      <td>h</td>\n",
       "      <td>1035000.0</td>\n",
       "      <td>S</td>\n",
       "      <td>2.5</td>\n",
       "      <td>3067.0</td>\n",
       "      <td>1.0</td>\n",
       "      <td>0.0</td>\n",
       "      <td>79.0</td>\n",
       "      <td>1900.0</td>\n",
       "      <td>Yarra</td>\n",
       "      <td>Northern Metropolitan</td>\n",
       "      <td>130.624031</td>\n",
       "      <td>605.152174</td>\n",
       "      <td>2187.032258</td>\n",
       "    </tr>\n",
       "    <tr>\n",
       "      <th>2</th>\n",
       "      <td>Abbotsford</td>\n",
       "      <td>3</td>\n",
       "      <td>h</td>\n",
       "      <td>1465000.0</td>\n",
       "      <td>SP</td>\n",
       "      <td>2.5</td>\n",
       "      <td>3067.0</td>\n",
       "      <td>2.0</td>\n",
       "      <td>0.0</td>\n",
       "      <td>150.0</td>\n",
       "      <td>1900.0</td>\n",
       "      <td>Yarra</td>\n",
       "      <td>Northern Metropolitan</td>\n",
       "      <td>130.624031</td>\n",
       "      <td>605.152174</td>\n",
       "      <td>2187.032258</td>\n",
       "    </tr>\n",
       "    <tr>\n",
       "      <th>3</th>\n",
       "      <td>Abbotsford</td>\n",
       "      <td>3</td>\n",
       "      <td>h</td>\n",
       "      <td>850000.0</td>\n",
       "      <td>PI</td>\n",
       "      <td>2.5</td>\n",
       "      <td>3067.0</td>\n",
       "      <td>2.0</td>\n",
       "      <td>1.0</td>\n",
       "      <td>NaN</td>\n",
       "      <td>NaN</td>\n",
       "      <td>Yarra</td>\n",
       "      <td>Northern Metropolitan</td>\n",
       "      <td>130.624031</td>\n",
       "      <td>605.152174</td>\n",
       "      <td>2187.032258</td>\n",
       "    </tr>\n",
       "    <tr>\n",
       "      <th>4</th>\n",
       "      <td>Abbotsford</td>\n",
       "      <td>4</td>\n",
       "      <td>h</td>\n",
       "      <td>1600000.0</td>\n",
       "      <td>VB</td>\n",
       "      <td>2.5</td>\n",
       "      <td>3067.0</td>\n",
       "      <td>1.0</td>\n",
       "      <td>2.0</td>\n",
       "      <td>142.0</td>\n",
       "      <td>2014.0</td>\n",
       "      <td>Yarra</td>\n",
       "      <td>Northern Metropolitan</td>\n",
       "      <td>130.624031</td>\n",
       "      <td>605.152174</td>\n",
       "      <td>2187.032258</td>\n",
       "    </tr>\n",
       "  </tbody>\n",
       "</table>\n",
       "</div>"
      ],
      "text/plain": [
       "       Suburb  Rooms Type      Price Method  Distance  Postcode  Bathroom  \\\n",
       "0  Abbotsford      2    h  1480000.0      S       2.5    3067.0       1.0   \n",
       "1  Abbotsford      2    h  1035000.0      S       2.5    3067.0       1.0   \n",
       "2  Abbotsford      3    h  1465000.0     SP       2.5    3067.0       2.0   \n",
       "3  Abbotsford      3    h   850000.0     PI       2.5    3067.0       2.0   \n",
       "4  Abbotsford      4    h  1600000.0     VB       2.5    3067.0       1.0   \n",
       "\n",
       "   Car  BuildingArea  YearBuilt CouncilArea             Regionname  \\\n",
       "0  1.0           NaN        NaN       Yarra  Northern Metropolitan   \n",
       "1  0.0          79.0     1900.0       Yarra  Northern Metropolitan   \n",
       "2  0.0         150.0     1900.0       Yarra  Northern Metropolitan   \n",
       "3  1.0           NaN        NaN       Yarra  Northern Metropolitan   \n",
       "4  2.0         142.0     2014.0       Yarra  Northern Metropolitan   \n",
       "\n",
       "   avg_dayly_price  avg_weekly_price  avg_montly_price  \n",
       "0       130.624031        605.152174       2187.032258  \n",
       "1       130.624031        605.152174       2187.032258  \n",
       "2       130.624031        605.152174       2187.032258  \n",
       "3       130.624031        605.152174       2187.032258  \n",
       "4       130.624031        605.152174       2187.032258  "
      ]
     },
     "execution_count": 5,
     "metadata": {},
     "output_type": "execute_result"
    }
   ],
   "source": [
    "melb_aux = melb_df.copy()\n",
    "filter_columns = ['Suburb', 'Rooms', 'Type', 'Price', 'Method', 'Distance', 'Postcode',\n",
    "       'Bathroom', 'Car', 'BuildingArea', 'YearBuilt', 'CouncilArea',\n",
    "       'Regionname', 'avg_dayly_price', 'avg_weekly_price', 'avg_montly_price']\n",
    "melb_aux = melb_aux[filter_columns]\n",
    "melb_aux.head()"
   ]
  },
  {
   "cell_type": "code",
   "execution_count": 6,
   "metadata": {},
   "outputs": [
    {
     "data": {
      "text/plain": [
       "(13190, 16)"
      ]
     },
     "execution_count": 6,
     "metadata": {},
     "output_type": "execute_result"
    }
   ],
   "source": [
    "melb_aux.shape"
   ]
  },
  {
   "cell_type": "code",
   "execution_count": 7,
   "metadata": {},
   "outputs": [
    {
     "name": "stdout",
     "output_type": "stream",
     "text": [
      "<class 'pandas.core.frame.DataFrame'>\n",
      "RangeIndex: 13190 entries, 0 to 13189\n",
      "Data columns (total 16 columns):\n",
      " #   Column            Non-Null Count  Dtype  \n",
      "---  ------            --------------  -----  \n",
      " 0   Suburb            13190 non-null  object \n",
      " 1   Rooms             13190 non-null  int64  \n",
      " 2   Type              13190 non-null  object \n",
      " 3   Price             13190 non-null  float64\n",
      " 4   Method            13190 non-null  object \n",
      " 5   Distance          13190 non-null  float64\n",
      " 6   Postcode          13190 non-null  float64\n",
      " 7   Bathroom          13190 non-null  float64\n",
      " 8   Car               13142 non-null  float64\n",
      " 9   BuildingArea      6795 non-null   float64\n",
      " 10  YearBuilt         7827 non-null   float64\n",
      " 11  CouncilArea       11863 non-null  object \n",
      " 12  Regionname        13190 non-null  object \n",
      " 13  avg_dayly_price   13190 non-null  float64\n",
      " 14  avg_weekly_price  12335 non-null  float64\n",
      " 15  avg_montly_price  11942 non-null  float64\n",
      "dtypes: float64(10), int64(1), object(5)\n",
      "memory usage: 1.6+ MB\n"
     ]
    }
   ],
   "source": [
    "melb_aux.info()"
   ]
  },
  {
   "cell_type": "code",
   "execution_count": 8,
   "metadata": {},
   "outputs": [
    {
     "data": {
      "text/plain": [
       "Suburb                 0\n",
       "Rooms                  0\n",
       "Type                   0\n",
       "Price                  0\n",
       "Method                 0\n",
       "Distance               0\n",
       "Postcode               0\n",
       "Bathroom               0\n",
       "Car                   48\n",
       "BuildingArea        6395\n",
       "YearBuilt           5363\n",
       "CouncilArea         1327\n",
       "Regionname             0\n",
       "avg_dayly_price        0\n",
       "avg_weekly_price     855\n",
       "avg_montly_price    1248\n",
       "dtype: int64"
      ]
     },
     "execution_count": 8,
     "metadata": {},
     "output_type": "execute_result"
    }
   ],
   "source": [
    "melb_aux.isna().sum()"
   ]
  },
  {
   "cell_type": "markdown",
   "metadata": {},
   "source": [
    "Como son pocos valores nulos en la columna \"Car\", los llenamos con 0 suponiendo que no lo completaron porque realmente no tiene cochera ese lugar. ***Es decir que se asume que el valor NO EXISTE***. Existe una buena cantidad (919) de datos en donde se ha informado 0 como valor de \"Car\", por lo que se considera apropiado asumir que los valores faltantes (48) son derivados de \"no responder\" en lugar de colocar \"0\"."
   ]
  },
  {
   "cell_type": "code",
   "execution_count": 9,
   "metadata": {},
   "outputs": [
    {
     "data": {
      "text/plain": [
       "919"
      ]
     },
     "execution_count": 9,
     "metadata": {},
     "output_type": "execute_result"
    }
   ],
   "source": [
    "# Contar las respuestas con Car = 0\n",
    "melb_aux['Car'][melb_aux['Car'] == 0 ].count()"
   ]
  },
  {
   "cell_type": "code",
   "execution_count": 10,
   "metadata": {},
   "outputs": [],
   "source": [
    "# Se hace la imputación simple asignando 0 a los valores de 'Car' faltantes \n",
    "melb_aux['Car'] = melb_aux['Car'].fillna(0)"
   ]
  },
  {
   "cell_type": "code",
   "execution_count": 11,
   "metadata": {},
   "outputs": [
    {
     "data": {
      "text/html": [
       "<div>\n",
       "<style scoped>\n",
       "    .dataframe tbody tr th:only-of-type {\n",
       "        vertical-align: middle;\n",
       "    }\n",
       "\n",
       "    .dataframe tbody tr th {\n",
       "        vertical-align: top;\n",
       "    }\n",
       "\n",
       "    .dataframe thead th {\n",
       "        text-align: right;\n",
       "    }\n",
       "</style>\n",
       "<table border=\"1\" class=\"dataframe\">\n",
       "  <thead>\n",
       "    <tr style=\"text-align: right;\">\n",
       "      <th></th>\n",
       "      <th>Suburb</th>\n",
       "      <th>Rooms</th>\n",
       "      <th>Type</th>\n",
       "      <th>Price</th>\n",
       "      <th>Method</th>\n",
       "      <th>Distance</th>\n",
       "      <th>Postcode</th>\n",
       "      <th>Bathroom</th>\n",
       "      <th>Car</th>\n",
       "      <th>BuildingArea</th>\n",
       "      <th>YearBuilt</th>\n",
       "      <th>CouncilArea</th>\n",
       "      <th>Regionname</th>\n",
       "      <th>avg_dayly_price</th>\n",
       "      <th>avg_weekly_price</th>\n",
       "      <th>avg_montly_price</th>\n",
       "    </tr>\n",
       "  </thead>\n",
       "  <tbody>\n",
       "    <tr>\n",
       "      <th>0</th>\n",
       "      <td>Abbotsford</td>\n",
       "      <td>2</td>\n",
       "      <td>h</td>\n",
       "      <td>1480000.0</td>\n",
       "      <td>S</td>\n",
       "      <td>2.5</td>\n",
       "      <td>3067.0</td>\n",
       "      <td>1.0</td>\n",
       "      <td>1.0</td>\n",
       "      <td>NaN</td>\n",
       "      <td>NaN</td>\n",
       "      <td>Yarra</td>\n",
       "      <td>Northern Metropolitan</td>\n",
       "      <td>130.624031</td>\n",
       "      <td>605.152174</td>\n",
       "      <td>2187.032258</td>\n",
       "    </tr>\n",
       "    <tr>\n",
       "      <th>1</th>\n",
       "      <td>Abbotsford</td>\n",
       "      <td>2</td>\n",
       "      <td>h</td>\n",
       "      <td>1035000.0</td>\n",
       "      <td>S</td>\n",
       "      <td>2.5</td>\n",
       "      <td>3067.0</td>\n",
       "      <td>1.0</td>\n",
       "      <td>0.0</td>\n",
       "      <td>79.0</td>\n",
       "      <td>1900.0</td>\n",
       "      <td>Yarra</td>\n",
       "      <td>Northern Metropolitan</td>\n",
       "      <td>130.624031</td>\n",
       "      <td>605.152174</td>\n",
       "      <td>2187.032258</td>\n",
       "    </tr>\n",
       "    <tr>\n",
       "      <th>2</th>\n",
       "      <td>Abbotsford</td>\n",
       "      <td>3</td>\n",
       "      <td>h</td>\n",
       "      <td>1465000.0</td>\n",
       "      <td>SP</td>\n",
       "      <td>2.5</td>\n",
       "      <td>3067.0</td>\n",
       "      <td>2.0</td>\n",
       "      <td>0.0</td>\n",
       "      <td>150.0</td>\n",
       "      <td>1900.0</td>\n",
       "      <td>Yarra</td>\n",
       "      <td>Northern Metropolitan</td>\n",
       "      <td>130.624031</td>\n",
       "      <td>605.152174</td>\n",
       "      <td>2187.032258</td>\n",
       "    </tr>\n",
       "    <tr>\n",
       "      <th>3</th>\n",
       "      <td>Abbotsford</td>\n",
       "      <td>3</td>\n",
       "      <td>h</td>\n",
       "      <td>850000.0</td>\n",
       "      <td>PI</td>\n",
       "      <td>2.5</td>\n",
       "      <td>3067.0</td>\n",
       "      <td>2.0</td>\n",
       "      <td>1.0</td>\n",
       "      <td>NaN</td>\n",
       "      <td>NaN</td>\n",
       "      <td>Yarra</td>\n",
       "      <td>Northern Metropolitan</td>\n",
       "      <td>130.624031</td>\n",
       "      <td>605.152174</td>\n",
       "      <td>2187.032258</td>\n",
       "    </tr>\n",
       "    <tr>\n",
       "      <th>4</th>\n",
       "      <td>Abbotsford</td>\n",
       "      <td>4</td>\n",
       "      <td>h</td>\n",
       "      <td>1600000.0</td>\n",
       "      <td>VB</td>\n",
       "      <td>2.5</td>\n",
       "      <td>3067.0</td>\n",
       "      <td>1.0</td>\n",
       "      <td>2.0</td>\n",
       "      <td>142.0</td>\n",
       "      <td>2014.0</td>\n",
       "      <td>Yarra</td>\n",
       "      <td>Northern Metropolitan</td>\n",
       "      <td>130.624031</td>\n",
       "      <td>605.152174</td>\n",
       "      <td>2187.032258</td>\n",
       "    </tr>\n",
       "  </tbody>\n",
       "</table>\n",
       "</div>"
      ],
      "text/plain": [
       "       Suburb  Rooms Type      Price Method  Distance  Postcode  Bathroom  \\\n",
       "0  Abbotsford      2    h  1480000.0      S       2.5    3067.0       1.0   \n",
       "1  Abbotsford      2    h  1035000.0      S       2.5    3067.0       1.0   \n",
       "2  Abbotsford      3    h  1465000.0     SP       2.5    3067.0       2.0   \n",
       "3  Abbotsford      3    h   850000.0     PI       2.5    3067.0       2.0   \n",
       "4  Abbotsford      4    h  1600000.0     VB       2.5    3067.0       1.0   \n",
       "\n",
       "   Car  BuildingArea  YearBuilt CouncilArea             Regionname  \\\n",
       "0  1.0           NaN        NaN       Yarra  Northern Metropolitan   \n",
       "1  0.0          79.0     1900.0       Yarra  Northern Metropolitan   \n",
       "2  0.0         150.0     1900.0       Yarra  Northern Metropolitan   \n",
       "3  1.0           NaN        NaN       Yarra  Northern Metropolitan   \n",
       "4  2.0         142.0     2014.0       Yarra  Northern Metropolitan   \n",
       "\n",
       "   avg_dayly_price  avg_weekly_price  avg_montly_price  \n",
       "0       130.624031        605.152174       2187.032258  \n",
       "1       130.624031        605.152174       2187.032258  \n",
       "2       130.624031        605.152174       2187.032258  \n",
       "3       130.624031        605.152174       2187.032258  \n",
       "4       130.624031        605.152174       2187.032258  "
      ]
     },
     "execution_count": 11,
     "metadata": {},
     "output_type": "execute_result"
    }
   ],
   "source": [
    "melb_aux.head()"
   ]
  },
  {
   "cell_type": "code",
   "execution_count": 12,
   "metadata": {},
   "outputs": [
    {
     "data": {
      "text/plain": [
       "Suburb                 0\n",
       "Rooms                  0\n",
       "Type                   0\n",
       "Price                  0\n",
       "Method                 0\n",
       "Distance               0\n",
       "Postcode               0\n",
       "Bathroom               0\n",
       "Car                    0\n",
       "BuildingArea        6395\n",
       "YearBuilt           5363\n",
       "CouncilArea         1327\n",
       "Regionname             0\n",
       "avg_dayly_price        0\n",
       "avg_weekly_price     855\n",
       "avg_montly_price    1248\n",
       "dtype: int64"
      ]
     },
     "execution_count": 12,
     "metadata": {},
     "output_type": "execute_result"
    }
   ],
   "source": [
    "melb_aux.isna().sum()"
   ]
  },
  {
   "cell_type": "markdown",
   "metadata": {},
   "source": [
    "De las columnas categóricas que nos quedan, veremos cuantos valores distintos tiene cada una para ver si **conviene hacer alguna reducción de categorías únicas**."
   ]
  },
  {
   "cell_type": "code",
   "execution_count": 15,
   "metadata": {},
   "outputs": [
    {
     "name": "stdout",
     "output_type": "stream",
     "text": [
      "En la columna Suburb hay 306 valores distintos.\n",
      "En la columna Type hay 3 valores distintos.\n",
      "En la columna Method hay 5 valores distintos.\n",
      "En la columna CouncilArea hay 31 valores distintos.\n",
      "En la columna Regionname hay 8 valores distintos.\n"
     ]
    }
   ],
   "source": [
    "# Contamos valores distintos en columnas categóricas. Muchos valores distintos producirían alta dimensionalidad en el encoding.\n",
    "for a in melb_aux.select_dtypes(include='object').columns:\n",
    "    print('En la columna {} hay {} valores distintos.'.format(a, melb_aux[a].nunique()))"
   ]
  },
  {
   "cell_type": "code",
   "execution_count": 16,
   "metadata": {},
   "outputs": [
    {
     "name": "stderr",
     "output_type": "stream",
     "text": [
      "/home/fredy/anaconda3/envs/rdkit-env/lib/python3.10/site-packages/seaborn/_decorators.py:36: FutureWarning: Pass the following variable as a keyword arg: x. From version 0.12, the only valid positional argument will be `data`, and passing other arguments without an explicit keyword will result in an error or misinterpretation.\n",
      "  warnings.warn(\n"
     ]
    },
    {
     "data": {
      "image/png": "[encoded data removed]",
      "text/plain": [
       "<Figure size 432x288 with 1 Axes>"
      ]
     },
     "metadata": {
      "needs_background": "light"
     },
     "output_type": "display_data"
    }
   ],
   "source": [
    "fig = sns.countplot(melb_aux.Suburb)"
   ]
  },
  {
   "cell_type": "code",
   "execution_count": 17,
   "metadata": {},
   "outputs": [
    {
     "name": "stderr",
     "output_type": "stream",
     "text": [
      "/home/fredy/anaconda3/envs/rdkit-env/lib/python3.10/site-packages/seaborn/_decorators.py:36: FutureWarning: Pass the following variable as a keyword arg: x. From version 0.12, the only valid positional argument will be `data`, and passing other arguments without an explicit keyword will result in an error or misinterpretation.\n",
      "  warnings.warn(\n"
     ]
    },
    {
     "data": {
      "image/png": "[encoded data removed]",
      "text/plain": [
       "<Figure size 432x288 with 1 Axes>"
      ]
     },
     "metadata": {
      "needs_background": "light"
     },
     "output_type": "display_data"
    }
   ],
   "source": [
    "fig = sns.countplot(melb_aux.CouncilArea)"
   ]
  },
  {
   "cell_type": "markdown",
   "metadata": {},
   "source": [
    "Vamos a **reducir las categorías en las columnas 'Suburb' y 'CouncilArea'**, dejando las que tienen una frecuencia mínima de 120 en el caso de la primera y 120 en el caso de la segunda. Las categorías debajo de esos mínimos se agruparon bajo \"Other\"."
   ]
  },
  {
   "cell_type": "code",
   "execution_count": 18,
   "metadata": {},
   "outputs": [],
   "source": [
    "#Creamos categoría otros para categorías con frecuencias menores a 120 en la columna Suburb\n",
    "OtherCat = melb_aux.Suburb.value_counts() [melb_aux.Suburb.value_counts() < 120]\n",
    "melb_aux['Suburb'] = np.where(melb_aux['Suburb'].isin(OtherCat.index.to_list()), 'Other', melb_aux['Suburb'])"
   ]
  },
  {
   "cell_type": "code",
   "execution_count": 19,
   "metadata": {},
   "outputs": [
    {
     "name": "stdout",
     "output_type": "stream",
     "text": [
      "En la columna Suburb hay 33 valores distintos.\n",
      "En la columna Type hay 3 valores distintos.\n",
      "En la columna Method hay 5 valores distintos.\n",
      "En la columna CouncilArea hay 31 valores distintos.\n",
      "En la columna Regionname hay 8 valores distintos.\n"
     ]
    }
   ],
   "source": [
    "for a in melb_aux.select_dtypes(include='object').columns:\n",
    "    print('En la columna {} hay {} valores distintos.'.format(a, melb_aux[a].nunique()))"
   ]
  },
  {
   "cell_type": "code",
   "execution_count": 24,
   "metadata": {},
   "outputs": [],
   "source": [
    "#Creamos categoría otros para categorías con frecuencias menores a 250 en la columna ConcilArea\n",
    "OtherCat = melb_aux.CouncilArea.value_counts() [melb_aux.CouncilArea.value_counts() < 250]\n",
    "melb_aux['CouncilArea'] = np.where(melb_aux['CouncilArea'].isin(OtherCat.index.to_list()), 'Other', melb_aux['CouncilArea'])"
   ]
  },
  {
   "cell_type": "code",
   "execution_count": 25,
   "metadata": {},
   "outputs": [
    {
     "name": "stdout",
     "output_type": "stream",
     "text": [
      "En la columna Suburb hay 33 valores distintos.\n",
      "En la columna Type hay 3 valores distintos.\n",
      "En la columna Method hay 5 valores distintos.\n",
      "En la columna CouncilArea hay 18 valores distintos.\n",
      "En la columna Regionname hay 8 valores distintos.\n"
     ]
    }
   ],
   "source": [
    "for a in melb_aux.select_dtypes(include='object').columns:\n",
    "    print('En la columna {} hay {} valores distintos.'.format(a, melb_aux[a].nunique()))"
   ]
  },
  {
   "cell_type": "markdown",
   "metadata": {},
   "source": [
    "Ademas de las columnas categóricas especificadas como \"Object\", incluyo las columnas Rooms, Bathroom y Car ya que considero que por más que sean numéricas, corresponden a variables categóricas cada una de ellas."
   ]
  },
  {
   "cell_type": "markdown",
   "metadata": {},
   "source": [
    "***Comentario Alfredo:*** En este punto es necesario decidir si las columnas Rooms, Bathroom y Car las consideramos como necesarias a ser sometidas a encoding. Estrictamente hablando, las tres variables contienen valores numéricos, con lo cual los algoritmos de ML no fallarían al procesarlas. Una aproximación sería ir por el camino que siguió Diego, considerándolas \"Categóricas\", y la otra es considerarlas variables numéricas \"Discretas\", es decir que son valores basados en conteos de un set de posibilidades que solo pueden tomar valores enteros. En esta últimas aproximación, si dejamos las 3 columnas tal como están, podríamos pensar que provienen de un encoding del tipo ordinal. Al respecto de este encoding, me aclaró ver [este](https://www.kaggle.com/code/alexisbcook/categorical-variables) notebook en Kaggle\n",
    "\n",
    "Entonces, a lo que hizo Diego, le podemos sumar un segundo dataframe sin el OneHotEncoding sobre Rooms, Bathroom y Car. Los mantenemos como dos opciones, y cuando vayamos a los métodos de ML ya podremos cuantificar con alguna métrica cual de los dos dataframes originan modelos con mayor performance. En este sentido me sirvió [este](https://www.kaggle.com/code/shahules/an-overview-of-encoding-techniques) notebook en Kaggle en donde se comparan las performances de distintas aproximaciones de encodings.  \n",
    "\n",
    "\n"
   ]
  },
  {
   "cell_type": "code",
   "execution_count": 26,
   "metadata": {},
   "outputs": [],
   "source": [
    "categorical_cols_aprox1 = ['Suburb', 'Type', 'Method', 'CouncilArea', 'Regionname', 'Rooms', 'Bathroom', 'Car']\n",
    "categorical_cols_aprox2 = ['Suburb', 'Type', 'Method', 'CouncilArea', 'Regionname']\n"
   ]
  },
  {
   "cell_type": "code",
   "execution_count": 27,
   "metadata": {},
   "outputs": [],
   "source": [
    "numeric_cols_aprox1 = melb_aux.columns[~melb_aux.columns.isin(categorical_cols_aprox1)].tolist()\n",
    "numeric_cols_aprox2 = melb_aux.columns[~melb_aux.columns.isin(categorical_cols_aprox2)].tolist()"
   ]
  },
  {
   "cell_type": "code",
   "execution_count": 28,
   "metadata": {},
   "outputs": [
    {
     "data": {
      "text/plain": [
       "['Price',\n",
       " 'Distance',\n",
       " 'Postcode',\n",
       " 'BuildingArea',\n",
       " 'YearBuilt',\n",
       " 'avg_dayly_price',\n",
       " 'avg_weekly_price',\n",
       " 'avg_montly_price']"
      ]
     },
     "execution_count": 28,
     "metadata": {},
     "output_type": "execute_result"
    }
   ],
   "source": [
    "numeric_cols_aprox1"
   ]
  },
  {
   "cell_type": "code",
   "execution_count": 29,
   "metadata": {},
   "outputs": [
    {
     "data": {
      "text/plain": [
       "['Rooms',\n",
       " 'Price',\n",
       " 'Distance',\n",
       " 'Postcode',\n",
       " 'Bathroom',\n",
       " 'Car',\n",
       " 'BuildingArea',\n",
       " 'YearBuilt',\n",
       " 'avg_dayly_price',\n",
       " 'avg_weekly_price',\n",
       " 'avg_montly_price']"
      ]
     },
     "execution_count": 29,
     "metadata": {},
     "output_type": "execute_result"
    }
   ],
   "source": [
    "numeric_cols_aprox2"
   ]
  },
  {
   "cell_type": "code",
   "execution_count": 31,
   "metadata": {},
   "outputs": [
    {
     "data": {
      "text/html": [
       "<div>\n",
       "<style scoped>\n",
       "    .dataframe tbody tr th:only-of-type {\n",
       "        vertical-align: middle;\n",
       "    }\n",
       "\n",
       "    .dataframe tbody tr th {\n",
       "        vertical-align: top;\n",
       "    }\n",
       "\n",
       "    .dataframe thead th {\n",
       "        text-align: right;\n",
       "    }\n",
       "</style>\n",
       "<table border=\"1\" class=\"dataframe\">\n",
       "  <thead>\n",
       "    <tr style=\"text-align: right;\">\n",
       "      <th></th>\n",
       "      <th>onehotencoder__Suburb_Ascot Vale</th>\n",
       "      <th>onehotencoder__Suburb_Balwyn North</th>\n",
       "      <th>onehotencoder__Suburb_Bentleigh</th>\n",
       "      <th>onehotencoder__Suburb_Bentleigh East</th>\n",
       "      <th>onehotencoder__Suburb_Brighton</th>\n",
       "      <th>onehotencoder__Suburb_Brighton East</th>\n",
       "      <th>onehotencoder__Suburb_Brunswick</th>\n",
       "      <th>onehotencoder__Suburb_Camberwell</th>\n",
       "      <th>onehotencoder__Suburb_Carnegie</th>\n",
       "      <th>onehotencoder__Suburb_Coburg</th>\n",
       "      <th>...</th>\n",
       "      <th>onehotencoder__Car_9.0</th>\n",
       "      <th>onehotencoder__Car_10.0</th>\n",
       "      <th>remainder__Price</th>\n",
       "      <th>remainder__Distance</th>\n",
       "      <th>remainder__Postcode</th>\n",
       "      <th>remainder__BuildingArea</th>\n",
       "      <th>remainder__YearBuilt</th>\n",
       "      <th>remainder__avg_dayly_price</th>\n",
       "      <th>remainder__avg_weekly_price</th>\n",
       "      <th>remainder__avg_montly_price</th>\n",
       "    </tr>\n",
       "  </thead>\n",
       "  <tbody>\n",
       "    <tr>\n",
       "      <th>0</th>\n",
       "      <td>0.0</td>\n",
       "      <td>0.0</td>\n",
       "      <td>0.0</td>\n",
       "      <td>0.0</td>\n",
       "      <td>0.0</td>\n",
       "      <td>0.0</td>\n",
       "      <td>0.0</td>\n",
       "      <td>0.0</td>\n",
       "      <td>0.0</td>\n",
       "      <td>0.0</td>\n",
       "      <td>...</td>\n",
       "      <td>0.0</td>\n",
       "      <td>0.0</td>\n",
       "      <td>1480000.0</td>\n",
       "      <td>2.5</td>\n",
       "      <td>3067.0</td>\n",
       "      <td>NaN</td>\n",
       "      <td>NaN</td>\n",
       "      <td>130.624031</td>\n",
       "      <td>605.152174</td>\n",
       "      <td>2187.032258</td>\n",
       "    </tr>\n",
       "    <tr>\n",
       "      <th>1</th>\n",
       "      <td>0.0</td>\n",
       "      <td>0.0</td>\n",
       "      <td>0.0</td>\n",
       "      <td>0.0</td>\n",
       "      <td>0.0</td>\n",
       "      <td>0.0</td>\n",
       "      <td>0.0</td>\n",
       "      <td>0.0</td>\n",
       "      <td>0.0</td>\n",
       "      <td>0.0</td>\n",
       "      <td>...</td>\n",
       "      <td>0.0</td>\n",
       "      <td>0.0</td>\n",
       "      <td>1035000.0</td>\n",
       "      <td>2.5</td>\n",
       "      <td>3067.0</td>\n",
       "      <td>79.0</td>\n",
       "      <td>1900.0</td>\n",
       "      <td>130.624031</td>\n",
       "      <td>605.152174</td>\n",
       "      <td>2187.032258</td>\n",
       "    </tr>\n",
       "    <tr>\n",
       "      <th>2</th>\n",
       "      <td>0.0</td>\n",
       "      <td>0.0</td>\n",
       "      <td>0.0</td>\n",
       "      <td>0.0</td>\n",
       "      <td>0.0</td>\n",
       "      <td>0.0</td>\n",
       "      <td>0.0</td>\n",
       "      <td>0.0</td>\n",
       "      <td>0.0</td>\n",
       "      <td>0.0</td>\n",
       "      <td>...</td>\n",
       "      <td>0.0</td>\n",
       "      <td>0.0</td>\n",
       "      <td>1465000.0</td>\n",
       "      <td>2.5</td>\n",
       "      <td>3067.0</td>\n",
       "      <td>150.0</td>\n",
       "      <td>1900.0</td>\n",
       "      <td>130.624031</td>\n",
       "      <td>605.152174</td>\n",
       "      <td>2187.032258</td>\n",
       "    </tr>\n",
       "    <tr>\n",
       "      <th>3</th>\n",
       "      <td>0.0</td>\n",
       "      <td>0.0</td>\n",
       "      <td>0.0</td>\n",
       "      <td>0.0</td>\n",
       "      <td>0.0</td>\n",
       "      <td>0.0</td>\n",
       "      <td>0.0</td>\n",
       "      <td>0.0</td>\n",
       "      <td>0.0</td>\n",
       "      <td>0.0</td>\n",
       "      <td>...</td>\n",
       "      <td>0.0</td>\n",
       "      <td>0.0</td>\n",
       "      <td>850000.0</td>\n",
       "      <td>2.5</td>\n",
       "      <td>3067.0</td>\n",
       "      <td>NaN</td>\n",
       "      <td>NaN</td>\n",
       "      <td>130.624031</td>\n",
       "      <td>605.152174</td>\n",
       "      <td>2187.032258</td>\n",
       "    </tr>\n",
       "    <tr>\n",
       "      <th>4</th>\n",
       "      <td>0.0</td>\n",
       "      <td>0.0</td>\n",
       "      <td>0.0</td>\n",
       "      <td>0.0</td>\n",
       "      <td>0.0</td>\n",
       "      <td>0.0</td>\n",
       "      <td>0.0</td>\n",
       "      <td>0.0</td>\n",
       "      <td>0.0</td>\n",
       "      <td>0.0</td>\n",
       "      <td>...</td>\n",
       "      <td>0.0</td>\n",
       "      <td>0.0</td>\n",
       "      <td>1600000.0</td>\n",
       "      <td>2.5</td>\n",
       "      <td>3067.0</td>\n",
       "      <td>142.0</td>\n",
       "      <td>2014.0</td>\n",
       "      <td>130.624031</td>\n",
       "      <td>605.152174</td>\n",
       "      <td>2187.032258</td>\n",
       "    </tr>\n",
       "  </tbody>\n",
       "</table>\n",
       "<p>5 rows × 105 columns</p>\n",
       "</div>"
      ],
      "text/plain": [
       "   onehotencoder__Suburb_Ascot Vale  onehotencoder__Suburb_Balwyn North  \\\n",
       "0                               0.0                                 0.0   \n",
       "1                               0.0                                 0.0   \n",
       "2                               0.0                                 0.0   \n",
       "3                               0.0                                 0.0   \n",
       "4                               0.0                                 0.0   \n",
       "\n",
       "   onehotencoder__Suburb_Bentleigh  onehotencoder__Suburb_Bentleigh East  \\\n",
       "0                              0.0                                   0.0   \n",
       "1                              0.0                                   0.0   \n",
       "2                              0.0                                   0.0   \n",
       "3                              0.0                                   0.0   \n",
       "4                              0.0                                   0.0   \n",
       "\n",
       "   onehotencoder__Suburb_Brighton  onehotencoder__Suburb_Brighton East  \\\n",
       "0                             0.0                                  0.0   \n",
       "1                             0.0                                  0.0   \n",
       "2                             0.0                                  0.0   \n",
       "3                             0.0                                  0.0   \n",
       "4                             0.0                                  0.0   \n",
       "\n",
       "   onehotencoder__Suburb_Brunswick  onehotencoder__Suburb_Camberwell  \\\n",
       "0                              0.0                               0.0   \n",
       "1                              0.0                               0.0   \n",
       "2                              0.0                               0.0   \n",
       "3                              0.0                               0.0   \n",
       "4                              0.0                               0.0   \n",
       "\n",
       "   onehotencoder__Suburb_Carnegie  onehotencoder__Suburb_Coburg  ...  \\\n",
       "0                             0.0                           0.0  ...   \n",
       "1                             0.0                           0.0  ...   \n",
       "2                             0.0                           0.0  ...   \n",
       "3                             0.0                           0.0  ...   \n",
       "4                             0.0                           0.0  ...   \n",
       "\n",
       "   onehotencoder__Car_9.0  onehotencoder__Car_10.0  remainder__Price  \\\n",
       "0                     0.0                      0.0         1480000.0   \n",
       "1                     0.0                      0.0         1035000.0   \n",
       "2                     0.0                      0.0         1465000.0   \n",
       "3                     0.0                      0.0          850000.0   \n",
       "4                     0.0                      0.0         1600000.0   \n",
       "\n",
       "   remainder__Distance  remainder__Postcode  remainder__BuildingArea  \\\n",
       "0                  2.5               3067.0                      NaN   \n",
       "1                  2.5               3067.0                     79.0   \n",
       "2                  2.5               3067.0                    150.0   \n",
       "3                  2.5               3067.0                      NaN   \n",
       "4                  2.5               3067.0                    142.0   \n",
       "\n",
       "   remainder__YearBuilt  remainder__avg_dayly_price  \\\n",
       "0                   NaN                  130.624031   \n",
       "1                1900.0                  130.624031   \n",
       "2                1900.0                  130.624031   \n",
       "3                   NaN                  130.624031   \n",
       "4                2014.0                  130.624031   \n",
       "\n",
       "   remainder__avg_weekly_price  remainder__avg_montly_price  \n",
       "0                   605.152174                  2187.032258  \n",
       "1                   605.152174                  2187.032258  \n",
       "2                   605.152174                  2187.032258  \n",
       "3                   605.152174                  2187.032258  \n",
       "4                   605.152174                  2187.032258  \n",
       "\n",
       "[5 rows x 105 columns]"
      ]
     },
     "execution_count": 31,
     "metadata": {},
     "output_type": "execute_result"
    }
   ],
   "source": [
    "# Hacemos las codificación OneHotEncoder para la opción 1 de columnas categóricas\n",
    "onehot_aprox1 = make_column_transformer(\n",
    "    (OneHotEncoder(sparse=False), categorical_cols_aprox1),\n",
    "    remainder='passthrough')\n",
    "\n",
    "melb_cat_aprox1 = onehot_aprox1.fit_transform(melb_aux)\n",
    "melb_cat_df_aprox1 = pd.DataFrame(melb_cat_aprox1, columns=onehot_aprox1.get_feature_names_out())\n",
    "melb_cat_df_aprox1.head()"
   ]
  },
  {
   "cell_type": "code",
   "execution_count": 32,
   "metadata": {},
   "outputs": [
    {
     "data": {
      "text/html": [
       "<div>\n",
       "<style scoped>\n",
       "    .dataframe tbody tr th:only-of-type {\n",
       "        vertical-align: middle;\n",
       "    }\n",
       "\n",
       "    .dataframe tbody tr th {\n",
       "        vertical-align: top;\n",
       "    }\n",
       "\n",
       "    .dataframe thead th {\n",
       "        text-align: right;\n",
       "    }\n",
       "</style>\n",
       "<table border=\"1\" class=\"dataframe\">\n",
       "  <thead>\n",
       "    <tr style=\"text-align: right;\">\n",
       "      <th></th>\n",
       "      <th>onehotencoder__Suburb_Ascot Vale</th>\n",
       "      <th>onehotencoder__Suburb_Balwyn North</th>\n",
       "      <th>onehotencoder__Suburb_Bentleigh</th>\n",
       "      <th>onehotencoder__Suburb_Bentleigh East</th>\n",
       "      <th>onehotencoder__Suburb_Brighton</th>\n",
       "      <th>onehotencoder__Suburb_Brighton East</th>\n",
       "      <th>onehotencoder__Suburb_Brunswick</th>\n",
       "      <th>onehotencoder__Suburb_Camberwell</th>\n",
       "      <th>onehotencoder__Suburb_Carnegie</th>\n",
       "      <th>onehotencoder__Suburb_Coburg</th>\n",
       "      <th>...</th>\n",
       "      <th>remainder__Price</th>\n",
       "      <th>remainder__Distance</th>\n",
       "      <th>remainder__Postcode</th>\n",
       "      <th>remainder__Bathroom</th>\n",
       "      <th>remainder__Car</th>\n",
       "      <th>remainder__BuildingArea</th>\n",
       "      <th>remainder__YearBuilt</th>\n",
       "      <th>remainder__avg_dayly_price</th>\n",
       "      <th>remainder__avg_weekly_price</th>\n",
       "      <th>remainder__avg_montly_price</th>\n",
       "    </tr>\n",
       "  </thead>\n",
       "  <tbody>\n",
       "    <tr>\n",
       "      <th>0</th>\n",
       "      <td>0.0</td>\n",
       "      <td>0.0</td>\n",
       "      <td>0.0</td>\n",
       "      <td>0.0</td>\n",
       "      <td>0.0</td>\n",
       "      <td>0.0</td>\n",
       "      <td>0.0</td>\n",
       "      <td>0.0</td>\n",
       "      <td>0.0</td>\n",
       "      <td>0.0</td>\n",
       "      <td>...</td>\n",
       "      <td>1480000.0</td>\n",
       "      <td>2.5</td>\n",
       "      <td>3067.0</td>\n",
       "      <td>1.0</td>\n",
       "      <td>1.0</td>\n",
       "      <td>NaN</td>\n",
       "      <td>NaN</td>\n",
       "      <td>130.624031</td>\n",
       "      <td>605.152174</td>\n",
       "      <td>2187.032258</td>\n",
       "    </tr>\n",
       "    <tr>\n",
       "      <th>1</th>\n",
       "      <td>0.0</td>\n",
       "      <td>0.0</td>\n",
       "      <td>0.0</td>\n",
       "      <td>0.0</td>\n",
       "      <td>0.0</td>\n",
       "      <td>0.0</td>\n",
       "      <td>0.0</td>\n",
       "      <td>0.0</td>\n",
       "      <td>0.0</td>\n",
       "      <td>0.0</td>\n",
       "      <td>...</td>\n",
       "      <td>1035000.0</td>\n",
       "      <td>2.5</td>\n",
       "      <td>3067.0</td>\n",
       "      <td>1.0</td>\n",
       "      <td>0.0</td>\n",
       "      <td>79.0</td>\n",
       "      <td>1900.0</td>\n",
       "      <td>130.624031</td>\n",
       "      <td>605.152174</td>\n",
       "      <td>2187.032258</td>\n",
       "    </tr>\n",
       "    <tr>\n",
       "      <th>2</th>\n",
       "      <td>0.0</td>\n",
       "      <td>0.0</td>\n",
       "      <td>0.0</td>\n",
       "      <td>0.0</td>\n",
       "      <td>0.0</td>\n",
       "      <td>0.0</td>\n",
       "      <td>0.0</td>\n",
       "      <td>0.0</td>\n",
       "      <td>0.0</td>\n",
       "      <td>0.0</td>\n",
       "      <td>...</td>\n",
       "      <td>1465000.0</td>\n",
       "      <td>2.5</td>\n",
       "      <td>3067.0</td>\n",
       "      <td>2.0</td>\n",
       "      <td>0.0</td>\n",
       "      <td>150.0</td>\n",
       "      <td>1900.0</td>\n",
       "      <td>130.624031</td>\n",
       "      <td>605.152174</td>\n",
       "      <td>2187.032258</td>\n",
       "    </tr>\n",
       "    <tr>\n",
       "      <th>3</th>\n",
       "      <td>0.0</td>\n",
       "      <td>0.0</td>\n",
       "      <td>0.0</td>\n",
       "      <td>0.0</td>\n",
       "      <td>0.0</td>\n",
       "      <td>0.0</td>\n",
       "      <td>0.0</td>\n",
       "      <td>0.0</td>\n",
       "      <td>0.0</td>\n",
       "      <td>0.0</td>\n",
       "      <td>...</td>\n",
       "      <td>850000.0</td>\n",
       "      <td>2.5</td>\n",
       "      <td>3067.0</td>\n",
       "      <td>2.0</td>\n",
       "      <td>1.0</td>\n",
       "      <td>NaN</td>\n",
       "      <td>NaN</td>\n",
       "      <td>130.624031</td>\n",
       "      <td>605.152174</td>\n",
       "      <td>2187.032258</td>\n",
       "    </tr>\n",
       "    <tr>\n",
       "      <th>4</th>\n",
       "      <td>0.0</td>\n",
       "      <td>0.0</td>\n",
       "      <td>0.0</td>\n",
       "      <td>0.0</td>\n",
       "      <td>0.0</td>\n",
       "      <td>0.0</td>\n",
       "      <td>0.0</td>\n",
       "      <td>0.0</td>\n",
       "      <td>0.0</td>\n",
       "      <td>0.0</td>\n",
       "      <td>...</td>\n",
       "      <td>1600000.0</td>\n",
       "      <td>2.5</td>\n",
       "      <td>3067.0</td>\n",
       "      <td>1.0</td>\n",
       "      <td>2.0</td>\n",
       "      <td>142.0</td>\n",
       "      <td>2014.0</td>\n",
       "      <td>130.624031</td>\n",
       "      <td>605.152174</td>\n",
       "      <td>2187.032258</td>\n",
       "    </tr>\n",
       "  </tbody>\n",
       "</table>\n",
       "<p>5 rows × 79 columns</p>\n",
       "</div>"
      ],
      "text/plain": [
       "   onehotencoder__Suburb_Ascot Vale  onehotencoder__Suburb_Balwyn North  \\\n",
       "0                               0.0                                 0.0   \n",
       "1                               0.0                                 0.0   \n",
       "2                               0.0                                 0.0   \n",
       "3                               0.0                                 0.0   \n",
       "4                               0.0                                 0.0   \n",
       "\n",
       "   onehotencoder__Suburb_Bentleigh  onehotencoder__Suburb_Bentleigh East  \\\n",
       "0                              0.0                                   0.0   \n",
       "1                              0.0                                   0.0   \n",
       "2                              0.0                                   0.0   \n",
       "3                              0.0                                   0.0   \n",
       "4                              0.0                                   0.0   \n",
       "\n",
       "   onehotencoder__Suburb_Brighton  onehotencoder__Suburb_Brighton East  \\\n",
       "0                             0.0                                  0.0   \n",
       "1                             0.0                                  0.0   \n",
       "2                             0.0                                  0.0   \n",
       "3                             0.0                                  0.0   \n",
       "4                             0.0                                  0.0   \n",
       "\n",
       "   onehotencoder__Suburb_Brunswick  onehotencoder__Suburb_Camberwell  \\\n",
       "0                              0.0                               0.0   \n",
       "1                              0.0                               0.0   \n",
       "2                              0.0                               0.0   \n",
       "3                              0.0                               0.0   \n",
       "4                              0.0                               0.0   \n",
       "\n",
       "   onehotencoder__Suburb_Carnegie  onehotencoder__Suburb_Coburg  ...  \\\n",
       "0                             0.0                           0.0  ...   \n",
       "1                             0.0                           0.0  ...   \n",
       "2                             0.0                           0.0  ...   \n",
       "3                             0.0                           0.0  ...   \n",
       "4                             0.0                           0.0  ...   \n",
       "\n",
       "   remainder__Price  remainder__Distance  remainder__Postcode  \\\n",
       "0         1480000.0                  2.5               3067.0   \n",
       "1         1035000.0                  2.5               3067.0   \n",
       "2         1465000.0                  2.5               3067.0   \n",
       "3          850000.0                  2.5               3067.0   \n",
       "4         1600000.0                  2.5               3067.0   \n",
       "\n",
       "   remainder__Bathroom  remainder__Car  remainder__BuildingArea  \\\n",
       "0                  1.0             1.0                      NaN   \n",
       "1                  1.0             0.0                     79.0   \n",
       "2                  2.0             0.0                    150.0   \n",
       "3                  2.0             1.0                      NaN   \n",
       "4                  1.0             2.0                    142.0   \n",
       "\n",
       "   remainder__YearBuilt  remainder__avg_dayly_price  \\\n",
       "0                   NaN                  130.624031   \n",
       "1                1900.0                  130.624031   \n",
       "2                1900.0                  130.624031   \n",
       "3                   NaN                  130.624031   \n",
       "4                2014.0                  130.624031   \n",
       "\n",
       "   remainder__avg_weekly_price  remainder__avg_montly_price  \n",
       "0                   605.152174                  2187.032258  \n",
       "1                   605.152174                  2187.032258  \n",
       "2                   605.152174                  2187.032258  \n",
       "3                   605.152174                  2187.032258  \n",
       "4                   605.152174                  2187.032258  \n",
       "\n",
       "[5 rows x 79 columns]"
      ]
     },
     "execution_count": 32,
     "metadata": {},
     "output_type": "execute_result"
    }
   ],
   "source": [
    "# Hacemos las codificación OneHotEncoder para la opción 2 de columnas categóricas\n",
    "onehot_aprox2 = make_column_transformer(\n",
    "    (OneHotEncoder(sparse=False), categorical_cols_aprox2),\n",
    "    remainder='passthrough')\n",
    "\n",
    "melb_cat_aprox2 = onehot_aprox2.fit_transform(melb_aux)\n",
    "melb_cat_df_aprox2 = pd.DataFrame(melb_cat_aprox2, columns=onehot_aprox2.get_feature_names_out())\n",
    "melb_cat_df_aprox2.head()"
   ]
  },
  {
   "cell_type": "code",
   "execution_count": 33,
   "metadata": {},
   "outputs": [
    {
     "name": "stdout",
     "output_type": "stream",
     "text": [
      "Dataframe aprox1: rows: 13190 cols: 105\n",
      "Dataframe aprox2: rows: 13190 cols: 79\n",
      "Dataframe original: rows: 13190 cols: 16\n"
     ]
    }
   ],
   "source": [
    "# Vemos como aumnetó la dimensionalidad producto del encoding\n",
    "print(f'Dataframe aprox1: rows: {melb_cat_df_aprox1.shape[0]} cols: {melb_cat_df_aprox1.shape[1]}')\n",
    "print(f'Dataframe aprox2: rows: {melb_cat_df_aprox2.shape[0]} cols: {melb_cat_df_aprox2.shape[1]}')\n",
    "print(f'Dataframe original: rows: {melb_aux.shape[0]} cols: {melb_aux.shape[1]}')"
   ]
  },
  {
   "cell_type": "markdown",
   "metadata": {},
   "source": [
    "Se renombran las columnas producto del encoding para eliminar el prefijo 'remainder_'"
   ]
  },
  {
   "cell_type": "code",
   "execution_count": 34,
   "metadata": {},
   "outputs": [
    {
     "data": {
      "text/plain": [
       "Index(['remainder__Price', 'remainder__Distance', 'remainder__Postcode',\n",
       "       'remainder__BuildingArea', 'remainder__YearBuilt',\n",
       "       'remainder__avg_dayly_price', 'remainder__avg_weekly_price',\n",
       "       'remainder__avg_montly_price'],\n",
       "      dtype='object')"
      ]
     },
     "execution_count": 34,
     "metadata": {},
     "output_type": "execute_result"
    }
   ],
   "source": [
    "melb_cat_df_aprox1.columns[melb_cat_df_aprox1.columns.str.contains('remainder')]"
   ]
  },
  {
   "cell_type": "code",
   "execution_count": 35,
   "metadata": {},
   "outputs": [],
   "source": [
    "melb_cat_df_aprox1.rename(columns={'remainder__Price': 'Price', 'remainder__Distance': 'Distance', \n",
    "       'remainder__airbnb_price_mean': 'Price_mean', 'remainder__Postcode': 'Postcode',\n",
    "       'remainder__airbnb_price_count': 'Price_count','remainder__YearBuilt': 'YearBuilt',\n",
    "       'remainder__BuildingArea': 'BuildingArea', 'remainder__avg_weekly_price': 'avg_weekly_price',\n",
    "        'remainder__avg_montly_price': 'avg_monthly_price'}, inplace=True)"
   ]
  },
  {
   "cell_type": "code",
   "execution_count": 43,
   "metadata": {},
   "outputs": [
    {
     "data": {
      "text/html": [
       "<div>\n",
       "<style scoped>\n",
       "    .dataframe tbody tr th:only-of-type {\n",
       "        vertical-align: middle;\n",
       "    }\n",
       "\n",
       "    .dataframe tbody tr th {\n",
       "        vertical-align: top;\n",
       "    }\n",
       "\n",
       "    .dataframe thead th {\n",
       "        text-align: right;\n",
       "    }\n",
       "</style>\n",
       "<table border=\"1\" class=\"dataframe\">\n",
       "  <thead>\n",
       "    <tr style=\"text-align: right;\">\n",
       "      <th></th>\n",
       "      <th>onehotencoder__Suburb_Ascot Vale</th>\n",
       "      <th>onehotencoder__Suburb_Balwyn North</th>\n",
       "      <th>onehotencoder__Suburb_Bentleigh</th>\n",
       "      <th>onehotencoder__Suburb_Bentleigh East</th>\n",
       "      <th>onehotencoder__Suburb_Brighton</th>\n",
       "      <th>onehotencoder__Suburb_Brighton East</th>\n",
       "      <th>onehotencoder__Suburb_Brunswick</th>\n",
       "      <th>onehotencoder__Suburb_Camberwell</th>\n",
       "      <th>onehotencoder__Suburb_Carnegie</th>\n",
       "      <th>onehotencoder__Suburb_Coburg</th>\n",
       "      <th>...</th>\n",
       "      <th>onehotencoder__Car_9.0</th>\n",
       "      <th>onehotencoder__Car_10.0</th>\n",
       "      <th>Price</th>\n",
       "      <th>Distance</th>\n",
       "      <th>Postcode</th>\n",
       "      <th>BuildingArea</th>\n",
       "      <th>YearBuilt</th>\n",
       "      <th>remainder__avg_dayly_price</th>\n",
       "      <th>avg_weekly_price</th>\n",
       "      <th>avg_monthly_price</th>\n",
       "    </tr>\n",
       "  </thead>\n",
       "  <tbody>\n",
       "    <tr>\n",
       "      <th>0</th>\n",
       "      <td>0.0</td>\n",
       "      <td>0.0</td>\n",
       "      <td>0.0</td>\n",
       "      <td>0.0</td>\n",
       "      <td>0.0</td>\n",
       "      <td>0.0</td>\n",
       "      <td>0.0</td>\n",
       "      <td>0.0</td>\n",
       "      <td>0.0</td>\n",
       "      <td>0.0</td>\n",
       "      <td>...</td>\n",
       "      <td>0.0</td>\n",
       "      <td>0.0</td>\n",
       "      <td>1480000.0</td>\n",
       "      <td>2.5</td>\n",
       "      <td>3067.0</td>\n",
       "      <td>NaN</td>\n",
       "      <td>NaN</td>\n",
       "      <td>130.624031</td>\n",
       "      <td>605.152174</td>\n",
       "      <td>2187.032258</td>\n",
       "    </tr>\n",
       "    <tr>\n",
       "      <th>1</th>\n",
       "      <td>0.0</td>\n",
       "      <td>0.0</td>\n",
       "      <td>0.0</td>\n",
       "      <td>0.0</td>\n",
       "      <td>0.0</td>\n",
       "      <td>0.0</td>\n",
       "      <td>0.0</td>\n",
       "      <td>0.0</td>\n",
       "      <td>0.0</td>\n",
       "      <td>0.0</td>\n",
       "      <td>...</td>\n",
       "      <td>0.0</td>\n",
       "      <td>0.0</td>\n",
       "      <td>1035000.0</td>\n",
       "      <td>2.5</td>\n",
       "      <td>3067.0</td>\n",
       "      <td>79.0</td>\n",
       "      <td>1900.0</td>\n",
       "      <td>130.624031</td>\n",
       "      <td>605.152174</td>\n",
       "      <td>2187.032258</td>\n",
       "    </tr>\n",
       "    <tr>\n",
       "      <th>2</th>\n",
       "      <td>0.0</td>\n",
       "      <td>0.0</td>\n",
       "      <td>0.0</td>\n",
       "      <td>0.0</td>\n",
       "      <td>0.0</td>\n",
       "      <td>0.0</td>\n",
       "      <td>0.0</td>\n",
       "      <td>0.0</td>\n",
       "      <td>0.0</td>\n",
       "      <td>0.0</td>\n",
       "      <td>...</td>\n",
       "      <td>0.0</td>\n",
       "      <td>0.0</td>\n",
       "      <td>1465000.0</td>\n",
       "      <td>2.5</td>\n",
       "      <td>3067.0</td>\n",
       "      <td>150.0</td>\n",
       "      <td>1900.0</td>\n",
       "      <td>130.624031</td>\n",
       "      <td>605.152174</td>\n",
       "      <td>2187.032258</td>\n",
       "    </tr>\n",
       "    <tr>\n",
       "      <th>3</th>\n",
       "      <td>0.0</td>\n",
       "      <td>0.0</td>\n",
       "      <td>0.0</td>\n",
       "      <td>0.0</td>\n",
       "      <td>0.0</td>\n",
       "      <td>0.0</td>\n",
       "      <td>0.0</td>\n",
       "      <td>0.0</td>\n",
       "      <td>0.0</td>\n",
       "      <td>0.0</td>\n",
       "      <td>...</td>\n",
       "      <td>0.0</td>\n",
       "      <td>0.0</td>\n",
       "      <td>850000.0</td>\n",
       "      <td>2.5</td>\n",
       "      <td>3067.0</td>\n",
       "      <td>NaN</td>\n",
       "      <td>NaN</td>\n",
       "      <td>130.624031</td>\n",
       "      <td>605.152174</td>\n",
       "      <td>2187.032258</td>\n",
       "    </tr>\n",
       "    <tr>\n",
       "      <th>4</th>\n",
       "      <td>0.0</td>\n",
       "      <td>0.0</td>\n",
       "      <td>0.0</td>\n",
       "      <td>0.0</td>\n",
       "      <td>0.0</td>\n",
       "      <td>0.0</td>\n",
       "      <td>0.0</td>\n",
       "      <td>0.0</td>\n",
       "      <td>0.0</td>\n",
       "      <td>0.0</td>\n",
       "      <td>...</td>\n",
       "      <td>0.0</td>\n",
       "      <td>0.0</td>\n",
       "      <td>1600000.0</td>\n",
       "      <td>2.5</td>\n",
       "      <td>3067.0</td>\n",
       "      <td>142.0</td>\n",
       "      <td>2014.0</td>\n",
       "      <td>130.624031</td>\n",
       "      <td>605.152174</td>\n",
       "      <td>2187.032258</td>\n",
       "    </tr>\n",
       "  </tbody>\n",
       "</table>\n",
       "<p>5 rows × 105 columns</p>\n",
       "</div>"
      ],
      "text/plain": [
       "   onehotencoder__Suburb_Ascot Vale  onehotencoder__Suburb_Balwyn North  \\\n",
       "0                               0.0                                 0.0   \n",
       "1                               0.0                                 0.0   \n",
       "2                               0.0                                 0.0   \n",
       "3                               0.0                                 0.0   \n",
       "4                               0.0                                 0.0   \n",
       "\n",
       "   onehotencoder__Suburb_Bentleigh  onehotencoder__Suburb_Bentleigh East  \\\n",
       "0                              0.0                                   0.0   \n",
       "1                              0.0                                   0.0   \n",
       "2                              0.0                                   0.0   \n",
       "3                              0.0                                   0.0   \n",
       "4                              0.0                                   0.0   \n",
       "\n",
       "   onehotencoder__Suburb_Brighton  onehotencoder__Suburb_Brighton East  \\\n",
       "0                             0.0                                  0.0   \n",
       "1                             0.0                                  0.0   \n",
       "2                             0.0                                  0.0   \n",
       "3                             0.0                                  0.0   \n",
       "4                             0.0                                  0.0   \n",
       "\n",
       "   onehotencoder__Suburb_Brunswick  onehotencoder__Suburb_Camberwell  \\\n",
       "0                              0.0                               0.0   \n",
       "1                              0.0                               0.0   \n",
       "2                              0.0                               0.0   \n",
       "3                              0.0                               0.0   \n",
       "4                              0.0                               0.0   \n",
       "\n",
       "   onehotencoder__Suburb_Carnegie  onehotencoder__Suburb_Coburg  ...  \\\n",
       "0                             0.0                           0.0  ...   \n",
       "1                             0.0                           0.0  ...   \n",
       "2                             0.0                           0.0  ...   \n",
       "3                             0.0                           0.0  ...   \n",
       "4                             0.0                           0.0  ...   \n",
       "\n",
       "   onehotencoder__Car_9.0  onehotencoder__Car_10.0      Price  Distance  \\\n",
       "0                     0.0                      0.0  1480000.0       2.5   \n",
       "1                     0.0                      0.0  1035000.0       2.5   \n",
       "2                     0.0                      0.0  1465000.0       2.5   \n",
       "3                     0.0                      0.0   850000.0       2.5   \n",
       "4                     0.0                      0.0  1600000.0       2.5   \n",
       "\n",
       "   Postcode  BuildingArea  YearBuilt  remainder__avg_dayly_price  \\\n",
       "0    3067.0           NaN        NaN                  130.624031   \n",
       "1    3067.0          79.0     1900.0                  130.624031   \n",
       "2    3067.0         150.0     1900.0                  130.624031   \n",
       "3    3067.0           NaN        NaN                  130.624031   \n",
       "4    3067.0         142.0     2014.0                  130.624031   \n",
       "\n",
       "   avg_weekly_price  avg_monthly_price  \n",
       "0        605.152174        2187.032258  \n",
       "1        605.152174        2187.032258  \n",
       "2        605.152174        2187.032258  \n",
       "3        605.152174        2187.032258  \n",
       "4        605.152174        2187.032258  \n",
       "\n",
       "[5 rows x 105 columns]"
      ]
     },
     "execution_count": 43,
     "metadata": {},
     "output_type": "execute_result"
    }
   ],
   "source": [
    "melb_cat_df_aprox1.head()"
   ]
  },
  {
   "cell_type": "code",
   "execution_count": 39,
   "metadata": {},
   "outputs": [],
   "source": [
    "melb_cat_df_aprox2.rename(columns={'remainder__Price': 'Price', 'remainder__Distance': 'Distance', \n",
    "       'remainder__airbnb_price_mean': 'Price_mean', 'remainder__Postcode': 'Postcode',\n",
    "       'remainder__airbnb_price_count': 'Price_count','remainder__YearBuilt': 'YearBuilt',\n",
    "       'remainder__BuildingArea': 'BuildingArea', 'remainder__avg_weekly_price': 'avg_weekly_price',\n",
    "        'remainder__avg_montly_price': 'avg_monthly_price'}, inplace=True)"
   ]
  },
  {
   "cell_type": "code",
   "execution_count": 42,
   "metadata": {},
   "outputs": [
    {
     "data": {
      "text/html": [
       "<div>\n",
       "<style scoped>\n",
       "    .dataframe tbody tr th:only-of-type {\n",
       "        vertical-align: middle;\n",
       "    }\n",
       "\n",
       "    .dataframe tbody tr th {\n",
       "        vertical-align: top;\n",
       "    }\n",
       "\n",
       "    .dataframe thead th {\n",
       "        text-align: right;\n",
       "    }\n",
       "</style>\n",
       "<table border=\"1\" class=\"dataframe\">\n",
       "  <thead>\n",
       "    <tr style=\"text-align: right;\">\n",
       "      <th></th>\n",
       "      <th>onehotencoder__Suburb_Ascot Vale</th>\n",
       "      <th>onehotencoder__Suburb_Balwyn North</th>\n",
       "      <th>onehotencoder__Suburb_Bentleigh</th>\n",
       "      <th>onehotencoder__Suburb_Bentleigh East</th>\n",
       "      <th>onehotencoder__Suburb_Brighton</th>\n",
       "      <th>onehotencoder__Suburb_Brighton East</th>\n",
       "      <th>onehotencoder__Suburb_Brunswick</th>\n",
       "      <th>onehotencoder__Suburb_Camberwell</th>\n",
       "      <th>onehotencoder__Suburb_Carnegie</th>\n",
       "      <th>onehotencoder__Suburb_Coburg</th>\n",
       "      <th>...</th>\n",
       "      <th>Price</th>\n",
       "      <th>Distance</th>\n",
       "      <th>Postcode</th>\n",
       "      <th>remainder__Bathroom</th>\n",
       "      <th>remainder__Car</th>\n",
       "      <th>BuildingArea</th>\n",
       "      <th>YearBuilt</th>\n",
       "      <th>remainder__avg_dayly_price</th>\n",
       "      <th>avg_weekly_price</th>\n",
       "      <th>avg_monthly_price</th>\n",
       "    </tr>\n",
       "  </thead>\n",
       "  <tbody>\n",
       "    <tr>\n",
       "      <th>0</th>\n",
       "      <td>0.0</td>\n",
       "      <td>0.0</td>\n",
       "      <td>0.0</td>\n",
       "      <td>0.0</td>\n",
       "      <td>0.0</td>\n",
       "      <td>0.0</td>\n",
       "      <td>0.0</td>\n",
       "      <td>0.0</td>\n",
       "      <td>0.0</td>\n",
       "      <td>0.0</td>\n",
       "      <td>...</td>\n",
       "      <td>1480000.0</td>\n",
       "      <td>2.5</td>\n",
       "      <td>3067.0</td>\n",
       "      <td>1.0</td>\n",
       "      <td>1.0</td>\n",
       "      <td>NaN</td>\n",
       "      <td>NaN</td>\n",
       "      <td>130.624031</td>\n",
       "      <td>605.152174</td>\n",
       "      <td>2187.032258</td>\n",
       "    </tr>\n",
       "    <tr>\n",
       "      <th>1</th>\n",
       "      <td>0.0</td>\n",
       "      <td>0.0</td>\n",
       "      <td>0.0</td>\n",
       "      <td>0.0</td>\n",
       "      <td>0.0</td>\n",
       "      <td>0.0</td>\n",
       "      <td>0.0</td>\n",
       "      <td>0.0</td>\n",
       "      <td>0.0</td>\n",
       "      <td>0.0</td>\n",
       "      <td>...</td>\n",
       "      <td>1035000.0</td>\n",
       "      <td>2.5</td>\n",
       "      <td>3067.0</td>\n",
       "      <td>1.0</td>\n",
       "      <td>0.0</td>\n",
       "      <td>79.0</td>\n",
       "      <td>1900.0</td>\n",
       "      <td>130.624031</td>\n",
       "      <td>605.152174</td>\n",
       "      <td>2187.032258</td>\n",
       "    </tr>\n",
       "    <tr>\n",
       "      <th>2</th>\n",
       "      <td>0.0</td>\n",
       "      <td>0.0</td>\n",
       "      <td>0.0</td>\n",
       "      <td>0.0</td>\n",
       "      <td>0.0</td>\n",
       "      <td>0.0</td>\n",
       "      <td>0.0</td>\n",
       "      <td>0.0</td>\n",
       "      <td>0.0</td>\n",
       "      <td>0.0</td>\n",
       "      <td>...</td>\n",
       "      <td>1465000.0</td>\n",
       "      <td>2.5</td>\n",
       "      <td>3067.0</td>\n",
       "      <td>2.0</td>\n",
       "      <td>0.0</td>\n",
       "      <td>150.0</td>\n",
       "      <td>1900.0</td>\n",
       "      <td>130.624031</td>\n",
       "      <td>605.152174</td>\n",
       "      <td>2187.032258</td>\n",
       "    </tr>\n",
       "    <tr>\n",
       "      <th>3</th>\n",
       "      <td>0.0</td>\n",
       "      <td>0.0</td>\n",
       "      <td>0.0</td>\n",
       "      <td>0.0</td>\n",
       "      <td>0.0</td>\n",
       "      <td>0.0</td>\n",
       "      <td>0.0</td>\n",
       "      <td>0.0</td>\n",
       "      <td>0.0</td>\n",
       "      <td>0.0</td>\n",
       "      <td>...</td>\n",
       "      <td>850000.0</td>\n",
       "      <td>2.5</td>\n",
       "      <td>3067.0</td>\n",
       "      <td>2.0</td>\n",
       "      <td>1.0</td>\n",
       "      <td>NaN</td>\n",
       "      <td>NaN</td>\n",
       "      <td>130.624031</td>\n",
       "      <td>605.152174</td>\n",
       "      <td>2187.032258</td>\n",
       "    </tr>\n",
       "    <tr>\n",
       "      <th>4</th>\n",
       "      <td>0.0</td>\n",
       "      <td>0.0</td>\n",
       "      <td>0.0</td>\n",
       "      <td>0.0</td>\n",
       "      <td>0.0</td>\n",
       "      <td>0.0</td>\n",
       "      <td>0.0</td>\n",
       "      <td>0.0</td>\n",
       "      <td>0.0</td>\n",
       "      <td>0.0</td>\n",
       "      <td>...</td>\n",
       "      <td>1600000.0</td>\n",
       "      <td>2.5</td>\n",
       "      <td>3067.0</td>\n",
       "      <td>1.0</td>\n",
       "      <td>2.0</td>\n",
       "      <td>142.0</td>\n",
       "      <td>2014.0</td>\n",
       "      <td>130.624031</td>\n",
       "      <td>605.152174</td>\n",
       "      <td>2187.032258</td>\n",
       "    </tr>\n",
       "  </tbody>\n",
       "</table>\n",
       "<p>5 rows × 79 columns</p>\n",
       "</div>"
      ],
      "text/plain": [
       "   onehotencoder__Suburb_Ascot Vale  onehotencoder__Suburb_Balwyn North  \\\n",
       "0                               0.0                                 0.0   \n",
       "1                               0.0                                 0.0   \n",
       "2                               0.0                                 0.0   \n",
       "3                               0.0                                 0.0   \n",
       "4                               0.0                                 0.0   \n",
       "\n",
       "   onehotencoder__Suburb_Bentleigh  onehotencoder__Suburb_Bentleigh East  \\\n",
       "0                              0.0                                   0.0   \n",
       "1                              0.0                                   0.0   \n",
       "2                              0.0                                   0.0   \n",
       "3                              0.0                                   0.0   \n",
       "4                              0.0                                   0.0   \n",
       "\n",
       "   onehotencoder__Suburb_Brighton  onehotencoder__Suburb_Brighton East  \\\n",
       "0                             0.0                                  0.0   \n",
       "1                             0.0                                  0.0   \n",
       "2                             0.0                                  0.0   \n",
       "3                             0.0                                  0.0   \n",
       "4                             0.0                                  0.0   \n",
       "\n",
       "   onehotencoder__Suburb_Brunswick  onehotencoder__Suburb_Camberwell  \\\n",
       "0                              0.0                               0.0   \n",
       "1                              0.0                               0.0   \n",
       "2                              0.0                               0.0   \n",
       "3                              0.0                               0.0   \n",
       "4                              0.0                               0.0   \n",
       "\n",
       "   onehotencoder__Suburb_Carnegie  onehotencoder__Suburb_Coburg  ...  \\\n",
       "0                             0.0                           0.0  ...   \n",
       "1                             0.0                           0.0  ...   \n",
       "2                             0.0                           0.0  ...   \n",
       "3                             0.0                           0.0  ...   \n",
       "4                             0.0                           0.0  ...   \n",
       "\n",
       "       Price  Distance  Postcode  remainder__Bathroom  remainder__Car  \\\n",
       "0  1480000.0       2.5    3067.0                  1.0             1.0   \n",
       "1  1035000.0       2.5    3067.0                  1.0             0.0   \n",
       "2  1465000.0       2.5    3067.0                  2.0             0.0   \n",
       "3   850000.0       2.5    3067.0                  2.0             1.0   \n",
       "4  1600000.0       2.5    3067.0                  1.0             2.0   \n",
       "\n",
       "   BuildingArea  YearBuilt  remainder__avg_dayly_price  avg_weekly_price  \\\n",
       "0           NaN        NaN                  130.624031        605.152174   \n",
       "1          79.0     1900.0                  130.624031        605.152174   \n",
       "2         150.0     1900.0                  130.624031        605.152174   \n",
       "3           NaN        NaN                  130.624031        605.152174   \n",
       "4         142.0     2014.0                  130.624031        605.152174   \n",
       "\n",
       "   avg_monthly_price  \n",
       "0        2187.032258  \n",
       "1        2187.032258  \n",
       "2        2187.032258  \n",
       "3        2187.032258  \n",
       "4        2187.032258  \n",
       "\n",
       "[5 rows x 79 columns]"
      ]
     },
     "execution_count": 42,
     "metadata": {},
     "output_type": "execute_result"
    }
   ],
   "source": [
    "melb_cat_df_aprox2.head()"
   ]
  },
  {
   "cell_type": "markdown",
   "metadata": {
    "id": "ismngxPcfoWb"
   },
   "source": [
    "## Ejercicio 2: Imputación por KNN\n",
    "\n",
    "En el teórico se presentó el método `IterativeImputer` para imputar valores faltantes en variables numéricas. Sin embargo, los ejemplos presentados sólo utilizaban algunas variables numéricas presentes en el conjunto de datos. En este ejercicio, utilizaremos la matriz de datos codificada para imputar datos faltantes de manera más precisa.\n",
    "\n",
    "1. Agregue a la matriz obtenida en el punto anterior las columnas `YearBuilt` y `BuildingArea`.\n",
    "2. Aplique una instancia de `IterativeImputer` con un estimador `KNeighborsRegressor` para imputar los valores de las variables. ¿Es necesario estandarizar o escalar los datos previamente?\n",
    "3. Realice un gráfico mostrando la distribución de cada variable antes de ser imputada, y con ambos métodos de imputación."
   ]
  },
  {
   "cell_type": "markdown",
   "metadata": {},
   "source": [
    "**El ejercicio de imputación de valores faltantes de realiza sobre el 'melb_cat_df_aprox1' que es el que tiene la mayor dimensionalidad y por lo tanto es las estrategia de performance mas conservadora. En etapas posteriores, se pueden repetir estos pasos para el 'melb_cat_df_aprox2' y evaluar la performance de imputación.**"
   ]
  },
  {
   "cell_type": "code",
   "execution_count": 47,
   "metadata": {},
   "outputs": [
    {
     "data": {
      "text/plain": [
       "BuildingArea                                       6395\n",
       "YearBuilt                                          5363\n",
       "avg_monthly_price                                  1248\n",
       "avg_weekly_price                                    855\n",
       "onehotencoder__Regionname_Southern Metropolitan       0\n",
       "onehotencoder__Rooms_8                                0\n",
       "onehotencoder__Rooms_7                                0\n",
       "onehotencoder__Rooms_6                                0\n",
       "onehotencoder__Rooms_5                                0\n",
       "onehotencoder__Rooms_4                                0\n",
       "dtype: int64"
      ]
     },
     "execution_count": 47,
     "metadata": {},
     "output_type": "execute_result"
    }
   ],
   "source": [
    "# Se verifica que columnas tienen valores faltantes\n",
    "melb_cat_df_aprox1.isna().sum().sort_values(ascending=False).head(10)"
   ]
  },
  {
   "cell_type": "code",
   "execution_count": 48,
   "metadata": {},
   "outputs": [],
   "source": [
    "# Se corrige el datatype de la vatiable 'YearBuilt'\n",
    "melb_cat_df_aprox1['YearBuilt'] = melb_cat_df_aprox1['YearBuilt'].astype('Int64')"
   ]
  },
  {
   "cell_type": "code",
   "execution_count": 49,
   "metadata": {},
   "outputs": [
    {
     "data": {
      "text/plain": [
       "['BuildingArea', 'YearBuilt', 'avg_weekly_price', 'avg_monthly_price']"
      ]
     },
     "execution_count": 49,
     "metadata": {},
     "output_type": "execute_result"
    }
   ],
   "source": [
    "# Se detectan la columnas con datos faltantes a imputar\n",
    "cols_to_impute = melb_cat_df_aprox1.columns[melb_cat_df_aprox1.isna().sum() > 0].tolist()\n",
    "cols_to_impute"
   ]
  },
  {
   "cell_type": "markdown",
   "metadata": {},
   "source": [
    "El método IterativeImputer implementado en scikitlearn asume que la variable que se va a imputar tiene una distribución gaussiana. Entonces para evaluar si es que es necesario realizar algún tipo de tranformación **es necesario visualizar esas distribuciones primero**."
   ]
  },
  {
   "cell_type": "code",
   "execution_count": 51,
   "metadata": {},
   "outputs": [
    {
     "data": {
      "text/plain": [
       "<seaborn.axisgrid.FacetGrid at 0x7f21bc88ae00>"
      ]
     },
     "execution_count": 51,
     "metadata": {},
     "output_type": "execute_result"
    },
    {
     "data": {
      "image/png": "[encoded data removed]",
      "text/plain": [
       "<Figure size 360x360 with 1 Axes>"
      ]
     },
     "metadata": {
      "needs_background": "light"
     },
     "output_type": "display_data"
    }
   ],
   "source": [
    "# Vemos la distribución de la variable 'BuildingArea'\n",
    "sns.displot(melb_cat_df_aprox1.BuildingArea)"
   ]
  },
  {
   "cell_type": "markdown",
   "metadata": {},
   "source": [
    "La distribución de *'BuildingArea'* es gaussiana, con lo cual no se considera necesario estandarizar esta variable."
   ]
  },
  {
   "cell_type": "code",
   "execution_count": 52,
   "metadata": {},
   "outputs": [
    {
     "data": {
      "text/plain": [
       "<seaborn.axisgrid.FacetGrid at 0x7f21c05ce740>"
      ]
     },
     "execution_count": 52,
     "metadata": {},
     "output_type": "execute_result"
    },
    {
     "data": {
      "image/png": "[encoded data removed]",
      "text/plain": [
       "<Figure size 360x360 with 1 Axes>"
      ]
     },
     "metadata": {
      "needs_background": "light"
     },
     "output_type": "display_data"
    }
   ],
   "source": [
    "# Vemos la distribución de la variable 'YearBuilt'\n",
    "sns.displot(melb_cat_df_aprox1.YearBuilt)"
   ]
  },
  {
   "cell_type": "markdown",
   "metadata": {},
   "source": [
    "La distribución de *'YearBuilt'* tiene un aspecto de distribución del tipo random/gaussiana."
   ]
  },
  {
   "cell_type": "code",
   "execution_count": 53,
   "metadata": {},
   "outputs": [
    {
     "data": {
      "text/plain": [
       "<seaborn.axisgrid.FacetGrid at 0x7f21bc921cf0>"
      ]
     },
     "execution_count": 53,
     "metadata": {},
     "output_type": "execute_result"
    },
    {
     "data": {
      "image/png": "[encoded data removed]",
      "text/plain": [
       "<Figure size 360x360 with 1 Axes>"
      ]
     },
     "metadata": {
      "needs_background": "light"
     },
     "output_type": "display_data"
    }
   ],
   "source": [
    "sns.displot(melb_cat_df_aprox1.avg_weekly_price)"
   ]
  },
  {
   "cell_type": "markdown",
   "metadata": {},
   "source": [
    "La distribución de *'avg_weekly_price'* es gaussiana, con lo cual no se considera necesario estandarizar esta variable."
   ]
  },
  {
   "cell_type": "code",
   "execution_count": 54,
   "metadata": {},
   "outputs": [
    {
     "data": {
      "text/plain": [
       "<seaborn.axisgrid.FacetGrid at 0x7f21bb5f3d30>"
      ]
     },
     "execution_count": 54,
     "metadata": {},
     "output_type": "execute_result"
    },
    {
     "data": {
      "image/png": "[encoded data removed]",
      "text/plain": [
       "<Figure size 360x360 with 1 Axes>"
      ]
     },
     "metadata": {
      "needs_background": "light"
     },
     "output_type": "display_data"
    }
   ],
   "source": [
    "sns.displot(melb_cat_df_aprox1.avg_monthly_price)"
   ]
  },
  {
   "cell_type": "markdown",
   "metadata": {},
   "source": [
    "La distribución de *'avg_monthly_price'* es gaussiana con cola hacia la derecha, con lo cual no se considera necesario estandarizar esta variable."
   ]
  },
  {
   "cell_type": "code",
   "execution_count": 55,
   "metadata": {
    "colab": {
     "base_uri": "https://localhost:8080/"
    },
    "id": "G4ClSr_JapCw",
    "outputId": "9468199f-071a-4514-c62b-e161a6113f18"
   },
   "outputs": [
    {
     "name": "stderr",
     "output_type": "stream",
     "text": [
      "/home/fredy/anaconda3/envs/rdkit-env/lib/python3.10/site-packages/sklearn/impute/_iterative.py:700: ConvergenceWarning: [IterativeImputer] Early stopping criterion not reached.\n",
      "  warnings.warn(\n"
     ]
    }
   ],
   "source": [
    "# Acá se imputa usando el estimator=KNeighborsRegressor()\n",
    "df_to_impute_KNNest = melb_cat_df_aprox1.copy(deep=True)\n",
    "imputer = IterativeImputer(random_state=0, estimator=KNeighborsRegressor(), max_iter=30)\n",
    "df_to_impute_KNNest[cols_to_impute] = imputer.fit_transform(\n",
    "    df_to_impute_KNNest[cols_to_impute])"
   ]
  },
  {
   "cell_type": "code",
   "execution_count": 56,
   "metadata": {},
   "outputs": [],
   "source": [
    "# Acá se imputa usando el estimator=BayesianRidge() que usamos en clase\n",
    "df_to_impute_BYest = melb_cat_df_aprox1.copy(deep=True)\n",
    "imputer = IterativeImputer(random_state=0, estimator=BayesianRidge(), max_iter=30)\n",
    "df_to_impute_BYest[cols_to_impute] = imputer.fit_transform(\n",
    "    df_to_impute_BYest[cols_to_impute])\n"
   ]
  },
  {
   "cell_type": "code",
   "execution_count": 57,
   "metadata": {},
   "outputs": [],
   "source": [
    "df_to_impute_KNNest['YearBuilt'] = df_to_impute_KNNest['YearBuilt'].round().astype('Int64')\n",
    "df_to_impute_BYest['YearBuilt'] = df_to_impute_BYest['YearBuilt'].round().astype('Int64')"
   ]
  },
  {
   "cell_type": "markdown",
   "metadata": {
    "id": "ImjXQZUbVoKH"
   },
   "source": [
    "Ejemplo de gráfico comparando las distribuciones de datos obtenidas con cada estimados en la. **Se observa que para ambas variables, el estimador basado en BayesianRidge() resulta en datos mas densamente agrupados sobre un valor, con un impacto mas notable en la imputación sobre YearBuilt**. Para las variables imputadas 'avg_weekly_price'y 'avg_monthly_price', las diferencias entre las distribuciones de ambos estimadores y la original es baja, lo cual demuestra que dicha similitud en la densidad de datos es dependiente de la cantidad de datos faltantes."
   ]
  },
  {
   "cell_type": "code",
   "execution_count": 58,
   "metadata": {
    "colab": {
     "base_uri": "https://localhost:8080/",
     "height": 355
    },
    "id": "PMK1ktqYQTJK",
    "outputId": "b3ec0023-25cd-41ad-b069-cc59de7c2313"
   },
   "outputs": [
    {
     "data": {
      "image/png": "[encoded data removed]",
      "text/plain": [
       "<Figure size 1080x720 with 1 Axes>"
      ]
     },
     "metadata": {
      "needs_background": "light"
     },
     "output_type": "display_data"
    }
   ],
   "source": [
    "# Acá se grafica la distribución de YearBuilt en Original y ambos estimadores en la imputación\n",
    "mice_year_built_KNNest = df_to_impute_KNNest.YearBuilt.to_frame()\n",
    "mice_year_built_KNNest['Imputation'] = 'KNN over YearBuilt'\n",
    "mice_year_built_BYest = df_to_impute_BYest.YearBuilt.to_frame()\n",
    "mice_year_built_BYest['Imputation'] = 'BY over YearBuilt'\n",
    "melb_year_build = melb_cat_df_aprox1.YearBuilt.dropna().to_frame()\n",
    "melb_year_build['Imputation'] = 'Original'\n",
    "data = pd.concat([mice_year_built_KNNest,mice_year_built_BYest, melb_year_build]).reset_index(drop=True)\n",
    "fig = plt.figure(figsize=(15, 10))\n",
    "g = sns.kdeplot(data=data, x='YearBuilt', hue='Imputation')"
   ]
  },
  {
   "cell_type": "code",
   "execution_count": 59,
   "metadata": {},
   "outputs": [
    {
     "data": {
      "image/png": "[encoded data removed]",
      "text/plain": [
       "<Figure size 1080x720 with 1 Axes>"
      ]
     },
     "metadata": {
      "needs_background": "light"
     },
     "output_type": "display_data"
    }
   ],
   "source": [
    "# Acá se grafica la distribución de BuildingArea en Original y ambos estimadores en la imputación\n",
    "mice_building_area_KNNest = df_to_impute_KNNest.BuildingArea.to_frame()\n",
    "mice_building_area_KNNest['Imputation'] = 'KNN over BuildingArea'\n",
    "mice_building_area_BYest = df_to_impute_BYest.BuildingArea.to_frame()\n",
    "mice_building_area_BYest['Imputation'] = 'BY over BuildingArea'\n",
    "melb_building_area = melb_cat_df_aprox1.BuildingArea.dropna().to_frame()\n",
    "melb_building_area['Imputation'] = 'Original'\n",
    "data = pd.concat([mice_building_area_KNNest,mice_building_area_BYest, melb_building_area]).reset_index(drop=True)\n",
    "fig = plt.figure(figsize=(15, 10))\n",
    "g = sns.kdeplot(data=data, x='BuildingArea', hue='Imputation')"
   ]
  },
  {
   "cell_type": "code",
   "execution_count": 60,
   "metadata": {},
   "outputs": [
    {
     "data": {
      "image/png": "[encoded data removed]",
      "text/plain": [
       "<Figure size 1080x720 with 1 Axes>"
      ]
     },
     "metadata": {
      "needs_background": "light"
     },
     "output_type": "display_data"
    }
   ],
   "source": [
    "# Acá se grafica la distribución de avg_weekly_price en Original y ambos estimadores en la imputación\n",
    "mice_avg_weekly_price_KNNest = df_to_impute_KNNest.avg_weekly_price.to_frame()\n",
    "mice_avg_weekly_price_KNNest['Imputation'] = 'KNN over avg_weekly_price'\n",
    "mice_avg_weekly_price_BYest = df_to_impute_BYest.avg_weekly_price.to_frame()\n",
    "mice_avg_weekly_price_BYest['Imputation'] = 'BY over avg_weekly_price'\n",
    "melb_avg_weekly_price = melb_cat_df_aprox1.avg_weekly_price.dropna().to_frame()\n",
    "melb_avg_weekly_price['Imputation'] = 'Original'\n",
    "data = pd.concat([mice_avg_weekly_price_KNNest,mice_avg_weekly_price_BYest, melb_avg_weekly_price]).reset_index(drop=True)\n",
    "fig = plt.figure(figsize=(15, 10))\n",
    "g = sns.kdeplot(data=data, x='avg_weekly_price', hue='Imputation')"
   ]
  },
  {
   "cell_type": "code",
   "execution_count": 61,
   "metadata": {},
   "outputs": [
    {
     "data": {
      "image/png": "[encoded data removed]",
      "text/plain": [
       "<Figure size 1080x720 with 1 Axes>"
      ]
     },
     "metadata": {
      "needs_background": "light"
     },
     "output_type": "display_data"
    }
   ],
   "source": [
    "# Acá se grafica la distribución de avg_weekly_price en Original y ambos estimadores en la imputación\n",
    "mice_avg_monthly_price_KNNest = df_to_impute_KNNest.avg_monthly_price.to_frame()\n",
    "mice_avg_monthly_price_KNNest['Imputation'] = 'KNN over avg_monthly_price'\n",
    "mice_avg_monthly_price_BYest = df_to_impute_BYest.avg_monthly_price.to_frame()\n",
    "mice_avg_monthly_price_BYest['Imputation'] = 'BY over avg_monthly_price'\n",
    "melb_avg_monthly_price = melb_cat_df_aprox1.avg_monthly_price.dropna().to_frame()\n",
    "melb_avg_monthly_price['Imputation'] = 'Original'\n",
    "data = pd.concat([mice_avg_monthly_price_KNNest,mice_avg_monthly_price_BYest, melb_avg_monthly_price]).reset_index(drop=True)\n",
    "fig = plt.figure(figsize=(15, 10))\n",
    "g = sns.kdeplot(data=data, x='avg_monthly_price', hue='Imputation')"
   ]
  },
  {
   "cell_type": "markdown",
   "metadata": {},
   "source": [
    "Se verifica que los dataframes imputados no tengan datos faltantes y mantengan el número de variables del dataframe de origen."
   ]
  },
  {
   "cell_type": "code",
   "execution_count": 62,
   "metadata": {},
   "outputs": [
    {
     "data": {
      "text/plain": [
       "onehotencoder__Suburb_Ascot Vale       0\n",
       "onehotencoder__CouncilArea_Moreland    0\n",
       "onehotencoder__Bathroom_0.0            0\n",
       "onehotencoder__Rooms_10                0\n",
       "onehotencoder__Rooms_8                 0\n",
       "                                      ..\n",
       "onehotencoder__Suburb_Yarraville       0\n",
       "onehotencoder__Suburb_Thornbury        0\n",
       "onehotencoder__Suburb_Surrey Hills     0\n",
       "onehotencoder__Suburb_St Kilda         0\n",
       "avg_monthly_price                      0\n",
       "Length: 105, dtype: int64"
      ]
     },
     "execution_count": 62,
     "metadata": {},
     "output_type": "execute_result"
    }
   ],
   "source": [
    "df_to_impute_KNNest.isna().sum().sort_values(ascending=False)"
   ]
  },
  {
   "cell_type": "code",
   "execution_count": 64,
   "metadata": {},
   "outputs": [
    {
     "data": {
      "text/plain": [
       "(13190, 105)"
      ]
     },
     "execution_count": 64,
     "metadata": {},
     "output_type": "execute_result"
    }
   ],
   "source": [
    "df_to_impute_KNNest.shape"
   ]
  },
  {
   "cell_type": "code",
   "execution_count": 65,
   "metadata": {},
   "outputs": [
    {
     "data": {
      "text/plain": [
       "onehotencoder__Suburb_Ascot Vale       0\n",
       "onehotencoder__CouncilArea_Moreland    0\n",
       "onehotencoder__Bathroom_0.0            0\n",
       "onehotencoder__Rooms_10                0\n",
       "onehotencoder__Rooms_8                 0\n",
       "                                      ..\n",
       "onehotencoder__Suburb_Yarraville       0\n",
       "onehotencoder__Suburb_Thornbury        0\n",
       "onehotencoder__Suburb_Surrey Hills     0\n",
       "onehotencoder__Suburb_St Kilda         0\n",
       "avg_monthly_price                      0\n",
       "Length: 105, dtype: int64"
      ]
     },
     "execution_count": 65,
     "metadata": {},
     "output_type": "execute_result"
    }
   ],
   "source": [
    "df_to_impute_BYest.isna().sum().sort_values(ascending=False)"
   ]
  },
  {
   "cell_type": "code",
   "execution_count": 66,
   "metadata": {},
   "outputs": [
    {
     "data": {
      "text/plain": [
       "(13190, 105)"
      ]
     },
     "execution_count": 66,
     "metadata": {},
     "output_type": "execute_result"
    }
   ],
   "source": [
    "df_to_impute_BYest.shape"
   ]
  },
  {
   "cell_type": "markdown",
   "metadata": {
    "id": "NBN7-5OIxjJW"
   },
   "source": [
    "## Ejercicio 3: Reducción de dimensionalidad.\n",
    "\n",
    "Utilizando la matriz obtenida en el ejercicio anterior:\n",
    "1. Aplique `PCA` para obtener $n$ componentes principales de la matriz, donde `n = min(20, X.shape[0])`. ¿Es necesario estandarizar o escalar los datos?\n",
    "2. Grafique la varianza capturada por los primeros $n$ componentes principales, para cada $n$.\n",
    "3. En base al gráfico, seleccione las primeras $m$ columnas de la matriz transformada para agregar como nuevas características al conjunto de datos."
   ]
  },
  {
   "cell_type": "markdown",
   "metadata": {},
   "source": [
    "**La reducción de dimensionalidad por PCA se hizo sobre *'df_to_impute_KNNest'* que es lo solicitado en el ejercicio. Si mas adelante en el trabajo se demuestra que el estimador BayesianRidge es mejor, es posible volver a esta etapa.***"
   ]
  },
  {
   "cell_type": "code",
   "execution_count": 67,
   "metadata": {},
   "outputs": [
    {
     "data": {
      "text/plain": [
       "array([[0.        , 0.        , 0.        , ..., 0.12602716, 0.21435899,\n",
       "        0.1677624 ],\n",
       "       [0.        , 0.        , 0.        , ..., 0.12602716, 0.21435899,\n",
       "        0.1677624 ],\n",
       "       [0.        , 0.        , 0.        , ..., 0.12602716, 0.21435899,\n",
       "        0.1677624 ],\n",
       "       ...,\n",
       "       [0.        , 0.        , 0.        , ..., 0.21012112, 0.21777689,\n",
       "        0.16065011],\n",
       "       [0.        , 0.        , 0.        , ..., 0.21012112, 0.21777689,\n",
       "        0.16065011],\n",
       "       [0.        , 0.        , 0.        , ..., 0.13296061, 0.3676909 ,\n",
       "        0.25011532]])"
      ]
     },
     "execution_count": 67,
     "metadata": {},
     "output_type": "execute_result"
    }
   ],
   "source": [
    "#Escalamos todas las variables de la matriz (tomamos la matriz que antes habia sido escalada para poder imputar las otras dos columnas)\n",
    "scaler = MinMaxScaler().fit(df_to_impute_KNNest)\n",
    "melb_matrix_pca = scaler.fit_transform(df_to_impute_KNNest.values)\n",
    "melb_matrix_pca"
   ]
  },
  {
   "cell_type": "code",
   "execution_count": 68,
   "metadata": {},
   "outputs": [
    {
     "data": {
      "text/plain": [
       "20"
      ]
     },
     "execution_count": 68,
     "metadata": {},
     "output_type": "execute_result"
    }
   ],
   "source": [
    "min(20, melb_matrix_pca.shape[0])"
   ]
  },
  {
   "cell_type": "code",
   "execution_count": 69,
   "metadata": {},
   "outputs": [
    {
     "data": {
      "text/html": [
       "<style>#sk-container-id-1 {color: black;background-color: white;}#sk-container-id-1 pre{padding: 0;}#sk-container-id-1 div.sk-toggleable {background-color: white;}#sk-container-id-1 label.sk-toggleable__label {cursor: pointer;display: block;width: 100%;margin-bottom: 0;padding: 0.3em;box-sizing: border-box;text-align: center;}#sk-container-id-1 label.sk-toggleable__label-arrow:before {content: \"▸\";float: left;margin-right: 0.25em;color: #696969;}#sk-container-id-1 label.sk-toggleable__label-arrow:hover:before {color: black;}#sk-container-id-1 div.sk-estimator:hover label.sk-toggleable__label-arrow:before {color: black;}#sk-container-id-1 div.sk-toggleable__content {max-height: 0;max-width: 0;overflow: hidden;text-align: left;background-color: #f0f8ff;}#sk-container-id-1 div.sk-toggleable__content pre {margin: 0.2em;color: black;border-radius: 0.25em;background-color: #f0f8ff;}#sk-container-id-1 input.sk-toggleable__control:checked~div.sk-toggleable__content {max-height: 200px;max-width: 100%;overflow: auto;}#sk-container-id-1 input.sk-toggleable__control:checked~label.sk-toggleable__label-arrow:before {content: \"▾\";}#sk-container-id-1 div.sk-estimator input.sk-toggleable__control:checked~label.sk-toggleable__label {background-color: #d4ebff;}#sk-container-id-1 div.sk-label input.sk-toggleable__control:checked~label.sk-toggleable__label {background-color: #d4ebff;}#sk-container-id-1 input.sk-hidden--visually {border: 0;clip: rect(1px 1px 1px 1px);clip: rect(1px, 1px, 1px, 1px);height: 1px;margin: -1px;overflow: hidden;padding: 0;position: absolute;width: 1px;}#sk-container-id-1 div.sk-estimator {font-family: monospace;background-color: #f0f8ff;border: 1px dotted black;border-radius: 0.25em;box-sizing: border-box;margin-bottom: 0.5em;}#sk-container-id-1 div.sk-estimator:hover {background-color: #d4ebff;}#sk-container-id-1 div.sk-parallel-item::after {content: \"\";width: 100%;border-bottom: 1px solid gray;flex-grow: 1;}#sk-container-id-1 div.sk-label:hover label.sk-toggleable__label {background-color: #d4ebff;}#sk-container-id-1 div.sk-serial::before {content: \"\";position: absolute;border-left: 1px solid gray;box-sizing: border-box;top: 0;bottom: 0;left: 50%;z-index: 0;}#sk-container-id-1 div.sk-serial {display: flex;flex-direction: column;align-items: center;background-color: white;padding-right: 0.2em;padding-left: 0.2em;position: relative;}#sk-container-id-1 div.sk-item {position: relative;z-index: 1;}#sk-container-id-1 div.sk-parallel {display: flex;align-items: stretch;justify-content: center;background-color: white;position: relative;}#sk-container-id-1 div.sk-item::before, #sk-container-id-1 div.sk-parallel-item::before {content: \"\";position: absolute;border-left: 1px solid gray;box-sizing: border-box;top: 0;bottom: 0;left: 50%;z-index: -1;}#sk-container-id-1 div.sk-parallel-item {display: flex;flex-direction: column;z-index: 1;position: relative;background-color: white;}#sk-container-id-1 div.sk-parallel-item:first-child::after {align-self: flex-end;width: 50%;}#sk-container-id-1 div.sk-parallel-item:last-child::after {align-self: flex-start;width: 50%;}#sk-container-id-1 div.sk-parallel-item:only-child::after {width: 0;}#sk-container-id-1 div.sk-dashed-wrapped {border: 1px dashed gray;margin: 0 0.4em 0.5em 0.4em;box-sizing: border-box;padding-bottom: 0.4em;background-color: white;}#sk-container-id-1 div.sk-label label {font-family: monospace;font-weight: bold;display: inline-block;line-height: 1.2em;}#sk-container-id-1 div.sk-label-container {text-align: center;}#sk-container-id-1 div.sk-container {/* jupyter's `normalize.less` sets `[hidden] { display: none; }` but bootstrap.min.css set `[hidden] { display: none !important; }` so we also need the `!important` here to be able to override the default hidden behavior on the sphinx rendered scikit-learn.org. See: https://github.com/scikit-learn/scikit-learn/issues/21755 */display: inline-block !important;position: relative;}#sk-container-id-1 div.sk-text-repr-fallback {display: none;}</style><div id=\"sk-container-id-1\" class=\"sk-top-container\"><div class=\"sk-text-repr-fallback\"><pre>PCA(n_components=20)</pre><b>In a Jupyter environment, please rerun this cell to show the HTML representation or trust the notebook. <br />On GitHub, the HTML representation is unable to render, please try loading this page with nbviewer.org.</b></div><div class=\"sk-container\" hidden><div class=\"sk-item\"><div class=\"sk-estimator sk-toggleable\"><input class=\"sk-toggleable__control sk-hidden--visually\" id=\"sk-estimator-id-1\" type=\"checkbox\" checked><label for=\"sk-estimator-id-1\" class=\"sk-toggleable__label sk-toggleable__label-arrow\">PCA</label><div class=\"sk-toggleable__content\"><pre>PCA(n_components=20)</pre></div></div></div></div></div>"
      ],
      "text/plain": [
       "PCA(n_components=20)"
      ]
     },
     "execution_count": 69,
     "metadata": {},
     "output_type": "execute_result"
    }
   ],
   "source": [
    "#Generamos objeto usando el n de la consigna\n",
    "n = min(20, melb_matrix_pca.shape[1])\n",
    "pca = PCA(n_components=20)                                  \n",
    "\n",
    "pca.fit(melb_matrix_pca)"
   ]
  },
  {
   "cell_type": "code",
   "execution_count": 70,
   "metadata": {},
   "outputs": [
    {
     "name": "stdout",
     "output_type": "stream",
     "text": [
      "Principal components\n",
      "[[ 0.00032114 -0.00554323 -0.00188996 ...  0.00867572  0.03627176\n",
      "   0.03050477]\n",
      " [-0.00584408  0.0241352   0.01662425 ...  0.03541472  0.09819086\n",
      "   0.09058079]\n",
      " [ 0.0024218  -0.02613638 -0.02194384 ... -0.02837478 -0.06032555\n",
      "  -0.05674697]\n",
      " ...\n",
      " [ 0.01168585 -0.01116753  0.02296367 ... -0.05315073 -0.0633223\n",
      "  -0.05151359]\n",
      " [ 0.01080223 -0.09307076  0.06427196 ... -0.00295943 -0.04784454\n",
      "  -0.06003091]\n",
      " [-0.02892546  0.01207756  0.03028242 ... -0.05048746 -0.20739788\n",
      "  -0.17495643]]\n",
      "Explained variance: \n",
      "[0.79530409 0.48034184 0.33773957 0.32367323 0.29759926 0.29422887\n",
      " 0.25869069 0.23797126 0.14428473 0.12695108 0.11860545 0.11689057\n",
      " 0.10749352 0.09898184 0.09471568 0.09193961 0.08773847 0.08153149\n",
      " 0.08044208 0.07129375]\n",
      "Explained variance ratio\n",
      "[0.14832375 0.08958347 0.06298823 0.06036487 0.05550209 0.05487351\n",
      " 0.04824566 0.0443815  0.02690902 0.0236763  0.02211985 0.02180002\n",
      " 0.02004748 0.01846006 0.01766442 0.01714668 0.01636317 0.01520558\n",
      " 0.0150024  0.01329624]\n"
     ]
    }
   ],
   "source": [
    "print(\"Principal components\")\n",
    "print(pca.components_)\n",
    "print(\"Explained variance: \")\n",
    "print(pca.explained_variance_)\n",
    "print(\"Explained variance ratio\")\n",
    "print(pca.explained_variance_ratio_)"
   ]
  },
  {
   "cell_type": "code",
   "execution_count": 71,
   "metadata": {},
   "outputs": [
    {
     "data": {
      "text/plain": [
       "Text(0.5, 1.0, 'Varianza explicada por componente principal')"
      ]
     },
     "execution_count": 71,
     "metadata": {},
     "output_type": "execute_result"
    },
    {
     "data": {
      "image/png": "[encoded data removed]",
      "text/plain": [
       "<Figure size 792x360 with 1 Axes>"
      ]
     },
     "metadata": {
      "needs_background": "light"
     },
     "output_type": "display_data"
    }
   ],
   "source": [
    "plt.figure(figsize=(11,5))\n",
    "sns.barplot(x=[i for i in range(20)], y=[pca.explained_variance_[i] for i in range(20)], color='dodgerblue')\n",
    "plt.title(\"Varianza explicada por componente principal\")"
   ]
  },
  {
   "cell_type": "code",
   "execution_count": 72,
   "metadata": {},
   "outputs": [
    {
     "data": {
      "text/plain": [
       "Text(0.5, 1.0, 'Ratios de la Varianza explicada por componente principal')"
      ]
     },
     "execution_count": 72,
     "metadata": {},
     "output_type": "execute_result"
    },
    {
     "data": {
      "image/png": "[encoded data removed]",
      "text/plain": [
       "<Figure size 792x360 with 1 Axes>"
      ]
     },
     "metadata": {
      "needs_background": "light"
     },
     "output_type": "display_data"
    }
   ],
   "source": [
    "plt.figure(figsize=(11,5))\n",
    "sns.barplot(x=[i for i in range(20)], y=[pca.explained_variance_ratio_[i] for i in range(20)], color='dodgerblue')\n",
    "plt.title(\"Ratios de la Varianza explicada por componente principal\")"
   ]
  },
  {
   "cell_type": "code",
   "execution_count": 73,
   "metadata": {},
   "outputs": [
    {
     "data": {
      "text/plain": [
       "Text(0.5, 1.0, 'Varianza explicada acumulada por componente principal')"
      ]
     },
     "execution_count": 73,
     "metadata": {},
     "output_type": "execute_result"
    },
    {
     "data": {
      "image/png": "[encoded data removed]",
      "text/plain": [
       "<Figure size 792x360 with 1 Axes>"
      ]
     },
     "metadata": {
      "needs_background": "light"
     },
     "output_type": "display_data"
    }
   ],
   "source": [
    "plt.figure(figsize=(11,5))\n",
    "sns.barplot(x=[i for i in range(20)], y=[sum([pca.explained_variance_ratio_[i] for i in range(x)]) for x in range(1,21)], color='dodgerblue')\n",
    "plt.title(\"Varianza explicada acumulada por componente principal\")"
   ]
  },
  {
   "cell_type": "markdown",
   "metadata": {},
   "source": [
    "Del gráfico anterior, podemos ver que si tomamos las primeras 10 columnas, estariamos abarcando el 60% de la totalidad de la varianza en las variables del dataframe original. Por lo tanto extraemos esas primeras 10 columnas y las concatenamos a nuestro anterior dataframe."
   ]
  },
  {
   "cell_type": "markdown",
   "metadata": {},
   "source": [
    "Primero creamos el DataFrame con la matrix PCA que obtuvimos al reducir la dimensionalidad."
   ]
  },
  {
   "cell_type": "code",
   "execution_count": 74,
   "metadata": {},
   "outputs": [],
   "source": [
    "df_melb_matrix_pca = pd.DataFrame(melb_matrix_pca)"
   ]
  },
  {
   "cell_type": "code",
   "execution_count": 75,
   "metadata": {},
   "outputs": [
    {
     "data": {
      "text/plain": [
       "(13190, 105)"
      ]
     },
     "execution_count": 75,
     "metadata": {},
     "output_type": "execute_result"
    }
   ],
   "source": [
    "df_melb_matrix_pca.shape"
   ]
  },
  {
   "cell_type": "markdown",
   "metadata": {},
   "source": [
    "Luego lo concatenamos como dijimos anteriormente y generamos un único DataFrame final, que va a contener 115 columnas, resultado de unir las 105 columnas del dataframe original más las 10 que obtuvimos del método PCA."
   ]
  },
  {
   "cell_type": "code",
   "execution_count": 77,
   "metadata": {},
   "outputs": [
    {
     "data": {
      "text/plain": [
       "(13190, 115)"
      ]
     },
     "execution_count": 77,
     "metadata": {},
     "output_type": "execute_result"
    }
   ],
   "source": [
    "rango = list(range(0,10,1))\n",
    "df_final = pd.concat([df_to_impute_KNNest, df_melb_matrix_pca[rango]], axis=1, join='inner')\n",
    "df_final.shape"
   ]
  },
  {
   "cell_type": "markdown",
   "metadata": {
    "id": "WrZTYmG_ZyDy"
   },
   "source": [
    "## Ejercicio 4: Composición del resultado\n",
    "\n",
    "Transformar nuevamente el conjunto de datos procesado en un `pandas.DataFrame` y guardarlo en un archivo.\n",
    "\n",
    "Para eso, será necesario recordar el nombre original de cada columna de la matriz, en el orden correcto. Tener en cuenta:\n",
    "1. El método `OneHotEncoder.get_feature_names` o el atributo `OneHotEncoder.categories_` permiten obtener una lista con los valores de la categoría que le corresponde a cada índice de la matriz.\n",
    "2. Ninguno de los métodos aplicados intercambia de lugar las columnas o las filas de la matriz."
   ]
  },
  {
   "cell_type": "markdown",
   "metadata": {},
   "source": [
    "Por la forma de imputar los datos, ya tenemos armado el dataframe final, por lo que solamente lo guardaremos en un csv."
   ]
  },
  {
   "cell_type": "code",
   "execution_count": 79,
   "metadata": {},
   "outputs": [
    {
     "data": {
      "text/plain": [
       "(13190, 115)"
      ]
     },
     "execution_count": 79,
     "metadata": {},
     "output_type": "execute_result"
    }
   ],
   "source": [
    "df_final.shape"
   ]
  },
  {
   "cell_type": "code",
   "execution_count": 81,
   "metadata": {},
   "outputs": [],
   "source": [
    "df_final.to_csv('melbourne_df_final.csv', index=False)"
   ]
  },
  {
   "cell_type": "markdown",
   "metadata": {
    "id": "mVBLFc8PhRtW"
   },
   "source": [
    "## Ejercicio 5: Documentación\n",
    "\n",
    "En un documento `.pdf` o `.md` realizar un reporte de las operaciones que realizaron para obtener el conjunto de datos final. Se debe incluir:\n",
    "  1. Criterios de exclusión (o inclusión) de filas\n",
    "  2. Interpretación de las columnas presentes\n",
    "  2. Todas las transofrmaciones realizadas\n",
    "\n",
    "Este documento es de uso técnico exclusivamente, y su objetivo es permitir que otres desarrolladores puedan reproducir los mismos pasos y obtener el mismo resultado. Debe ser detallado pero consiso. Por ejemplo:\n",
    "\n",
    "```\n",
    "  ## Criterios de exclusión de ejemplos\n",
    "  1. Se eliminan ejemplos donde el año de construcción es previo a 1900\n",
    "\n",
    "  ## Características seleccionadas\n",
    "  ### Características categóricas\n",
    "  1. Type: tipo de propiedad. 3 valores posibles\n",
    "  2. ...\n",
    "  Todas las características categóricas fueron codificadas con un\n",
    "  método OneHotEncoding utilizando como máximo sus 30 valores más \n",
    "  frecuentes.\n",
    "  \n",
    "  ### Características numéricas\n",
    "  1. Rooms: Cantidad de habitaciones\n",
    "  2. Distance: Distancia al centro de la ciudad.\n",
    "  3. airbnb_mean_price: Se agrega el precio promedio diario de \n",
    "     publicaciones de la plataforma AirBnB en el mismo código \n",
    "     postal. [Link al repositorio con datos externos].\n",
    "\n",
    "  ### Transformaciones:\n",
    "  1. Todas las características numéricas fueron estandarizadas.\n",
    "  2. La columna `Suburb` fue imputada utilizando el método ...\n",
    "  3. Las columnas `YearBuilt` y ... fueron imputadas utilizando el \n",
    "     algoritmo ...\n",
    "  4. ...\n",
    "\n",
    "  ### Datos aumentados\n",
    "  1. Se agregan las 5 primeras columnas obtenidas a través del\n",
    "     método de PCA, aplicado sobre el conjunto de datos\n",
    "     totalmente procesado.\n",
    "```\n"
   ]
  },
  {
   "cell_type": "markdown",
   "metadata": {
    "id": "Bq7nuPg2HIYx"
   },
   "source": []
  }
 ],
 "metadata": {
  "colab": {
   "collapsed_sections": [],
   "include_colab_link": true,
   "name": "Entregable_Parte_2_2022.ipynb",
   "provenance": []
  },
  "kernelspec": {
   "display_name": "Python 3 (ipykernel)",
   "language": "python",
   "name": "python3"
  },
  "language_info": {
   "codemirror_mode": {
    "name": "ipython",
    "version": 3
   },
   "file_extension": ".py",
   "mimetype": "text/x-python",
   "name": "python",
   "nbconvert_exporter": "python",
   "pygments_lexer": "ipython3",
   "version": "3.10.4"
  }
 },
 "nbformat": 4,
 "nbformat_minor": 4
}
