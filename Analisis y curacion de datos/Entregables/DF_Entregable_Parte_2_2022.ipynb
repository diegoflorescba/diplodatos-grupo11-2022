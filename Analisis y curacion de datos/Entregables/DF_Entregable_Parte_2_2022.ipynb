{
 "cells": [
  {
   "cell_type": "markdown",
   "metadata": {
    "colab_type": "text",
    "id": "view-in-github"
   },
   "source": [
    "<a href=\"https://colab.research.google.com/github/DiploDatos/AnalisisYCuracion/blob/master/Entregable_Parte_2_2022.ipynb\" target=\"_parent\"><img src=\"https://colab.research.google.com/assets/colab-badge.svg\" alt=\"Open In Colab\"/></a>"
   ]
  },
  {
   "cell_type": "markdown",
   "metadata": {
    "id": "zO4bRoxr2Apy"
   },
   "source": [
    "**Diplomatura en Ciencia de Datos, Aprendizaje Automático y sus Aplicaciones**\n",
    "\n",
    "**Exploración y Curación de Datos**\n",
    "\n",
    "*Edición 2021*\n",
    "\n",
    "----\n",
    "\n",
    "# Trabajo práctico entregable - parte 2\n",
    "\n",
    "\n",
    "En el ejercicio 2 de la parte 1 del entregable seleccionaron las filas y columnas relevantes al problema de predicción de precios de una propiedad e imputaron los valores faltantes de las columnas `Suburb` y las columnas obtenidas a partir del conjunto de datos `airbnb`.\n",
    "\n",
    "En esta notebook, **se utilizará resultado de dichas operaciones.** que fue guardado en un archivo (Ejercicio 3 entregable 1). \n"
   ]
  },
  {
   "cell_type": "code",
   "execution_count": 59,
   "metadata": {
    "id": "4udjxjk1EtVU"
   },
   "outputs": [],
   "source": [
    "import matplotlib.pyplot as plt\n",
    "import numpy as np\n",
    "import pandas as pd\n",
    "from sklearn.preprocessing import OneHotEncoder\n",
    "from sklearn.compose import make_column_transformer\n",
    "\n",
    "from sklearn.experimental import enable_iterative_imputer\n",
    "from sklearn.neighbors import KNeighborsRegressor\n",
    "from sklearn.impute import IterativeImputer\n",
    "from sklearn.preprocessing import MinMaxScaler\n",
    "from sklearn.decomposition import PCA\n",
    "\n",
    "import seaborn as sns\n",
    "\n",
    "sns.set_context('talk')"
   ]
  },
  {
   "cell_type": "code",
   "execution_count": 2,
   "metadata": {
    "colab": {
     "base_uri": "https://localhost:8080/",
     "height": 227
    },
    "id": "_qeFN3GnEvMk",
    "outputId": "02e6e659-1be0-414f-a6a0-8f8298bb84d7"
   },
   "outputs": [
    {
     "data": {
      "text/html": [
       "<div>\n",
       "<style scoped>\n",
       "    .dataframe tbody tr th:only-of-type {\n",
       "        vertical-align: middle;\n",
       "    }\n",
       "\n",
       "    .dataframe tbody tr th {\n",
       "        vertical-align: top;\n",
       "    }\n",
       "\n",
       "    .dataframe thead th {\n",
       "        text-align: right;\n",
       "    }\n",
       "</style>\n",
       "<table border=\"1\" class=\"dataframe\">\n",
       "  <thead>\n",
       "    <tr style=\"text-align: right;\">\n",
       "      <th></th>\n",
       "      <th>Suburb</th>\n",
       "      <th>Rooms</th>\n",
       "      <th>Type</th>\n",
       "      <th>Price</th>\n",
       "      <th>Method</th>\n",
       "      <th>Distance</th>\n",
       "      <th>Postcode</th>\n",
       "      <th>Bathroom</th>\n",
       "      <th>Car</th>\n",
       "      <th>BuildingArea</th>\n",
       "      <th>YearBuilt</th>\n",
       "      <th>CouncilArea</th>\n",
       "      <th>Lattitude</th>\n",
       "      <th>Longtitude</th>\n",
       "      <th>Regionname</th>\n",
       "      <th>zipcode</th>\n",
       "      <th>airbnb_price_mean</th>\n",
       "      <th>airbnb_price_count</th>\n",
       "    </tr>\n",
       "  </thead>\n",
       "  <tbody>\n",
       "    <tr>\n",
       "      <th>0</th>\n",
       "      <td>Abbotsford</td>\n",
       "      <td>2</td>\n",
       "      <td>h</td>\n",
       "      <td>1480000.0</td>\n",
       "      <td>S</td>\n",
       "      <td>2.5</td>\n",
       "      <td>3067.0</td>\n",
       "      <td>1.0</td>\n",
       "      <td>1.0</td>\n",
       "      <td>NaN</td>\n",
       "      <td>NaN</td>\n",
       "      <td>Yarra</td>\n",
       "      <td>-37.7996</td>\n",
       "      <td>144.9984</td>\n",
       "      <td>Northern Metropolitan</td>\n",
       "      <td>3067.0</td>\n",
       "      <td>140.292994</td>\n",
       "      <td>157.0</td>\n",
       "    </tr>\n",
       "    <tr>\n",
       "      <th>1</th>\n",
       "      <td>Abbotsford</td>\n",
       "      <td>2</td>\n",
       "      <td>h</td>\n",
       "      <td>1480000.0</td>\n",
       "      <td>S</td>\n",
       "      <td>2.5</td>\n",
       "      <td>3067.0</td>\n",
       "      <td>1.0</td>\n",
       "      <td>1.0</td>\n",
       "      <td>NaN</td>\n",
       "      <td>NaN</td>\n",
       "      <td>Yarra</td>\n",
       "      <td>-37.7996</td>\n",
       "      <td>144.9984</td>\n",
       "      <td>Northern Metropolitan</td>\n",
       "      <td>3067.0</td>\n",
       "      <td>115.594059</td>\n",
       "      <td>101.0</td>\n",
       "    </tr>\n",
       "    <tr>\n",
       "      <th>2</th>\n",
       "      <td>Abbotsford</td>\n",
       "      <td>2</td>\n",
       "      <td>h</td>\n",
       "      <td>1035000.0</td>\n",
       "      <td>S</td>\n",
       "      <td>2.5</td>\n",
       "      <td>3067.0</td>\n",
       "      <td>1.0</td>\n",
       "      <td>0.0</td>\n",
       "      <td>79.0</td>\n",
       "      <td>1900.0</td>\n",
       "      <td>Yarra</td>\n",
       "      <td>-37.8079</td>\n",
       "      <td>144.9934</td>\n",
       "      <td>Northern Metropolitan</td>\n",
       "      <td>3067.0</td>\n",
       "      <td>140.292994</td>\n",
       "      <td>157.0</td>\n",
       "    </tr>\n",
       "  </tbody>\n",
       "</table>\n",
       "</div>"
      ],
      "text/plain": [
       "       Suburb  Rooms Type      Price Method  Distance  Postcode  Bathroom  \\\n",
       "0  Abbotsford      2    h  1480000.0      S       2.5    3067.0       1.0   \n",
       "1  Abbotsford      2    h  1480000.0      S       2.5    3067.0       1.0   \n",
       "2  Abbotsford      2    h  1035000.0      S       2.5    3067.0       1.0   \n",
       "\n",
       "   Car  BuildingArea  YearBuilt CouncilArea  Lattitude  Longtitude  \\\n",
       "0  1.0           NaN        NaN       Yarra   -37.7996    144.9984   \n",
       "1  1.0           NaN        NaN       Yarra   -37.7996    144.9984   \n",
       "2  0.0          79.0     1900.0       Yarra   -37.8079    144.9934   \n",
       "\n",
       "              Regionname  zipcode  airbnb_price_mean  airbnb_price_count  \n",
       "0  Northern Metropolitan   3067.0         140.292994               157.0  \n",
       "1  Northern Metropolitan   3067.0         115.594059               101.0  \n",
       "2  Northern Metropolitan   3067.0         140.292994               157.0  "
      ]
     },
     "execution_count": 2,
     "metadata": {},
     "output_type": "execute_result"
    }
   ],
   "source": [
    "# Acá deberían leer el conjunto de datos que ya tienen.\n",
    "melb_df = pd.read_csv('melb_df_merged.csv')\n",
    "melb_df[:3]"
   ]
  },
  {
   "cell_type": "markdown",
   "metadata": {
    "id": "s-mixICN22kA"
   },
   "source": [
    "## Ejercicio 1: Encoding\n",
    "\n",
    "1. Seleccionar todas las filas y columnas del conjunto de datos obtenido en la parte 1 del entregable, **excepto** `BuildingArea` y `YearBuilt`, que volveremos a imputar más adelante.\n",
    "\n",
    "2. Aplicar una codificación One-hot encoding a cada fila, tanto para variables numéricas como categóricas. Si lo consideran necesario, pueden volver a reducir el número de categorías únicas.\n",
    "\n",
    "Algunas opciones:\n",
    "  1. Utilizar `OneHotEncoder` junto con el parámetro `categories` para las variables categóricas y luego usar `numpy.hstack` para concatenar el resultado con las variables numéricas. \n",
    "  2. `DictVectorizer` con algunos pasos de pre-proceso previo.\n",
    "\n",
    "Recordar también que el atributo `pandas.DataFrame.values` permite acceder a la matriz de numpy subyacente a un DataFrame.\n"
   ]
  },
  {
   "cell_type": "code",
   "execution_count": 3,
   "metadata": {},
   "outputs": [
    {
     "data": {
      "text/plain": [
       "Index(['Suburb', 'Rooms', 'Type', 'Price', 'Method', 'Distance', 'Postcode',\n",
       "       'Bathroom', 'Car', 'BuildingArea', 'YearBuilt', 'CouncilArea',\n",
       "       'Lattitude', 'Longtitude', 'Regionname', 'zipcode', 'airbnb_price_mean',\n",
       "       'airbnb_price_count'],\n",
       "      dtype='object')"
      ]
     },
     "execution_count": 3,
     "metadata": {},
     "output_type": "execute_result"
    }
   ],
   "source": [
    "melb_df.columns"
   ]
  },
  {
   "cell_type": "markdown",
   "metadata": {},
   "source": [
    "Quitamos algunas columnas que no nos aportan valor, como \"zipcode\" (ya que al hacer merge anteriormente, sabemos que tiene los mismos valores que Postcode), \"Lattitude\" y \"Longitude\"."
   ]
  },
  {
   "cell_type": "code",
   "execution_count": 4,
   "metadata": {},
   "outputs": [
    {
     "data": {
      "text/html": [
       "<div>\n",
       "<style scoped>\n",
       "    .dataframe tbody tr th:only-of-type {\n",
       "        vertical-align: middle;\n",
       "    }\n",
       "\n",
       "    .dataframe tbody tr th {\n",
       "        vertical-align: top;\n",
       "    }\n",
       "\n",
       "    .dataframe thead th {\n",
       "        text-align: right;\n",
       "    }\n",
       "</style>\n",
       "<table border=\"1\" class=\"dataframe\">\n",
       "  <thead>\n",
       "    <tr style=\"text-align: right;\">\n",
       "      <th></th>\n",
       "      <th>Suburb</th>\n",
       "      <th>Rooms</th>\n",
       "      <th>Type</th>\n",
       "      <th>Price</th>\n",
       "      <th>Method</th>\n",
       "      <th>Distance</th>\n",
       "      <th>Postcode</th>\n",
       "      <th>Bathroom</th>\n",
       "      <th>Car</th>\n",
       "      <th>BuildingArea</th>\n",
       "      <th>YearBuilt</th>\n",
       "      <th>CouncilArea</th>\n",
       "      <th>Regionname</th>\n",
       "      <th>airbnb_price_mean</th>\n",
       "      <th>airbnb_price_count</th>\n",
       "    </tr>\n",
       "  </thead>\n",
       "  <tbody>\n",
       "    <tr>\n",
       "      <th>0</th>\n",
       "      <td>Abbotsford</td>\n",
       "      <td>2</td>\n",
       "      <td>h</td>\n",
       "      <td>1480000.0</td>\n",
       "      <td>S</td>\n",
       "      <td>2.5</td>\n",
       "      <td>3067.0</td>\n",
       "      <td>1.0</td>\n",
       "      <td>1.0</td>\n",
       "      <td>NaN</td>\n",
       "      <td>NaN</td>\n",
       "      <td>Yarra</td>\n",
       "      <td>Northern Metropolitan</td>\n",
       "      <td>140.292994</td>\n",
       "      <td>157.0</td>\n",
       "    </tr>\n",
       "    <tr>\n",
       "      <th>1</th>\n",
       "      <td>Abbotsford</td>\n",
       "      <td>2</td>\n",
       "      <td>h</td>\n",
       "      <td>1480000.0</td>\n",
       "      <td>S</td>\n",
       "      <td>2.5</td>\n",
       "      <td>3067.0</td>\n",
       "      <td>1.0</td>\n",
       "      <td>1.0</td>\n",
       "      <td>NaN</td>\n",
       "      <td>NaN</td>\n",
       "      <td>Yarra</td>\n",
       "      <td>Northern Metropolitan</td>\n",
       "      <td>115.594059</td>\n",
       "      <td>101.0</td>\n",
       "    </tr>\n",
       "    <tr>\n",
       "      <th>2</th>\n",
       "      <td>Abbotsford</td>\n",
       "      <td>2</td>\n",
       "      <td>h</td>\n",
       "      <td>1035000.0</td>\n",
       "      <td>S</td>\n",
       "      <td>2.5</td>\n",
       "      <td>3067.0</td>\n",
       "      <td>1.0</td>\n",
       "      <td>0.0</td>\n",
       "      <td>79.0</td>\n",
       "      <td>1900.0</td>\n",
       "      <td>Yarra</td>\n",
       "      <td>Northern Metropolitan</td>\n",
       "      <td>140.292994</td>\n",
       "      <td>157.0</td>\n",
       "    </tr>\n",
       "    <tr>\n",
       "      <th>3</th>\n",
       "      <td>Abbotsford</td>\n",
       "      <td>2</td>\n",
       "      <td>h</td>\n",
       "      <td>1035000.0</td>\n",
       "      <td>S</td>\n",
       "      <td>2.5</td>\n",
       "      <td>3067.0</td>\n",
       "      <td>1.0</td>\n",
       "      <td>0.0</td>\n",
       "      <td>79.0</td>\n",
       "      <td>1900.0</td>\n",
       "      <td>Yarra</td>\n",
       "      <td>Northern Metropolitan</td>\n",
       "      <td>115.594059</td>\n",
       "      <td>101.0</td>\n",
       "    </tr>\n",
       "    <tr>\n",
       "      <th>4</th>\n",
       "      <td>Abbotsford</td>\n",
       "      <td>3</td>\n",
       "      <td>h</td>\n",
       "      <td>1465000.0</td>\n",
       "      <td>SP</td>\n",
       "      <td>2.5</td>\n",
       "      <td>3067.0</td>\n",
       "      <td>2.0</td>\n",
       "      <td>0.0</td>\n",
       "      <td>150.0</td>\n",
       "      <td>1900.0</td>\n",
       "      <td>Yarra</td>\n",
       "      <td>Northern Metropolitan</td>\n",
       "      <td>140.292994</td>\n",
       "      <td>157.0</td>\n",
       "    </tr>\n",
       "  </tbody>\n",
       "</table>\n",
       "</div>"
      ],
      "text/plain": [
       "       Suburb  Rooms Type      Price Method  Distance  Postcode  Bathroom  \\\n",
       "0  Abbotsford      2    h  1480000.0      S       2.5    3067.0       1.0   \n",
       "1  Abbotsford      2    h  1480000.0      S       2.5    3067.0       1.0   \n",
       "2  Abbotsford      2    h  1035000.0      S       2.5    3067.0       1.0   \n",
       "3  Abbotsford      2    h  1035000.0      S       2.5    3067.0       1.0   \n",
       "4  Abbotsford      3    h  1465000.0     SP       2.5    3067.0       2.0   \n",
       "\n",
       "   Car  BuildingArea  YearBuilt CouncilArea             Regionname  \\\n",
       "0  1.0           NaN        NaN       Yarra  Northern Metropolitan   \n",
       "1  1.0           NaN        NaN       Yarra  Northern Metropolitan   \n",
       "2  0.0          79.0     1900.0       Yarra  Northern Metropolitan   \n",
       "3  0.0          79.0     1900.0       Yarra  Northern Metropolitan   \n",
       "4  0.0         150.0     1900.0       Yarra  Northern Metropolitan   \n",
       "\n",
       "   airbnb_price_mean  airbnb_price_count  \n",
       "0         140.292994               157.0  \n",
       "1         115.594059               101.0  \n",
       "2         140.292994               157.0  \n",
       "3         115.594059               101.0  \n",
       "4         140.292994               157.0  "
      ]
     },
     "execution_count": 4,
     "metadata": {},
     "output_type": "execute_result"
    }
   ],
   "source": [
    "melb_aux = melb_df.copy()\n",
    "filter_columns = ['Suburb', 'Rooms', 'Type', 'Price', 'Method', 'Distance', 'Postcode',\n",
    "       'Bathroom', 'Car', 'BuildingArea', 'YearBuilt', 'CouncilArea',\n",
    "       'Regionname', 'airbnb_price_mean',\n",
    "       'airbnb_price_count']\n",
    "melb_aux = melb_aux[filter_columns]\n",
    "melb_aux.head()"
   ]
  },
  {
   "cell_type": "code",
   "execution_count": 5,
   "metadata": {},
   "outputs": [
    {
     "name": "stdout",
     "output_type": "stream",
     "text": [
      "<class 'pandas.core.frame.DataFrame'>\n",
      "RangeIndex: 26866 entries, 0 to 26865\n",
      "Data columns (total 15 columns):\n",
      " #   Column              Non-Null Count  Dtype  \n",
      "---  ------              --------------  -----  \n",
      " 0   Suburb              26866 non-null  object \n",
      " 1   Rooms               26866 non-null  int64  \n",
      " 2   Type                26866 non-null  object \n",
      " 3   Price               26866 non-null  float64\n",
      " 4   Method              26866 non-null  object \n",
      " 5   Distance            26866 non-null  float64\n",
      " 6   Postcode            26866 non-null  float64\n",
      " 7   Bathroom            26866 non-null  float64\n",
      " 8   Car                 26743 non-null  float64\n",
      " 9   BuildingArea        14118 non-null  float64\n",
      " 10  YearBuilt           16252 non-null  float64\n",
      " 11  CouncilArea         24155 non-null  object \n",
      " 12  Regionname          26866 non-null  object \n",
      " 13  airbnb_price_mean   26847 non-null  float64\n",
      " 14  airbnb_price_count  26847 non-null  float64\n",
      "dtypes: float64(9), int64(1), object(5)\n",
      "memory usage: 3.1+ MB\n"
     ]
    }
   ],
   "source": [
    "melb_aux.info()"
   ]
  },
  {
   "cell_type": "code",
   "execution_count": 6,
   "metadata": {},
   "outputs": [
    {
     "data": {
      "text/plain": [
       "Suburb                    0\n",
       "Rooms                     0\n",
       "Type                      0\n",
       "Price                     0\n",
       "Method                    0\n",
       "Distance                  0\n",
       "Postcode                  0\n",
       "Bathroom                  0\n",
       "Car                     123\n",
       "BuildingArea          12748\n",
       "YearBuilt             10614\n",
       "CouncilArea            2711\n",
       "Regionname                0\n",
       "airbnb_price_mean        19\n",
       "airbnb_price_count       19\n",
       "dtype: int64"
      ]
     },
     "execution_count": 6,
     "metadata": {},
     "output_type": "execute_result"
    }
   ],
   "source": [
    "melb_aux.isna().sum()"
   ]
  },
  {
   "cell_type": "markdown",
   "metadata": {},
   "source": [
    "Como son pocos valores nulos en la columna \"Car\", los llenamos con 0 suponiendo que no lo completaron porque realmente no tiene cochera ese lugar."
   ]
  },
  {
   "cell_type": "code",
   "execution_count": 7,
   "metadata": {},
   "outputs": [],
   "source": [
    "melb_aux['Car'] = melb_aux['Car'].fillna(0)"
   ]
  },
  {
   "cell_type": "code",
   "execution_count": 8,
   "metadata": {},
   "outputs": [
    {
     "data": {
      "text/html": [
       "<div>\n",
       "<style scoped>\n",
       "    .dataframe tbody tr th:only-of-type {\n",
       "        vertical-align: middle;\n",
       "    }\n",
       "\n",
       "    .dataframe tbody tr th {\n",
       "        vertical-align: top;\n",
       "    }\n",
       "\n",
       "    .dataframe thead th {\n",
       "        text-align: right;\n",
       "    }\n",
       "</style>\n",
       "<table border=\"1\" class=\"dataframe\">\n",
       "  <thead>\n",
       "    <tr style=\"text-align: right;\">\n",
       "      <th></th>\n",
       "      <th>Suburb</th>\n",
       "      <th>Rooms</th>\n",
       "      <th>Type</th>\n",
       "      <th>Price</th>\n",
       "      <th>Method</th>\n",
       "      <th>Distance</th>\n",
       "      <th>Postcode</th>\n",
       "      <th>Bathroom</th>\n",
       "      <th>Car</th>\n",
       "      <th>BuildingArea</th>\n",
       "      <th>YearBuilt</th>\n",
       "      <th>CouncilArea</th>\n",
       "      <th>Regionname</th>\n",
       "      <th>airbnb_price_mean</th>\n",
       "      <th>airbnb_price_count</th>\n",
       "    </tr>\n",
       "  </thead>\n",
       "  <tbody>\n",
       "    <tr>\n",
       "      <th>0</th>\n",
       "      <td>Abbotsford</td>\n",
       "      <td>2</td>\n",
       "      <td>h</td>\n",
       "      <td>1480000.0</td>\n",
       "      <td>S</td>\n",
       "      <td>2.5</td>\n",
       "      <td>3067.0</td>\n",
       "      <td>1.0</td>\n",
       "      <td>1.0</td>\n",
       "      <td>NaN</td>\n",
       "      <td>NaN</td>\n",
       "      <td>Yarra</td>\n",
       "      <td>Northern Metropolitan</td>\n",
       "      <td>140.292994</td>\n",
       "      <td>157.0</td>\n",
       "    </tr>\n",
       "    <tr>\n",
       "      <th>1</th>\n",
       "      <td>Abbotsford</td>\n",
       "      <td>2</td>\n",
       "      <td>h</td>\n",
       "      <td>1480000.0</td>\n",
       "      <td>S</td>\n",
       "      <td>2.5</td>\n",
       "      <td>3067.0</td>\n",
       "      <td>1.0</td>\n",
       "      <td>1.0</td>\n",
       "      <td>NaN</td>\n",
       "      <td>NaN</td>\n",
       "      <td>Yarra</td>\n",
       "      <td>Northern Metropolitan</td>\n",
       "      <td>115.594059</td>\n",
       "      <td>101.0</td>\n",
       "    </tr>\n",
       "    <tr>\n",
       "      <th>2</th>\n",
       "      <td>Abbotsford</td>\n",
       "      <td>2</td>\n",
       "      <td>h</td>\n",
       "      <td>1035000.0</td>\n",
       "      <td>S</td>\n",
       "      <td>2.5</td>\n",
       "      <td>3067.0</td>\n",
       "      <td>1.0</td>\n",
       "      <td>0.0</td>\n",
       "      <td>79.0</td>\n",
       "      <td>1900.0</td>\n",
       "      <td>Yarra</td>\n",
       "      <td>Northern Metropolitan</td>\n",
       "      <td>140.292994</td>\n",
       "      <td>157.0</td>\n",
       "    </tr>\n",
       "    <tr>\n",
       "      <th>3</th>\n",
       "      <td>Abbotsford</td>\n",
       "      <td>2</td>\n",
       "      <td>h</td>\n",
       "      <td>1035000.0</td>\n",
       "      <td>S</td>\n",
       "      <td>2.5</td>\n",
       "      <td>3067.0</td>\n",
       "      <td>1.0</td>\n",
       "      <td>0.0</td>\n",
       "      <td>79.0</td>\n",
       "      <td>1900.0</td>\n",
       "      <td>Yarra</td>\n",
       "      <td>Northern Metropolitan</td>\n",
       "      <td>115.594059</td>\n",
       "      <td>101.0</td>\n",
       "    </tr>\n",
       "    <tr>\n",
       "      <th>4</th>\n",
       "      <td>Abbotsford</td>\n",
       "      <td>3</td>\n",
       "      <td>h</td>\n",
       "      <td>1465000.0</td>\n",
       "      <td>SP</td>\n",
       "      <td>2.5</td>\n",
       "      <td>3067.0</td>\n",
       "      <td>2.0</td>\n",
       "      <td>0.0</td>\n",
       "      <td>150.0</td>\n",
       "      <td>1900.0</td>\n",
       "      <td>Yarra</td>\n",
       "      <td>Northern Metropolitan</td>\n",
       "      <td>140.292994</td>\n",
       "      <td>157.0</td>\n",
       "    </tr>\n",
       "  </tbody>\n",
       "</table>\n",
       "</div>"
      ],
      "text/plain": [
       "       Suburb  Rooms Type      Price Method  Distance  Postcode  Bathroom  \\\n",
       "0  Abbotsford      2    h  1480000.0      S       2.5    3067.0       1.0   \n",
       "1  Abbotsford      2    h  1480000.0      S       2.5    3067.0       1.0   \n",
       "2  Abbotsford      2    h  1035000.0      S       2.5    3067.0       1.0   \n",
       "3  Abbotsford      2    h  1035000.0      S       2.5    3067.0       1.0   \n",
       "4  Abbotsford      3    h  1465000.0     SP       2.5    3067.0       2.0   \n",
       "\n",
       "   Car  BuildingArea  YearBuilt CouncilArea             Regionname  \\\n",
       "0  1.0           NaN        NaN       Yarra  Northern Metropolitan   \n",
       "1  1.0           NaN        NaN       Yarra  Northern Metropolitan   \n",
       "2  0.0          79.0     1900.0       Yarra  Northern Metropolitan   \n",
       "3  0.0          79.0     1900.0       Yarra  Northern Metropolitan   \n",
       "4  0.0         150.0     1900.0       Yarra  Northern Metropolitan   \n",
       "\n",
       "   airbnb_price_mean  airbnb_price_count  \n",
       "0         140.292994               157.0  \n",
       "1         115.594059               101.0  \n",
       "2         140.292994               157.0  \n",
       "3         115.594059               101.0  \n",
       "4         140.292994               157.0  "
      ]
     },
     "execution_count": 8,
     "metadata": {},
     "output_type": "execute_result"
    }
   ],
   "source": [
    "melb_aux.head()"
   ]
  },
  {
   "cell_type": "markdown",
   "metadata": {},
   "source": [
    "De las columnas categóricas que nos quedan, veremos cuantos valores distintos tiene cada una para ver si conviene hacer alguna reducción de categorías únicas."
   ]
  },
  {
   "cell_type": "code",
   "execution_count": 9,
   "metadata": {},
   "outputs": [
    {
     "name": "stdout",
     "output_type": "stream",
     "text": [
      "En la columna Suburb hay 313 valores distintos.\n",
      "En la columna Type hay 3 valores distintos.\n",
      "En la columna Method hay 5 valores distintos.\n",
      "En la columna CouncilArea hay 33 valores distintos.\n",
      "En la columna Regionname hay 8 valores distintos.\n"
     ]
    }
   ],
   "source": [
    "for a in melb_aux.select_dtypes(include='object').columns:\n",
    "    print('En la columna {} hay {} valores distintos.'.format(a, melb_aux[a].nunique()))"
   ]
  },
  {
   "cell_type": "markdown",
   "metadata": {},
   "source": [
    "Vamos a reducir las categorías en las columnas Suburb y CouncilArea, dejando las que tienen una frecuencia mínima de 250 en el caso de la primera y 125 en el caso de la segunda. Las categorías debajo de esos mínimos se agruparon bajo \"Other\"."
   ]
  },
  {
   "cell_type": "code",
   "execution_count": 10,
   "metadata": {},
   "outputs": [],
   "source": [
    "#Creamos categoría otros para categorías con frecuencias menores a 250 en la columna Suburb\n",
    "OtherCat = melb_aux.Suburb.value_counts() [melb_aux.Suburb.value_counts() < 250]\n",
    "melb_aux['Suburb'] = np.where(melb_aux['Suburb'].isin(OtherCat.index.to_list()), 'Other', melb_aux['Suburb'])\n",
    "\n",
    "#Creamos categoría otros para categorías con frecuencias menores a 125 en la columna ConcilArea\n",
    "OtherCat = melb_aux.CouncilArea.value_counts() [melb_aux.CouncilArea.value_counts() < 125]\n",
    "melb_aux['CouncilArea'] = np.where(melb_aux['CouncilArea'].isin(OtherCat.index.to_list()), 'Other', melb_aux['CouncilArea'])"
   ]
  },
  {
   "cell_type": "code",
   "execution_count": 11,
   "metadata": {},
   "outputs": [
    {
     "name": "stdout",
     "output_type": "stream",
     "text": [
      "En la columna Suburb hay 32 valores distintos.\n",
      "En la columna Type hay 3 valores distintos.\n",
      "En la columna Method hay 5 valores distintos.\n",
      "En la columna CouncilArea hay 25 valores distintos.\n",
      "En la columna Regionname hay 8 valores distintos.\n"
     ]
    }
   ],
   "source": [
    "for a in melb_aux.select_dtypes(include='object').columns:\n",
    "    print('En la columna {} hay {} valores distintos.'.format(a, melb_aux[a].nunique()))"
   ]
  },
  {
   "cell_type": "markdown",
   "metadata": {},
   "source": [
    "Ademas de las columnas categóricas especificadas como \"Object\", incluyo las columnas Rooms, Bathroom y Car ya que considero que por más que sean numéricas, corresponden a variables categóricas cada una de ellas."
   ]
  },
  {
   "cell_type": "code",
   "execution_count": 30,
   "metadata": {},
   "outputs": [],
   "source": [
    "categorical_cols = ['Suburb', 'Type', 'Method', 'CouncilArea', 'Regionname', 'Rooms', 'Bathroom', 'Car']"
   ]
  },
  {
   "cell_type": "code",
   "execution_count": 31,
   "metadata": {},
   "outputs": [],
   "source": [
    "numeric_cols = melb_aux.columns[~melb_aux.columns.isin(categorical_cols)].tolist()"
   ]
  },
  {
   "cell_type": "code",
   "execution_count": 32,
   "metadata": {},
   "outputs": [
    {
     "data": {
      "text/plain": [
       "['Price',\n",
       " 'Distance',\n",
       " 'Postcode',\n",
       " 'BuildingArea',\n",
       " 'YearBuilt',\n",
       " 'airbnb_price_mean',\n",
       " 'airbnb_price_count']"
      ]
     },
     "execution_count": 32,
     "metadata": {},
     "output_type": "execute_result"
    }
   ],
   "source": [
    "numeric_cols"
   ]
  },
  {
   "cell_type": "code",
   "execution_count": 33,
   "metadata": {},
   "outputs": [
    {
     "data": {
      "text/html": [
       "<div>\n",
       "<style scoped>\n",
       "    .dataframe tbody tr th:only-of-type {\n",
       "        vertical-align: middle;\n",
       "    }\n",
       "\n",
       "    .dataframe tbody tr th {\n",
       "        vertical-align: top;\n",
       "    }\n",
       "\n",
       "    .dataframe thead th {\n",
       "        text-align: right;\n",
       "    }\n",
       "</style>\n",
       "<table border=\"1\" class=\"dataframe\">\n",
       "  <thead>\n",
       "    <tr style=\"text-align: right;\">\n",
       "      <th></th>\n",
       "      <th>onehotencoder__Suburb_Ascot Vale</th>\n",
       "      <th>onehotencoder__Suburb_Balwyn North</th>\n",
       "      <th>onehotencoder__Suburb_Bentleigh</th>\n",
       "      <th>onehotencoder__Suburb_Bentleigh East</th>\n",
       "      <th>onehotencoder__Suburb_Brighton</th>\n",
       "      <th>onehotencoder__Suburb_Brighton East</th>\n",
       "      <th>onehotencoder__Suburb_Brunswick</th>\n",
       "      <th>onehotencoder__Suburb_Camberwell</th>\n",
       "      <th>onehotencoder__Suburb_Carnegie</th>\n",
       "      <th>onehotencoder__Suburb_Coburg</th>\n",
       "      <th>...</th>\n",
       "      <th>onehotencoder__Car_8.0</th>\n",
       "      <th>onehotencoder__Car_9.0</th>\n",
       "      <th>onehotencoder__Car_10.0</th>\n",
       "      <th>remainder__Price</th>\n",
       "      <th>remainder__Distance</th>\n",
       "      <th>remainder__Postcode</th>\n",
       "      <th>remainder__BuildingArea</th>\n",
       "      <th>remainder__YearBuilt</th>\n",
       "      <th>remainder__airbnb_price_mean</th>\n",
       "      <th>remainder__airbnb_price_count</th>\n",
       "    </tr>\n",
       "  </thead>\n",
       "  <tbody>\n",
       "    <tr>\n",
       "      <th>0</th>\n",
       "      <td>0.0</td>\n",
       "      <td>0.0</td>\n",
       "      <td>0.0</td>\n",
       "      <td>0.0</td>\n",
       "      <td>0.0</td>\n",
       "      <td>0.0</td>\n",
       "      <td>0.0</td>\n",
       "      <td>0.0</td>\n",
       "      <td>0.0</td>\n",
       "      <td>0.0</td>\n",
       "      <td>...</td>\n",
       "      <td>0.0</td>\n",
       "      <td>0.0</td>\n",
       "      <td>0.0</td>\n",
       "      <td>1480000.0</td>\n",
       "      <td>2.5</td>\n",
       "      <td>3067.0</td>\n",
       "      <td>NaN</td>\n",
       "      <td>NaN</td>\n",
       "      <td>140.292994</td>\n",
       "      <td>157.0</td>\n",
       "    </tr>\n",
       "    <tr>\n",
       "      <th>1</th>\n",
       "      <td>0.0</td>\n",
       "      <td>0.0</td>\n",
       "      <td>0.0</td>\n",
       "      <td>0.0</td>\n",
       "      <td>0.0</td>\n",
       "      <td>0.0</td>\n",
       "      <td>0.0</td>\n",
       "      <td>0.0</td>\n",
       "      <td>0.0</td>\n",
       "      <td>0.0</td>\n",
       "      <td>...</td>\n",
       "      <td>0.0</td>\n",
       "      <td>0.0</td>\n",
       "      <td>0.0</td>\n",
       "      <td>1480000.0</td>\n",
       "      <td>2.5</td>\n",
       "      <td>3067.0</td>\n",
       "      <td>NaN</td>\n",
       "      <td>NaN</td>\n",
       "      <td>115.594059</td>\n",
       "      <td>101.0</td>\n",
       "    </tr>\n",
       "    <tr>\n",
       "      <th>2</th>\n",
       "      <td>0.0</td>\n",
       "      <td>0.0</td>\n",
       "      <td>0.0</td>\n",
       "      <td>0.0</td>\n",
       "      <td>0.0</td>\n",
       "      <td>0.0</td>\n",
       "      <td>0.0</td>\n",
       "      <td>0.0</td>\n",
       "      <td>0.0</td>\n",
       "      <td>0.0</td>\n",
       "      <td>...</td>\n",
       "      <td>0.0</td>\n",
       "      <td>0.0</td>\n",
       "      <td>0.0</td>\n",
       "      <td>1035000.0</td>\n",
       "      <td>2.5</td>\n",
       "      <td>3067.0</td>\n",
       "      <td>79.0</td>\n",
       "      <td>1900.0</td>\n",
       "      <td>140.292994</td>\n",
       "      <td>157.0</td>\n",
       "    </tr>\n",
       "    <tr>\n",
       "      <th>3</th>\n",
       "      <td>0.0</td>\n",
       "      <td>0.0</td>\n",
       "      <td>0.0</td>\n",
       "      <td>0.0</td>\n",
       "      <td>0.0</td>\n",
       "      <td>0.0</td>\n",
       "      <td>0.0</td>\n",
       "      <td>0.0</td>\n",
       "      <td>0.0</td>\n",
       "      <td>0.0</td>\n",
       "      <td>...</td>\n",
       "      <td>0.0</td>\n",
       "      <td>0.0</td>\n",
       "      <td>0.0</td>\n",
       "      <td>1035000.0</td>\n",
       "      <td>2.5</td>\n",
       "      <td>3067.0</td>\n",
       "      <td>79.0</td>\n",
       "      <td>1900.0</td>\n",
       "      <td>115.594059</td>\n",
       "      <td>101.0</td>\n",
       "    </tr>\n",
       "    <tr>\n",
       "      <th>4</th>\n",
       "      <td>0.0</td>\n",
       "      <td>0.0</td>\n",
       "      <td>0.0</td>\n",
       "      <td>0.0</td>\n",
       "      <td>0.0</td>\n",
       "      <td>0.0</td>\n",
       "      <td>0.0</td>\n",
       "      <td>0.0</td>\n",
       "      <td>0.0</td>\n",
       "      <td>0.0</td>\n",
       "      <td>...</td>\n",
       "      <td>0.0</td>\n",
       "      <td>0.0</td>\n",
       "      <td>0.0</td>\n",
       "      <td>1465000.0</td>\n",
       "      <td>2.5</td>\n",
       "      <td>3067.0</td>\n",
       "      <td>150.0</td>\n",
       "      <td>1900.0</td>\n",
       "      <td>140.292994</td>\n",
       "      <td>157.0</td>\n",
       "    </tr>\n",
       "  </tbody>\n",
       "</table>\n",
       "<p>5 rows × 110 columns</p>\n",
       "</div>"
      ],
      "text/plain": [
       "   onehotencoder__Suburb_Ascot Vale  onehotencoder__Suburb_Balwyn North  \\\n",
       "0                               0.0                                 0.0   \n",
       "1                               0.0                                 0.0   \n",
       "2                               0.0                                 0.0   \n",
       "3                               0.0                                 0.0   \n",
       "4                               0.0                                 0.0   \n",
       "\n",
       "   onehotencoder__Suburb_Bentleigh  onehotencoder__Suburb_Bentleigh East  \\\n",
       "0                              0.0                                   0.0   \n",
       "1                              0.0                                   0.0   \n",
       "2                              0.0                                   0.0   \n",
       "3                              0.0                                   0.0   \n",
       "4                              0.0                                   0.0   \n",
       "\n",
       "   onehotencoder__Suburb_Brighton  onehotencoder__Suburb_Brighton East  \\\n",
       "0                             0.0                                  0.0   \n",
       "1                             0.0                                  0.0   \n",
       "2                             0.0                                  0.0   \n",
       "3                             0.0                                  0.0   \n",
       "4                             0.0                                  0.0   \n",
       "\n",
       "   onehotencoder__Suburb_Brunswick  onehotencoder__Suburb_Camberwell  \\\n",
       "0                              0.0                               0.0   \n",
       "1                              0.0                               0.0   \n",
       "2                              0.0                               0.0   \n",
       "3                              0.0                               0.0   \n",
       "4                              0.0                               0.0   \n",
       "\n",
       "   onehotencoder__Suburb_Carnegie  onehotencoder__Suburb_Coburg  ...  \\\n",
       "0                             0.0                           0.0  ...   \n",
       "1                             0.0                           0.0  ...   \n",
       "2                             0.0                           0.0  ...   \n",
       "3                             0.0                           0.0  ...   \n",
       "4                             0.0                           0.0  ...   \n",
       "\n",
       "   onehotencoder__Car_8.0  onehotencoder__Car_9.0  onehotencoder__Car_10.0  \\\n",
       "0                     0.0                     0.0                      0.0   \n",
       "1                     0.0                     0.0                      0.0   \n",
       "2                     0.0                     0.0                      0.0   \n",
       "3                     0.0                     0.0                      0.0   \n",
       "4                     0.0                     0.0                      0.0   \n",
       "\n",
       "   remainder__Price  remainder__Distance  remainder__Postcode  \\\n",
       "0         1480000.0                  2.5               3067.0   \n",
       "1         1480000.0                  2.5               3067.0   \n",
       "2         1035000.0                  2.5               3067.0   \n",
       "3         1035000.0                  2.5               3067.0   \n",
       "4         1465000.0                  2.5               3067.0   \n",
       "\n",
       "   remainder__BuildingArea  remainder__YearBuilt  \\\n",
       "0                      NaN                   NaN   \n",
       "1                      NaN                   NaN   \n",
       "2                     79.0                1900.0   \n",
       "3                     79.0                1900.0   \n",
       "4                    150.0                1900.0   \n",
       "\n",
       "   remainder__airbnb_price_mean  remainder__airbnb_price_count  \n",
       "0                    140.292994                          157.0  \n",
       "1                    115.594059                          101.0  \n",
       "2                    140.292994                          157.0  \n",
       "3                    115.594059                          101.0  \n",
       "4                    140.292994                          157.0  \n",
       "\n",
       "[5 rows x 110 columns]"
      ]
     },
     "execution_count": 33,
     "metadata": {},
     "output_type": "execute_result"
    }
   ],
   "source": [
    "onehot = make_column_transformer(\n",
    "    (OneHotEncoder(sparse=False), categorical_cols),\n",
    "    remainder='passthrough')\n",
    "\n",
    "melb_cat = onehot.fit_transform(melb_aux)\n",
    "melb_cat_df = pd.DataFrame(melb_cat, columns=onehot.get_feature_names_out())\n",
    "melb_cat_df.head()"
   ]
  },
  {
   "cell_type": "code",
   "execution_count": 34,
   "metadata": {},
   "outputs": [
    {
     "data": {
      "text/plain": [
       "(26866, 110)"
      ]
     },
     "execution_count": 34,
     "metadata": {},
     "output_type": "execute_result"
    }
   ],
   "source": [
    "melb_cat_df.shape"
   ]
  },
  {
   "cell_type": "code",
   "execution_count": 35,
   "metadata": {},
   "outputs": [
    {
     "data": {
      "text/plain": [
       "(26866, 15)"
      ]
     },
     "execution_count": 35,
     "metadata": {},
     "output_type": "execute_result"
    }
   ],
   "source": [
    "melb_aux.shape"
   ]
  },
  {
   "cell_type": "code",
   "execution_count": 36,
   "metadata": {},
   "outputs": [
    {
     "data": {
      "text/plain": [
       "Index(['remainder__Price', 'remainder__Distance', 'remainder__Postcode',\n",
       "       'remainder__BuildingArea', 'remainder__YearBuilt',\n",
       "       'remainder__airbnb_price_mean', 'remainder__airbnb_price_count'],\n",
       "      dtype='object')"
      ]
     },
     "execution_count": 36,
     "metadata": {},
     "output_type": "execute_result"
    }
   ],
   "source": [
    "melb_cat_df.columns[melb_cat_df.columns.str.contains('remainder')]"
   ]
  },
  {
   "cell_type": "code",
   "execution_count": 37,
   "metadata": {},
   "outputs": [],
   "source": [
    "melb_cat_df.rename(columns={'remainder__Price': 'Price', 'remainder__Distance': 'Distance', \n",
    "       'remainder__airbnb_price_mean': 'Price_mean', 'remainder__Postcode': 'Postcode',\n",
    "       'remainder__airbnb_price_count': 'Price_count','remainder__YearBuilt': 'YearBuilt',\n",
    "       'remainder__BuildingArea': 'BuildingArea'}, inplace=True)"
   ]
  },
  {
   "cell_type": "code",
   "execution_count": 38,
   "metadata": {},
   "outputs": [
    {
     "data": {
      "text/plain": [
       "Index([], dtype='object')"
      ]
     },
     "execution_count": 38,
     "metadata": {},
     "output_type": "execute_result"
    }
   ],
   "source": [
    "melb_cat_df.columns[melb_cat_df.columns.str.contains('remainder')]"
   ]
  },
  {
   "cell_type": "code",
   "execution_count": 39,
   "metadata": {},
   "outputs": [
    {
     "data": {
      "text/plain": [
       "Index(['onehotencoder__Suburb_Ascot Vale',\n",
       "       'onehotencoder__Suburb_Balwyn North', 'onehotencoder__Suburb_Bentleigh',\n",
       "       'onehotencoder__Suburb_Bentleigh East',\n",
       "       'onehotencoder__Suburb_Brighton', 'onehotencoder__Suburb_Brighton East',\n",
       "       'onehotencoder__Suburb_Brunswick', 'onehotencoder__Suburb_Camberwell',\n",
       "       'onehotencoder__Suburb_Carnegie', 'onehotencoder__Suburb_Coburg',\n",
       "       ...\n",
       "       'onehotencoder__Car_8.0', 'onehotencoder__Car_9.0',\n",
       "       'onehotencoder__Car_10.0', 'Price', 'Distance', 'Postcode',\n",
       "       'BuildingArea', 'YearBuilt', 'Price_mean', 'Price_count'],\n",
       "      dtype='object', length=110)"
      ]
     },
     "execution_count": 39,
     "metadata": {},
     "output_type": "execute_result"
    }
   ],
   "source": [
    "melb_cat_df.columns"
   ]
  },
  {
   "cell_type": "markdown",
   "metadata": {
    "id": "ismngxPcfoWb"
   },
   "source": [
    "## Ejercicio 2: Imputación por KNN\n",
    "\n",
    "En el teórico se presentó el método `IterativeImputer` para imputar valores faltantes en variables numéricas. Sin embargo, los ejemplos presentados sólo utilizaban algunas variables numéricas presentes en el conjunto de datos. En este ejercicio, utilizaremos la matriz de datos codificada para imputar datos faltantes de manera más precisa.\n",
    "\n",
    "1. Agregue a la matriz obtenida en el punto anterior las columnas `YearBuilt` y `BuildingArea`.\n",
    "2. Aplique una instancia de `IterativeImputer` con un estimador `KNeighborsRegressor` para imputar los valores de las variables. ¿Es necesario estandarizar o escalar los datos previamente?\n",
    "3. Realice un gráfico mostrando la distribución de cada variable antes de ser imputada, y con ambos métodos de imputación."
   ]
  },
  {
   "cell_type": "code",
   "execution_count": 40,
   "metadata": {},
   "outputs": [
    {
     "data": {
      "text/plain": [
       "BuildingArea                                       12748\n",
       "YearBuilt                                          10614\n",
       "Price_count                                           19\n",
       "Price_mean                                            19\n",
       "onehotencoder__Regionname_Northern Metropolitan        0\n",
       "onehotencoder__Rooms_6                                 0\n",
       "onehotencoder__Rooms_5                                 0\n",
       "onehotencoder__Rooms_4                                 0\n",
       "onehotencoder__Rooms_3                                 0\n",
       "onehotencoder__Rooms_2                                 0\n",
       "dtype: int64"
      ]
     },
     "execution_count": 40,
     "metadata": {},
     "output_type": "execute_result"
    }
   ],
   "source": [
    "melb_cat_df.isna().sum().sort_values(ascending=False).head(10)"
   ]
  },
  {
   "cell_type": "code",
   "execution_count": 41,
   "metadata": {},
   "outputs": [],
   "source": [
    "melb_cat_df['YearBuilt'] = melb_cat_df['YearBuilt'].astype('Int64')"
   ]
  },
  {
   "cell_type": "code",
   "execution_count": 42,
   "metadata": {},
   "outputs": [],
   "source": [
    "cols_to_impute = melb_cat_df.columns[melb_cat_df.isna().sum() > 0].tolist()"
   ]
  },
  {
   "cell_type": "code",
   "execution_count": 43,
   "metadata": {},
   "outputs": [
    {
     "data": {
      "text/plain": [
       "['BuildingArea', 'YearBuilt', 'Price_mean', 'Price_count']"
      ]
     },
     "execution_count": 43,
     "metadata": {},
     "output_type": "execute_result"
    }
   ],
   "source": [
    "cols_to_impute"
   ]
  },
  {
   "cell_type": "code",
   "execution_count": 52,
   "metadata": {
    "colab": {
     "base_uri": "https://localhost:8080/"
    },
    "id": "G4ClSr_JapCw",
    "outputId": "9468199f-071a-4514-c62b-e161a6113f18"
   },
   "outputs": [
    {
     "name": "stderr",
     "output_type": "stream",
     "text": [
      "/home/fligoonaut/anaconda3/lib/python3.9/site-packages/sklearn/impute/_iterative.py:699: ConvergenceWarning: [IterativeImputer] Early stopping criterion not reached.\n",
      "  warnings.warn(\n"
     ]
    }
   ],
   "source": [
    "df_to_impute = melb_cat_df.copy()\n",
    "\n",
    "imputer = IterativeImputer(random_state=0, estimator=KNeighborsRegressor(), max_iter=30)\n",
    "df_to_impute[cols_to_impute] = imputer.fit_transform(\n",
    "    df_to_impute[cols_to_impute])"
   ]
  },
  {
   "cell_type": "code",
   "execution_count": 53,
   "metadata": {},
   "outputs": [],
   "source": [
    "df_to_impute['YearBuilt'] = df_to_impute['YearBuilt'].round().astype('Int64')"
   ]
  },
  {
   "cell_type": "markdown",
   "metadata": {
    "id": "ImjXQZUbVoKH"
   },
   "source": [
    "Ejemplo de gráfico comparando las distribuciones de datos obtenidas con cada método de imputación."
   ]
  },
  {
   "cell_type": "code",
   "execution_count": 54,
   "metadata": {
    "colab": {
     "base_uri": "https://localhost:8080/",
     "height": 355
    },
    "id": "PMK1ktqYQTJK",
    "outputId": "b3ec0023-25cd-41ad-b069-cc59de7c2313"
   },
   "outputs": [
    {
     "data": {
      "image/png": "[encoded data removed]",
      "text/plain": [
       "<Figure size 1080x720 with 1 Axes>"
      ]
     },
     "metadata": {
      "needs_background": "light"
     },
     "output_type": "display_data"
    }
   ],
   "source": [
    "mice_year_built = df_to_impute.YearBuilt.to_frame()\n",
    "mice_year_built['Imputation'] = 'KNN over YearBuilt and BuildingArea'\n",
    "melb_year_build = melb_cat_df.YearBuilt.dropna().to_frame()\n",
    "melb_year_build['Imputation'] = 'Original'\n",
    "data = pd.concat([mice_year_built, melb_year_build]).reset_index(drop=True)\n",
    "fig = plt.figure(figsize=(15, 10))\n",
    "g = sns.kdeplot(data=data, x='YearBuilt', hue='Imputation')"
   ]
  },
  {
   "cell_type": "markdown",
   "metadata": {
    "id": "NBN7-5OIxjJW"
   },
   "source": [
    "## Ejercicio 3: Reducción de dimensionalidad.\n",
    "\n",
    "Utilizando la matriz obtenida en el ejercicio anterior:\n",
    "1. Aplique `PCA` para obtener $n$ componentes principales de la matriz, donde `n = min(20, X.shape[0])`. ¿Es necesario estandarizar o escalar los datos?\n",
    "2. Grafique la varianza capturada por los primeros $n$ componentes principales, para cada $n$.\n",
    "3. En base al gráfico, seleccione las primeras $m$ columnas de la matriz transformada para agregar como nuevas características al conjunto de datos."
   ]
  },
  {
   "cell_type": "code",
   "execution_count": 57,
   "metadata": {},
   "outputs": [
    {
     "data": {
      "text/plain": [
       "array([[0.        , 0.        , 0.        , ..., 0.4893617 , 0.07670689,\n",
       "        0.0626506 ],\n",
       "       [0.        , 0.        , 0.        , ..., 0.43617021, 0.0587135 ,\n",
       "        0.04016064],\n",
       "       [0.        , 0.        , 0.        , ..., 0.37234043, 0.07670689,\n",
       "        0.0626506 ],\n",
       "       ...,\n",
       "       [0.        , 0.        , 0.        , ..., 0.4787234 , 0.09630889,\n",
       "        0.00763052],\n",
       "       [0.        , 0.        , 0.        , ..., 0.4787234 , 0.06740443,\n",
       "        0.01646586],\n",
       "       [0.        , 0.        , 0.        , ..., 0.4787234 , 0.07948033,\n",
       "        0.01566265]])"
      ]
     },
     "execution_count": 57,
     "metadata": {},
     "output_type": "execute_result"
    }
   ],
   "source": [
    "#Escalamos todas las variables de la matriz (tomamos la matriz que antes habia sido escalada para poder imputar las otras dos columnas)\n",
    "scaler = MinMaxScaler().fit(df_to_impute)\n",
    "melb_matrix_pca = scaler.fit_transform(df_to_impute.values)\n",
    "melb_matrix_pca"
   ]
  },
  {
   "cell_type": "code",
   "execution_count": 60,
   "metadata": {},
   "outputs": [
    {
     "data": {
      "text/plain": [
       "PCA(n_components=20)"
      ]
     },
     "execution_count": 60,
     "metadata": {},
     "output_type": "execute_result"
    }
   ],
   "source": [
    "#Generamos objeto usando el n de la consigna\n",
    "n = min(20, melb_matrix_pca.shape[1])\n",
    "pca = PCA(n_components=20)                                  \n",
    "\n",
    "pca.fit(melb_matrix_pca)"
   ]
  },
  {
   "cell_type": "code",
   "execution_count": 61,
   "metadata": {},
   "outputs": [
    {
     "name": "stdout",
     "output_type": "stream",
     "text": [
      "Principal components\n",
      "[[ 0.00038246 -0.00615739 -0.00220335 ... -0.00448472  0.00472797\n",
      "   0.01786383]\n",
      " [-0.00546146  0.02307406  0.01655903 ...  0.02742538  0.01529389\n",
      "   0.00882938]\n",
      " [ 0.00470524 -0.02489203 -0.02177509 ...  0.06896146 -0.01685611\n",
      "  -0.00193019]\n",
      " ...\n",
      " [ 0.01860484 -0.0915779   0.05976025 ... -0.00405497 -0.00756048\n",
      "   0.02296702]\n",
      " [ 0.02561751  0.01112792 -0.02962523 ... -0.12504808  0.00049189\n",
      "   0.04313267]\n",
      " [-0.08414764 -0.01439566 -0.03549955 ... -0.03637168  0.01956718\n",
      "   0.02217309]]\n",
      "Explained variance: \n",
      "[0.78645939 0.46947371 0.33477053 0.32656421 0.29788113 0.29192317\n",
      " 0.25177878 0.23256648 0.14786761 0.12661585 0.11779487 0.11616493\n",
      " 0.10563431 0.09895518 0.09298054 0.09119152 0.08552878 0.08093602\n",
      " 0.07056029 0.06598811]\n",
      "Explained variance ratio\n",
      "[0.14891441 0.08889384 0.06338809 0.06183424 0.05640316 0.05527503\n",
      " 0.04767377 0.04403597 0.02799842 0.02397444 0.02230421 0.02199558\n",
      " 0.02000163 0.01873695 0.01760567 0.01726692 0.01619469 0.01532506\n",
      " 0.01336044 0.01249471]\n"
     ]
    }
   ],
   "source": [
    "print(\"Principal components\")\n",
    "print(pca.components_)\n",
    "print(\"Explained variance: \")\n",
    "print(pca.explained_variance_)\n",
    "print(\"Explained variance ratio\")\n",
    "print(pca.explained_variance_ratio_)"
   ]
  },
  {
   "cell_type": "code",
   "execution_count": 62,
   "metadata": {},
   "outputs": [
    {
     "data": {
      "text/plain": [
       "Text(0.5, 1.0, 'Varianza explicada por componente principal')"
      ]
     },
     "execution_count": 62,
     "metadata": {},
     "output_type": "execute_result"
    },
    {
     "data": {
      "image/png": "[encoded data removed]",
      "text/plain": [
       "<Figure size 792x360 with 1 Axes>"
      ]
     },
     "metadata": {
      "needs_background": "light"
     },
     "output_type": "display_data"
    }
   ],
   "source": [
    "plt.figure(figsize=(11,5))\n",
    "sns.barplot(x=[i for i in range(20)], y=[pca.explained_variance_ratio_[i] for i in range(20)], color='dodgerblue')\n",
    "plt.title(\"Varianza explicada por componente principal\")"
   ]
  },
  {
   "cell_type": "code",
   "execution_count": 63,
   "metadata": {},
   "outputs": [
    {
     "data": {
      "text/plain": [
       "Text(0.5, 1.0, 'Varianza explicada por componente principal acumulado')"
      ]
     },
     "execution_count": 63,
     "metadata": {},
     "output_type": "execute_result"
    },
    {
     "data": {
      "image/png": "[encoded data removed]",
      "text/plain": [
       "<Figure size 792x360 with 1 Axes>"
      ]
     },
     "metadata": {
      "needs_background": "light"
     },
     "output_type": "display_data"
    }
   ],
   "source": [
    "plt.figure(figsize=(11,5))\n",
    "sns.barplot(x=[i for i in range(20)], y=[sum([pca.explained_variance_ratio_[i] for i in range(x)]) for x in range(1,21)], color='dodgerblue')\n",
    "plt.title(\"Varianza explicada por componente principal acumulado\")"
   ]
  },
  {
   "cell_type": "code",
   "execution_count": null,
   "metadata": {},
   "outputs": [],
   "source": []
  },
  {
   "cell_type": "code",
   "execution_count": null,
   "metadata": {},
   "outputs": [],
   "source": []
  },
  {
   "cell_type": "markdown",
   "metadata": {
    "id": "WrZTYmG_ZyDy"
   },
   "source": [
    "## Ejercicio 4: Composición del resultado\n",
    "\n",
    "Transformar nuevamente el conjunto de datos procesado en un `pandas.DataFrame` y guardarlo en un archivo.\n",
    "\n",
    "Para eso, será necesario recordar el nombre original de cada columna de la matriz, en el orden correcto. Tener en cuenta:\n",
    "1. El método `OneHotEncoder.get_feature_names` o el atributo `OneHotEncoder.categories_` permiten obtener una lista con los valores de la categoría que le corresponde a cada índice de la matriz.\n",
    "2. Ninguno de los métodos aplicados intercambia de lugar las columnas o las filas de la matriz."
   ]
  },
  {
   "cell_type": "code",
   "execution_count": 64,
   "metadata": {},
   "outputs": [
    {
     "data": {
      "text/html": [
       "<div>\n",
       "<style scoped>\n",
       "    .dataframe tbody tr th:only-of-type {\n",
       "        vertical-align: middle;\n",
       "    }\n",
       "\n",
       "    .dataframe tbody tr th {\n",
       "        vertical-align: top;\n",
       "    }\n",
       "\n",
       "    .dataframe thead th {\n",
       "        text-align: right;\n",
       "    }\n",
       "</style>\n",
       "<table border=\"1\" class=\"dataframe\">\n",
       "  <thead>\n",
       "    <tr style=\"text-align: right;\">\n",
       "      <th></th>\n",
       "      <th>onehotencoder__Suburb_Ascot Vale</th>\n",
       "      <th>onehotencoder__Suburb_Balwyn North</th>\n",
       "      <th>onehotencoder__Suburb_Bentleigh</th>\n",
       "      <th>onehotencoder__Suburb_Bentleigh East</th>\n",
       "      <th>onehotencoder__Suburb_Brighton</th>\n",
       "      <th>onehotencoder__Suburb_Brighton East</th>\n",
       "      <th>onehotencoder__Suburb_Brunswick</th>\n",
       "      <th>onehotencoder__Suburb_Camberwell</th>\n",
       "      <th>onehotencoder__Suburb_Carnegie</th>\n",
       "      <th>onehotencoder__Suburb_Coburg</th>\n",
       "      <th>...</th>\n",
       "      <th>onehotencoder__Car_8.0</th>\n",
       "      <th>onehotencoder__Car_9.0</th>\n",
       "      <th>onehotencoder__Car_10.0</th>\n",
       "      <th>Price</th>\n",
       "      <th>Distance</th>\n",
       "      <th>Postcode</th>\n",
       "      <th>BuildingArea</th>\n",
       "      <th>YearBuilt</th>\n",
       "      <th>Price_mean</th>\n",
       "      <th>Price_count</th>\n",
       "    </tr>\n",
       "  </thead>\n",
       "  <tbody>\n",
       "    <tr>\n",
       "      <th>0</th>\n",
       "      <td>0.0</td>\n",
       "      <td>0.0</td>\n",
       "      <td>0.0</td>\n",
       "      <td>0.0</td>\n",
       "      <td>0.0</td>\n",
       "      <td>0.0</td>\n",
       "      <td>0.0</td>\n",
       "      <td>0.0</td>\n",
       "      <td>0.0</td>\n",
       "      <td>0.0</td>\n",
       "      <td>...</td>\n",
       "      <td>0.0</td>\n",
       "      <td>0.0</td>\n",
       "      <td>0.0</td>\n",
       "      <td>1480000.0</td>\n",
       "      <td>2.5</td>\n",
       "      <td>3067.0</td>\n",
       "      <td>129.0</td>\n",
       "      <td>1922</td>\n",
       "      <td>140.292994</td>\n",
       "      <td>157.0</td>\n",
       "    </tr>\n",
       "    <tr>\n",
       "      <th>1</th>\n",
       "      <td>0.0</td>\n",
       "      <td>0.0</td>\n",
       "      <td>0.0</td>\n",
       "      <td>0.0</td>\n",
       "      <td>0.0</td>\n",
       "      <td>0.0</td>\n",
       "      <td>0.0</td>\n",
       "      <td>0.0</td>\n",
       "      <td>0.0</td>\n",
       "      <td>0.0</td>\n",
       "      <td>...</td>\n",
       "      <td>0.0</td>\n",
       "      <td>0.0</td>\n",
       "      <td>0.0</td>\n",
       "      <td>1480000.0</td>\n",
       "      <td>2.5</td>\n",
       "      <td>3067.0</td>\n",
       "      <td>126.6</td>\n",
       "      <td>1912</td>\n",
       "      <td>115.594059</td>\n",
       "      <td>101.0</td>\n",
       "    </tr>\n",
       "    <tr>\n",
       "      <th>2</th>\n",
       "      <td>0.0</td>\n",
       "      <td>0.0</td>\n",
       "      <td>0.0</td>\n",
       "      <td>0.0</td>\n",
       "      <td>0.0</td>\n",
       "      <td>0.0</td>\n",
       "      <td>0.0</td>\n",
       "      <td>0.0</td>\n",
       "      <td>0.0</td>\n",
       "      <td>0.0</td>\n",
       "      <td>...</td>\n",
       "      <td>0.0</td>\n",
       "      <td>0.0</td>\n",
       "      <td>0.0</td>\n",
       "      <td>1035000.0</td>\n",
       "      <td>2.5</td>\n",
       "      <td>3067.0</td>\n",
       "      <td>79.0</td>\n",
       "      <td>1900</td>\n",
       "      <td>140.292994</td>\n",
       "      <td>157.0</td>\n",
       "    </tr>\n",
       "    <tr>\n",
       "      <th>3</th>\n",
       "      <td>0.0</td>\n",
       "      <td>0.0</td>\n",
       "      <td>0.0</td>\n",
       "      <td>0.0</td>\n",
       "      <td>0.0</td>\n",
       "      <td>0.0</td>\n",
       "      <td>0.0</td>\n",
       "      <td>0.0</td>\n",
       "      <td>0.0</td>\n",
       "      <td>0.0</td>\n",
       "      <td>...</td>\n",
       "      <td>0.0</td>\n",
       "      <td>0.0</td>\n",
       "      <td>0.0</td>\n",
       "      <td>1035000.0</td>\n",
       "      <td>2.5</td>\n",
       "      <td>3067.0</td>\n",
       "      <td>79.0</td>\n",
       "      <td>1900</td>\n",
       "      <td>115.594059</td>\n",
       "      <td>101.0</td>\n",
       "    </tr>\n",
       "    <tr>\n",
       "      <th>4</th>\n",
       "      <td>0.0</td>\n",
       "      <td>0.0</td>\n",
       "      <td>0.0</td>\n",
       "      <td>0.0</td>\n",
       "      <td>0.0</td>\n",
       "      <td>0.0</td>\n",
       "      <td>0.0</td>\n",
       "      <td>0.0</td>\n",
       "      <td>0.0</td>\n",
       "      <td>0.0</td>\n",
       "      <td>...</td>\n",
       "      <td>0.0</td>\n",
       "      <td>0.0</td>\n",
       "      <td>0.0</td>\n",
       "      <td>1465000.0</td>\n",
       "      <td>2.5</td>\n",
       "      <td>3067.0</td>\n",
       "      <td>150.0</td>\n",
       "      <td>1900</td>\n",
       "      <td>140.292994</td>\n",
       "      <td>157.0</td>\n",
       "    </tr>\n",
       "    <tr>\n",
       "      <th>...</th>\n",
       "      <td>...</td>\n",
       "      <td>...</td>\n",
       "      <td>...</td>\n",
       "      <td>...</td>\n",
       "      <td>...</td>\n",
       "      <td>...</td>\n",
       "      <td>...</td>\n",
       "      <td>...</td>\n",
       "      <td>...</td>\n",
       "      <td>...</td>\n",
       "      <td>...</td>\n",
       "      <td>...</td>\n",
       "      <td>...</td>\n",
       "      <td>...</td>\n",
       "      <td>...</td>\n",
       "      <td>...</td>\n",
       "      <td>...</td>\n",
       "      <td>...</td>\n",
       "      <td>...</td>\n",
       "      <td>...</td>\n",
       "      <td>...</td>\n",
       "    </tr>\n",
       "    <tr>\n",
       "      <th>26861</th>\n",
       "      <td>0.0</td>\n",
       "      <td>0.0</td>\n",
       "      <td>0.0</td>\n",
       "      <td>0.0</td>\n",
       "      <td>0.0</td>\n",
       "      <td>0.0</td>\n",
       "      <td>0.0</td>\n",
       "      <td>0.0</td>\n",
       "      <td>0.0</td>\n",
       "      <td>0.0</td>\n",
       "      <td>...</td>\n",
       "      <td>0.0</td>\n",
       "      <td>0.0</td>\n",
       "      <td>0.0</td>\n",
       "      <td>1170000.0</td>\n",
       "      <td>6.8</td>\n",
       "      <td>3016.0</td>\n",
       "      <td>243.6</td>\n",
       "      <td>1997</td>\n",
       "      <td>167.200000</td>\n",
       "      <td>20.0</td>\n",
       "    </tr>\n",
       "    <tr>\n",
       "      <th>26862</th>\n",
       "      <td>0.0</td>\n",
       "      <td>0.0</td>\n",
       "      <td>0.0</td>\n",
       "      <td>0.0</td>\n",
       "      <td>0.0</td>\n",
       "      <td>0.0</td>\n",
       "      <td>0.0</td>\n",
       "      <td>0.0</td>\n",
       "      <td>0.0</td>\n",
       "      <td>0.0</td>\n",
       "      <td>...</td>\n",
       "      <td>0.0</td>\n",
       "      <td>0.0</td>\n",
       "      <td>0.0</td>\n",
       "      <td>2500000.0</td>\n",
       "      <td>6.8</td>\n",
       "      <td>3016.0</td>\n",
       "      <td>157.0</td>\n",
       "      <td>1920</td>\n",
       "      <td>199.944444</td>\n",
       "      <td>54.0</td>\n",
       "    </tr>\n",
       "    <tr>\n",
       "      <th>26863</th>\n",
       "      <td>0.0</td>\n",
       "      <td>0.0</td>\n",
       "      <td>0.0</td>\n",
       "      <td>0.0</td>\n",
       "      <td>0.0</td>\n",
       "      <td>0.0</td>\n",
       "      <td>0.0</td>\n",
       "      <td>0.0</td>\n",
       "      <td>0.0</td>\n",
       "      <td>0.0</td>\n",
       "      <td>...</td>\n",
       "      <td>0.0</td>\n",
       "      <td>0.0</td>\n",
       "      <td>0.0</td>\n",
       "      <td>2500000.0</td>\n",
       "      <td>6.8</td>\n",
       "      <td>3016.0</td>\n",
       "      <td>157.0</td>\n",
       "      <td>1920</td>\n",
       "      <td>167.200000</td>\n",
       "      <td>20.0</td>\n",
       "    </tr>\n",
       "    <tr>\n",
       "      <th>26864</th>\n",
       "      <td>0.0</td>\n",
       "      <td>0.0</td>\n",
       "      <td>0.0</td>\n",
       "      <td>0.0</td>\n",
       "      <td>0.0</td>\n",
       "      <td>0.0</td>\n",
       "      <td>0.0</td>\n",
       "      <td>0.0</td>\n",
       "      <td>0.0</td>\n",
       "      <td>0.0</td>\n",
       "      <td>...</td>\n",
       "      <td>0.0</td>\n",
       "      <td>0.0</td>\n",
       "      <td>0.0</td>\n",
       "      <td>1285000.0</td>\n",
       "      <td>6.3</td>\n",
       "      <td>3013.0</td>\n",
       "      <td>112.0</td>\n",
       "      <td>1920</td>\n",
       "      <td>127.523810</td>\n",
       "      <td>42.0</td>\n",
       "    </tr>\n",
       "    <tr>\n",
       "      <th>26865</th>\n",
       "      <td>0.0</td>\n",
       "      <td>0.0</td>\n",
       "      <td>0.0</td>\n",
       "      <td>0.0</td>\n",
       "      <td>0.0</td>\n",
       "      <td>0.0</td>\n",
       "      <td>0.0</td>\n",
       "      <td>0.0</td>\n",
       "      <td>0.0</td>\n",
       "      <td>0.0</td>\n",
       "      <td>...</td>\n",
       "      <td>0.0</td>\n",
       "      <td>0.0</td>\n",
       "      <td>0.0</td>\n",
       "      <td>1285000.0</td>\n",
       "      <td>6.3</td>\n",
       "      <td>3013.0</td>\n",
       "      <td>112.0</td>\n",
       "      <td>1920</td>\n",
       "      <td>144.100000</td>\n",
       "      <td>40.0</td>\n",
       "    </tr>\n",
       "  </tbody>\n",
       "</table>\n",
       "<p>26866 rows × 110 columns</p>\n",
       "</div>"
      ],
      "text/plain": [
       "       onehotencoder__Suburb_Ascot Vale  onehotencoder__Suburb_Balwyn North  \\\n",
       "0                                   0.0                                 0.0   \n",
       "1                                   0.0                                 0.0   \n",
       "2                                   0.0                                 0.0   \n",
       "3                                   0.0                                 0.0   \n",
       "4                                   0.0                                 0.0   \n",
       "...                                 ...                                 ...   \n",
       "26861                               0.0                                 0.0   \n",
       "26862                               0.0                                 0.0   \n",
       "26863                               0.0                                 0.0   \n",
       "26864                               0.0                                 0.0   \n",
       "26865                               0.0                                 0.0   \n",
       "\n",
       "       onehotencoder__Suburb_Bentleigh  onehotencoder__Suburb_Bentleigh East  \\\n",
       "0                                  0.0                                   0.0   \n",
       "1                                  0.0                                   0.0   \n",
       "2                                  0.0                                   0.0   \n",
       "3                                  0.0                                   0.0   \n",
       "4                                  0.0                                   0.0   \n",
       "...                                ...                                   ...   \n",
       "26861                              0.0                                   0.0   \n",
       "26862                              0.0                                   0.0   \n",
       "26863                              0.0                                   0.0   \n",
       "26864                              0.0                                   0.0   \n",
       "26865                              0.0                                   0.0   \n",
       "\n",
       "       onehotencoder__Suburb_Brighton  onehotencoder__Suburb_Brighton East  \\\n",
       "0                                 0.0                                  0.0   \n",
       "1                                 0.0                                  0.0   \n",
       "2                                 0.0                                  0.0   \n",
       "3                                 0.0                                  0.0   \n",
       "4                                 0.0                                  0.0   \n",
       "...                               ...                                  ...   \n",
       "26861                             0.0                                  0.0   \n",
       "26862                             0.0                                  0.0   \n",
       "26863                             0.0                                  0.0   \n",
       "26864                             0.0                                  0.0   \n",
       "26865                             0.0                                  0.0   \n",
       "\n",
       "       onehotencoder__Suburb_Brunswick  onehotencoder__Suburb_Camberwell  \\\n",
       "0                                  0.0                               0.0   \n",
       "1                                  0.0                               0.0   \n",
       "2                                  0.0                               0.0   \n",
       "3                                  0.0                               0.0   \n",
       "4                                  0.0                               0.0   \n",
       "...                                ...                               ...   \n",
       "26861                              0.0                               0.0   \n",
       "26862                              0.0                               0.0   \n",
       "26863                              0.0                               0.0   \n",
       "26864                              0.0                               0.0   \n",
       "26865                              0.0                               0.0   \n",
       "\n",
       "       onehotencoder__Suburb_Carnegie  onehotencoder__Suburb_Coburg  ...  \\\n",
       "0                                 0.0                           0.0  ...   \n",
       "1                                 0.0                           0.0  ...   \n",
       "2                                 0.0                           0.0  ...   \n",
       "3                                 0.0                           0.0  ...   \n",
       "4                                 0.0                           0.0  ...   \n",
       "...                               ...                           ...  ...   \n",
       "26861                             0.0                           0.0  ...   \n",
       "26862                             0.0                           0.0  ...   \n",
       "26863                             0.0                           0.0  ...   \n",
       "26864                             0.0                           0.0  ...   \n",
       "26865                             0.0                           0.0  ...   \n",
       "\n",
       "       onehotencoder__Car_8.0  onehotencoder__Car_9.0  \\\n",
       "0                         0.0                     0.0   \n",
       "1                         0.0                     0.0   \n",
       "2                         0.0                     0.0   \n",
       "3                         0.0                     0.0   \n",
       "4                         0.0                     0.0   \n",
       "...                       ...                     ...   \n",
       "26861                     0.0                     0.0   \n",
       "26862                     0.0                     0.0   \n",
       "26863                     0.0                     0.0   \n",
       "26864                     0.0                     0.0   \n",
       "26865                     0.0                     0.0   \n",
       "\n",
       "       onehotencoder__Car_10.0      Price  Distance  Postcode  BuildingArea  \\\n",
       "0                          0.0  1480000.0       2.5    3067.0         129.0   \n",
       "1                          0.0  1480000.0       2.5    3067.0         126.6   \n",
       "2                          0.0  1035000.0       2.5    3067.0          79.0   \n",
       "3                          0.0  1035000.0       2.5    3067.0          79.0   \n",
       "4                          0.0  1465000.0       2.5    3067.0         150.0   \n",
       "...                        ...        ...       ...       ...           ...   \n",
       "26861                      0.0  1170000.0       6.8    3016.0         243.6   \n",
       "26862                      0.0  2500000.0       6.8    3016.0         157.0   \n",
       "26863                      0.0  2500000.0       6.8    3016.0         157.0   \n",
       "26864                      0.0  1285000.0       6.3    3013.0         112.0   \n",
       "26865                      0.0  1285000.0       6.3    3013.0         112.0   \n",
       "\n",
       "       YearBuilt  Price_mean  Price_count  \n",
       "0           1922  140.292994        157.0  \n",
       "1           1912  115.594059        101.0  \n",
       "2           1900  140.292994        157.0  \n",
       "3           1900  115.594059        101.0  \n",
       "4           1900  140.292994        157.0  \n",
       "...          ...         ...          ...  \n",
       "26861       1997  167.200000         20.0  \n",
       "26862       1920  199.944444         54.0  \n",
       "26863       1920  167.200000         20.0  \n",
       "26864       1920  127.523810         42.0  \n",
       "26865       1920  144.100000         40.0  \n",
       "\n",
       "[26866 rows x 110 columns]"
      ]
     },
     "execution_count": 64,
     "metadata": {},
     "output_type": "execute_result"
    }
   ],
   "source": [
    "df_to_impute"
   ]
  },
  {
   "cell_type": "code",
   "execution_count": 65,
   "metadata": {},
   "outputs": [],
   "source": [
    "df_to_impute.to_csv('melbourne_df_final.csv', index=False)"
   ]
  },
  {
   "cell_type": "code",
   "execution_count": null,
   "metadata": {
    "colab": {
     "base_uri": "https://localhost:8080/",
     "height": 287
    },
    "id": "DfchYPgTxvQ4",
    "outputId": "c0bd0b28-1cb8-419c-e799-631045735021"
   },
   "outputs": [
    {
     "name": "stdout",
     "output_type": "stream",
     "text": [
      "Matrix has shape (13580, 11), with columns: ['Type=h', 'Type=t', 'Type=u', 'Regionname=Eastern Metropolitan', 'Regionname=Eastern Victoria', 'Regionname=Northern Metropolitan', 'Regionname=Northern Victoria', 'Regionname=South-Eastern Metropolitan', 'Regionname=Southern Metropolitan', 'Regionname=Western Metropolitan', 'Regionname=Western Victoria']\n",
      "Matrix has shape (13580, 11), with columns: ['Type=h', 'Type=t', 'Type=u', 'Regionname=Eastern Metropolitan', 'Regionname=Eastern Victoria', 'Regionname=Northern Metropolitan', 'Regionname=Northern Victoria', 'Regionname=South-Eastern Metropolitan', 'Regionname=Southern Metropolitan', 'Regionname=Western Metropolitan', 'Regionname=Western Victoria', 'Rooms', 'Distance']\n"
     ]
    },
    {
     "data": {
      "text/html": [
       "<div>\n",
       "<style scoped>\n",
       "    .dataframe tbody tr th:only-of-type {\n",
       "        vertical-align: middle;\n",
       "    }\n",
       "\n",
       "    .dataframe tbody tr th {\n",
       "        vertical-align: top;\n",
       "    }\n",
       "\n",
       "    .dataframe thead th {\n",
       "        text-align: right;\n",
       "    }\n",
       "</style>\n",
       "<table border=\"1\" class=\"dataframe\">\n",
       "  <thead>\n",
       "    <tr style=\"text-align: right;\">\n",
       "      <th></th>\n",
       "      <th>Type=h</th>\n",
       "      <th>Type=t</th>\n",
       "      <th>Type=u</th>\n",
       "      <th>Regionname=Eastern Metropolitan</th>\n",
       "      <th>Regionname=Eastern Victoria</th>\n",
       "      <th>Regionname=Northern Metropolitan</th>\n",
       "      <th>Regionname=Northern Victoria</th>\n",
       "      <th>Regionname=South-Eastern Metropolitan</th>\n",
       "      <th>Regionname=Southern Metropolitan</th>\n",
       "      <th>Regionname=Western Metropolitan</th>\n",
       "      <th>Regionname=Western Victoria</th>\n",
       "      <th>Rooms</th>\n",
       "      <th>Distance</th>\n",
       "      <th>pca1</th>\n",
       "      <th>pca2</th>\n",
       "    </tr>\n",
       "  </thead>\n",
       "  <tbody>\n",
       "    <tr>\n",
       "      <th>0</th>\n",
       "      <td>1.0</td>\n",
       "      <td>0.0</td>\n",
       "      <td>0.0</td>\n",
       "      <td>0.0</td>\n",
       "      <td>0.0</td>\n",
       "      <td>1.0</td>\n",
       "      <td>0.0</td>\n",
       "      <td>0.0</td>\n",
       "      <td>0.0</td>\n",
       "      <td>0.0</td>\n",
       "      <td>0.0</td>\n",
       "      <td>2.0</td>\n",
       "      <td>2.5</td>\n",
       "      <td>-7.669418</td>\n",
       "      <td>-0.292703</td>\n",
       "    </tr>\n",
       "    <tr>\n",
       "      <th>1</th>\n",
       "      <td>1.0</td>\n",
       "      <td>0.0</td>\n",
       "      <td>0.0</td>\n",
       "      <td>0.0</td>\n",
       "      <td>0.0</td>\n",
       "      <td>1.0</td>\n",
       "      <td>0.0</td>\n",
       "      <td>0.0</td>\n",
       "      <td>0.0</td>\n",
       "      <td>0.0</td>\n",
       "      <td>0.0</td>\n",
       "      <td>2.0</td>\n",
       "      <td>2.5</td>\n",
       "      <td>-7.669418</td>\n",
       "      <td>-0.292703</td>\n",
       "    </tr>\n",
       "    <tr>\n",
       "      <th>2</th>\n",
       "      <td>1.0</td>\n",
       "      <td>0.0</td>\n",
       "      <td>0.0</td>\n",
       "      <td>0.0</td>\n",
       "      <td>0.0</td>\n",
       "      <td>1.0</td>\n",
       "      <td>0.0</td>\n",
       "      <td>0.0</td>\n",
       "      <td>0.0</td>\n",
       "      <td>0.0</td>\n",
       "      <td>0.0</td>\n",
       "      <td>3.0</td>\n",
       "      <td>2.5</td>\n",
       "      <td>-7.620201</td>\n",
       "      <td>0.619633</td>\n",
       "    </tr>\n",
       "    <tr>\n",
       "      <th>3</th>\n",
       "      <td>1.0</td>\n",
       "      <td>0.0</td>\n",
       "      <td>0.0</td>\n",
       "      <td>0.0</td>\n",
       "      <td>0.0</td>\n",
       "      <td>1.0</td>\n",
       "      <td>0.0</td>\n",
       "      <td>0.0</td>\n",
       "      <td>0.0</td>\n",
       "      <td>0.0</td>\n",
       "      <td>0.0</td>\n",
       "      <td>3.0</td>\n",
       "      <td>2.5</td>\n",
       "      <td>-7.620201</td>\n",
       "      <td>0.619633</td>\n",
       "    </tr>\n",
       "    <tr>\n",
       "      <th>4</th>\n",
       "      <td>1.0</td>\n",
       "      <td>0.0</td>\n",
       "      <td>0.0</td>\n",
       "      <td>0.0</td>\n",
       "      <td>0.0</td>\n",
       "      <td>1.0</td>\n",
       "      <td>0.0</td>\n",
       "      <td>0.0</td>\n",
       "      <td>0.0</td>\n",
       "      <td>0.0</td>\n",
       "      <td>0.0</td>\n",
       "      <td>4.0</td>\n",
       "      <td>2.5</td>\n",
       "      <td>-7.570984</td>\n",
       "      <td>1.531969</td>\n",
       "    </tr>\n",
       "  </tbody>\n",
       "</table>\n",
       "</div>"
      ],
      "text/plain": [
       "   Type=h  Type=t  Type=u  ...  Distance      pca1      pca2\n",
       "0     1.0     0.0     0.0  ...       2.5 -7.669418 -0.292703\n",
       "1     1.0     0.0     0.0  ...       2.5 -7.669418 -0.292703\n",
       "2     1.0     0.0     0.0  ...       2.5 -7.620201  0.619633\n",
       "3     1.0     0.0     0.0  ...       2.5 -7.620201  0.619633\n",
       "4     1.0     0.0     0.0  ...       2.5 -7.570984  1.531969\n",
       "\n",
       "[5 rows x 15 columns]"
      ]
     },
     "execution_count": 147,
     "metadata": {
      "tags": []
     },
     "output_type": "execute_result"
    }
   ],
   "source": [
    "## Small example\n",
    "from sklearn.decomposition import PCA\n",
    "from sklearn.preprocessing import OneHotEncoder\n",
    "\n",
    "## If we process our data with the following steps:\n",
    "categorical_cols = ['Type', 'Regionname']\n",
    "numerical_cols = ['Rooms', 'Distance']\n",
    "new_columns = []\n",
    "\n",
    "# Step 1: encode categorical columns\n",
    "encoder = OneHotEncoder(handle_unknown='ignore', sparse=False)\n",
    "X_cat = encoder.fit_transform(melb_df[categorical_cols])\n",
    "for col, col_values in zip(categorical_cols, encoder.categories_):\n",
    "  for col_value in col_values:\n",
    "    new_columns.append('{}={}'.format(col, col_value))\n",
    "print(\"Matrix has shape {}, with columns: {}\".format(X_cat.shape, new_columns))\n",
    "\n",
    "# Step 2: Append the numerical columns\n",
    "X = numpy.hstack([X_cat, melb_df[numerical_cols].values])\n",
    "new_columns.extend(numerical_cols)\n",
    "print(\"Matrix has shape {}, with columns: {}\".format(X_cat.shape, new_columns))\n",
    "\n",
    "# Step 3: Append some new features, like PCA\n",
    "pca = PCA(n_components=2)\n",
    "pca_dummy_features = pca.fit_transform(X)\n",
    "X_pca = numpy.hstack([X, pca_dummy_features])\n",
    "new_columns.extend(['pca1', 'pca2'])\n",
    "\n",
    "## Re-build dataframe\n",
    "processed_melb_df = pandas.DataFrame(data=X_pca, columns=new_columns)\n",
    "processed_melb_df.head()"
   ]
  },
  {
   "cell_type": "markdown",
   "metadata": {
    "id": "mVBLFc8PhRtW"
   },
   "source": [
    "## Ejercicio 5: Documentación\n",
    "\n",
    "En un documento `.pdf` o `.md` realizar un reporte de las operaciones que realizaron para obtener el conjunto de datos final. Se debe incluir:\n",
    "  1. Criterios de exclusión (o inclusión) de filas\n",
    "  2. Interpretación de las columnas presentes\n",
    "  2. Todas las transofrmaciones realizadas\n",
    "\n",
    "Este documento es de uso técnico exclusivamente, y su objetivo es permitir que otres desarrolladores puedan reproducir los mismos pasos y obtener el mismo resultado. Debe ser detallado pero consiso. Por ejemplo:\n",
    "\n",
    "```\n",
    "  ## Criterios de exclusión de ejemplos\n",
    "  1. Se eliminan ejemplos donde el año de construcción es previo a 1900\n",
    "\n",
    "  ## Características seleccionadas\n",
    "  ### Características categóricas\n",
    "  1. Type: tipo de propiedad. 3 valores posibles\n",
    "  2. ...\n",
    "  Todas las características categóricas fueron codificadas con un\n",
    "  método OneHotEncoding utilizando como máximo sus 30 valores más \n",
    "  frecuentes.\n",
    "  \n",
    "  ### Características numéricas\n",
    "  1. Rooms: Cantidad de habitaciones\n",
    "  2. Distance: Distancia al centro de la ciudad.\n",
    "  3. airbnb_mean_price: Se agrega el precio promedio diario de \n",
    "     publicaciones de la plataforma AirBnB en el mismo código \n",
    "     postal. [Link al repositorio con datos externos].\n",
    "\n",
    "  ### Transformaciones:\n",
    "  1. Todas las características numéricas fueron estandarizadas.\n",
    "  2. La columna `Suburb` fue imputada utilizando el método ...\n",
    "  3. Las columnas `YearBuilt` y ... fueron imputadas utilizando el \n",
    "     algoritmo ...\n",
    "  4. ...\n",
    "\n",
    "  ### Datos aumentados\n",
    "  1. Se agregan las 5 primeras columnas obtenidas a través del\n",
    "     método de PCA, aplicado sobre el conjunto de datos\n",
    "     totalmente procesado.\n",
    "```\n"
   ]
  },
  {
   "cell_type": "markdown",
   "metadata": {
    "id": "Bq7nuPg2HIYx"
   },
   "source": []
  }
 ],
 "metadata": {
  "colab": {
   "collapsed_sections": [],
   "include_colab_link": true,
   "name": "Entregable_Parte_2_2022.ipynb",
   "provenance": []
  },
  "kernelspec": {
   "display_name": "Python 3 (ipykernel)",
   "language": "python",
   "name": "python3"
  },
  "language_info": {
   "codemirror_mode": {
    "name": "ipython",
    "version": 3
   },
   "file_extension": ".py",
   "mimetype": "text/x-python",
   "name": "python",
   "nbconvert_exporter": "python",
   "pygments_lexer": "ipython3",
   "version": "3.9.12"
  }
 },
 "nbformat": 4,
 "nbformat_minor": 4
}
