{
 "cells": [
  {
   "cell_type": "markdown",
   "metadata": {
    "id": "-ZSQYANFHHgV"
   },
   "source": [
    "# Ejercicio 1 - Análisis descriptivo\n",
    "\n",
    "Responder a la pregunta: **¿Cuáles son los lenguajes de programación asociados a los mejores salarios?**\n",
    "\n",
    "Para ello:\n",
    "1. Seleccionar las columnas relevantes para analizar.\n",
    "2. Seleccionar las filas relevantes para analizar. Esto incluye la eliminación de valores extremos y erróneos, pero también puede enfocar el análisis en una sub-población. Por ejemplo, se pueden limitar a personas con un salario mayor que 10000 pesos, o a las personas que trabajan sólo en \"Data Science\", pero deben justificar su elección y reformular la pregunta inicial de ser necesario.\n",
    "  * Obtener una lista de los lenguajes de programación más populares. Decidir cuántos y cuáles seleccionan para incluir en el análisis.\n",
    "  * Para cada una de las otras columnas del punto anterior, elegir los rangos o valores seleccionan para incluir en el análisis.\n",
    "3. Seleccionar métricas que ayuden a responder la pregunta, y los métodos para analizarlas. Elegir UNA de las siguientes opciones:\n",
    "  * Comparar las distribuciones de salario para cada lenguaje utilizando visualizaciones. Como la visualización es el producto final, debe ser clara y mostrar información relevante.\n",
    "  * Comparar medidas de estadística descriptiva sobre la distribución de salario para cada lenguaje. Sean creativos, la estadística descriptiva nos permite decir cosas como: \"el 10% de los mejores sueldos los ganan, en su mayoría, programadores que saben kotlin!\" (donde *mayoría* es un término medio engañoso que sólo significa más del 50%). Para comparar múltiples lenguajes, les recomendamos usar también visualizaciones.\n",
    "  * Comparar probabilidades. Por ejemplo: \"Si sabés Python o Java, tenés un 30% más de chances de ganar arriba de 100K\".\n",
    "\n",
    "Si lo consideran necesario, realicen varias iteraciones. Es decir, si encuentran que las distribuciones de los lenguajes de programación que seleccionaron inicialmente no son muy diferentes, pueden re-hacer el análisis usando sólo los lenguajes de programación que son diferentes."
   ]
  },
  {
   "cell_type": "markdown",
   "metadata": {},
   "source": [
    "# Imports"
   ]
  },
  {
   "cell_type": "code",
   "execution_count": 1,
   "metadata": {
    "id": "SLWjzvh-vZh4"
   },
   "outputs": [],
   "source": [
    "import pandas as pd\n",
    "import seaborn as sns\n",
    "import matplotlib\n",
    "import matplotlib.pyplot as plt\n",
    "import numpy as np\n",
    "import warnings\n",
    "import scipy\n",
    "from scipy import stats\n",
    "warnings.simplefilter(\"ignore\")\n",
    "\n",
    "pd.set_option('display.max_rows', 500)\n"
   ]
  },
  {
   "cell_type": "markdown",
   "metadata": {},
   "source": [
    "# Lectura del archivo CSV"
   ]
  },
  {
   "cell_type": "code",
   "execution_count": 2,
   "metadata": {
    "id": "GfrCC2cHvepE"
   },
   "outputs": [],
   "source": [
    "url = 'https://cs.famaf.unc.edu.ar/~mteruel/datasets/diplodatos/sysarmy_survey_2020_processed.csv'\n",
    "df = pd.read_csv(url)"
   ]
  },
  {
   "cell_type": "markdown",
   "metadata": {},
   "source": [
    "# Preprocessing"
   ]
  },
  {
   "cell_type": "markdown",
   "metadata": {
    "id": "qQFOV6B_jlnV"
   },
   "source": [
    "Se aplica la función \"split_languages\" para expandir al rows cada lenguaje de programación. Se considera a cada lenguaje de programación que sabe el encuestado como un dato  particular. Terminamos con **df_lang** como dataframe final para empezar los análisis de estadísiticos descriptivos."
   ]
  },
  {
   "cell_type": "code",
   "execution_count": 3,
   "metadata": {
    "id": "iuUnakfqvhOz"
   },
   "outputs": [],
   "source": [
    "def split_languages(languages_str):\n",
    "    if not isinstance(languages_str, str):\n",
    "        return []\n",
    "    languages_str = languages_str.lower().replace('ninguno de los anteriores', '')    \n",
    "    return [lang.strip().replace(',', '')\n",
    "        for lang in languages_str.split()]"
   ]
  },
  {
   "cell_type": "code",
   "execution_count": 4,
   "metadata": {
    "id": "taLUlBTHvo6F"
   },
   "outputs": [],
   "source": [
    "# Create a new column with the list of languages\n",
    "relevant_columns = ['tools_programming_languages', 'salary_monthly_NETO', 'salary_monthly_BRUTO']\n",
    "\n",
    "df.loc[:, 'cured_programming_languages'] = df.tools_programming_languages.apply(split_languages)\n",
    "if 'cured_programming_languages' not in relevant_columns:\n",
    "    relevant_columns.append('cured_programming_languages')\n",
    "\n",
    "df_lang = df.cured_programming_languages.apply(pd.Series).stack().reset_index(level=-1, drop=True).to_frame().join(df[relevant_columns]).rename(columns={0: 'programming_language'})"
   ]
  },
  {
   "cell_type": "markdown",
   "metadata": {},
   "source": [
    "Para proceder con el análisis, necesitamos decidir con cual de las dos variables de salario nos quedamos, ya que consideramos que ambas son representativas y que se pueden hacer análisis distintos de cada una. A modo de simplificar el proceso, vamos a ver que nivel de completitud tienen estas variables para poder decidir con cual de las dos quedarnos."
   ]
  },
  {
   "cell_type": "code",
   "execution_count": 5,
   "metadata": {},
   "outputs": [
    {
     "name": "stdout",
     "output_type": "stream",
     "text": [
      "salary_monthly_NETO     3.478261\n",
      "salary_monthly_BRUTO    0.000000\n",
      "dtype: float64\n"
     ]
    }
   ],
   "source": [
    "salarios = ['salary_monthly_BRUTO','salary_monthly_NETO']\n",
    "na_ratio = ((df[salarios].isnull().sum() / len(df))*100).sort_values(ascending = False)\n",
    "print(na_ratio)"
   ]
  },
  {
   "cell_type": "markdown",
   "metadata": {},
   "source": [
    "Vemos que la columna de Salario Bruto no tiene valores faltantes, y por el otro lado, la columna de Salarios Netos tiene un 3,47% de faltantes. Sabemos que podemos completar estos datos de acuerdo a una estrategia específica (Media, Mediana, etc) o simplemente podemos eliminar esos registros nulos ya que no representan un porcentaje alto en relación a la cantidad de registros que tiene el dataset. En este caso, optamos por quedarnos con la variable de Salario Bruto para nuestro análisis."
   ]
  },
  {
   "cell_type": "markdown",
   "metadata": {},
   "source": [
    "# Análisis descriptivo"
   ]
  },
  {
   "cell_type": "markdown",
   "metadata": {
    "id": "M_BvJIEJkPRk"
   },
   "source": [
    "Se realizó un análisis de los percentiles para incluir la máxima cantidad de datos posibles, pero sin superar hacia arriba niveles de salario atípicos. Se decide incluir el 99.75% de los salarios, considerando que el máximo supera ligeramente el millón de pesos, siendo esto menos de la mitad del salario máximo informado. Se usa como corte hacia arriba: **$1.031.254,375**"
   ]
  },
  {
   "cell_type": "markdown",
   "metadata": {},
   "source": [
    "## Uso de percentiles para eliminar valores extremos"
   ]
  },
  {
   "cell_type": "code",
   "execution_count": 6,
   "metadata": {
    "colab": {
     "base_uri": "https://localhost:8080/"
    },
    "id": "GPmnuxRDCp8X",
    "outputId": "e5842056-c903-4fa6-83ec-852bc6773fb1"
   },
   "outputs": [
    {
     "data": {
      "text/plain": [
       "0.9500     342500.000\n",
       "0.9800     500000.000\n",
       "0.9900     690000.000\n",
       "0.9950     800000.000\n",
       "0.9975    1031254.375\n",
       "Name: salary_monthly_BRUTO, dtype: float64"
      ]
     },
     "execution_count": 6,
     "metadata": {},
     "output_type": "execute_result"
    }
   ],
   "source": [
    "df_lang['salary_monthly_BRUTO'].quantile([.95, .98, .99, .995, .9975])"
   ]
  },
  {
   "cell_type": "markdown",
   "metadata": {
    "id": "CczUO2P2IiZ_"
   },
   "source": [
    "Se confirma con un boxplot que el corte de salario arriba del 99.75% de datos tiene sentido, dado que por encima de ese cuartil se descartan pocos puntos que además tienen diferencias entre sí que son atípicas."
   ]
  },
  {
   "cell_type": "code",
   "execution_count": 7,
   "metadata": {
    "colab": {
     "base_uri": "https://localhost:8080/",
     "height": 389
    },
    "id": "1gBBZ7Q9H9Gq",
    "outputId": "6fdbbba0-0830-4e79-ca20-c3c03f815aab"
   },
   "outputs": [
    {
     "data": {
      "image/png": "[encoded data removed]",
      "text/plain": [
       "<Figure size 864x432 with 1 Axes>"
      ]
     },
     "metadata": {
      "needs_background": "light"
     },
     "output_type": "display_data"
    }
   ],
   "source": [
    "plt.figure(figsize=(12, 6))\n",
    "sns.boxplot(data=df_lang, x='salary_monthly_BRUTO',color='orangered')\n",
    "plt.axvline(1031254.375)\n",
    "plt.text(350000,-0.2, '<-Incluídos->',size=12, color = 'blue')\n",
    "plt.text(1500000,-0.2, '<-Excluídos->',size=12, color='red')\n",
    "plt.ticklabel_format(style='plain', axis='x')"
   ]
  },
  {
   "cell_type": "markdown",
   "metadata": {},
   "source": [
    "Generamos un nuevo dataframe \"df_filtered\", filtrando aquellos valores que estén por debajo de **30.000** y por encima de **1.031.254,375** en salario bruto. Para los valores que están por debajo del monto, buscamos incluir datos cercanos al salario mínimo y que se acerquen a una distribución normal en los histogramas de cada población."
   ]
  },
  {
   "cell_type": "code",
   "execution_count": 8,
   "metadata": {
    "id": "6VaKILZKvv3J"
   },
   "outputs": [],
   "source": [
    "minumum_salary=30000\n",
    "maximum_salary=1031254.375\n",
    "columna_salario = 'salary_monthly_BRUTO'\n",
    "\n",
    "df_filtered = df_lang.loc[(df_lang[columna_salario] > minumum_salary) & (df_lang[columna_salario] < maximum_salary)].sort_values(by=columna_salario, ascending=False).reset_index(drop=True)\n",
    "\n",
    "pop_mean = df_filtered[columna_salario].mean()\n",
    "pop_median = df_filtered[columna_salario].median()\n",
    "df_greater_pop_mean = df_filtered[df_filtered[columna_salario] > pop_mean]\n",
    "prob_greater_pop_mean = len(df_greater_pop_mean) / len(df_filtered)"
   ]
  },
  {
   "cell_type": "markdown",
   "metadata": {},
   "source": [
    "## Generación dataset final"
   ]
  },
  {
   "cell_type": "markdown",
   "metadata": {
    "id": "O7vtHl6alaaP"
   },
   "source": [
    "Iteramos sobre **df_filtered** para hacer los análisis sobre las distintas poblaciones de lenguages. Nos interesan los lenguages con mas de 50 programadores, ya que consideramos que tienen un espacio de muestra que exhiben una conclusión representativa. Se termina con **df_final_metrics** que tiene toda la estadística descriptiva para responder a las preguntas del ejercicio."
   ]
  },
  {
   "cell_type": "code",
   "execution_count": 9,
   "metadata": {
    "id": "A1OMDmvPv3VH"
   },
   "outputs": [],
   "source": [
    "list_of_languages = df_filtered['programming_language'].unique()\n",
    "\n",
    "df_columns = ['Language','n_programmers','subpop_Salary_mean','subpop_Salary_median','subpop_Central_Diff','within_subpop_>avg','conditional_prob','pop_prob','cond_ratio','pop_mean']\n",
    "df_final_metrics = pd.DataFrame(columns= df_columns)\n",
    "data = []\n",
    "\n",
    "number_of_programmers_cutoff = 50\n",
    "\n",
    "for item in list_of_languages:\n",
    "  \n",
    "    selected_language_dataframe = df_filtered[df_filtered['programming_language'] == item]\n",
    "    subpop_programmers_number = len(selected_language_dataframe)\n",
    "\n",
    "    if subpop_programmers_number > number_of_programmers_cutoff:\n",
    "\n",
    "        subpop_mean = round(selected_language_dataframe[columna_salario].mean(),2)\n",
    "        subpop_median = round(selected_language_dataframe[columna_salario].median(),2)\n",
    "        subpop_above_mean_prob = len(selected_language_dataframe[selected_language_dataframe[columna_salario] > subpop_mean]) / len(selected_language_dataframe)\n",
    "        subpop_central_diff = subpop_mean - subpop_median\n",
    "        df_within_subpop_above_avg_salary = selected_language_dataframe[selected_language_dataframe[columna_salario] > subpop_mean]\n",
    "        prob_within_subpop_above_avg_salary = len(df_within_subpop_above_avg_salary) / len(selected_language_dataframe)\n",
    "\n",
    "        df_intersection =  (df_lang.programming_language == item) & (df_lang.salary_monthly_BRUTO > pop_mean)\n",
    "        conditional_prob = sum(df_intersection) / len(selected_language_dataframe)\n",
    "        subpop_pop_cond_ratio = conditional_prob/prob_greater_pop_mean\n",
    "\n",
    "        values = [item,subpop_programmers_number,subpop_mean,subpop_median,subpop_central_diff,round(prob_within_subpop_above_avg_salary,2),round(conditional_prob,2),round(prob_greater_pop_mean,2),round(subpop_pop_cond_ratio,2),round(pop_mean,2)]\n",
    "        zipped = zip(df_columns, values)\n",
    "        a_dictionary = dict(zipped)\n",
    "        data.append(a_dictionary)\n",
    "\n",
    "df_final_metrics = df_final_metrics.append(data, True)\n",
    "df_final_metrics = df_final_metrics.sort_values('cond_ratio', ascending=True).reset_index(drop=True)"
   ]
  },
  {
   "cell_type": "code",
   "execution_count": 10,
   "metadata": {},
   "outputs": [
    {
     "data": {
      "text/html": [
       "<div>\n",
       "<style scoped>\n",
       "    .dataframe tbody tr th:only-of-type {\n",
       "        vertical-align: middle;\n",
       "    }\n",
       "\n",
       "    .dataframe tbody tr th {\n",
       "        vertical-align: top;\n",
       "    }\n",
       "\n",
       "    .dataframe thead th {\n",
       "        text-align: right;\n",
       "    }\n",
       "</style>\n",
       "<table border=\"1\" class=\"dataframe\">\n",
       "  <thead>\n",
       "    <tr style=\"text-align: right;\">\n",
       "      <th></th>\n",
       "      <th>Language</th>\n",
       "      <th>n_programmers</th>\n",
       "      <th>subpop_Salary_mean</th>\n",
       "      <th>subpop_Salary_median</th>\n",
       "      <th>subpop_Central_Diff</th>\n",
       "      <th>within_subpop_&gt;avg</th>\n",
       "      <th>conditional_prob</th>\n",
       "      <th>pop_prob</th>\n",
       "      <th>cond_ratio</th>\n",
       "      <th>pop_mean</th>\n",
       "    </tr>\n",
       "  </thead>\n",
       "  <tbody>\n",
       "    <tr>\n",
       "      <th>24</th>\n",
       "      <td>scala</td>\n",
       "      <td>111</td>\n",
       "      <td>215080.60</td>\n",
       "      <td>180266.0</td>\n",
       "      <td>34814.60</td>\n",
       "      <td>0.35</td>\n",
       "      <td>0.71</td>\n",
       "      <td>0.33</td>\n",
       "      <td>2.14</td>\n",
       "      <td>135041.36</td>\n",
       "    </tr>\n",
       "    <tr>\n",
       "      <th>23</th>\n",
       "      <td>go</td>\n",
       "      <td>294</td>\n",
       "      <td>200392.67</td>\n",
       "      <td>161500.0</td>\n",
       "      <td>38892.67</td>\n",
       "      <td>0.31</td>\n",
       "      <td>0.64</td>\n",
       "      <td>0.33</td>\n",
       "      <td>1.91</td>\n",
       "      <td>135041.36</td>\n",
       "    </tr>\n",
       "    <tr>\n",
       "      <th>22</th>\n",
       "      <td>kotlin</td>\n",
       "      <td>182</td>\n",
       "      <td>176433.76</td>\n",
       "      <td>150000.0</td>\n",
       "      <td>26433.76</td>\n",
       "      <td>0.37</td>\n",
       "      <td>0.60</td>\n",
       "      <td>0.33</td>\n",
       "      <td>1.82</td>\n",
       "      <td>135041.36</td>\n",
       "    </tr>\n",
       "    <tr>\n",
       "      <th>21</th>\n",
       "      <td>ruby</td>\n",
       "      <td>145</td>\n",
       "      <td>219022.81</td>\n",
       "      <td>150000.0</td>\n",
       "      <td>69022.81</td>\n",
       "      <td>0.32</td>\n",
       "      <td>0.56</td>\n",
       "      <td>0.33</td>\n",
       "      <td>1.68</td>\n",
       "      <td>135041.36</td>\n",
       "    </tr>\n",
       "    <tr>\n",
       "      <th>20</th>\n",
       "      <td>swift</td>\n",
       "      <td>100</td>\n",
       "      <td>184244.00</td>\n",
       "      <td>142500.0</td>\n",
       "      <td>41744.00</td>\n",
       "      <td>0.33</td>\n",
       "      <td>0.54</td>\n",
       "      <td>0.33</td>\n",
       "      <td>1.62</td>\n",
       "      <td>135041.36</td>\n",
       "    </tr>\n",
       "    <tr>\n",
       "      <th>19</th>\n",
       "      <td>groovy</td>\n",
       "      <td>162</td>\n",
       "      <td>158416.71</td>\n",
       "      <td>136500.0</td>\n",
       "      <td>21916.71</td>\n",
       "      <td>0.38</td>\n",
       "      <td>0.51</td>\n",
       "      <td>0.33</td>\n",
       "      <td>1.54</td>\n",
       "      <td>135041.36</td>\n",
       "    </tr>\n",
       "    <tr>\n",
       "      <th>18</th>\n",
       "      <td>cobol</td>\n",
       "      <td>79</td>\n",
       "      <td>142121.52</td>\n",
       "      <td>120000.0</td>\n",
       "      <td>22121.52</td>\n",
       "      <td>0.35</td>\n",
       "      <td>0.43</td>\n",
       "      <td>0.33</td>\n",
       "      <td>1.29</td>\n",
       "      <td>135041.36</td>\n",
       "    </tr>\n",
       "    <tr>\n",
       "      <th>17</th>\n",
       "      <td>java</td>\n",
       "      <td>1385</td>\n",
       "      <td>138683.26</td>\n",
       "      <td>119000.0</td>\n",
       "      <td>19683.26</td>\n",
       "      <td>0.39</td>\n",
       "      <td>0.40</td>\n",
       "      <td>0.33</td>\n",
       "      <td>1.19</td>\n",
       "      <td>135041.36</td>\n",
       "    </tr>\n",
       "    <tr>\n",
       "      <th>16</th>\n",
       "      <td>python</td>\n",
       "      <td>1418</td>\n",
       "      <td>147065.22</td>\n",
       "      <td>118168.5</td>\n",
       "      <td>28896.72</td>\n",
       "      <td>0.34</td>\n",
       "      <td>0.39</td>\n",
       "      <td>0.33</td>\n",
       "      <td>1.17</td>\n",
       "      <td>135041.36</td>\n",
       "    </tr>\n",
       "    <tr>\n",
       "      <th>15</th>\n",
       "      <td>bash/shell</td>\n",
       "      <td>957</td>\n",
       "      <td>144461.49</td>\n",
       "      <td>120000.0</td>\n",
       "      <td>24461.49</td>\n",
       "      <td>0.34</td>\n",
       "      <td>0.38</td>\n",
       "      <td>0.33</td>\n",
       "      <td>1.15</td>\n",
       "      <td>135041.36</td>\n",
       "    </tr>\n",
       "    <tr>\n",
       "      <th>14</th>\n",
       "      <td>typescript</td>\n",
       "      <td>740</td>\n",
       "      <td>146859.65</td>\n",
       "      <td>114448.5</td>\n",
       "      <td>32411.15</td>\n",
       "      <td>0.33</td>\n",
       "      <td>0.38</td>\n",
       "      <td>0.33</td>\n",
       "      <td>1.14</td>\n",
       "      <td>135041.36</td>\n",
       "    </tr>\n",
       "    <tr>\n",
       "      <th>13</th>\n",
       "      <td>c</td>\n",
       "      <td>229</td>\n",
       "      <td>151531.53</td>\n",
       "      <td>110000.0</td>\n",
       "      <td>41531.53</td>\n",
       "      <td>0.30</td>\n",
       "      <td>0.38</td>\n",
       "      <td>0.33</td>\n",
       "      <td>1.13</td>\n",
       "      <td>135041.36</td>\n",
       "    </tr>\n",
       "    <tr>\n",
       "      <th>12</th>\n",
       "      <td>javascript</td>\n",
       "      <td>2369</td>\n",
       "      <td>132952.99</td>\n",
       "      <td>101000.0</td>\n",
       "      <td>31952.99</td>\n",
       "      <td>0.34</td>\n",
       "      <td>0.33</td>\n",
       "      <td>0.33</td>\n",
       "      <td>0.98</td>\n",
       "      <td>135041.36</td>\n",
       "    </tr>\n",
       "    <tr>\n",
       "      <th>11</th>\n",
       "      <td>c++</td>\n",
       "      <td>244</td>\n",
       "      <td>133267.01</td>\n",
       "      <td>99172.5</td>\n",
       "      <td>34094.51</td>\n",
       "      <td>0.32</td>\n",
       "      <td>0.32</td>\n",
       "      <td>0.33</td>\n",
       "      <td>0.97</td>\n",
       "      <td>135041.36</td>\n",
       "    </tr>\n",
       "    <tr>\n",
       "      <th>10</th>\n",
       "      <td>perl</td>\n",
       "      <td>62</td>\n",
       "      <td>162862.99</td>\n",
       "      <td>104883.5</td>\n",
       "      <td>57979.49</td>\n",
       "      <td>0.24</td>\n",
       "      <td>0.32</td>\n",
       "      <td>0.33</td>\n",
       "      <td>0.97</td>\n",
       "      <td>135041.36</td>\n",
       "    </tr>\n",
       "    <tr>\n",
       "      <th>9</th>\n",
       "      <td>r</td>\n",
       "      <td>84</td>\n",
       "      <td>152951.16</td>\n",
       "      <td>111000.0</td>\n",
       "      <td>41951.16</td>\n",
       "      <td>0.31</td>\n",
       "      <td>0.32</td>\n",
       "      <td>0.33</td>\n",
       "      <td>0.97</td>\n",
       "      <td>135041.36</td>\n",
       "    </tr>\n",
       "    <tr>\n",
       "      <th>8</th>\n",
       "      <td>php</td>\n",
       "      <td>826</td>\n",
       "      <td>126107.68</td>\n",
       "      <td>96435.0</td>\n",
       "      <td>29672.68</td>\n",
       "      <td>0.33</td>\n",
       "      <td>0.29</td>\n",
       "      <td>0.33</td>\n",
       "      <td>0.87</td>\n",
       "      <td>135041.36</td>\n",
       "    </tr>\n",
       "    <tr>\n",
       "      <th>7</th>\n",
       "      <td>sql</td>\n",
       "      <td>2031</td>\n",
       "      <td>123228.64</td>\n",
       "      <td>100000.0</td>\n",
       "      <td>23228.64</td>\n",
       "      <td>0.35</td>\n",
       "      <td>0.28</td>\n",
       "      <td>0.33</td>\n",
       "      <td>0.85</td>\n",
       "      <td>135041.36</td>\n",
       "    </tr>\n",
       "    <tr>\n",
       "      <th>6</th>\n",
       "      <td>.net</td>\n",
       "      <td>770</td>\n",
       "      <td>122484.99</td>\n",
       "      <td>99172.5</td>\n",
       "      <td>23312.49</td>\n",
       "      <td>0.34</td>\n",
       "      <td>0.28</td>\n",
       "      <td>0.33</td>\n",
       "      <td>0.85</td>\n",
       "      <td>135041.36</td>\n",
       "    </tr>\n",
       "    <tr>\n",
       "      <th>5</th>\n",
       "      <td>ninguno</td>\n",
       "      <td>305</td>\n",
       "      <td>114131.88</td>\n",
       "      <td>95000.0</td>\n",
       "      <td>19131.88</td>\n",
       "      <td>0.38</td>\n",
       "      <td>0.28</td>\n",
       "      <td>0.33</td>\n",
       "      <td>0.84</td>\n",
       "      <td>135041.36</td>\n",
       "    </tr>\n",
       "    <tr>\n",
       "      <th>4</th>\n",
       "      <td>css</td>\n",
       "      <td>1164</td>\n",
       "      <td>122192.44</td>\n",
       "      <td>93750.0</td>\n",
       "      <td>28442.44</td>\n",
       "      <td>0.33</td>\n",
       "      <td>0.27</td>\n",
       "      <td>0.33</td>\n",
       "      <td>0.82</td>\n",
       "      <td>135041.36</td>\n",
       "    </tr>\n",
       "    <tr>\n",
       "      <th>3</th>\n",
       "      <td>abap</td>\n",
       "      <td>70</td>\n",
       "      <td>116070.27</td>\n",
       "      <td>98500.0</td>\n",
       "      <td>17570.27</td>\n",
       "      <td>0.34</td>\n",
       "      <td>0.27</td>\n",
       "      <td>0.33</td>\n",
       "      <td>0.82</td>\n",
       "      <td>135041.36</td>\n",
       "    </tr>\n",
       "    <tr>\n",
       "      <th>2</th>\n",
       "      <td>c#</td>\n",
       "      <td>694</td>\n",
       "      <td>120553.90</td>\n",
       "      <td>96000.0</td>\n",
       "      <td>24553.90</td>\n",
       "      <td>0.33</td>\n",
       "      <td>0.27</td>\n",
       "      <td>0.33</td>\n",
       "      <td>0.81</td>\n",
       "      <td>135041.36</td>\n",
       "    </tr>\n",
       "    <tr>\n",
       "      <th>1</th>\n",
       "      <td>html</td>\n",
       "      <td>1736</td>\n",
       "      <td>122575.32</td>\n",
       "      <td>94000.0</td>\n",
       "      <td>28575.32</td>\n",
       "      <td>0.32</td>\n",
       "      <td>0.27</td>\n",
       "      <td>0.33</td>\n",
       "      <td>0.80</td>\n",
       "      <td>135041.36</td>\n",
       "    </tr>\n",
       "    <tr>\n",
       "      <th>0</th>\n",
       "      <td>vba</td>\n",
       "      <td>207</td>\n",
       "      <td>105328.63</td>\n",
       "      <td>90023.0</td>\n",
       "      <td>15305.63</td>\n",
       "      <td>0.36</td>\n",
       "      <td>0.17</td>\n",
       "      <td>0.33</td>\n",
       "      <td>0.51</td>\n",
       "      <td>135041.36</td>\n",
       "    </tr>\n",
       "  </tbody>\n",
       "</table>\n",
       "</div>"
      ],
      "text/plain": [
       "      Language n_programmers  subpop_Salary_mean  subpop_Salary_median  \\\n",
       "24       scala           111           215080.60              180266.0   \n",
       "23          go           294           200392.67              161500.0   \n",
       "22      kotlin           182           176433.76              150000.0   \n",
       "21        ruby           145           219022.81              150000.0   \n",
       "20       swift           100           184244.00              142500.0   \n",
       "19      groovy           162           158416.71              136500.0   \n",
       "18       cobol            79           142121.52              120000.0   \n",
       "17        java          1385           138683.26              119000.0   \n",
       "16      python          1418           147065.22              118168.5   \n",
       "15  bash/shell           957           144461.49              120000.0   \n",
       "14  typescript           740           146859.65              114448.5   \n",
       "13           c           229           151531.53              110000.0   \n",
       "12  javascript          2369           132952.99              101000.0   \n",
       "11         c++           244           133267.01               99172.5   \n",
       "10        perl            62           162862.99              104883.5   \n",
       "9            r            84           152951.16              111000.0   \n",
       "8          php           826           126107.68               96435.0   \n",
       "7          sql          2031           123228.64              100000.0   \n",
       "6         .net           770           122484.99               99172.5   \n",
       "5      ninguno           305           114131.88               95000.0   \n",
       "4          css          1164           122192.44               93750.0   \n",
       "3         abap            70           116070.27               98500.0   \n",
       "2           c#           694           120553.90               96000.0   \n",
       "1         html          1736           122575.32               94000.0   \n",
       "0          vba           207           105328.63               90023.0   \n",
       "\n",
       "    subpop_Central_Diff  within_subpop_>avg  conditional_prob  pop_prob  \\\n",
       "24             34814.60                0.35              0.71      0.33   \n",
       "23             38892.67                0.31              0.64      0.33   \n",
       "22             26433.76                0.37              0.60      0.33   \n",
       "21             69022.81                0.32              0.56      0.33   \n",
       "20             41744.00                0.33              0.54      0.33   \n",
       "19             21916.71                0.38              0.51      0.33   \n",
       "18             22121.52                0.35              0.43      0.33   \n",
       "17             19683.26                0.39              0.40      0.33   \n",
       "16             28896.72                0.34              0.39      0.33   \n",
       "15             24461.49                0.34              0.38      0.33   \n",
       "14             32411.15                0.33              0.38      0.33   \n",
       "13             41531.53                0.30              0.38      0.33   \n",
       "12             31952.99                0.34              0.33      0.33   \n",
       "11             34094.51                0.32              0.32      0.33   \n",
       "10             57979.49                0.24              0.32      0.33   \n",
       "9              41951.16                0.31              0.32      0.33   \n",
       "8              29672.68                0.33              0.29      0.33   \n",
       "7              23228.64                0.35              0.28      0.33   \n",
       "6              23312.49                0.34              0.28      0.33   \n",
       "5              19131.88                0.38              0.28      0.33   \n",
       "4              28442.44                0.33              0.27      0.33   \n",
       "3              17570.27                0.34              0.27      0.33   \n",
       "2              24553.90                0.33              0.27      0.33   \n",
       "1              28575.32                0.32              0.27      0.33   \n",
       "0              15305.63                0.36              0.17      0.33   \n",
       "\n",
       "    cond_ratio   pop_mean  \n",
       "24        2.14  135041.36  \n",
       "23        1.91  135041.36  \n",
       "22        1.82  135041.36  \n",
       "21        1.68  135041.36  \n",
       "20        1.62  135041.36  \n",
       "19        1.54  135041.36  \n",
       "18        1.29  135041.36  \n",
       "17        1.19  135041.36  \n",
       "16        1.17  135041.36  \n",
       "15        1.15  135041.36  \n",
       "14        1.14  135041.36  \n",
       "13        1.13  135041.36  \n",
       "12        0.98  135041.36  \n",
       "11        0.97  135041.36  \n",
       "10        0.97  135041.36  \n",
       "9         0.97  135041.36  \n",
       "8         0.87  135041.36  \n",
       "7         0.85  135041.36  \n",
       "6         0.85  135041.36  \n",
       "5         0.84  135041.36  \n",
       "4         0.82  135041.36  \n",
       "3         0.82  135041.36  \n",
       "2         0.81  135041.36  \n",
       "1         0.80  135041.36  \n",
       "0         0.51  135041.36  "
      ]
     },
     "execution_count": 10,
     "metadata": {},
     "output_type": "execute_result"
    }
   ],
   "source": [
    "df_final_metrics.sort_values('cond_ratio', ascending=False)"
   ]
  },
  {
   "cell_type": "code",
   "execution_count": 11,
   "metadata": {},
   "outputs": [
    {
     "data": {
      "text/html": [
       "<div>\n",
       "<style scoped>\n",
       "    .dataframe tbody tr th:only-of-type {\n",
       "        vertical-align: middle;\n",
       "    }\n",
       "\n",
       "    .dataframe tbody tr th {\n",
       "        vertical-align: top;\n",
       "    }\n",
       "\n",
       "    .dataframe thead th {\n",
       "        text-align: right;\n",
       "    }\n",
       "</style>\n",
       "<table border=\"1\" class=\"dataframe\">\n",
       "  <thead>\n",
       "    <tr style=\"text-align: right;\">\n",
       "      <th></th>\n",
       "      <th>Language</th>\n",
       "      <th>n_programmers</th>\n",
       "      <th>subpop_Salary_mean</th>\n",
       "      <th>subpop_Salary_median</th>\n",
       "      <th>subpop_Central_Diff</th>\n",
       "      <th>within_subpop_&gt;avg</th>\n",
       "      <th>conditional_prob</th>\n",
       "      <th>pop_prob</th>\n",
       "      <th>cond_ratio</th>\n",
       "      <th>pop_mean</th>\n",
       "    </tr>\n",
       "  </thead>\n",
       "  <tbody>\n",
       "    <tr>\n",
       "      <th>12</th>\n",
       "      <td>javascript</td>\n",
       "      <td>2369</td>\n",
       "      <td>132952.99</td>\n",
       "      <td>101000.0</td>\n",
       "      <td>31952.99</td>\n",
       "      <td>0.34</td>\n",
       "      <td>0.33</td>\n",
       "      <td>0.33</td>\n",
       "      <td>0.98</td>\n",
       "      <td>135041.36</td>\n",
       "    </tr>\n",
       "    <tr>\n",
       "      <th>7</th>\n",
       "      <td>sql</td>\n",
       "      <td>2031</td>\n",
       "      <td>123228.64</td>\n",
       "      <td>100000.0</td>\n",
       "      <td>23228.64</td>\n",
       "      <td>0.35</td>\n",
       "      <td>0.28</td>\n",
       "      <td>0.33</td>\n",
       "      <td>0.85</td>\n",
       "      <td>135041.36</td>\n",
       "    </tr>\n",
       "    <tr>\n",
       "      <th>1</th>\n",
       "      <td>html</td>\n",
       "      <td>1736</td>\n",
       "      <td>122575.32</td>\n",
       "      <td>94000.0</td>\n",
       "      <td>28575.32</td>\n",
       "      <td>0.32</td>\n",
       "      <td>0.27</td>\n",
       "      <td>0.33</td>\n",
       "      <td>0.80</td>\n",
       "      <td>135041.36</td>\n",
       "    </tr>\n",
       "    <tr>\n",
       "      <th>16</th>\n",
       "      <td>python</td>\n",
       "      <td>1418</td>\n",
       "      <td>147065.22</td>\n",
       "      <td>118168.5</td>\n",
       "      <td>28896.72</td>\n",
       "      <td>0.34</td>\n",
       "      <td>0.39</td>\n",
       "      <td>0.33</td>\n",
       "      <td>1.17</td>\n",
       "      <td>135041.36</td>\n",
       "    </tr>\n",
       "    <tr>\n",
       "      <th>17</th>\n",
       "      <td>java</td>\n",
       "      <td>1385</td>\n",
       "      <td>138683.26</td>\n",
       "      <td>119000.0</td>\n",
       "      <td>19683.26</td>\n",
       "      <td>0.39</td>\n",
       "      <td>0.40</td>\n",
       "      <td>0.33</td>\n",
       "      <td>1.19</td>\n",
       "      <td>135041.36</td>\n",
       "    </tr>\n",
       "    <tr>\n",
       "      <th>4</th>\n",
       "      <td>css</td>\n",
       "      <td>1164</td>\n",
       "      <td>122192.44</td>\n",
       "      <td>93750.0</td>\n",
       "      <td>28442.44</td>\n",
       "      <td>0.33</td>\n",
       "      <td>0.27</td>\n",
       "      <td>0.33</td>\n",
       "      <td>0.82</td>\n",
       "      <td>135041.36</td>\n",
       "    </tr>\n",
       "    <tr>\n",
       "      <th>15</th>\n",
       "      <td>bash/shell</td>\n",
       "      <td>957</td>\n",
       "      <td>144461.49</td>\n",
       "      <td>120000.0</td>\n",
       "      <td>24461.49</td>\n",
       "      <td>0.34</td>\n",
       "      <td>0.38</td>\n",
       "      <td>0.33</td>\n",
       "      <td>1.15</td>\n",
       "      <td>135041.36</td>\n",
       "    </tr>\n",
       "    <tr>\n",
       "      <th>8</th>\n",
       "      <td>php</td>\n",
       "      <td>826</td>\n",
       "      <td>126107.68</td>\n",
       "      <td>96435.0</td>\n",
       "      <td>29672.68</td>\n",
       "      <td>0.33</td>\n",
       "      <td>0.29</td>\n",
       "      <td>0.33</td>\n",
       "      <td>0.87</td>\n",
       "      <td>135041.36</td>\n",
       "    </tr>\n",
       "    <tr>\n",
       "      <th>6</th>\n",
       "      <td>.net</td>\n",
       "      <td>770</td>\n",
       "      <td>122484.99</td>\n",
       "      <td>99172.5</td>\n",
       "      <td>23312.49</td>\n",
       "      <td>0.34</td>\n",
       "      <td>0.28</td>\n",
       "      <td>0.33</td>\n",
       "      <td>0.85</td>\n",
       "      <td>135041.36</td>\n",
       "    </tr>\n",
       "    <tr>\n",
       "      <th>14</th>\n",
       "      <td>typescript</td>\n",
       "      <td>740</td>\n",
       "      <td>146859.65</td>\n",
       "      <td>114448.5</td>\n",
       "      <td>32411.15</td>\n",
       "      <td>0.33</td>\n",
       "      <td>0.38</td>\n",
       "      <td>0.33</td>\n",
       "      <td>1.14</td>\n",
       "      <td>135041.36</td>\n",
       "    </tr>\n",
       "    <tr>\n",
       "      <th>2</th>\n",
       "      <td>c#</td>\n",
       "      <td>694</td>\n",
       "      <td>120553.90</td>\n",
       "      <td>96000.0</td>\n",
       "      <td>24553.90</td>\n",
       "      <td>0.33</td>\n",
       "      <td>0.27</td>\n",
       "      <td>0.33</td>\n",
       "      <td>0.81</td>\n",
       "      <td>135041.36</td>\n",
       "    </tr>\n",
       "    <tr>\n",
       "      <th>5</th>\n",
       "      <td>ninguno</td>\n",
       "      <td>305</td>\n",
       "      <td>114131.88</td>\n",
       "      <td>95000.0</td>\n",
       "      <td>19131.88</td>\n",
       "      <td>0.38</td>\n",
       "      <td>0.28</td>\n",
       "      <td>0.33</td>\n",
       "      <td>0.84</td>\n",
       "      <td>135041.36</td>\n",
       "    </tr>\n",
       "    <tr>\n",
       "      <th>23</th>\n",
       "      <td>go</td>\n",
       "      <td>294</td>\n",
       "      <td>200392.67</td>\n",
       "      <td>161500.0</td>\n",
       "      <td>38892.67</td>\n",
       "      <td>0.31</td>\n",
       "      <td>0.64</td>\n",
       "      <td>0.33</td>\n",
       "      <td>1.91</td>\n",
       "      <td>135041.36</td>\n",
       "    </tr>\n",
       "    <tr>\n",
       "      <th>11</th>\n",
       "      <td>c++</td>\n",
       "      <td>244</td>\n",
       "      <td>133267.01</td>\n",
       "      <td>99172.5</td>\n",
       "      <td>34094.51</td>\n",
       "      <td>0.32</td>\n",
       "      <td>0.32</td>\n",
       "      <td>0.33</td>\n",
       "      <td>0.97</td>\n",
       "      <td>135041.36</td>\n",
       "    </tr>\n",
       "    <tr>\n",
       "      <th>13</th>\n",
       "      <td>c</td>\n",
       "      <td>229</td>\n",
       "      <td>151531.53</td>\n",
       "      <td>110000.0</td>\n",
       "      <td>41531.53</td>\n",
       "      <td>0.30</td>\n",
       "      <td>0.38</td>\n",
       "      <td>0.33</td>\n",
       "      <td>1.13</td>\n",
       "      <td>135041.36</td>\n",
       "    </tr>\n",
       "    <tr>\n",
       "      <th>0</th>\n",
       "      <td>vba</td>\n",
       "      <td>207</td>\n",
       "      <td>105328.63</td>\n",
       "      <td>90023.0</td>\n",
       "      <td>15305.63</td>\n",
       "      <td>0.36</td>\n",
       "      <td>0.17</td>\n",
       "      <td>0.33</td>\n",
       "      <td>0.51</td>\n",
       "      <td>135041.36</td>\n",
       "    </tr>\n",
       "    <tr>\n",
       "      <th>22</th>\n",
       "      <td>kotlin</td>\n",
       "      <td>182</td>\n",
       "      <td>176433.76</td>\n",
       "      <td>150000.0</td>\n",
       "      <td>26433.76</td>\n",
       "      <td>0.37</td>\n",
       "      <td>0.60</td>\n",
       "      <td>0.33</td>\n",
       "      <td>1.82</td>\n",
       "      <td>135041.36</td>\n",
       "    </tr>\n",
       "    <tr>\n",
       "      <th>19</th>\n",
       "      <td>groovy</td>\n",
       "      <td>162</td>\n",
       "      <td>158416.71</td>\n",
       "      <td>136500.0</td>\n",
       "      <td>21916.71</td>\n",
       "      <td>0.38</td>\n",
       "      <td>0.51</td>\n",
       "      <td>0.33</td>\n",
       "      <td>1.54</td>\n",
       "      <td>135041.36</td>\n",
       "    </tr>\n",
       "    <tr>\n",
       "      <th>21</th>\n",
       "      <td>ruby</td>\n",
       "      <td>145</td>\n",
       "      <td>219022.81</td>\n",
       "      <td>150000.0</td>\n",
       "      <td>69022.81</td>\n",
       "      <td>0.32</td>\n",
       "      <td>0.56</td>\n",
       "      <td>0.33</td>\n",
       "      <td>1.68</td>\n",
       "      <td>135041.36</td>\n",
       "    </tr>\n",
       "    <tr>\n",
       "      <th>24</th>\n",
       "      <td>scala</td>\n",
       "      <td>111</td>\n",
       "      <td>215080.60</td>\n",
       "      <td>180266.0</td>\n",
       "      <td>34814.60</td>\n",
       "      <td>0.35</td>\n",
       "      <td>0.71</td>\n",
       "      <td>0.33</td>\n",
       "      <td>2.14</td>\n",
       "      <td>135041.36</td>\n",
       "    </tr>\n",
       "    <tr>\n",
       "      <th>20</th>\n",
       "      <td>swift</td>\n",
       "      <td>100</td>\n",
       "      <td>184244.00</td>\n",
       "      <td>142500.0</td>\n",
       "      <td>41744.00</td>\n",
       "      <td>0.33</td>\n",
       "      <td>0.54</td>\n",
       "      <td>0.33</td>\n",
       "      <td>1.62</td>\n",
       "      <td>135041.36</td>\n",
       "    </tr>\n",
       "    <tr>\n",
       "      <th>9</th>\n",
       "      <td>r</td>\n",
       "      <td>84</td>\n",
       "      <td>152951.16</td>\n",
       "      <td>111000.0</td>\n",
       "      <td>41951.16</td>\n",
       "      <td>0.31</td>\n",
       "      <td>0.32</td>\n",
       "      <td>0.33</td>\n",
       "      <td>0.97</td>\n",
       "      <td>135041.36</td>\n",
       "    </tr>\n",
       "    <tr>\n",
       "      <th>18</th>\n",
       "      <td>cobol</td>\n",
       "      <td>79</td>\n",
       "      <td>142121.52</td>\n",
       "      <td>120000.0</td>\n",
       "      <td>22121.52</td>\n",
       "      <td>0.35</td>\n",
       "      <td>0.43</td>\n",
       "      <td>0.33</td>\n",
       "      <td>1.29</td>\n",
       "      <td>135041.36</td>\n",
       "    </tr>\n",
       "    <tr>\n",
       "      <th>3</th>\n",
       "      <td>abap</td>\n",
       "      <td>70</td>\n",
       "      <td>116070.27</td>\n",
       "      <td>98500.0</td>\n",
       "      <td>17570.27</td>\n",
       "      <td>0.34</td>\n",
       "      <td>0.27</td>\n",
       "      <td>0.33</td>\n",
       "      <td>0.82</td>\n",
       "      <td>135041.36</td>\n",
       "    </tr>\n",
       "    <tr>\n",
       "      <th>10</th>\n",
       "      <td>perl</td>\n",
       "      <td>62</td>\n",
       "      <td>162862.99</td>\n",
       "      <td>104883.5</td>\n",
       "      <td>57979.49</td>\n",
       "      <td>0.24</td>\n",
       "      <td>0.32</td>\n",
       "      <td>0.33</td>\n",
       "      <td>0.97</td>\n",
       "      <td>135041.36</td>\n",
       "    </tr>\n",
       "  </tbody>\n",
       "</table>\n",
       "</div>"
      ],
      "text/plain": [
       "      Language n_programmers  subpop_Salary_mean  subpop_Salary_median  \\\n",
       "12  javascript          2369           132952.99              101000.0   \n",
       "7          sql          2031           123228.64              100000.0   \n",
       "1         html          1736           122575.32               94000.0   \n",
       "16      python          1418           147065.22              118168.5   \n",
       "17        java          1385           138683.26              119000.0   \n",
       "4          css          1164           122192.44               93750.0   \n",
       "15  bash/shell           957           144461.49              120000.0   \n",
       "8          php           826           126107.68               96435.0   \n",
       "6         .net           770           122484.99               99172.5   \n",
       "14  typescript           740           146859.65              114448.5   \n",
       "2           c#           694           120553.90               96000.0   \n",
       "5      ninguno           305           114131.88               95000.0   \n",
       "23          go           294           200392.67              161500.0   \n",
       "11         c++           244           133267.01               99172.5   \n",
       "13           c           229           151531.53              110000.0   \n",
       "0          vba           207           105328.63               90023.0   \n",
       "22      kotlin           182           176433.76              150000.0   \n",
       "19      groovy           162           158416.71              136500.0   \n",
       "21        ruby           145           219022.81              150000.0   \n",
       "24       scala           111           215080.60              180266.0   \n",
       "20       swift           100           184244.00              142500.0   \n",
       "9            r            84           152951.16              111000.0   \n",
       "18       cobol            79           142121.52              120000.0   \n",
       "3         abap            70           116070.27               98500.0   \n",
       "10        perl            62           162862.99              104883.5   \n",
       "\n",
       "    subpop_Central_Diff  within_subpop_>avg  conditional_prob  pop_prob  \\\n",
       "12             31952.99                0.34              0.33      0.33   \n",
       "7              23228.64                0.35              0.28      0.33   \n",
       "1              28575.32                0.32              0.27      0.33   \n",
       "16             28896.72                0.34              0.39      0.33   \n",
       "17             19683.26                0.39              0.40      0.33   \n",
       "4              28442.44                0.33              0.27      0.33   \n",
       "15             24461.49                0.34              0.38      0.33   \n",
       "8              29672.68                0.33              0.29      0.33   \n",
       "6              23312.49                0.34              0.28      0.33   \n",
       "14             32411.15                0.33              0.38      0.33   \n",
       "2              24553.90                0.33              0.27      0.33   \n",
       "5              19131.88                0.38              0.28      0.33   \n",
       "23             38892.67                0.31              0.64      0.33   \n",
       "11             34094.51                0.32              0.32      0.33   \n",
       "13             41531.53                0.30              0.38      0.33   \n",
       "0              15305.63                0.36              0.17      0.33   \n",
       "22             26433.76                0.37              0.60      0.33   \n",
       "19             21916.71                0.38              0.51      0.33   \n",
       "21             69022.81                0.32              0.56      0.33   \n",
       "24             34814.60                0.35              0.71      0.33   \n",
       "20             41744.00                0.33              0.54      0.33   \n",
       "9              41951.16                0.31              0.32      0.33   \n",
       "18             22121.52                0.35              0.43      0.33   \n",
       "3              17570.27                0.34              0.27      0.33   \n",
       "10             57979.49                0.24              0.32      0.33   \n",
       "\n",
       "    cond_ratio   pop_mean  \n",
       "12        0.98  135041.36  \n",
       "7         0.85  135041.36  \n",
       "1         0.80  135041.36  \n",
       "16        1.17  135041.36  \n",
       "17        1.19  135041.36  \n",
       "4         0.82  135041.36  \n",
       "15        1.15  135041.36  \n",
       "8         0.87  135041.36  \n",
       "6         0.85  135041.36  \n",
       "14        1.14  135041.36  \n",
       "2         0.81  135041.36  \n",
       "5         0.84  135041.36  \n",
       "23        1.91  135041.36  \n",
       "11        0.97  135041.36  \n",
       "13        1.13  135041.36  \n",
       "0         0.51  135041.36  \n",
       "22        1.82  135041.36  \n",
       "19        1.54  135041.36  \n",
       "21        1.68  135041.36  \n",
       "24        2.14  135041.36  \n",
       "20        1.62  135041.36  \n",
       "9         0.97  135041.36  \n",
       "18        1.29  135041.36  \n",
       "3         0.82  135041.36  \n",
       "10        0.97  135041.36  "
      ]
     },
     "execution_count": 11,
     "metadata": {},
     "output_type": "execute_result"
    }
   ],
   "source": [
    "df_final_metrics.sort_values('n_programmers', ascending=False)"
   ]
  },
  {
   "cell_type": "markdown",
   "metadata": {
    "id": "Oy9ftH6nJFQV"
   },
   "source": [
    "El siguiente gráfico permite determinar el Top 3 de lenguajes de programación asociados a una mayor probabilidad de percibir un mejor salario. El parámetro cuantitativo utilizado es el Ratio entre la probabilidad condicional de ganar salarios por encima de la media de cada subpoblación de lenguajes y la probabilidad de ganar por sobre la media en la población global de programadores. Ese valor se denomina AAR (Above Average Ratio), y funciona con mayor poder descriptivo que la Media, dado que está basado en probabilidades."
   ]
  },
  {
   "cell_type": "code",
   "execution_count": 12,
   "metadata": {
    "colab": {
     "base_uri": "https://localhost:8080/",
     "height": 662
    },
    "id": "Z2mQGK48MWzB",
    "outputId": "dbf2c44c-edb3-4598-9686-c3e1906237e7"
   },
   "outputs": [
    {
     "data": {
      "image/png": "[encoded data removed]",
      "text/plain": [
       "<Figure size 1152x720 with 1 Axes>"
      ]
     },
     "metadata": {
      "needs_background": "light"
     },
     "output_type": "display_data"
    }
   ],
   "source": [
    "fig = plt.figure(figsize=(16,10))\n",
    "ax = sns.barplot(x=df_final_metrics.Language, y=df_final_metrics.cond_ratio, data=df_final_metrics)\n",
    "ax = sns.lineplot(x=df_final_metrics.Language, y=1.0, data=df_final_metrics, linestyle='dashed',linewidth=3,color='green')\n",
    "plt.xticks(rotation=45)\n",
    "plt.ylim([0,2.5])\n",
    "plt.xlabel('Programming Language',size=12)\n",
    "plt.ylabel('Above Average Ratio (AAR) value',size=12)\n",
    "plt.title('Per-Language Above Average Conditional Ratio', size=18)\n",
    "\n",
    "for lang,mean,ratio in zip(df_final_metrics.Language,df_final_metrics.subpop_Salary_mean,df_final_metrics.cond_ratio):\n",
    "    if ratio > 1:\n",
    "        ax.text(lang,ratio+0.05,'AAR: {}'.format(ratio),size=14,color='blue',ha='center',rotation=90)\n",
    "        ax.text(lang,ratio-0.7,'Avg_Sal: {}'.format(mean),size=14,color='black',ha='center',rotation=90)\n",
    "    if ratio <= 1:\n",
    "        ax.text(lang,ratio+0.05,'AAR: {}'.format(ratio),size=14,color='red',ha='center',rotation=90)"
   ]
  },
  {
   "cell_type": "markdown",
   "metadata": {
    "id": "_IOp9CJ3Llvn"
   },
   "source": [
    "Conociendo los 12 lenguages que tienen un AAR mayor a 1, tiene sentido ver un histograma de la distribución de salarios para cada subpoblación y visualizar que no hay datos atípicos mas allá de la ligera asimetría hacia salarios mas altos."
   ]
  },
  {
   "cell_type": "code",
   "execution_count": 13,
   "metadata": {
    "colab": {
     "base_uri": "https://localhost:8080/",
     "height": 1000
    },
    "id": "PDxR62xbwdFf",
    "outputId": "15e01de6-e7a6-474d-8d73-7f92255a6ba8"
   },
   "outputs": [
    {
     "data": {
      "image/png": "[encoded data removed]",
      "text/plain": [
       "<Figure size 1440x864 with 12 Axes>"
      ]
     },
     "metadata": {
      "needs_background": "light"
     },
     "output_type": "display_data"
    }
   ],
   "source": [
    "items_altos = df_final_metrics[-12:].Language.iloc[::-1] \n",
    "fig = plt.subplots(figsize=(20,12))\n",
    "\n",
    "for index, item in enumerate(items_altos):\n",
    "    plt.subplot(4, 3, index + 1)\n",
    "    df_analysis = df_filtered[df_filtered['programming_language'] == item]\n",
    "    sns.distplot(x=df_analysis['salary_monthly_BRUTO'],bins=30,label='Rank-{}: {}'.format(index+1,item))\n",
    "    plt.xlim([0,1000000])\n",
    "    plt.xlabel('salary_BRUTO')\n",
    "    plt.ticklabel_format(style='plain', axis='x')\n",
    "    plt.legend()\n"
   ]
  },
  {
   "cell_type": "markdown",
   "metadata": {
    "id": "4spSO7c4cuOk"
   },
   "source": [
    "# ¿Cuáles son los lenguajes de programación asociados a los mejores salarios?"
   ]
  },
  {
   "cell_type": "markdown",
   "metadata": {},
   "source": [
    "Luego del análisis realizado y basandonos en el **AAR (Above Average Ratio)** calculado, podemos concluir que los lenguajes de programación asociados a los mejores salarios son, de mayor a menor:\n",
    "- Scala\n",
    "- Go\n",
    "- Kotlin"
   ]
  },
  {
   "cell_type": "markdown",
   "metadata": {
    "id": "tWo8SmmC9FAk",
    "tags": []
   },
   "source": [
    "# Ejercicio 2 - Densidades y varias variables\n",
    "\n",
    "Responder a la pregunta general: **¿Que herramientas (prácticas y teóricas) són útiles para explorar la base, descubrir patrones, asociaciones?**\n",
    "\n",
    "Para ello considere (igual al ejercicio Anterior):\n",
    "1. Seleccionar las columnas relevantes para analizar.\n",
    "2. Seleccionar las filas relevantes para analizar. Esto incluye la eliminación de valores extremos y erróneos, pero también puede enfocar el análisis en sub-poblaciones. "
   ]
  },
  {
   "cell_type": "markdown",
   "metadata": {},
   "source": [
    "Decidimos quedarnos con las variables que vamos a utilizar en este segundo ejercicio, para hacer una limpieza rápida de las mismas, y luego utilizar este dataset como base para los próximos cálculos."
   ]
  },
  {
   "cell_type": "code",
   "execution_count": 14,
   "metadata": {},
   "outputs": [
    {
     "data": {
      "text/html": [
       "<div>\n",
       "<style scoped>\n",
       "    .dataframe tbody tr th:only-of-type {\n",
       "        vertical-align: middle;\n",
       "    }\n",
       "\n",
       "    .dataframe tbody tr th {\n",
       "        vertical-align: top;\n",
       "    }\n",
       "\n",
       "    .dataframe thead th {\n",
       "        text-align: right;\n",
       "    }\n",
       "</style>\n",
       "<table border=\"1\" class=\"dataframe\">\n",
       "  <thead>\n",
       "    <tr style=\"text-align: right;\">\n",
       "      <th></th>\n",
       "      <th>profile_age</th>\n",
       "      <th>profile_years_experience</th>\n",
       "      <th>work_people_in_charge_of</th>\n",
       "      <th>salary_monthly_BRUTO</th>\n",
       "      <th>salary_monthly_NETO</th>\n",
       "    </tr>\n",
       "  </thead>\n",
       "  <tbody>\n",
       "    <tr>\n",
       "      <th>count</th>\n",
       "      <td>6095.0</td>\n",
       "      <td>6095.0</td>\n",
       "      <td>6095.0</td>\n",
       "      <td>6095.0</td>\n",
       "      <td>5883.0</td>\n",
       "    </tr>\n",
       "    <tr>\n",
       "      <th>mean</th>\n",
       "      <td>41.0</td>\n",
       "      <td>9.0</td>\n",
       "      <td>2.0</td>\n",
       "      <td>124059.0</td>\n",
       "      <td>94908.0</td>\n",
       "    </tr>\n",
       "    <tr>\n",
       "      <th>std</th>\n",
       "      <td>666.0</td>\n",
       "      <td>7.0</td>\n",
       "      <td>33.0</td>\n",
       "      <td>122912.0</td>\n",
       "      <td>96862.0</td>\n",
       "    </tr>\n",
       "    <tr>\n",
       "      <th>min</th>\n",
       "      <td>18.0</td>\n",
       "      <td>0.0</td>\n",
       "      <td>0.0</td>\n",
       "      <td>1.0</td>\n",
       "      <td>1.0</td>\n",
       "    </tr>\n",
       "    <tr>\n",
       "      <th>25%</th>\n",
       "      <td>27.0</td>\n",
       "      <td>3.0</td>\n",
       "      <td>0.0</td>\n",
       "      <td>61595.0</td>\n",
       "      <td>51480.0</td>\n",
       "    </tr>\n",
       "    <tr>\n",
       "      <th>50%</th>\n",
       "      <td>31.0</td>\n",
       "      <td>7.0</td>\n",
       "      <td>0.0</td>\n",
       "      <td>96000.0</td>\n",
       "      <td>78000.0</td>\n",
       "    </tr>\n",
       "    <tr>\n",
       "      <th>75%</th>\n",
       "      <td>37.0</td>\n",
       "      <td>13.0</td>\n",
       "      <td>0.0</td>\n",
       "      <td>145000.0</td>\n",
       "      <td>106000.0</td>\n",
       "    </tr>\n",
       "    <tr>\n",
       "      <th>max</th>\n",
       "      <td>52000.0</td>\n",
       "      <td>115.0</td>\n",
       "      <td>2500.0</td>\n",
       "      <td>2180000.0</td>\n",
       "      <td>2080000.0</td>\n",
       "    </tr>\n",
       "  </tbody>\n",
       "</table>\n",
       "</div>"
      ],
      "text/plain": [
       "       profile_age  profile_years_experience  work_people_in_charge_of  \\\n",
       "count       6095.0                    6095.0                    6095.0   \n",
       "mean          41.0                       9.0                       2.0   \n",
       "std          666.0                       7.0                      33.0   \n",
       "min           18.0                       0.0                       0.0   \n",
       "25%           27.0                       3.0                       0.0   \n",
       "50%           31.0                       7.0                       0.0   \n",
       "75%           37.0                      13.0                       0.0   \n",
       "max        52000.0                     115.0                    2500.0   \n",
       "\n",
       "       salary_monthly_BRUTO  salary_monthly_NETO  \n",
       "count                6095.0               5883.0  \n",
       "mean               124059.0              94908.0  \n",
       "std                122912.0              96862.0  \n",
       "min                     1.0                  1.0  \n",
       "25%                 61595.0              51480.0  \n",
       "50%                 96000.0              78000.0  \n",
       "75%                145000.0             106000.0  \n",
       "max               2180000.0            2080000.0  "
      ]
     },
     "execution_count": 14,
     "metadata": {},
     "output_type": "execute_result"
    }
   ],
   "source": [
    "columns = ['profile_age', 'profile_years_experience', 'work_people_in_charge_of', 'profile_gender','work_has_violence_situations','salary_monthly_BRUTO', 'salary_monthly_NETO','profile_studies_level']\n",
    "df[columns].describe().round()"
   ]
  },
  {
   "cell_type": "markdown",
   "metadata": {},
   "source": [
    "Viendo las columnas numéricas, vemos que existen outliers en:\n",
    "- 'profile_age': Hay una edad de 52000, lo cual indica que hay **al menos** 1 registro incorrecto. Ponemos un tope a esta columna en 100 (años) por un sentido biológico.\n",
    "- 'profile_years_experience': Vemos que existe un registro en 115 (años), lo cual tampoco tiene sentido considerando el corte 'profile_age' a 100 años. Para ser consistentes filtramos esta columna también en 100 años.\n",
    "- 'work_people_in_charge_of': Existe un registro de 2500, por lo tanto lo eliminamos de la muestra por considerarlo **dato atípico**. \n",
    "- Salarios: usamos la misma estrategia que antes, nos quedamos con los sueldos netos comprendidos entre \\\\$30000 y \\\\$1031254,37."
   ]
  },
  {
   "cell_type": "markdown",
   "metadata": {},
   "source": [
    "Una vez identificados los filtros, generamos un nuevo dataset (df_2) aplicando los filtros antes mencionados para quedarnos con un dataset limpio."
   ]
  },
  {
   "cell_type": "code",
   "execution_count": 15,
   "metadata": {},
   "outputs": [
    {
     "data": {
      "text/html": [
       "<div>\n",
       "<style scoped>\n",
       "    .dataframe tbody tr th:only-of-type {\n",
       "        vertical-align: middle;\n",
       "    }\n",
       "\n",
       "    .dataframe tbody tr th {\n",
       "        vertical-align: top;\n",
       "    }\n",
       "\n",
       "    .dataframe thead th {\n",
       "        text-align: right;\n",
       "    }\n",
       "</style>\n",
       "<table border=\"1\" class=\"dataframe\">\n",
       "  <thead>\n",
       "    <tr style=\"text-align: right;\">\n",
       "      <th></th>\n",
       "      <th>profile_age</th>\n",
       "      <th>profile_years_experience</th>\n",
       "      <th>work_people_in_charge_of</th>\n",
       "      <th>profile_gender</th>\n",
       "      <th>work_has_violence_situations</th>\n",
       "      <th>salary_monthly_BRUTO</th>\n",
       "      <th>salary_monthly_NETO</th>\n",
       "      <th>profile_studies_level</th>\n",
       "    </tr>\n",
       "  </thead>\n",
       "  <tbody>\n",
       "    <tr>\n",
       "      <th>0</th>\n",
       "      <td>26</td>\n",
       "      <td>3.0</td>\n",
       "      <td>0</td>\n",
       "      <td>Mujer</td>\n",
       "      <td>En mi trabajo actual</td>\n",
       "      <td>53000.0</td>\n",
       "      <td>43000.0</td>\n",
       "      <td>Universitario</td>\n",
       "    </tr>\n",
       "    <tr>\n",
       "      <th>1</th>\n",
       "      <td>29</td>\n",
       "      <td>5.0</td>\n",
       "      <td>4</td>\n",
       "      <td>Hombre</td>\n",
       "      <td>Jamás</td>\n",
       "      <td>79000.0</td>\n",
       "      <td>63000.0</td>\n",
       "      <td>Universitario</td>\n",
       "    </tr>\n",
       "    <tr>\n",
       "      <th>2</th>\n",
       "      <td>22</td>\n",
       "      <td>2.0</td>\n",
       "      <td>0</td>\n",
       "      <td>Mujer</td>\n",
       "      <td>En un trabajo anterior</td>\n",
       "      <td>160000.0</td>\n",
       "      <td>127000.0</td>\n",
       "      <td>Secundario</td>\n",
       "    </tr>\n",
       "    <tr>\n",
       "      <th>3</th>\n",
       "      <td>39</td>\n",
       "      <td>15.0</td>\n",
       "      <td>5</td>\n",
       "      <td>Hombre</td>\n",
       "      <td>En mi trabajo actual</td>\n",
       "      <td>130000.0</td>\n",
       "      <td>102000.0</td>\n",
       "      <td>Posgrado</td>\n",
       "    </tr>\n",
       "    <tr>\n",
       "      <th>4</th>\n",
       "      <td>32</td>\n",
       "      <td>9.0</td>\n",
       "      <td>0</td>\n",
       "      <td>Hombre</td>\n",
       "      <td>Jamás</td>\n",
       "      <td>140000.0</td>\n",
       "      <td>106000.0</td>\n",
       "      <td>Universitario</td>\n",
       "    </tr>\n",
       "  </tbody>\n",
       "</table>\n",
       "</div>"
      ],
      "text/plain": [
       "   profile_age  profile_years_experience  work_people_in_charge_of  \\\n",
       "0           26                       3.0                         0   \n",
       "1           29                       5.0                         4   \n",
       "2           22                       2.0                         0   \n",
       "3           39                      15.0                         5   \n",
       "4           32                       9.0                         0   \n",
       "\n",
       "  profile_gender work_has_violence_situations  salary_monthly_BRUTO  \\\n",
       "0          Mujer         En mi trabajo actual               53000.0   \n",
       "1         Hombre                        Jamás               79000.0   \n",
       "2          Mujer       En un trabajo anterior              160000.0   \n",
       "3         Hombre         En mi trabajo actual              130000.0   \n",
       "4         Hombre                        Jamás              140000.0   \n",
       "\n",
       "   salary_monthly_NETO profile_studies_level  \n",
       "0              43000.0         Universitario  \n",
       "1              63000.0         Universitario  \n",
       "2             127000.0            Secundario  \n",
       "3             102000.0              Posgrado  \n",
       "4             106000.0         Universitario  "
      ]
     },
     "execution_count": 15,
     "metadata": {},
     "output_type": "execute_result"
    }
   ],
   "source": [
    "minumum_salary=30000\n",
    "maximum_salary=1031254.375\n",
    "columna_salario = 'salary_monthly_NETO'\n",
    "df_2 = df[columns]\n",
    "df_2 = df_2[df_2.profile_age < 100]\n",
    "df_2 = df_2[df_2.work_people_in_charge_of < 2500]\n",
    "df_2 = df_2[df_2.profile_years_experience < 100]\n",
    "df_2 = df_2[(df_2[columna_salario] > minumum_salary) & (df_2[columna_salario] < maximum_salary)]\n",
    "df_2.head()"
   ]
  },
  {
   "cell_type": "markdown",
   "metadata": {
    "id": "5baYhH0XHM3S"
   },
   "source": [
    "## a) Densidad conjunta\n",
    "\n",
    "Que herramientas visuales y modelos puede utilizar para estudiar la distribución y comportamiento de sus datos? \n",
    "\n",
    "<font color='blue'> - Dado un conjunto de datos a analizar, la primera exploración visual resulta importante a los fines de conocer la distribución de los datos. Para ello utilizaríamos una serie de histogramas, si es que se desea hacer análisis por subconjuntos (como en el ejemplo de las celdas de arriba), y un histograma general si se quiere analizar el comportamiento de todos los datos juntos. Luego si se quiere profundizar sobre alguna población general de datos se pueden analizar diagramas del tipo 'boxplot' para evaluar la distribución de los datos. </font>"
   ]
  },
  {
   "cell_type": "markdown",
   "metadata": {},
   "source": [
    "Elija tres variables numéricas y 2 variables categóricas. Visualice la base según varias de las variables elegidas. Puede describir de alguna forma el comportamiento de sus datos? Que herramientas utilizaría? Describa\n",
    "\n",
    "\n",
    "<font color='blue'> Existen variables numéricas, tales como: 1.1- Edad ('profile_age'), 1.2-Años de Experiencia ('profile_years_experience') y 1.3-Personal a cargo ('work_people_in_charge_of'). Por otra parte tenemos variables categóricas, tales como: 2.1-Género ('profile_gender') y 2.2-Declara violencia laboral ('work_has_violence_situations').</font>"
   ]
  },
  {
   "cell_type": "code",
   "execution_count": 16,
   "metadata": {},
   "outputs": [
    {
     "data": {
      "text/html": [
       "<div>\n",
       "<style scoped>\n",
       "    .dataframe tbody tr th:only-of-type {\n",
       "        vertical-align: middle;\n",
       "    }\n",
       "\n",
       "    .dataframe tbody tr th {\n",
       "        vertical-align: top;\n",
       "    }\n",
       "\n",
       "    .dataframe thead th {\n",
       "        text-align: right;\n",
       "    }\n",
       "</style>\n",
       "<table border=\"1\" class=\"dataframe\">\n",
       "  <thead>\n",
       "    <tr style=\"text-align: right;\">\n",
       "      <th></th>\n",
       "      <th>profile_age</th>\n",
       "      <th>profile_years_experience</th>\n",
       "      <th>work_people_in_charge_of</th>\n",
       "      <th>profile_gender</th>\n",
       "      <th>work_has_violence_situations</th>\n",
       "    </tr>\n",
       "  </thead>\n",
       "  <tbody>\n",
       "    <tr>\n",
       "      <th>0</th>\n",
       "      <td>26</td>\n",
       "      <td>3.0</td>\n",
       "      <td>0</td>\n",
       "      <td>Mujer</td>\n",
       "      <td>En mi trabajo actual</td>\n",
       "    </tr>\n",
       "    <tr>\n",
       "      <th>1</th>\n",
       "      <td>29</td>\n",
       "      <td>5.0</td>\n",
       "      <td>4</td>\n",
       "      <td>Hombre</td>\n",
       "      <td>Jamás</td>\n",
       "    </tr>\n",
       "    <tr>\n",
       "      <th>2</th>\n",
       "      <td>22</td>\n",
       "      <td>2.0</td>\n",
       "      <td>0</td>\n",
       "      <td>Mujer</td>\n",
       "      <td>En un trabajo anterior</td>\n",
       "    </tr>\n",
       "    <tr>\n",
       "      <th>3</th>\n",
       "      <td>39</td>\n",
       "      <td>15.0</td>\n",
       "      <td>5</td>\n",
       "      <td>Hombre</td>\n",
       "      <td>En mi trabajo actual</td>\n",
       "    </tr>\n",
       "    <tr>\n",
       "      <th>4</th>\n",
       "      <td>32</td>\n",
       "      <td>9.0</td>\n",
       "      <td>0</td>\n",
       "      <td>Hombre</td>\n",
       "      <td>Jamás</td>\n",
       "    </tr>\n",
       "  </tbody>\n",
       "</table>\n",
       "</div>"
      ],
      "text/plain": [
       "   profile_age  profile_years_experience  work_people_in_charge_of  \\\n",
       "0           26                       3.0                         0   \n",
       "1           29                       5.0                         4   \n",
       "2           22                       2.0                         0   \n",
       "3           39                      15.0                         5   \n",
       "4           32                       9.0                         0   \n",
       "\n",
       "  profile_gender work_has_violence_situations  \n",
       "0          Mujer         En mi trabajo actual  \n",
       "1         Hombre                        Jamás  \n",
       "2          Mujer       En un trabajo anterior  \n",
       "3         Hombre         En mi trabajo actual  \n",
       "4         Hombre                        Jamás  "
      ]
     },
     "execution_count": 16,
     "metadata": {},
     "output_type": "execute_result"
    }
   ],
   "source": [
    "columns = ['profile_age', 'profile_years_experience', 'work_people_in_charge_of', 'profile_gender', 'work_has_violence_situations']\n",
    "df_a = df_2[columns]\n",
    "df_a.head()"
   ]
  },
  {
   "cell_type": "code",
   "execution_count": 17,
   "metadata": {
    "colab": {
     "base_uri": "https://localhost:8080/",
     "height": 1289
    },
    "id": "2uhXraUItQ5k",
    "outputId": "90e3d6fd-1636-49cc-a7b9-98d6128161d1"
   },
   "outputs": [
    {
     "data": {
      "image/png": "[encoded data removed]",
      "text/plain": [
       "<Figure size 1152x1440 with 3 Axes>"
      ]
     },
     "metadata": {
      "needs_background": "light"
     },
     "output_type": "display_data"
    }
   ],
   "source": [
    "fig, ax = plt.subplots(nrows=3, ncols=1, figsize=(16,20))\n",
    "sns.countplot(df_a['profile_age'], ax=ax[0], color = 'blue')\n",
    "sns.countplot(df_a['profile_years_experience'], ax=ax[1], color = 'lightblue')\n",
    "sns.countplot(df_a['work_people_in_charge_of'], ax=ax[2], color = 'darkblue')\n",
    "ax[0].tick_params(axis='x', rotation=90)\n",
    "ax[1].tick_params(axis='x', rotation=90)\n",
    "ax[2].tick_params(axis='x', rotation=90)"
   ]
  },
  {
   "cell_type": "markdown",
   "metadata": {
    "id": "B_2TTM9jxfU4"
   },
   "source": [
    "El análisis de la base empleando variables numéricas indica: \n",
    "- En relación a la Edad, se observa una distribución normal de la edad de los programadores, comprendiendo un universo de entre 18 y 67 años. Claramente los programadores entre 25-35 años son los más numerosos.\n",
    "- En relación a los años de experiencia, se observa una distribución aleatoria, con personal de 10 años de experiencia siendo el más numeroso.\n",
    "- En relación a la consulta de personas a cargo, claramente la gran mayoría de personas trabajan sin (0) personas a cargo. El trabajo con personal a cargo parece ser mas escaso, disminuyendo con la cantidad de personas dependientes."
   ]
  },
  {
   "cell_type": "code",
   "execution_count": 18,
   "metadata": {
    "colab": {
     "base_uri": "https://localhost:8080/",
     "height": 1258
    },
    "id": "GNlozfMcxfv0",
    "outputId": "49dfd2fc-ed88-4a0e-ca2d-c40b376d89dc"
   },
   "outputs": [
    {
     "data": {
      "text/plain": [
       "<AxesSubplot:xlabel='work_has_violence_situations', ylabel='count'>"
      ]
     },
     "execution_count": 18,
     "metadata": {},
     "output_type": "execute_result"
    },
    {
     "data": {
      "image/png": "[encoded data removed]",
      "text/plain": [
       "<Figure size 1152x1440 with 2 Axes>"
      ]
     },
     "metadata": {
      "needs_background": "light"
     },
     "output_type": "display_data"
    }
   ],
   "source": [
    "fig, ax = plt.subplots(nrows=2, ncols=1, figsize=(16,20))\n",
    "sns.countplot(df_a['profile_gender'], ax=ax[0])\n",
    "sns.countplot(df_a['work_has_violence_situations'], ax=ax[1], )"
   ]
  },
  {
   "cell_type": "markdown",
   "metadata": {
    "id": "sZCITkYWyFE-"
   },
   "source": [
    "Mediante el análisis de la base por algunas variables categóricas, se observa que:\n",
    "- La mayoría que respondió la encuesta son hombres.\n",
    "- La mayoría nunca ha tenido situaciones violencia laboral."
   ]
  },
  {
   "cell_type": "markdown",
   "metadata": {
    "id": "lkuHE2aZGHMO"
   },
   "source": [
    "## b) Asociación\n",
    "\n",
    "* Necesitamos decidir si sacar o no la columna de salario bruto. Para hacer la encuesta más simple.\n",
    "¿Existe una correlación entre el salario bruto y el neto? Que abordaje y medidas usaría\n",
    "\n"
   ]
  },
  {
   "cell_type": "markdown",
   "metadata": {},
   "source": [
    "Como primer hipótesis, dado que amban variables estan relacionadas por el hecho de que el salario neto es el salario bruto menos los aportes y deducciones que tenga, es altamente probable que ambas variables tengan una alta correlación, **a no se que existan diferencias cualititivas en la forma que se aplican retenciones al personal**. Para hacer un análisis simple, vamos a ver una matriz de correlación para intentar aclarar un poco y deducir si hay o no correlación."
   ]
  },
  {
   "cell_type": "code",
   "execution_count": 19,
   "metadata": {},
   "outputs": [
    {
     "data": {
      "text/plain": [
       "<AxesSubplot:>"
      ]
     },
     "execution_count": 19,
     "metadata": {},
     "output_type": "execute_result"
    },
    {
     "data": {
      "image/png": "[encoded data removed]",
      "text/plain": [
       "<Figure size 720x720 with 2 Axes>"
      ]
     },
     "metadata": {
      "needs_background": "light"
     },
     "output_type": "display_data"
    }
   ],
   "source": [
    "corr = df_filtered[['salary_monthly_BRUTO', 'salary_monthly_NETO']].corr()\n",
    "fig = plt.figure(figsize=(10,10))\n",
    "sns.heatmap(corr, xticklabels=corr.columns.values, yticklabels=corr.columns.values, annot=True, fmt='.1g')\n"
   ]
  },
  {
   "cell_type": "markdown",
   "metadata": {},
   "source": [
    "El primer análisis cuantitativo indica que el salario BRUTO y NETO **tienen una correlación positiva de 0.9**, lo cual es considerado alto. Ello sugiere que que si existe correlación, habilitando la posiblidad de simplificar la encuesta quitando el salario BRUTO y basar los análisis posteriore solo al salario NETO. Una pregunta posterior sería: ¿Cual de los dos salarios conviene quitar?: Para dar respuesta a ello analizamos la cantidad de valores faltantes en cada columna."
   ]
  },
  {
   "cell_type": "code",
   "execution_count": 20,
   "metadata": {},
   "outputs": [
    {
     "name": "stdout",
     "output_type": "stream",
     "text": [
      "salary_monthly_NETO     9.942576\n",
      "salary_monthly_BRUTO    0.000000\n",
      "dtype: float64\n"
     ]
    }
   ],
   "source": [
    "na_ratio = ((df_filtered[['salary_monthly_BRUTO','salary_monthly_NETO']].isnull().sum() / len(df))*100).sort_values(ascending = False)\n",
    "print(na_ratio)"
   ]
  },
  {
   "cell_type": "code",
   "execution_count": 21,
   "metadata": {},
   "outputs": [
    {
     "data": {
      "text/html": [
       "<div>\n",
       "<style scoped>\n",
       "    .dataframe tbody tr th:only-of-type {\n",
       "        vertical-align: middle;\n",
       "    }\n",
       "\n",
       "    .dataframe tbody tr th {\n",
       "        vertical-align: top;\n",
       "    }\n",
       "\n",
       "    .dataframe thead th {\n",
       "        text-align: right;\n",
       "    }\n",
       "</style>\n",
       "<table border=\"1\" class=\"dataframe\">\n",
       "  <thead>\n",
       "    <tr style=\"text-align: right;\">\n",
       "      <th></th>\n",
       "      <th>salary_monthly_BRUTO</th>\n",
       "      <th>salary_monthly_NETO</th>\n",
       "    </tr>\n",
       "  </thead>\n",
       "  <tbody>\n",
       "    <tr>\n",
       "      <th>count</th>\n",
       "      <td>16968.0</td>\n",
       "      <td>16362.0</td>\n",
       "    </tr>\n",
       "    <tr>\n",
       "      <th>mean</th>\n",
       "      <td>135041.0</td>\n",
       "      <td>102452.0</td>\n",
       "    </tr>\n",
       "    <tr>\n",
       "      <th>std</th>\n",
       "      <td>109890.0</td>\n",
       "      <td>88202.0</td>\n",
       "    </tr>\n",
       "    <tr>\n",
       "      <th>min</th>\n",
       "      <td>30250.0</td>\n",
       "      <td>13.0</td>\n",
       "    </tr>\n",
       "    <tr>\n",
       "      <th>25%</th>\n",
       "      <td>70000.0</td>\n",
       "      <td>57405.0</td>\n",
       "    </tr>\n",
       "    <tr>\n",
       "      <th>50%</th>\n",
       "      <td>104812.0</td>\n",
       "      <td>82000.0</td>\n",
       "    </tr>\n",
       "    <tr>\n",
       "      <th>75%</th>\n",
       "      <td>159000.0</td>\n",
       "      <td>113000.0</td>\n",
       "    </tr>\n",
       "    <tr>\n",
       "      <th>max</th>\n",
       "      <td>1031250.0</td>\n",
       "      <td>1600000.0</td>\n",
       "    </tr>\n",
       "  </tbody>\n",
       "</table>\n",
       "</div>"
      ],
      "text/plain": [
       "       salary_monthly_BRUTO  salary_monthly_NETO\n",
       "count               16968.0              16362.0\n",
       "mean               135041.0             102452.0\n",
       "std                109890.0              88202.0\n",
       "min                 30250.0                 13.0\n",
       "25%                 70000.0              57405.0\n",
       "50%                104812.0              82000.0\n",
       "75%                159000.0             113000.0\n",
       "max               1031250.0            1600000.0"
      ]
     },
     "execution_count": 21,
     "metadata": {},
     "output_type": "execute_result"
    }
   ],
   "source": [
    "df_filtered[['salary_monthly_BRUTO','salary_monthly_NETO']].describe().round()"
   ]
  },
  {
   "cell_type": "markdown",
   "metadata": {},
   "source": [
    "Analizando un poco más los datos descriptivos de cada variable, vemos que el Salario Bruto tiene más coherencia en sus datos, por ejemplo el valor mínimo se encuentra en \\\\$30250 cuando en el Salario Neto se encuentra en $13 (claramente esto es un error de tipeo y es un outlier, por lo tanto deberia ser removido). "
   ]
  },
  {
   "cell_type": "code",
   "execution_count": 22,
   "metadata": {},
   "outputs": [
    {
     "name": "stdout",
     "output_type": "stream",
     "text": [
      "Coeficiente de variación salario bruto:  0.8137261396184972\n",
      "Coeficiente de variación salario neto:  0.8608851363387606\n"
     ]
    }
   ],
   "source": [
    "print(\"Coeficiente de variación salario bruto: \",\n",
    "      scipy.stats.variation(df_filtered.salary_monthly_BRUTO))\n",
    "print(\"Coeficiente de variación salario neto: \",\n",
    "      scipy.stats.variation(df_filtered.salary_monthly_NETO.dropna()))"
   ]
  },
  {
   "cell_type": "markdown",
   "metadata": {},
   "source": [
    "Viendo un poco el coeficiente de variación de cada variable, tenemos más argumentos para quedarnos con el Salario Bruto, ya que en resumen:\n",
    "- No tiene valores faltantes.\n",
    "- Los datos son más homogeneos.\n",
    "- Tiene un menor coeficiente de variación."
   ]
  },
  {
   "cell_type": "markdown",
   "metadata": {},
   "source": [
    "En este punto **volvemos a desafiar la hipótesis de eliminar una de las dos columnas de salario**, analizando la posibilidad de que por debado de la correlación 0.9 antes mencionada existan eventos particulares.\n"
   ]
  },
  {
   "cell_type": "code",
   "execution_count": 23,
   "metadata": {
    "colab": {
     "base_uri": "https://localhost:8080/",
     "height": 638
    },
    "id": "y4ShfzzdyI0r",
    "outputId": "865be62b-92b5-4d28-8bdc-3cdd3845130e"
   },
   "outputs": [
    {
     "data": {
      "image/png": "[encoded data removed]",
      "text/plain": [
       "<Figure size 1152x720 with 1 Axes>"
      ]
     },
     "metadata": {
      "needs_background": "light"
     },
     "output_type": "display_data"
    }
   ],
   "source": [
    "# Quitamos las rows sin dato de NETO\n",
    "df2 = df_lang[df_lang['salary_monthly_NETO'].notna()]\n",
    "\n",
    "fig = plt.figure(figsize=(16,10))\n",
    "plt.scatter(df2['salary_monthly_BRUTO'],df2['salary_monthly_NETO'])\n",
    "\n",
    "slope, intercept, r_value, p_value, std_err = stats.linregress(df2['salary_monthly_BRUTO'],df2['salary_monthly_NETO'])\n",
    "\n",
    "# Calcula la pendiente y ordenada al origen y ploteo la regresión\n",
    "b, m = np.polyfit(df2['salary_monthly_BRUTO'],df2['salary_monthly_NETO'].dropna(), deg=1)\n",
    "plt.plot(df2['salary_monthly_BRUTO'], m + b * df2['salary_monthly_BRUTO'] , '--', color='red', label='y = {:.2f}x + {:.2f} \\n r={:.2f}'.format(slope,intercept,r_value)) \n",
    "\n",
    "\n",
    "plt.title(\"Correlación entre el salario BRUTO y salario NETO\", size=18)\n",
    "plt.xlabel(\"Salario BRUTO\")\n",
    "plt.ylabel(\"Salario NETO\")\n",
    "legend=plt.legend(fontsize=12, loc=9)\n",
    "for t in legend.get_texts():\n",
    "   t.set_ha('center')"
   ]
  },
  {
   "cell_type": "markdown",
   "metadata": {
    "id": "ycfG2dCSyOx2"
   },
   "source": [
    "Del análisis visual de la base completa mediante un SCATTERPLOT, **se observa un valor de coeficiente de correlación que sugiere correlación de datos (r=0.87), pero el análisis visual demuestra que dicho r está originado en una compensación de residuales de ajuste**. Si se observan que hay subgrupos de correlaciones lineales con distintas pendientes, lo cual en el contexto del dominio de los datos se interpreta como que **hay distintas poblaciones con configuraciones impositivas diferentes**, que llevan entonces a las distintas pendientes (y porcentajes de deducciones sobre el BRUTO).\n",
    "En este contexto, si bien la correlación lineal entre todos los datos es alta, **es riesgoso asumir que existe correlación total entre el salario BRUTO y el salario NETO**, por lo que no sacaríamos la columna del sueldo BRUTO. En el caso de utilizar el suelto NETO para elaborar las conclusiones, habría que verificar de no introducir un error al considerar que la población tiene un esquema de deducciones impositivas homogéneo. En tal caso sería necesario aplicar algun método analítico para separar la muestras por distintos grupos de correlación BRUTO vs NETO, y luego los análisis estarían confinados a cada subgrupo en particular."
   ]
  },
  {
   "cell_type": "markdown",
   "metadata": {
    "id": "7MZrbRJCm-ae",
    "tags": []
   },
   "source": [
    "## c) Densidad condicional \n",
    "\n",
    "Estudie la distribución del salario según el nivel de estudio.\n",
    "\n",
    "Separe la población según el nivel de estudio (elija dos subpoblaciones numerosas) y grafique de manera comparativa ambos histogramas de la variable `'salary_monthly_NETO'`\n",
    "¿Considera que ambas variables son independientes?\n",
    "¿Qué analizaría al respecto?\n",
    "\n",
    "Calcule medidas de centralización y dispersión para cada subpoblación\n",
    "\n",
    "\n",
    "\n",
    "\n"
   ]
  },
  {
   "cell_type": "code",
   "execution_count": 24,
   "metadata": {},
   "outputs": [
    {
     "data": {
      "text/html": [
       "<div>\n",
       "<style scoped>\n",
       "    .dataframe tbody tr th:only-of-type {\n",
       "        vertical-align: middle;\n",
       "    }\n",
       "\n",
       "    .dataframe tbody tr th {\n",
       "        vertical-align: top;\n",
       "    }\n",
       "\n",
       "    .dataframe thead th {\n",
       "        text-align: right;\n",
       "    }\n",
       "</style>\n",
       "<table border=\"1\" class=\"dataframe\">\n",
       "  <thead>\n",
       "    <tr style=\"text-align: right;\">\n",
       "      <th></th>\n",
       "      <th>profile_studies_level</th>\n",
       "      <th>salary_monthly_BRUTO</th>\n",
       "    </tr>\n",
       "  </thead>\n",
       "  <tbody>\n",
       "    <tr>\n",
       "      <th>0</th>\n",
       "      <td>Universitario</td>\n",
       "      <td>53000.0</td>\n",
       "    </tr>\n",
       "    <tr>\n",
       "      <th>1</th>\n",
       "      <td>Universitario</td>\n",
       "      <td>79000.0</td>\n",
       "    </tr>\n",
       "    <tr>\n",
       "      <th>2</th>\n",
       "      <td>Secundario</td>\n",
       "      <td>160000.0</td>\n",
       "    </tr>\n",
       "    <tr>\n",
       "      <th>3</th>\n",
       "      <td>Posgrado</td>\n",
       "      <td>130000.0</td>\n",
       "    </tr>\n",
       "    <tr>\n",
       "      <th>4</th>\n",
       "      <td>Universitario</td>\n",
       "      <td>140000.0</td>\n",
       "    </tr>\n",
       "  </tbody>\n",
       "</table>\n",
       "</div>"
      ],
      "text/plain": [
       "  profile_studies_level  salary_monthly_BRUTO\n",
       "0         Universitario               53000.0\n",
       "1         Universitario               79000.0\n",
       "2            Secundario              160000.0\n",
       "3              Posgrado              130000.0\n",
       "4         Universitario              140000.0"
      ]
     },
     "execution_count": 24,
     "metadata": {},
     "output_type": "execute_result"
    }
   ],
   "source": [
    "columnas_c = ['profile_studies_level', 'salary_monthly_BRUTO']\n",
    "df_c = df_2[columnas_c]\n",
    "df_c.head()"
   ]
  },
  {
   "cell_type": "markdown",
   "metadata": {},
   "source": [
    "Para poder elegir dos subpoblaciones numerosas, vemos el value_counts de la variable \"profile_studies_level\" y asi elegir las dos que más registros tienen."
   ]
  },
  {
   "cell_type": "code",
   "execution_count": 25,
   "metadata": {},
   "outputs": [
    {
     "data": {
      "text/plain": [
       "Universitario    3714\n",
       "Terciario        1017\n",
       "Secundario        388\n",
       "Posgrado          302\n",
       "Doctorado          24\n",
       "Posdoctorado        3\n",
       "Primario            2\n",
       "Name: profile_studies_level, dtype: int64"
      ]
     },
     "execution_count": 25,
     "metadata": {},
     "output_type": "execute_result"
    }
   ],
   "source": [
    "df_c.profile_studies_level.value_counts()"
   ]
  },
  {
   "cell_type": "markdown",
   "metadata": {},
   "source": [
    "Vemos que **las dos variables con más registros son \"Universitario\" y \"Terciario\"**, por lo tanto creamos un nuevo dataframe únicamente con estos registros, para luego poder analizarlos gráficamente. También aplicamos el mismo filtro que usamos en el primer ejercicio, para quedarnos únicamente con los sueldos mayores a \\\\$30000 y menores a \\\\$1031254,375."
   ]
  },
  {
   "cell_type": "code",
   "execution_count": 26,
   "metadata": {},
   "outputs": [
    {
     "data": {
      "text/plain": [
       "Universitario    3714\n",
       "Terciario        1017\n",
       "Name: profile_studies_level, dtype: int64"
      ]
     },
     "execution_count": 26,
     "metadata": {},
     "output_type": "execute_result"
    }
   ],
   "source": [
    "filtro = ['Universitario','Terciario']\n",
    "df_c_filtered = df_c[(df_c.profile_studies_level.isin(filtro))]\n",
    "df_c_filtered.profile_studies_level.value_counts()"
   ]
  },
  {
   "cell_type": "code",
   "execution_count": 27,
   "metadata": {},
   "outputs": [
    {
     "data": {
      "text/html": [
       "<div>\n",
       "<style scoped>\n",
       "    .dataframe tbody tr th:only-of-type {\n",
       "        vertical-align: middle;\n",
       "    }\n",
       "\n",
       "    .dataframe tbody tr th {\n",
       "        vertical-align: top;\n",
       "    }\n",
       "\n",
       "    .dataframe thead th {\n",
       "        text-align: right;\n",
       "    }\n",
       "</style>\n",
       "<table border=\"1\" class=\"dataframe\">\n",
       "  <thead>\n",
       "    <tr style=\"text-align: right;\">\n",
       "      <th></th>\n",
       "      <th>salary_monthly_BRUTO</th>\n",
       "    </tr>\n",
       "  </thead>\n",
       "  <tbody>\n",
       "    <tr>\n",
       "      <th>count</th>\n",
       "      <td>5450.0</td>\n",
       "    </tr>\n",
       "    <tr>\n",
       "      <th>mean</th>\n",
       "      <td>127401.0</td>\n",
       "    </tr>\n",
       "    <tr>\n",
       "      <th>std</th>\n",
       "      <td>113637.0</td>\n",
       "    </tr>\n",
       "    <tr>\n",
       "      <th>min</th>\n",
       "      <td>1.0</td>\n",
       "    </tr>\n",
       "    <tr>\n",
       "      <th>25%</th>\n",
       "      <td>67000.0</td>\n",
       "    </tr>\n",
       "    <tr>\n",
       "      <th>50%</th>\n",
       "      <td>100000.0</td>\n",
       "    </tr>\n",
       "    <tr>\n",
       "      <th>75%</th>\n",
       "      <td>148000.0</td>\n",
       "    </tr>\n",
       "    <tr>\n",
       "      <th>max</th>\n",
       "      <td>2180000.0</td>\n",
       "    </tr>\n",
       "  </tbody>\n",
       "</table>\n",
       "</div>"
      ],
      "text/plain": [
       "       salary_monthly_BRUTO\n",
       "count                5450.0\n",
       "mean               127401.0\n",
       "std                113637.0\n",
       "min                     1.0\n",
       "25%                 67000.0\n",
       "50%                100000.0\n",
       "75%                148000.0\n",
       "max               2180000.0"
      ]
     },
     "execution_count": 27,
     "metadata": {},
     "output_type": "execute_result"
    }
   ],
   "source": [
    "df_c.describe().round()"
   ]
  },
  {
   "cell_type": "code",
   "execution_count": 28,
   "metadata": {},
   "outputs": [
    {
     "data": {
      "image/png": "[encoded data removed]",
      "text/plain": [
       "<Figure size 1080x576 with 1 Axes>"
      ]
     },
     "metadata": {
      "needs_background": "light"
     },
     "output_type": "display_data"
    }
   ],
   "source": [
    "ax = sns.displot(df_c_filtered, x='salary_monthly_BRUTO', hue='profile_studies_level', kind='hist', alpha=0.3, legend=False)\n",
    "plt.axvline(x=df_c_filtered.salary_monthly_BRUTO.mean(),\n",
    "            color='red')\n",
    "plt.axvline(x=df_c_filtered.salary_monthly_BRUTO.median(),\n",
    "            color='green',\n",
    "            ls='--', \n",
    "            lw=2.5, alpha=0.3)\n",
    "plt.axvline(x=df_c_filtered.salary_monthly_BRUTO.mode()[0],\n",
    "            color='blue',\n",
    "            ls='--', \n",
    "            lw=2.5)\n",
    "plt.xlabel('Salario Mensual Neto',size=12)\n",
    "plt.ylabel('Count',size=12)\n",
    "plt.title('Distribucion de salarios BRUTOS por nivel de estudio', size=18)\n",
    "plt.gcf().set_size_inches(15, 8)\n",
    "plt.legend(loc='upper right', labels=['Media', 'Mediana','Moda', 'Terciario', 'Universitario'], fontsize='large')\n",
    "plt.show(fig)"
   ]
  },
  {
   "cell_type": "markdown",
   "metadata": {},
   "source": [
    "Mediante análisis cualitativo de los histogramas de ambas poblaciones (Universitaria  y Terciaria), **se observa una dispersión de datos hacia sueldos mas altos**. Eso significa que vale la pena analizar estadísticamente si es que los estudios Universitarios dan mas probabilidad de ganar mas dinero."
   ]
  },
  {
   "cell_type": "code",
   "execution_count": 29,
   "metadata": {},
   "outputs": [
    {
     "name": "stdout",
     "output_type": "stream",
     "text": [
      "Medidas de dispersión - Nivel de estudio: Universitario\n",
      "Desvío estándar: 116721.06\n",
      "Varianza: 13623806921.26\n",
      "Coeficiente de variación: 0.89\n",
      "Medidas de centralización - Nivel de estudio: Universitario\n",
      "Media: 130994.64\n",
      "Mediana: 101750.0\n",
      "Moda: 100000.0\n",
      "\n",
      "\n",
      "Medidas de dispersión - Nivel de estudio: Terciario\n",
      "Desvío estándar: 95655.94\n",
      "Varianza: 9150058210.89\n",
      "Coeficiente de variación: 0.88\n",
      "Medidas de centralización - Nivel de estudio: Terciario\n",
      "Media: 108224.79\n",
      "Mediana: 86000.0\n",
      "Moda: 100000.0\n",
      "\n",
      "\n"
     ]
    }
   ],
   "source": [
    "for i in set(df_c_filtered.profile_studies_level):\n",
    "    std = str(format(df_c_filtered[df_c_filtered.profile_studies_level == i]['salary_monthly_BRUTO'].std(),\".2f\"))\n",
    "    var = str(format(df_c_filtered[df_c_filtered.profile_studies_level == i]['salary_monthly_BRUTO'].var(),\".2f\"))\n",
    "    coef_var = str(format(scipy.stats.variation(df_c_filtered[df_c_filtered.profile_studies_level == i]['salary_monthly_BRUTO'].dropna()),\".2f\"))\n",
    "    mean = str(format(df_c_filtered[df_c_filtered.profile_studies_level == i]['salary_monthly_BRUTO'].mean(),\".2f\"))\n",
    "    median = str(df_c_filtered[df_c_filtered.profile_studies_level == i]['salary_monthly_BRUTO'].median())\n",
    "    mode = str(df_c_filtered[df_c_filtered.profile_studies_level == i]['salary_monthly_BRUTO'].mode()[0])\n",
    "    print(\"Medidas de dispersión - Nivel de estudio: \"+i)\n",
    "    print(\"Desvío estándar: \"+std)\n",
    "    print(\"Varianza: \"+var)\n",
    "    print(\"Coeficiente de variación: \"+coef_var)\n",
    "    print(\"Medidas de centralización - Nivel de estudio: \"+i)\n",
    "    print(\"Media: \"+mean)\n",
    "    print(\"Mediana: \"+median)\n",
    "    print(\"Moda: \"+mode)\n",
    "    print(\"\\n\")\n",
    "    "
   ]
  },
  {
   "cell_type": "markdown",
   "metadata": {
    "id": "u8wgYxNiqVpE",
    "tags": []
   },
   "source": [
    "## d) Densidad Conjunta condicional\n",
    "\n",
    "Elija dos variables numéricas y una categórica. \n",
    "Estudie la dispersión (scatterplot) de las dos variables discriminando en color por la variable categórica (ayuda: hue en seaborn)\n"
   ]
  },
  {
   "cell_type": "code",
   "execution_count": 30,
   "metadata": {},
   "outputs": [
    {
     "data": {
      "text/html": [
       "<div>\n",
       "<style scoped>\n",
       "    .dataframe tbody tr th:only-of-type {\n",
       "        vertical-align: middle;\n",
       "    }\n",
       "\n",
       "    .dataframe tbody tr th {\n",
       "        vertical-align: top;\n",
       "    }\n",
       "\n",
       "    .dataframe thead th {\n",
       "        text-align: right;\n",
       "    }\n",
       "</style>\n",
       "<table border=\"1\" class=\"dataframe\">\n",
       "  <thead>\n",
       "    <tr style=\"text-align: right;\">\n",
       "      <th></th>\n",
       "      <th>profile_gender</th>\n",
       "      <th>salary_monthly_BRUTO</th>\n",
       "      <th>profile_age</th>\n",
       "    </tr>\n",
       "  </thead>\n",
       "  <tbody>\n",
       "    <tr>\n",
       "      <th>0</th>\n",
       "      <td>Mujer</td>\n",
       "      <td>53000.0</td>\n",
       "      <td>26</td>\n",
       "    </tr>\n",
       "    <tr>\n",
       "      <th>1</th>\n",
       "      <td>Hombre</td>\n",
       "      <td>79000.0</td>\n",
       "      <td>29</td>\n",
       "    </tr>\n",
       "    <tr>\n",
       "      <th>2</th>\n",
       "      <td>Mujer</td>\n",
       "      <td>160000.0</td>\n",
       "      <td>22</td>\n",
       "    </tr>\n",
       "    <tr>\n",
       "      <th>3</th>\n",
       "      <td>Hombre</td>\n",
       "      <td>130000.0</td>\n",
       "      <td>39</td>\n",
       "    </tr>\n",
       "    <tr>\n",
       "      <th>4</th>\n",
       "      <td>Hombre</td>\n",
       "      <td>140000.0</td>\n",
       "      <td>32</td>\n",
       "    </tr>\n",
       "  </tbody>\n",
       "</table>\n",
       "</div>"
      ],
      "text/plain": [
       "  profile_gender  salary_monthly_BRUTO  profile_age\n",
       "0          Mujer               53000.0           26\n",
       "1         Hombre               79000.0           29\n",
       "2          Mujer              160000.0           22\n",
       "3         Hombre              130000.0           39\n",
       "4         Hombre              140000.0           32"
      ]
     },
     "execution_count": 30,
     "metadata": {},
     "output_type": "execute_result"
    }
   ],
   "source": [
    "columnas = ['profile_gender', 'salary_monthly_BRUTO', 'profile_age']\n",
    "df_d = df_2[columnas]\n",
    "df_d.head()"
   ]
  },
  {
   "cell_type": "code",
   "execution_count": 31,
   "metadata": {},
   "outputs": [
    {
     "data": {
      "text/plain": [
       "<matplotlib.legend.Legend at 0x7f70dc5b80d0>"
      ]
     },
     "execution_count": 31,
     "metadata": {},
     "output_type": "execute_result"
    },
    {
     "data": {
      "image/png": "[encoded data removed]",
      "text/plain": [
       "<Figure size 1080x720 with 1 Axes>"
      ]
     },
     "metadata": {
      "needs_background": "light"
     },
     "output_type": "display_data"
    }
   ],
   "source": [
    "fig = plt.figure(figsize=(15,10))\n",
    "sns.scatterplot(data=df_d, x=\"profile_age\", y=\"salary_monthly_BRUTO\", hue=\"profile_gender\")\n",
    "plt.xlabel('Edad')\n",
    "plt.ylabel('Salario Mensual Bruto')\n",
    "plt.legend()"
   ]
  },
  {
   "cell_type": "markdown",
   "metadata": {},
   "source": [
    "El gráfico sugiere que **la dispersión de sueldos brutos hacia valores más altos se da en la población de entre 25-35 años**. También se observa que valores mas altos son más frecuentes en hombres que en mujeres. Por último, a medida que el programador pertenece a rangos etarios hacia los extremos del rango 25-35 años la dispersión hacia salarios mas altos se reduce."
   ]
  },
  {
   "cell_type": "markdown",
   "metadata": {},
   "source": [
    "# Trabajo práctico entregable - Parte 2"
   ]
  },
  {
   "cell_type": "markdown",
   "metadata": {},
   "source": [
    "## Lectura del dataset\n",
    "\n",
    "En la notebook 00 se explican los detalles de la siguiente sección."
   ]
  },
  {
   "cell_type": "code",
   "execution_count": 32,
   "metadata": {},
   "outputs": [],
   "source": [
    "url = 'https://cs.famaf.unc.edu.ar/~mteruel/datasets/diplodatos/sysarmy_survey_2020_processed.csv'\n",
    "df = pd.read_csv(url)\n"
   ]
  },
  {
   "cell_type": "code",
   "execution_count": 33,
   "metadata": {},
   "outputs": [
    {
     "data": {
      "text/html": [
       "<div>\n",
       "<style scoped>\n",
       "    .dataframe tbody tr th:only-of-type {\n",
       "        vertical-align: middle;\n",
       "    }\n",
       "\n",
       "    .dataframe tbody tr th {\n",
       "        vertical-align: top;\n",
       "    }\n",
       "\n",
       "    .dataframe thead th {\n",
       "        text-align: right;\n",
       "    }\n",
       "</style>\n",
       "<table border=\"1\" class=\"dataframe\">\n",
       "  <thead>\n",
       "    <tr style=\"text-align: right;\">\n",
       "      <th></th>\n",
       "      <th>profile_gender</th>\n",
       "      <th>profile_age</th>\n",
       "      <th>work_country</th>\n",
       "      <th>work_province</th>\n",
       "      <th>profile_years_experience</th>\n",
       "      <th>work_years_in_company</th>\n",
       "      <th>work_years_in_current_position</th>\n",
       "      <th>work_people_in_charge_of</th>\n",
       "      <th>profile_studies_level</th>\n",
       "      <th>profile_studies_level_state</th>\n",
       "      <th>...</th>\n",
       "      <th>work_has_violence_situations</th>\n",
       "      <th>profile_sexual_orientation</th>\n",
       "      <th>profile_has_disabilities</th>\n",
       "      <th>profile_has_disabilities_hiring_difficulties</th>\n",
       "      <th>company_employee_number</th>\n",
       "      <th>company_main_activity</th>\n",
       "      <th>company_recommended</th>\n",
       "      <th>company_diversity_policies</th>\n",
       "      <th>company_extra_benefits</th>\n",
       "      <th>company_best_companies_city</th>\n",
       "    </tr>\n",
       "  </thead>\n",
       "  <tbody>\n",
       "    <tr>\n",
       "      <th>0</th>\n",
       "      <td>Mujer</td>\n",
       "      <td>26</td>\n",
       "      <td>Argentina</td>\n",
       "      <td>Ciudad Autónoma de Buenos Aires</td>\n",
       "      <td>3.0</td>\n",
       "      <td>3.0</td>\n",
       "      <td>3.0</td>\n",
       "      <td>0</td>\n",
       "      <td>Universitario</td>\n",
       "      <td>En curso</td>\n",
       "      <td>...</td>\n",
       "      <td>En mi trabajo actual</td>\n",
       "      <td>Homosexual</td>\n",
       "      <td>NaN</td>\n",
       "      <td>NaN</td>\n",
       "      <td>501-1000</td>\n",
       "      <td>Servicios / Consultoría de Software / Digital</td>\n",
       "      <td>7</td>\n",
       "      <td>2</td>\n",
       "      <td>Capacitaciones y/o cursos, Comidas pagas / sub...</td>\n",
       "      <td>NaN</td>\n",
       "    </tr>\n",
       "    <tr>\n",
       "      <th>1</th>\n",
       "      <td>Hombre</td>\n",
       "      <td>29</td>\n",
       "      <td>Argentina</td>\n",
       "      <td>Corrientes</td>\n",
       "      <td>5.0</td>\n",
       "      <td>2.0</td>\n",
       "      <td>2.0</td>\n",
       "      <td>4</td>\n",
       "      <td>Universitario</td>\n",
       "      <td>En curso</td>\n",
       "      <td>...</td>\n",
       "      <td>Jamás</td>\n",
       "      <td>Heterosexual</td>\n",
       "      <td>Visual</td>\n",
       "      <td>No</td>\n",
       "      <td>201-500</td>\n",
       "      <td>Otras industrias</td>\n",
       "      <td>8</td>\n",
       "      <td>9</td>\n",
       "      <td>Horarios flexibles, Stock options / RSUs, Viát...</td>\n",
       "      <td>NaN</td>\n",
       "    </tr>\n",
       "    <tr>\n",
       "      <th>2</th>\n",
       "      <td>Mujer</td>\n",
       "      <td>22</td>\n",
       "      <td>Argentina</td>\n",
       "      <td>Ciudad Autónoma de Buenos Aires</td>\n",
       "      <td>2.0</td>\n",
       "      <td>0.0</td>\n",
       "      <td>0.0</td>\n",
       "      <td>0</td>\n",
       "      <td>Secundario</td>\n",
       "      <td>Completado</td>\n",
       "      <td>...</td>\n",
       "      <td>En un trabajo anterior</td>\n",
       "      <td>Bisexual o queer</td>\n",
       "      <td>NaN</td>\n",
       "      <td>No</td>\n",
       "      <td>2001-5000</td>\n",
       "      <td>Otras industrias</td>\n",
       "      <td>6</td>\n",
       "      <td>9</td>\n",
       "      <td>Clases de gimnasia online, Comidas pagas / sub...</td>\n",
       "      <td>NaN</td>\n",
       "    </tr>\n",
       "  </tbody>\n",
       "</table>\n",
       "<p>3 rows × 48 columns</p>\n",
       "</div>"
      ],
      "text/plain": [
       "  profile_gender  profile_age work_country                    work_province  \\\n",
       "0          Mujer           26    Argentina  Ciudad Autónoma de Buenos Aires   \n",
       "1         Hombre           29    Argentina                       Corrientes   \n",
       "2          Mujer           22    Argentina  Ciudad Autónoma de Buenos Aires   \n",
       "\n",
       "   profile_years_experience  work_years_in_company  \\\n",
       "0                       3.0                    3.0   \n",
       "1                       5.0                    2.0   \n",
       "2                       2.0                    0.0   \n",
       "\n",
       "   work_years_in_current_position  work_people_in_charge_of  \\\n",
       "0                             3.0                         0   \n",
       "1                             2.0                         4   \n",
       "2                             0.0                         0   \n",
       "\n",
       "  profile_studies_level profile_studies_level_state  ...  \\\n",
       "0         Universitario                    En curso  ...   \n",
       "1         Universitario                    En curso  ...   \n",
       "2            Secundario                  Completado  ...   \n",
       "\n",
       "  work_has_violence_situations profile_sexual_orientation  \\\n",
       "0         En mi trabajo actual                 Homosexual   \n",
       "1                        Jamás               Heterosexual   \n",
       "2       En un trabajo anterior           Bisexual o queer   \n",
       "\n",
       "  profile_has_disabilities profile_has_disabilities_hiring_difficulties  \\\n",
       "0                      NaN                                          NaN   \n",
       "1                   Visual                                           No   \n",
       "2                      NaN                                           No   \n",
       "\n",
       "  company_employee_number                          company_main_activity  \\\n",
       "0                501-1000  Servicios / Consultoría de Software / Digital   \n",
       "1                 201-500                               Otras industrias   \n",
       "2               2001-5000                               Otras industrias   \n",
       "\n",
       "  company_recommended company_diversity_policies  \\\n",
       "0                   7                          2   \n",
       "1                   8                          9   \n",
       "2                   6                          9   \n",
       "\n",
       "                              company_extra_benefits  \\\n",
       "0  Capacitaciones y/o cursos, Comidas pagas / sub...   \n",
       "1  Horarios flexibles, Stock options / RSUs, Viát...   \n",
       "2  Clases de gimnasia online, Comidas pagas / sub...   \n",
       "\n",
       "  company_best_companies_city  \n",
       "0                         NaN  \n",
       "1                         NaN  \n",
       "2                         NaN  \n",
       "\n",
       "[3 rows x 48 columns]"
      ]
     },
     "execution_count": 33,
     "metadata": {},
     "output_type": "execute_result"
    }
   ],
   "source": [
    "df[:3]"
   ]
  },
  {
   "cell_type": "code",
   "execution_count": 34,
   "metadata": {},
   "outputs": [
    {
     "data": {
      "text/html": [
       "<div>\n",
       "<style scoped>\n",
       "    .dataframe tbody tr th:only-of-type {\n",
       "        vertical-align: middle;\n",
       "    }\n",
       "\n",
       "    .dataframe tbody tr th {\n",
       "        vertical-align: top;\n",
       "    }\n",
       "\n",
       "    .dataframe thead tr th {\n",
       "        text-align: left;\n",
       "    }\n",
       "\n",
       "    .dataframe thead tr:last-of-type th {\n",
       "        text-align: right;\n",
       "    }\n",
       "</style>\n",
       "<table border=\"1\" class=\"dataframe\">\n",
       "  <thead>\n",
       "    <tr>\n",
       "      <th></th>\n",
       "      <th colspan=\"8\" halign=\"left\">salary_monthly_NETO</th>\n",
       "    </tr>\n",
       "    <tr>\n",
       "      <th></th>\n",
       "      <th>count</th>\n",
       "      <th>mean</th>\n",
       "      <th>std</th>\n",
       "      <th>min</th>\n",
       "      <th>25%</th>\n",
       "      <th>50%</th>\n",
       "      <th>75%</th>\n",
       "      <th>max</th>\n",
       "    </tr>\n",
       "    <tr>\n",
       "      <th>profile_gender</th>\n",
       "      <th></th>\n",
       "      <th></th>\n",
       "      <th></th>\n",
       "      <th></th>\n",
       "      <th></th>\n",
       "      <th></th>\n",
       "      <th></th>\n",
       "      <th></th>\n",
       "    </tr>\n",
       "  </thead>\n",
       "  <tbody>\n",
       "    <tr>\n",
       "      <th>Hombre</th>\n",
       "      <td>4944.0</td>\n",
       "      <td>98836.063558</td>\n",
       "      <td>102159.664237</td>\n",
       "      <td>1.0</td>\n",
       "      <td>53285.0</td>\n",
       "      <td>80000.0</td>\n",
       "      <td>110000.0</td>\n",
       "      <td>2080000.0</td>\n",
       "    </tr>\n",
       "    <tr>\n",
       "      <th>Mujer</th>\n",
       "      <td>908.0</td>\n",
       "      <td>73501.414465</td>\n",
       "      <td>56256.880181</td>\n",
       "      <td>2.0</td>\n",
       "      <td>43818.0</td>\n",
       "      <td>65000.0</td>\n",
       "      <td>92000.0</td>\n",
       "      <td>800000.0</td>\n",
       "    </tr>\n",
       "    <tr>\n",
       "      <th>Otros</th>\n",
       "      <td>31.0</td>\n",
       "      <td>95441.354839</td>\n",
       "      <td>88635.674358</td>\n",
       "      <td>40.0</td>\n",
       "      <td>39500.0</td>\n",
       "      <td>74000.0</td>\n",
       "      <td>117500.0</td>\n",
       "      <td>380000.0</td>\n",
       "    </tr>\n",
       "  </tbody>\n",
       "</table>\n",
       "</div>"
      ],
      "text/plain": [
       "               salary_monthly_NETO                                     \\\n",
       "                             count          mean            std   min   \n",
       "profile_gender                                                          \n",
       "Hombre                      4944.0  98836.063558  102159.664237   1.0   \n",
       "Mujer                        908.0  73501.414465   56256.880181   2.0   \n",
       "Otros                         31.0  95441.354839   88635.674358  40.0   \n",
       "\n",
       "                                                       \n",
       "                    25%      50%       75%        max  \n",
       "profile_gender                                         \n",
       "Hombre          53285.0  80000.0  110000.0  2080000.0  \n",
       "Mujer           43818.0  65000.0   92000.0   800000.0  \n",
       "Otros           39500.0  74000.0  117500.0   380000.0  "
      ]
     },
     "execution_count": 34,
     "metadata": {},
     "output_type": "execute_result"
    }
   ],
   "source": [
    "df[['profile_gender', 'salary_monthly_NETO']].groupby('profile_gender').describe()"
   ]
  },
  {
   "cell_type": "code",
   "execution_count": 35,
   "metadata": {},
   "outputs": [],
   "source": [
    "is_man = df.profile_gender == 'Hombre'\n",
    "\n",
    "groupA = df[(df.salary_monthly_NETO > 1000) & is_man].salary_monthly_NETO\n",
    "groupB = df[(df.salary_monthly_NETO > 1000) & ~is_man].salary_monthly_NETO\n"
   ]
  },
  {
   "cell_type": "markdown",
   "metadata": {},
   "source": [
    "## Ejercicio 1: Estimación\n",
    "\n",
    "**Consigna:**  Calcular una estimación puntual y un intervalo de confianza de nivel (1-alpha) para la resta entre la media del salario Neto para Hombres menos la media del salario Neto para otros géneros(diferencia de las medias entre el grupoA y grupoB). \n",
    "¿Cómo se relaciona este intervalo de confianza con el test de hipótesis?"
   ]
  },
  {
   "cell_type": "markdown",
   "metadata": {},
   "source": [
    "### Análisis grupo A"
   ]
  },
  {
   "cell_type": "code",
   "execution_count": 36,
   "metadata": {},
   "outputs": [
    {
     "data": {
      "text/plain": [
       "count       4815.00\n",
       "mean      101481.62\n",
       "std       102215.30\n",
       "min         1100.00\n",
       "25%        55000.00\n",
       "50%        80000.00\n",
       "75%       110000.00\n",
       "max      2080000.00\n",
       "Name: salary_monthly_NETO, dtype: object"
      ]
     },
     "execution_count": 36,
     "metadata": {},
     "output_type": "execute_result"
    }
   ],
   "source": [
    "groupA.describe().apply(lambda s: '{0:.2f}'.format(s))"
   ]
  },
  {
   "cell_type": "code",
   "execution_count": 37,
   "metadata": {},
   "outputs": [
    {
     "data": {
      "text/plain": [
       "<matplotlib.lines.Line2D at 0x7f70e025d520>"
      ]
     },
     "execution_count": 37,
     "metadata": {},
     "output_type": "execute_result"
    },
    {
     "data": {
      "image/png": "[encoded data removed]",
      "text/plain": [
       "<Figure size 720x360 with 1 Axes>"
      ]
     },
     "metadata": {
      "needs_background": "light"
     },
     "output_type": "display_data"
    }
   ],
   "source": [
    "sns.displot(groupA, aspect=2, bins=500, color='gray') #cambiar los bins=5,20 0 50 y ver...\n",
    "plt.ticklabel_format(style='plain', axis='x')\n",
    "plt.axvline(groupA.mean(), color='steelblue',\n",
    "            linestyle='--', label='Media')"
   ]
  },
  {
   "cell_type": "code",
   "execution_count": 38,
   "metadata": {},
   "outputs": [
    {
     "name": "stdout",
     "output_type": "stream",
     "text": [
      "Percentil 95 de la columna salary_monthly_NETO: 240000.0\n",
      "Cantidad de datos menor que percentil 95: 4571\n",
      "% de datos menor que percentil 95: 0.94932502596054\n"
     ]
    }
   ],
   "source": [
    "lim_sup = 95\n",
    "percentileA = groupA.quantile(lim_sup / 100)\n",
    "n_below = len(groupA[groupA < percentileA])\n",
    "print('Percentil {} de la columna {}: {}'.format(lim_sup, 'salary_monthly_NETO', percentileA))\n",
    "print('Cantidad de datos menor que percentil {}: {}'.format(lim_sup, n_below ))\n",
    "print('% de datos menor que percentil {}: {}'.format(lim_sup, n_below / len(groupA)))"
   ]
  },
  {
   "cell_type": "code",
   "execution_count": 39,
   "metadata": {},
   "outputs": [
    {
     "data": {
      "text/plain": [
       "count      4571.00\n",
       "mean      83823.42\n",
       "std       40408.16\n",
       "min        1100.00\n",
       "25%       54000.00\n",
       "50%       79000.00\n",
       "75%      105000.00\n",
       "max      237500.00\n",
       "Name: salary_monthly_NETO, dtype: object"
      ]
     },
     "execution_count": 39,
     "metadata": {},
     "output_type": "execute_result"
    }
   ],
   "source": [
    "# Se eliminan los outliers por sobre percentil 95\n",
    "groupA_aux = groupA[groupA < percentileA]\n",
    "groupA_aux.describe().apply(lambda s: '{0:.2f}'.format(s))"
   ]
  },
  {
   "cell_type": "code",
   "execution_count": 40,
   "metadata": {},
   "outputs": [
    {
     "data": {
      "text/plain": [
       "<matplotlib.lines.Line2D at 0x7f7125b86640>"
      ]
     },
     "execution_count": 40,
     "metadata": {},
     "output_type": "execute_result"
    },
    {
     "data": {
      "image/png": "[encoded data removed]",
      "text/plain": [
       "<Figure size 720x360 with 1 Axes>"
      ]
     },
     "metadata": {
      "needs_background": "light"
     },
     "output_type": "display_data"
    }
   ],
   "source": [
    "sns.displot(groupA_aux, aspect=2, bins=100, color='gray') #cambiar los bins=5,20 0 50 y ver...\n",
    "plt.ticklabel_format(style='plain', axis='x')\n",
    "plt.axvline(groupA_aux.mean(), color='steelblue',\n",
    "            linestyle='--', label='Media')"
   ]
  },
  {
   "cell_type": "markdown",
   "metadata": {},
   "source": [
    "### Análisis grupo B"
   ]
  },
  {
   "cell_type": "code",
   "execution_count": 41,
   "metadata": {},
   "outputs": [
    {
     "data": {
      "text/plain": [
       "count       891.00\n",
       "mean      78219.25\n",
       "std       56515.33\n",
       "min        2000.00\n",
       "25%       47600.00\n",
       "50%       67310.00\n",
       "75%       94000.00\n",
       "max      800000.00\n",
       "Name: salary_monthly_NETO, dtype: object"
      ]
     },
     "execution_count": 41,
     "metadata": {},
     "output_type": "execute_result"
    }
   ],
   "source": [
    "groupB.describe().apply(lambda s: '{0:.2f}'.format(s))"
   ]
  },
  {
   "cell_type": "code",
   "execution_count": 42,
   "metadata": {},
   "outputs": [
    {
     "data": {
      "text/plain": [
       "<matplotlib.lines.Line2D at 0x7f70dc577d90>"
      ]
     },
     "execution_count": 42,
     "metadata": {},
     "output_type": "execute_result"
    },
    {
     "data": {
      "image/png": "[encoded data removed]",
      "text/plain": [
       "<Figure size 720x360 with 1 Axes>"
      ]
     },
     "metadata": {
      "needs_background": "light"
     },
     "output_type": "display_data"
    }
   ],
   "source": [
    "sns.displot(groupB, aspect=2, bins=100, color='gray') #cambiar los bins=5,20 0 50 y ver...\n",
    "plt.ticklabel_format(style='plain', axis='x')\n",
    "plt.axvline(groupB.mean(), color='orangered',\n",
    "            linestyle='--', label='Media')"
   ]
  },
  {
   "cell_type": "code",
   "execution_count": 43,
   "metadata": {},
   "outputs": [
    {
     "name": "stdout",
     "output_type": "stream",
     "text": [
      "Percentil 95 de la columna salary_monthly_NETO: 150000.0\n",
      "Cantidad de datos menor que percentil 95: 841\n",
      "% de datos menor que percentil 95: 0.9438832772166106\n"
     ]
    }
   ],
   "source": [
    "percentileB = groupB.quantile(lim_sup / 100)\n",
    "n_below = len(groupB[groupB < percentileB])\n",
    "print('Percentil {} de la columna {}: {}'.format(lim_sup, 'salary_monthly_NETO', percentileB))\n",
    "print('Cantidad de datos menor que percentil {}: {}'.format(lim_sup, n_below ))\n",
    "print('% de datos menor que percentil {}: {}'.format(lim_sup, n_below / len(groupB)))"
   ]
  },
  {
   "cell_type": "code",
   "execution_count": 44,
   "metadata": {},
   "outputs": [
    {
     "data": {
      "text/plain": [
       "count       841.00\n",
       "mean      68983.57\n",
       "std       28948.56\n",
       "min        2000.00\n",
       "25%       45000.00\n",
       "50%       65000.00\n",
       "75%       89788.00\n",
       "max      149000.00\n",
       "Name: salary_monthly_NETO, dtype: object"
      ]
     },
     "execution_count": 44,
     "metadata": {},
     "output_type": "execute_result"
    }
   ],
   "source": [
    "# Se eliminan los outliers por sobre percentil 95 para tener una mejor comparación visual.\n",
    "groupB_aux = groupB[groupB < percentileB]\n",
    "groupB_aux.describe().apply(lambda s: '{0:.2f}'.format(s))"
   ]
  },
  {
   "cell_type": "code",
   "execution_count": 45,
   "metadata": {},
   "outputs": [
    {
     "data": {
      "text/plain": [
       "<matplotlib.lines.Line2D at 0x7f70dddcd160>"
      ]
     },
     "execution_count": 45,
     "metadata": {},
     "output_type": "execute_result"
    },
    {
     "data": {
      "image/png": "[encoded data removed]",
      "text/plain": [
       "<Figure size 720x360 with 1 Axes>"
      ]
     },
     "metadata": {
      "needs_background": "light"
     },
     "output_type": "display_data"
    }
   ],
   "source": [
    "sns.displot(groupB_aux, aspect=2, bins=100, color='gray') #cambiar los bins=5,20 0 50 y ver...\n",
    "plt.ticklabel_format(style='plain', axis='x')\n",
    "plt.axvline(groupB_aux.mean(), color='orangered',\n",
    "            linestyle='--', label='Media')"
   ]
  },
  {
   "cell_type": "markdown",
   "metadata": {},
   "source": [
    "### Estimación Puntual"
   ]
  },
  {
   "cell_type": "code",
   "execution_count": 46,
   "metadata": {},
   "outputs": [
    {
     "name": "stdout",
     "output_type": "stream",
     "text": [
      "Media salario neto para Hombres:  83823.42\n",
      "Media salario neto para Otros Géneros:  68983.57\n",
      "Diferencia de las medias:  14839.85\n"
     ]
    }
   ],
   "source": [
    "xA = round(groupA_aux.mean(), 2)\n",
    "xB = round(groupB_aux.mean(), 2)\n",
    "print(\"Media salario neto para Hombres: \", xA)\n",
    "print(\"Media salario neto para Otros Géneros: \", xB)\n",
    "\n",
    "mean_diff = round(xA - xB, 2);\n",
    "print(\"Diferencia de las medias: \", mean_diff)"
   ]
  },
  {
   "cell_type": "markdown",
   "metadata": {},
   "source": [
    "### Intervalo del confianza del 95%"
   ]
  },
  {
   "cell_type": "markdown",
   "metadata": {},
   "source": [
    "Procedimiento manual siguiendo bibligrafía tradicional, siendo que el tamaño de la muestra es $> 30$, podemos considerar que la media muestral tiene una distribución aproximadamente normal y también usar $s$ puntual como estimador de $\\sigma$"
   ]
  },
  {
   "cell_type": "markdown",
   "metadata": {},
   "source": [
    "$Z_{1-\\frac{\\alpha}{2}}$"
   ]
  },
  {
   "cell_type": "code",
   "execution_count": 47,
   "metadata": {},
   "outputs": [
    {
     "name": "stdout",
     "output_type": "stream",
     "text": [
      "Buscar en tabla z: 0.975\n",
      "z = 1.96\n"
     ]
    }
   ],
   "source": [
    "alpha = 0.05\n",
    "buscar = 1 - (alpha/2)\n",
    "z = 1.96\n",
    "print(\"Buscar en tabla z:\", buscar)\n",
    "print(\"z =\", z)"
   ]
  },
  {
   "cell_type": "code",
   "execution_count": 48,
   "metadata": {},
   "outputs": [
    {
     "name": "stdout",
     "output_type": "stream",
     "text": [
      "nA = 4571\n",
      "nB = 841\n",
      "Desvío estándar A: sA = 40403.74352981613\n",
      "Desvío estándar B: sB = 28931.343511728086\n",
      "Varianza A: s = 10445798632.500689\n",
      "Varianza B: s = 837022637.3936108\n"
     ]
    }
   ],
   "source": [
    "# Estadísticos\n",
    "nA = len(groupA_aux)\n",
    "nB = len(groupB_aux)\n",
    "print(\"nA =\", nA)\n",
    "print(\"nB =\", nB)\n",
    "\n",
    "sA = np.std(groupA_aux)\n",
    "sB = np.std(groupB_aux)\n",
    "\n",
    "print(\"Desvío estándar A: sA =\", sA)\n",
    "print(\"Desvío estándar B: sB =\", sB)\n",
    "\n",
    "s2A = np.var(groupA)\n",
    "s2B = np.var(groupB_aux)\n",
    "\n",
    "print(\"Varianza A: s =\", s2A)\n",
    "print(\"Varianza B: s =\", s2B)"
   ]
  },
  {
   "cell_type": "code",
   "execution_count": 49,
   "metadata": {},
   "outputs": [
    {
     "name": "stdout",
     "output_type": "stream",
     "text": [
      "14826.96 < u1 - u2 < 14852.74\n"
     ]
    }
   ],
   "source": [
    "# Término 1\n",
    "term1 = (xA - xB)\n",
    "# Término 2\n",
    "term2 = z * np.sqrt((sA/nA) + (sB/nB))\n",
    "\n",
    "li = round(term1 - term2, 2)\n",
    "ls = round(term1 + term2, 2)\n",
    "\n",
    "print(\"{} < u1 - u2 < {}\".format(li, ls))"
   ]
  },
  {
   "cell_type": "markdown",
   "metadata": {},
   "source": [
    "> **Con una probabilidad del 95% la diferencia de medias entre el Grupo A y B se encuentra entre 14826.96 y 14852.74**"
   ]
  },
  {
   "cell_type": "markdown",
   "metadata": {},
   "source": [
    "Procedimiento con distribución $t$"
   ]
  },
  {
   "cell_type": "code",
   "execution_count": 50,
   "metadata": {},
   "outputs": [
    {
     "name": "stdout",
     "output_type": "stream",
     "text": [
      "nA = 4571\n",
      "nB = 841\n",
      "Media salario neto para Hombres:  83823.42\n",
      "Media salario neto para Otros Géneros:  68983.57\n",
      "Varianza A: s = 1632819704.0221138\n",
      "Varianza B: s = 838019092.9143175\n",
      "Valor crítico: 1.961531662613035\n",
      "12557.66 < u1 - u2 < 17122.04\n"
     ]
    }
   ],
   "source": [
    "nA = len(groupA_aux)\n",
    "nB = len(groupB_aux)\n",
    "print(\"nA =\", nA)\n",
    "print(\"nB =\", nB)\n",
    "\n",
    "xA = round(groupA_aux.mean(), 2)\n",
    "xB = round(groupB_aux.mean(), 2)\n",
    "print(\"Media salario neto para Hombres: \", xA)\n",
    "print(\"Media salario neto para Otros Géneros: \", xB)\n",
    "\n",
    "s2A = np.var(groupA_aux, ddof = 1)\n",
    "s2B = np.var(groupB_aux, ddof = 1)\n",
    "\n",
    "print(\"Varianza A: s =\", s2A)\n",
    "print(\"Varianza B: s =\", s2B)\n",
    "\n",
    "# Asumimos que la varianza es distinta en ambas poblaciones ya que si llevamos a cabo un cálculo\n",
    "# de intervalo de confianza para diferencia de medias, suponiendo que las varianzas no son\n",
    "# iguales, en el dado caso que sí lo fueran, perderíamos muy poco, y el intervalo obtenido sería\n",
    "# un poco conservador. En el caso de que supongamos que las varianzas son iguales, siendo que no lo\n",
    "# son, nos produce un error mayor que puede ser considerable por lo que una sugerencia es usar varianzas\n",
    "# diferentes como regla general.\n",
    "\n",
    "ratioA = s2A/nA\n",
    "ratioB = s2B/nB\n",
    "gdl = (ratioA + ratioB)**2 / (ratioA**2/(nA-1) + ratioB**2/(nB-1))\n",
    "radius = ratioA + ratioB\n",
    "\n",
    "# Buscamos el valor crítico\n",
    "alpha = 0.05\n",
    "crit_val = scipy.stats.t.ppf(q = 1-alpha/2, df = gdl)\n",
    "print(\"Valor crítico: {}\".format(crit_val))\n",
    "\n",
    "# Find the lower and upper bound of the confidence interval\n",
    "ls = (xA - xB) + crit_val*np.sqrt(radius)\n",
    "li = (xA - xB) - crit_val*np.sqrt(radius)\n",
    "\n",
    "print(\"{} < u1 - u2 < {}\".format(round(li, 2), round(ls, 2)))"
   ]
  },
  {
   "cell_type": "markdown",
   "metadata": {},
   "source": [
    "> **Con una probabilidad del $95$% la diferencia de medias entre el Grupo A y B se encuentra entre $12557.66$ y $17122.04$**"
   ]
  },
  {
   "cell_type": "markdown",
   "metadata": {},
   "source": [
    "### ¿Cómo se relaciona el cálculo del intervalo de confianza con el test de hipótesis?"
   ]
  },
  {
   "cell_type": "markdown",
   "metadata": {},
   "source": [
    "> Probar una hipótesis $H_0$: $\\mu = \\mu_0$ contra $H_1$: $\\mu \\ne \\mu_0$ en un nivel de significancia $\\alpha$ es equivalente a calcular un intervalo de confianza del $100(1 - \\alpha)$% de $\\mu$ y rechazar $H_0$ si $\\mu_0$ no está dentro del intervalo de confianza."
   ]
  },
  {
   "cell_type": "markdown",
   "metadata": {},
   "source": [
    "## Ejercicio 2: Test de hipótesis"
   ]
  },
  {
   "cell_type": "markdown",
   "metadata": {},
   "source": [
    "### 2.1 Formalización\n",
    "\n",
    "Describir formalmente los distintos componentes de un test de hipótesis para comprobar si la distribución de los salarios es distinta entre los grupos A y B.\n",
    "\n",
    "**Hipótesis Nula**\n",
    "\n",
    "$H_0$: $\\mu_A - \\mu_B = 0$\n",
    "\n",
    "$H_0$ = \"El salario del los hombres es igual al del resto de los grupos\"\n",
    "\n",
    "**Estadístico (Pivote)**\n",
    "\n",
    "$t = \\frac{(\\overline{x}_A - \\overline{x}_B) - (\\mu_A - \\mu_B)}{S_p\\sqrt{\\frac{1}{n_A} + \\frac{1}{n_B}}}$\n",
    "  \n",
    "  * El estadístico a utilizar para desafiar la hipótesis nula es la media de los sueldos netos para el grupo A y el B. Hay que hacer un análisis de muestras no pareadas porque ambos grupos tienen distinto tamaño.\n",
    "  \n",
    "  * Se asume que los datos de salarios en ambas poblaciones tienen un distribución normal luego de eliminar los outliers."
   ]
  },
  {
   "cell_type": "code",
   "execution_count": 51,
   "metadata": {},
   "outputs": [
    {
     "data": {
      "text/plain": [
       "(0.0, 250000.0)"
      ]
     },
     "execution_count": 51,
     "metadata": {},
     "output_type": "execute_result"
    },
    {
     "data": {
      "image/png": "[encoded data removed]",
      "text/plain": [
       "<Figure size 1080x720 with 2 Axes>"
      ]
     },
     "metadata": {
      "needs_background": "light"
     },
     "output_type": "display_data"
    }
   ],
   "source": [
    "# Visualización de la distribución de los salarios en los dos grupos\n",
    "\n",
    "fig, ax = plt.subplots(nrows=2, ncols=1, figsize=(15,10))\n",
    "sns.distplot(groupA,ax=ax[0],bins=100)\n",
    "ax[0].set_xlim(left=0, right=250000)\n",
    "sns.distplot(groupB,ax=ax[1],color='orange',bins=100)\n",
    "ax[1].set_xlim(left=0, right=250000)"
   ]
  },
  {
   "cell_type": "markdown",
   "metadata": {},
   "source": [
    "### 2.2 P-valor\n",
    "\n",
    "1. Calcule el p-valor y decida si rechazar o no la hipótesis nula.\n",
    "2. Interprete el resultado.\n",
    "\n",
    "Links útiles:\n",
    "* [Test de hipótesis usando scipy](https://docs.scipy.org/doc/scipy/reference/generated/scipy.stats.ttest_ind.html)\n",
    "* [Test de Welch](http://daniellakens.blogspot.com/2015/01/always-use-welchs-t-test-instead-of.html)"
   ]
  },
  {
   "cell_type": "markdown",
   "metadata": {},
   "source": [
    "#### Procedimiento\n",
    "\n",
    "* $H_0$: $\\mu_A - \\mu_B = 0$\n",
    "\n",
    "* $H_1$: $\\mu_A - \\mu_B \\ne 0$\n",
    "\n",
    "* $\\alpha = 0.05$\n",
    "\n",
    "* Región crítica: $t < -1.96$ y $t > 1.96$"
   ]
  },
  {
   "cell_type": "code",
   "execution_count": 52,
   "metadata": {},
   "outputs": [
    {
     "name": "stdout",
     "output_type": "stream",
     "text": [
      "t = 12.754790789157328\n",
      "P Value = 1.823208093505981e-35\n"
     ]
    }
   ],
   "source": [
    "results = scipy.stats.ttest_ind(groupA_aux, groupB_aux, equal_var=False, alternative='two-sided')\n",
    "print(\"t = {}\".format(results[0]))\n",
    "print(\"P Value = {}\".format(results[1]))"
   ]
  },
  {
   "cell_type": "markdown",
   "metadata": {},
   "source": [
    "> Dado que $t$ cae muy por encima del valor crítico (1.96), rechazamos $H_0$ y concluimos que\n",
    "el **salario neto promedio** es mayor para el grupo A (Hombres) respecto del grupo B (Mujeres y Otros).\n",
    ">\n",
    "> Un P Value tan pequeño permite rechazar $H_0$ en un nivel de significancia mucho menor que $\\alpha$."
   ]
  },
  {
   "cell_type": "markdown",
   "metadata": {},
   "source": [
    "### 2.3 Potencia del test\n",
    "\n",
    "Nuestra muestra, ¿era lo suficientemente grande para detectar si existe o no una diferencia entre los grupos?\n",
    "\n",
    "1. Utilice la función `tt_ind_solve_power` para calcular el tamaño necesario de la muestra para un poder estadístico de 0.8, 0.9 y 0.95, asumiendo una significancia estadística de 0.05.\n",
    "2. ¿Cómo intepretan el poder estadístico de un test? Dado su conocimiento de dominio sobre los datos, ¿les parece que esta muestra es lo suficientemente grande para ser representativo de la tendencia general? ¿y para utilizarlo en un juicio penal contra una empresa XX por una causa de discriminación?\n",
    "\n",
    "[Documentación](https://www.statsmodels.org/stable/generated/statsmodels.stats.power.tt_ind_solve_power.html)\n",
    "\n",
    "NOTA: este análisis debería hacerse ANTES de recolectar los datos."
   ]
  },
  {
   "cell_type": "code",
   "execution_count": 53,
   "metadata": {},
   "outputs": [
    {
     "name": "stdout",
     "output_type": "stream",
     "text": [
      "Resultado a power 0.8: 298 - Muestras: 5706\n",
      "Resultado a power 0.9: 398 - Muestras: 5706\n",
      "Resultado a power 0.95: 492 - Muestras: 5706\n"
     ]
    }
   ],
   "source": [
    "from statsmodels.stats.power import tt_ind_solve_power\n",
    "\n",
    "power_list = [0.8, 0.9, 0.95]\n",
    "\n",
    "effect_size = (groupA.mean() - groupB.mean()) / groupB.std() # Pregunta, porqué se elije la std del grupoB para computar el effect_size?\n",
    "alpha = 0.05\n",
    "ratio = len(groupB) / len(groupA)\n",
    "numero_muestras=len(groupA) + len(groupB)\n",
    "\n",
    "for power in power_list:\n",
    "  resultado = tt_ind_solve_power(effect_size=effect_size, alpha=alpha, power=power, ratio=ratio)\n",
    "  print('Resultado a power {}: {} - Muestras: {}'.format(power,int(resultado),numero_muestras))\n"
   ]
  },
  {
   "cell_type": "markdown",
   "metadata": {},
   "source": [
    "El poder estadístico de un test tiene que ver con la probabilidad que dicho test tiene de rechazar la hipótesis nula cuando esta es efectivamente incorrecta. Es decir, la probabilidad de un TRUE POSITIVE."
   ]
  },
  {
   "cell_type": "markdown",
   "metadata": {},
   "source": [
    "## Ejercicio 3: Comunicación y visualización\n",
    "\n",
    "**Consigna:** Seleccionen un resultado que les parezca relevante a partir de alguno de los ejercicios del entregable. Diseñe e implemente una comunicación en base a este mensaje, en un archivo PDF.\n",
    "\n",
    "Elija las palabras y visualización más adecuada para que la comunicación sea entendible, efectiva y se adapte a UNA de las siguientes situaciones:\n",
    "\n",
    "1. Una sección en un artículo de difusión a presentar como parte de una organización sin fines de lucro.\n",
    "No más de 1 página A4 (o dos si los gráficos son muy grandes).\n",
    "    1. Ejemplo: Alguna de las secciones [Los ecosistemas de emprendimiento de América Latina y el Caribe frente al COVID-19: Impactos, necesidades y recomendaciones](https://publications.iadb.org/es/los-ecosistemas-de-emprendimiento-de-america-latina-y-el-caribe-frente-al-covid-19-impactos-necesidades-y-recomendaciones), por ejemplo la sección *2.2. Reacciones de los emprendedores*.\n",
    "    2. Ejemplo: Alguna de las secciones de [The state of gender pay gap in 2021](https://www.payscale.com/data/gender-pay-gap?tk=carousel-ps-rc-job)\n",
    "    3. Puntos clave: \n",
    "        1. Simpleza de los gráficos.\n",
    "        2. Comunicación en lenguaje simple a personas que no son necesariamente expertos de dominio.\n",
    "        3. Selección de UNA oración sobre la que se hace énfasis.\n",
    "        4. No es necesario que mencionen objetivos ni descripciones del conjunto de datos, se supone que eso ya estaría explicado en otras secciones del informe.\n",
    "\n",
    "\n",
    "2. Una publicación científica o reporte técnico interno. No más de una página A4:\n",
    "    2. Ejemplo: La sección de resultados de [IZA DP No. 12914: The Impact of a Minimum Wage Change on the Distribution of Wages and Household Income](https://www.iza.org/publications/dp/12914/the-impact-of-a-minimum-wage-change-on-the-distribution-of-wages-and-household-income).\n",
    "    2. Ejemplo: Alguna de las secciones de [Temporary reduction in daily global CO2 emissions during the COVID-19 forced confinement](https://www.nature.com/articles/s41558-020-0797-x)\n",
    "    3. Puntos clave:\n",
    "        1. Nivel de detalle técnico requerido. Es necesario justificar la validez del análisis.\n",
    "        2. La idea presentada puede ser más compleja. Pueden asumir que la audiencia tiene conocimiento técnico y va a analizar las visualizaciones en detalle. \n",
    "        3. Pueden presentar más en detalle las limitaciones del análisis (significancia estadística, etc.)\n",
    "        4. No es necesario que mencionen objetivos ni descripciones del conjunto de datos, se supone que eso ya estaría explicado en otras secciones del informe.\n",
    "\n",
    "\n",
    "3. Un tweet (o post de LinkedIn) para la cuenta de su empresa consultora que hace análisis de datos. El objetivo es promocionar un análisis de datos abiertos que van a incluir en su portfolio:\n",
    "    1. Ejemplo: [Comparación vacunas covid](https://twitter.com/infobeautiful/status/1381577746527236098?s=20)\n",
    "    2. Ejemplo: [Tweet del BID](https://twitter.com/el_BID/status/1388508583944507396?s=20). Lo valioso de este tweet es que usaron un único número para transmitir un mensaje. Puede ser algo así, o con un gráfico muy simple.\n",
    "    3. Ejemplo: [Cambio climático](https://twitter.com/UNFCCC/status/1387732156190011394?s=20) Es un muy buen ejemplo, excepto que el gráfico no se lee nada y hay que entrar a la publicación original.\n",
    "    3. Ejemplo: [¿Cuánto están los programadores en las empresas?](https://www.linkedin.com/posts/denis-rothman-0b034043_tech-career-work-activity-6793861923269054464-gS6y) (No verificamos la veracidad o seriedad de la fuente).\n",
    "    4. Puntos clave:\n",
    "        1. Su audiencia no va a mirar la visualización por más de unos segundos, y no tiene conocimiento técnico.\n",
    "        3. Tienen que incluir además una *breve* descripción de cómo obtuvieron los datos que están presentando, que no entraría en el tweet."
   ]
  },
  {
   "cell_type": "code",
   "execution_count": 54,
   "metadata": {},
   "outputs": [
    {
     "data": {
      "text/html": [
       "\n",
       "        <iframe\n",
       "            width=\"600\"\n",
       "            height=\"300\"\n",
       "            src=\"Comunicación_y_Visualizacion_de_Resultados.pdf\"\n",
       "            frameborder=\"0\"\n",
       "            allowfullscreen\n",
       "            \n",
       "        ></iframe>\n",
       "        "
      ],
      "text/plain": [
       "<IPython.lib.display.IFrame at 0x7f70dc315370>"
      ]
     },
     "execution_count": 54,
     "metadata": {},
     "output_type": "execute_result"
    }
   ],
   "source": [
    "from IPython.display import IFrame\n",
    "IFrame(\"Comunicación_y_Visualizacion_de_Resultados.pdf\", width=600, height=300)"
   ]
  }
 ],
 "metadata": {
  "colab": {
   "collapsed_sections": [],
   "name": "Entregable-1-Alfredo-Quevedo.ipynb",
   "provenance": []
  },
  "kernelspec": {
   "display_name": "Python 3 (ipykernel)",
   "language": "python",
   "name": "python3"
  },
  "language_info": {
   "codemirror_mode": {
    "name": "ipython",
    "version": 3
   },
   "file_extension": ".py",
   "mimetype": "text/x-python",
   "name": "python",
   "nbconvert_exporter": "python",
   "pygments_lexer": "ipython3",
   "version": "3.8.12"
  }
 },
 "nbformat": 4,
 "nbformat_minor": 4
}
