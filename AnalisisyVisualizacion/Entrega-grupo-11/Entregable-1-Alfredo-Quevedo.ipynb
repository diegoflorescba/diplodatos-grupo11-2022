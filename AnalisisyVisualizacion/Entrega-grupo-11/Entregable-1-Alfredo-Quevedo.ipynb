{
 "cells": [
  {
   "cell_type": "markdown",
   "metadata": {
    "id": "-ZSQYANFHHgV"
   },
   "source": [
    "# Ejercicio 1 - Análisis descriptivo\n",
    "\n",
    "Responder a la pregunta: **¿Cuáles son los lenguajes de programación asociados a los mejores salarios?**\n",
    "\n",
    "Para ello:\n",
    "1. Seleccionar las columnas relevantes para analizar.\n",
    "2. Seleccionar las filas relevantes para analizar. Esto incluye la eliminación de valores extremos y erróneos, pero también puede enfocar el análisis en una sub-población. Por ejemplo, se pueden limitar a personas con un salario mayor que 10000 pesos, o a las personas que trabajan sólo en \"Data Science\", pero deben justificar su elección y reformular la pregunta inicial de ser necesario.\n",
    "  * Obtener una lista de los lenguajes de programación más populares. Decidir cuántos y cuáles seleccionan para incluir en el análisis.\n",
    "  * Para cada una de las otras columnas del punto anterior, elegir los rangos o valores seleccionan para incluir en el análisis.\n",
    "3. Seleccionar métricas que ayuden a responder la pregunta, y los métodos para analizarlas. Elegir UNA de las siguientes opciones:\n",
    "  * Comparar las distribuciones de salario para cada lenguaje utilizando visualizaciones. Como la visualización es el producto final, debe ser clara y mostrar información relevante.\n",
    "  * Comparar medidas de estadística descriptiva sobre la distribución de salario para cada lenguaje. Sean creativos, la estadística descriptiva nos permite decir cosas como: \"el 10% de los mejores sueldos los ganan, en su mayoría, programadores que saben kotlin!\" (donde *mayoría* es un término medio engañoso que sólo significa más del 50%). Para comparar múltiples lenguajes, les recomendamos usar también visualizaciones.\n",
    "  * Comparar probabilidades. Por ejemplo: \"Si sabés Python o Java, tenés un 30% más de chances de ganar arriba de 100K\".\n",
    "\n",
    "Si lo consideran necesario, realicen varias iteraciones. Es decir, si encuentran que las distribuciones de los lenguajes de programación que seleccionaron inicialmente no son muy diferentes, pueden re-hacer el análisis usando sólo los lenguajes de programación que son diferentes."
   ]
  },
  {
   "cell_type": "code",
   "execution_count": 115,
   "metadata": {
    "executionInfo": {
     "elapsed": 283,
     "status": "ok",
     "timestamp": 1649058168601,
     "user": {
      "displayName": "Mario Alfredo Quevedo",
      "userId": "03710150089998621815"
     },
     "user_tz": 180
    },
    "id": "SLWjzvh-vZh4"
   },
   "outputs": [],
   "source": [
    "import pandas as pd\n",
    "import seaborn as sns\n",
    "import matplotlib\n",
    "import matplotlib.pyplot as plt\n",
    "import numpy as np\n",
    "\n",
    "pd.set_option('display.max_rows', 500)\n"
   ]
  },
  {
   "cell_type": "markdown",
   "metadata": {
    "id": "Uxdfk3zKjXCL"
   },
   "source": [
    "Acá leo el df desde la dirección"
   ]
  },
  {
   "cell_type": "code",
   "execution_count": 116,
   "metadata": {
    "executionInfo": {
     "elapsed": 2271,
     "status": "ok",
     "timestamp": 1649058171133,
     "user": {
      "displayName": "Mario Alfredo Quevedo",
      "userId": "03710150089998621815"
     },
     "user_tz": 180
    },
    "id": "GfrCC2cHvepE"
   },
   "outputs": [],
   "source": [
    "url = 'https://cs.famaf.unc.edu.ar/~mteruel/datasets/diplodatos/sysarmy_survey_2020_processed.csv'\n",
    "df = pd.read_csv(url)"
   ]
  },
  {
   "cell_type": "markdown",
   "metadata": {
    "id": "qQFOV6B_jlnV"
   },
   "source": [
    "Aplico la función para expandir al rows cada lenguaje de programación. Se considera a cada lenguaje de programación que sabe el encuestado como una encuensta en particular. Termino con **df_lang** como dataframe final para empezar los análisis de estadísiticos descriptivos."
   ]
  },
  {
   "cell_type": "code",
   "execution_count": 117,
   "metadata": {
    "executionInfo": {
     "elapsed": 37,
     "status": "ok",
     "timestamp": 1649058171135,
     "user": {
      "displayName": "Mario Alfredo Quevedo",
      "userId": "03710150089998621815"
     },
     "user_tz": 180
    },
    "id": "iuUnakfqvhOz"
   },
   "outputs": [],
   "source": [
    "def split_languages(languages_str):\n",
    "    if not isinstance(languages_str, str):\n",
    "        return []\n",
    "    languages_str = languages_str.lower().replace('ninguno de los anteriores', '')    \n",
    "    return [lang.strip().replace(',', '')\n",
    "        for lang in languages_str.split()]"
   ]
  },
  {
   "cell_type": "code",
   "execution_count": 118,
   "metadata": {
    "executionInfo": {
     "elapsed": 1571,
     "status": "ok",
     "timestamp": 1649058172671,
     "user": {
      "displayName": "Mario Alfredo Quevedo",
      "userId": "03710150089998621815"
     },
     "user_tz": 180
    },
    "id": "taLUlBTHvo6F"
   },
   "outputs": [],
   "source": [
    "# Create a new column with the list of languages\n",
    "relevant_columns = ['tools_programming_languages', 'salary_monthly_NETO']\n",
    "\n",
    "df.loc[:, 'cured_programming_languages'] = df.tools_programming_languages.apply(split_languages)\n",
    "if 'cured_programming_languages' not in relevant_columns:\n",
    "    relevant_columns.append('cured_programming_languages')\n",
    "\n",
    "df_lang = df.cured_programming_languages.apply(pd.Series).stack().reset_index(level=-1, drop=True).to_frame().join(df[relevant_columns]).rename(columns={0: 'programming_language'})"
   ]
  },
  {
   "cell_type": "code",
   "execution_count": 119,
   "metadata": {},
   "outputs": [
    {
     "data": {
      "text/html": [
       "<div>\n",
       "<style scoped>\n",
       "    .dataframe tbody tr th:only-of-type {\n",
       "        vertical-align: middle;\n",
       "    }\n",
       "\n",
       "    .dataframe tbody tr th {\n",
       "        vertical-align: top;\n",
       "    }\n",
       "\n",
       "    .dataframe thead th {\n",
       "        text-align: right;\n",
       "    }\n",
       "</style>\n",
       "<table border=\"1\" class=\"dataframe\">\n",
       "  <thead>\n",
       "    <tr style=\"text-align: right;\">\n",
       "      <th></th>\n",
       "      <th>programming_language</th>\n",
       "      <th>tools_programming_languages</th>\n",
       "      <th>salary_monthly_NETO</th>\n",
       "      <th>cured_programming_languages</th>\n",
       "    </tr>\n",
       "  </thead>\n",
       "  <tbody>\n",
       "    <tr>\n",
       "      <th>0</th>\n",
       "      <td>ninguno</td>\n",
       "      <td>Ninguno</td>\n",
       "      <td>43000.0</td>\n",
       "      <td>[ninguno]</td>\n",
       "    </tr>\n",
       "    <tr>\n",
       "      <th>1</th>\n",
       "      <td>html</td>\n",
       "      <td>HTML, Javascript, Python</td>\n",
       "      <td>63000.0</td>\n",
       "      <td>[html, javascript, python]</td>\n",
       "    </tr>\n",
       "    <tr>\n",
       "      <th>1</th>\n",
       "      <td>javascript</td>\n",
       "      <td>HTML, Javascript, Python</td>\n",
       "      <td>63000.0</td>\n",
       "      <td>[html, javascript, python]</td>\n",
       "    </tr>\n",
       "    <tr>\n",
       "      <th>1</th>\n",
       "      <td>python</td>\n",
       "      <td>HTML, Javascript, Python</td>\n",
       "      <td>63000.0</td>\n",
       "      <td>[html, javascript, python]</td>\n",
       "    </tr>\n",
       "    <tr>\n",
       "      <th>2</th>\n",
       "      <td>ninguno</td>\n",
       "      <td>Ninguno</td>\n",
       "      <td>127000.0</td>\n",
       "      <td>[ninguno]</td>\n",
       "    </tr>\n",
       "  </tbody>\n",
       "</table>\n",
       "</div>"
      ],
      "text/plain": [
       "  programming_language tools_programming_languages  salary_monthly_NETO  \\\n",
       "0              ninguno                     Ninguno              43000.0   \n",
       "1                 html    HTML, Javascript, Python              63000.0   \n",
       "1           javascript    HTML, Javascript, Python              63000.0   \n",
       "1               python    HTML, Javascript, Python              63000.0   \n",
       "2              ninguno                     Ninguno             127000.0   \n",
       "\n",
       "  cured_programming_languages  \n",
       "0                   [ninguno]  \n",
       "1  [html, javascript, python]  \n",
       "1  [html, javascript, python]  \n",
       "1  [html, javascript, python]  \n",
       "2                   [ninguno]  "
      ]
     },
     "execution_count": 119,
     "metadata": {},
     "output_type": "execute_result"
    }
   ],
   "source": [
    "df_lang.head()"
   ]
  },
  {
   "cell_type": "markdown",
   "metadata": {
    "id": "M_BvJIEJkPRk"
   },
   "source": [
    "Análisis descriptivos sobre la **población general** de programadores. Descarto los sueldos por debajo de **minumum_salary** y por encima de **maximum_salary**"
   ]
  },
  {
   "cell_type": "code",
   "execution_count": 139,
   "metadata": {
    "executionInfo": {
     "elapsed": 9,
     "status": "ok",
     "timestamp": 1649058172672,
     "user": {
      "displayName": "Mario Alfredo Quevedo",
      "userId": "03710150089998621815"
     },
     "user_tz": 180
    },
    "id": "6VaKILZKvv3J"
   },
   "outputs": [],
   "source": [
    "minumum_salary=50000\n",
    "maximum_salary=1000000\n",
    "\n",
    "df_filtered = df_lang.loc[(df_lang['salary_monthly_NETO'] > minumum_salary) & (df_lang['salary_monthly_NETO'] < maximum_salary)].sort_values(by='salary_monthly_NETO', ascending=True).reset_index(drop=True)\n",
    "\n",
    "# Whole population central distibution statistics and overall propabilities\n",
    "\n",
    "pop_mean = df_filtered['salary_monthly_NETO'].mean()\n",
    "pop_median = df_filtered['salary_monthly_NETO'].median()\n",
    "df_greater_pop_mean = df_filtered[df_filtered['salary_monthly_NETO'] > pop_mean]\n",
    "prob_greater_pop_mean = len(df_greater_pop_mean) / len(df_filtered)"
   ]
  },
  {
   "cell_type": "code",
   "execution_count": 140,
   "metadata": {},
   "outputs": [
    {
     "data": {
      "text/plain": [
       "964320.0"
      ]
     },
     "execution_count": 140,
     "metadata": {},
     "output_type": "execute_result"
    }
   ],
   "source": [
    "df_filtered.salary_monthly_NETO.max()"
   ]
  },
  {
   "cell_type": "markdown",
   "metadata": {
    "id": "O7vtHl6alaaP"
   },
   "source": [
    "Acá itero sobre **df_lang** para hacer los análisis sobre las distintas poblaciones de lenguages. Me interesan los lenguages con mas de 100 programadores por condiserarlo que tienen un espacio de muestra para exhibir una conclusión representativa. Se termina con **df_final_metrics** que tiene toda la estadística descriptiva para responder a las preguntas del ejercicio."
   ]
  },
  {
   "cell_type": "code",
   "execution_count": 141,
   "metadata": {
    "executionInfo": {
     "elapsed": 1087,
     "status": "ok",
     "timestamp": 1649059943616,
     "user": {
      "displayName": "Mario Alfredo Quevedo",
      "userId": "03710150089998621815"
     },
     "user_tz": 180
    },
    "id": "A1OMDmvPv3VH"
   },
   "outputs": [],
   "source": [
    "# Iteration through dataframe to perform per program analysis\n",
    "\n",
    "list_of_languages = df_filtered['programming_language'].unique()\n",
    "\n",
    "df_columns = ['Language','n_programmers','subpop_Salary_mean','subpop_Salary_median','subpop_Central_Diff','within_subpop_>avg','conditional_prob','pop_prob','cond_ratio']\n",
    "df_final_metrics = pd.DataFrame(columns= df_columns)\n",
    "data = []\n",
    "\n",
    "number_of_programmers_cutoff = 100\n",
    "\n",
    "for item in list_of_languages:\n",
    "  \n",
    "    selected_language_dataframe = df_filtered[df_filtered['programming_language'] == item]\n",
    "    subpop_programmers_number = len(selected_language_dataframe)\n",
    "\n",
    "    if subpop_programmers_number > number_of_programmers_cutoff:\n",
    "\n",
    "        subpop_mean = round(selected_language_dataframe['salary_monthly_NETO'].mean(),2)\n",
    "        subpop_median = round(selected_language_dataframe['salary_monthly_NETO'].median(),2)\n",
    "        subpop_above_mean_prob = len(selected_language_dataframe[selected_language_dataframe['salary_monthly_NETO'] > subpop_mean]) / len(selected_language_dataframe)\n",
    "        subpop_central_diff = subpop_mean - subpop_median\n",
    "        df_within_subpop_above_avg_salary = selected_language_dataframe[selected_language_dataframe['salary_monthly_NETO'] > subpop_mean]\n",
    "        prob_within_subpop_above_avg_salary = len(df_within_subpop_above_avg_salary) / len(selected_language_dataframe)\n",
    "\n",
    "        #Conditional probability (in subpop and above pop average)\n",
    "        df_intersection = df_within_subpop_above_avg_salary[['programming_language', 'salary_monthly_NETO']].merge(df_greater_pop_mean[['programming_language', 'salary_monthly_NETO']]).drop_duplicates()\n",
    "        try:\n",
    "            conditional_prob = len(df_intersection) / len(df_within_subpop_above_avg_salary)\n",
    "        except:\n",
    "            continue\n",
    "\n",
    "        subpop_pop_cond_ratio = conditional_prob / prob_greater_pop_mean\n",
    "\n",
    "        #Construct the df with the metrics of interest\n",
    "        values = [item,subpop_programmers_number,subpop_mean,subpop_median,subpop_central_diff,round(prob_within_subpop_above_avg_salary,2),round(conditional_prob,2),round(prob_greater_pop_mean,2),round(subpop_pop_cond_ratio,2)]\n",
    "        zipped = zip(df_columns, values)\n",
    "        a_dictionary = dict(zipped)\n",
    "        data.append(a_dictionary)\n",
    "\n",
    "df_final_metrics = df_final_metrics.append(data, True)\n",
    "df_final_metrics = df_final_metrics.sort_values('subpop_Salary_mean', ascending=False).reset_index(drop=True)"
   ]
  },
  {
   "cell_type": "code",
   "execution_count": 142,
   "metadata": {},
   "outputs": [
    {
     "data": {
      "text/plain": [
       "Index(['Language', 'n_programmers', 'subpop_Salary_mean',\n",
       "       'subpop_Salary_median', 'subpop_Central_Diff', 'within_subpop_>avg',\n",
       "       'conditional_prob', 'pop_prob', 'cond_ratio'],\n",
       "      dtype='object')"
      ]
     },
     "execution_count": 142,
     "metadata": {},
     "output_type": "execute_result"
    }
   ],
   "source": [
    "df_final_metrics.columns"
   ]
  },
  {
   "cell_type": "code",
   "execution_count": 143,
   "metadata": {},
   "outputs": [
    {
     "data": {
      "text/plain": [
       "count        20.00000\n",
       "mean     121933.85000\n",
       "std       18831.44208\n",
       "min       93967.03000\n",
       "25%      110114.99750\n",
       "50%      119338.23500\n",
       "75%      126123.24750\n",
       "max      166230.82000\n",
       "Name: subpop_Salary_mean, dtype: float64"
      ]
     },
     "execution_count": 143,
     "metadata": {},
     "output_type": "execute_result"
    }
   ],
   "source": [
    "df_final_metrics.subpop_Salary_mean.describe()"
   ]
  },
  {
   "cell_type": "code",
   "execution_count": 146,
   "metadata": {},
   "outputs": [
    {
     "data": {
      "text/html": [
       "<div>\n",
       "<style scoped>\n",
       "    .dataframe tbody tr th:only-of-type {\n",
       "        vertical-align: middle;\n",
       "    }\n",
       "\n",
       "    .dataframe tbody tr th {\n",
       "        vertical-align: top;\n",
       "    }\n",
       "\n",
       "    .dataframe thead th {\n",
       "        text-align: right;\n",
       "    }\n",
       "</style>\n",
       "<table border=\"1\" class=\"dataframe\">\n",
       "  <thead>\n",
       "    <tr style=\"text-align: right;\">\n",
       "      <th></th>\n",
       "      <th>programming_language</th>\n",
       "      <th>tools_programming_languages</th>\n",
       "      <th>salary_monthly_NETO</th>\n",
       "      <th>cured_programming_languages</th>\n",
       "    </tr>\n",
       "  </thead>\n",
       "  <tbody>\n",
       "    <tr>\n",
       "      <th>0</th>\n",
       "      <td>css</td>\n",
       "      <td>CSS, HTML, Javascript</td>\n",
       "      <td>50032.00</td>\n",
       "      <td>[css, html, javascript]</td>\n",
       "    </tr>\n",
       "    <tr>\n",
       "      <th>1</th>\n",
       "      <td>html</td>\n",
       "      <td>CSS, HTML, Javascript</td>\n",
       "      <td>50032.00</td>\n",
       "      <td>[css, html, javascript]</td>\n",
       "    </tr>\n",
       "    <tr>\n",
       "      <th>2</th>\n",
       "      <td>javascript</td>\n",
       "      <td>CSS, HTML, Javascript</td>\n",
       "      <td>50032.00</td>\n",
       "      <td>[css, html, javascript]</td>\n",
       "    </tr>\n",
       "    <tr>\n",
       "      <th>3</th>\n",
       "      <td>python</td>\n",
       "      <td>Python</td>\n",
       "      <td>50069.76</td>\n",
       "      <td>[python]</td>\n",
       "    </tr>\n",
       "    <tr>\n",
       "      <th>4</th>\n",
       "      <td>php</td>\n",
       "      <td>Bash/Shell, CSS, HTML, Javascript, PHP</td>\n",
       "      <td>50138.00</td>\n",
       "      <td>[bash/shell, css, html, javascript, php]</td>\n",
       "    </tr>\n",
       "    <tr>\n",
       "      <th>...</th>\n",
       "      <td>...</td>\n",
       "      <td>...</td>\n",
       "      <td>...</td>\n",
       "      <td>...</td>\n",
       "    </tr>\n",
       "    <tr>\n",
       "      <th>12638</th>\n",
       "      <td>python</td>\n",
       "      <td>Bash/Shell, C, Python</td>\n",
       "      <td>952500.00</td>\n",
       "      <td>[bash/shell, c, python]</td>\n",
       "    </tr>\n",
       "    <tr>\n",
       "      <th>12639</th>\n",
       "      <td>javascript</td>\n",
       "      <td>Javascript, Python, Scala, TypeScript</td>\n",
       "      <td>964320.00</td>\n",
       "      <td>[javascript, python, scala, typescript]</td>\n",
       "    </tr>\n",
       "    <tr>\n",
       "      <th>12640</th>\n",
       "      <td>python</td>\n",
       "      <td>Javascript, Python, Scala, TypeScript</td>\n",
       "      <td>964320.00</td>\n",
       "      <td>[javascript, python, scala, typescript]</td>\n",
       "    </tr>\n",
       "    <tr>\n",
       "      <th>12641</th>\n",
       "      <td>typescript</td>\n",
       "      <td>Javascript, Python, Scala, TypeScript</td>\n",
       "      <td>964320.00</td>\n",
       "      <td>[javascript, python, scala, typescript]</td>\n",
       "    </tr>\n",
       "    <tr>\n",
       "      <th>12642</th>\n",
       "      <td>scala</td>\n",
       "      <td>Javascript, Python, Scala, TypeScript</td>\n",
       "      <td>964320.00</td>\n",
       "      <td>[javascript, python, scala, typescript]</td>\n",
       "    </tr>\n",
       "  </tbody>\n",
       "</table>\n",
       "<p>12643 rows × 4 columns</p>\n",
       "</div>"
      ],
      "text/plain": [
       "      programming_language             tools_programming_languages  \\\n",
       "0                      css                   CSS, HTML, Javascript   \n",
       "1                     html                   CSS, HTML, Javascript   \n",
       "2               javascript                   CSS, HTML, Javascript   \n",
       "3                   python                                  Python   \n",
       "4                      php  Bash/Shell, CSS, HTML, Javascript, PHP   \n",
       "...                    ...                                     ...   \n",
       "12638               python                   Bash/Shell, C, Python   \n",
       "12639           javascript   Javascript, Python, Scala, TypeScript   \n",
       "12640               python   Javascript, Python, Scala, TypeScript   \n",
       "12641           typescript   Javascript, Python, Scala, TypeScript   \n",
       "12642                scala   Javascript, Python, Scala, TypeScript   \n",
       "\n",
       "       salary_monthly_NETO               cured_programming_languages  \n",
       "0                 50032.00                   [css, html, javascript]  \n",
       "1                 50032.00                   [css, html, javascript]  \n",
       "2                 50032.00                   [css, html, javascript]  \n",
       "3                 50069.76                                  [python]  \n",
       "4                 50138.00  [bash/shell, css, html, javascript, php]  \n",
       "...                    ...                                       ...  \n",
       "12638            952500.00                   [bash/shell, c, python]  \n",
       "12639            964320.00   [javascript, python, scala, typescript]  \n",
       "12640            964320.00   [javascript, python, scala, typescript]  \n",
       "12641            964320.00   [javascript, python, scala, typescript]  \n",
       "12642            964320.00   [javascript, python, scala, typescript]  \n",
       "\n",
       "[12643 rows x 4 columns]"
      ]
     },
     "execution_count": 146,
     "metadata": {},
     "output_type": "execute_result"
    }
   ],
   "source": [
    "lenguajes_unique = df_final_metrics.Language.unique()\n",
    "df_lang_uniques = df_filtered[df_filtered.programming_language.isin(lenguajes_unique)].reset_index(drop=True)\n",
    "df_lang_uniques"
   ]
  },
  {
   "cell_type": "code",
   "execution_count": 155,
   "metadata": {},
   "outputs": [
    {
     "data": {
      "text/plain": [
       "{'.net': 740000.0,\n",
       " 'bash/shell': 952500.0,\n",
       " 'c': 952500.0,\n",
       " 'c#': 740000.0,\n",
       " 'c++': 800000.0,\n",
       " 'css': 900000.0,\n",
       " 'go': 750000.0,\n",
       " 'groovy': 360000.0,\n",
       " 'html': 900000.0,\n",
       " 'java': 836400.0,\n",
       " 'javascript': 964320.0,\n",
       " 'kotlin': 535000.0,\n",
       " 'ninguno': 440000.0,\n",
       " 'php': 900000.0,\n",
       " 'python': 964320.0,\n",
       " 'ruby': 850000.0,\n",
       " 'scala': 964320.0,\n",
       " 'sql': 900000.0,\n",
       " 'typescript': 964320.0,\n",
       " 'vba': 391000.0}"
      ]
     },
     "execution_count": 155,
     "metadata": {},
     "output_type": "execute_result"
    }
   ],
   "source": [
    "lang_dict = df_lang_uniques.groupby(['programming_language'], as_index = False).max('salary_monthly_NETO')\n",
    "lang_dict = lang_dict.set_index('programming_language')['salary_monthly_NETO'].to_dict()\n",
    "lang_dict"
   ]
  },
  {
   "cell_type": "code",
   "execution_count": 159,
   "metadata": {},
   "outputs": [
    {
     "data": {
      "text/html": [
       "<div>\n",
       "<style scoped>\n",
       "    .dataframe tbody tr th:only-of-type {\n",
       "        vertical-align: middle;\n",
       "    }\n",
       "\n",
       "    .dataframe tbody tr th {\n",
       "        vertical-align: top;\n",
       "    }\n",
       "\n",
       "    .dataframe thead th {\n",
       "        text-align: right;\n",
       "    }\n",
       "</style>\n",
       "<table border=\"1\" class=\"dataframe\">\n",
       "  <thead>\n",
       "    <tr style=\"text-align: right;\">\n",
       "      <th></th>\n",
       "      <th>Language</th>\n",
       "      <th>n_programmers</th>\n",
       "      <th>subpop_Salary_mean</th>\n",
       "      <th>subpop_Salary_median</th>\n",
       "      <th>subpop_Central_Diff</th>\n",
       "      <th>within_subpop_&gt;avg</th>\n",
       "      <th>conditional_prob</th>\n",
       "      <th>pop_prob</th>\n",
       "      <th>cond_ratio</th>\n",
       "      <th>max_salary</th>\n",
       "    </tr>\n",
       "  </thead>\n",
       "  <tbody>\n",
       "    <tr>\n",
       "      <th>19</th>\n",
       "      <td>vba</td>\n",
       "      <td>159</td>\n",
       "      <td>93967.03</td>\n",
       "      <td>80000.0</td>\n",
       "      <td>13967.03</td>\n",
       "      <td>0.34</td>\n",
       "      <td>0.31</td>\n",
       "      <td>0.29</td>\n",
       "      <td>1.08</td>\n",
       "      <td>391000.0</td>\n",
       "    </tr>\n",
       "    <tr>\n",
       "      <th>18</th>\n",
       "      <td>ninguno</td>\n",
       "      <td>248</td>\n",
       "      <td>97560.39</td>\n",
       "      <td>84700.0</td>\n",
       "      <td>12860.39</td>\n",
       "      <td>0.35</td>\n",
       "      <td>0.35</td>\n",
       "      <td>0.29</td>\n",
       "      <td>1.21</td>\n",
       "      <td>440000.0</td>\n",
       "    </tr>\n",
       "    <tr>\n",
       "      <th>17</th>\n",
       "      <td>.net</td>\n",
       "      <td>606</td>\n",
       "      <td>108266.98</td>\n",
       "      <td>86000.0</td>\n",
       "      <td>22266.98</td>\n",
       "      <td>0.31</td>\n",
       "      <td>0.32</td>\n",
       "      <td>0.29</td>\n",
       "      <td>1.10</td>\n",
       "      <td>740000.0</td>\n",
       "    </tr>\n",
       "    <tr>\n",
       "      <th>16</th>\n",
       "      <td>c#</td>\n",
       "      <td>540</td>\n",
       "      <td>108815.08</td>\n",
       "      <td>85000.0</td>\n",
       "      <td>23815.08</td>\n",
       "      <td>0.29</td>\n",
       "      <td>0.39</td>\n",
       "      <td>0.29</td>\n",
       "      <td>1.33</td>\n",
       "      <td>740000.0</td>\n",
       "    </tr>\n",
       "    <tr>\n",
       "      <th>15</th>\n",
       "      <td>sql</td>\n",
       "      <td>1579</td>\n",
       "      <td>108991.52</td>\n",
       "      <td>90000.0</td>\n",
       "      <td>18991.52</td>\n",
       "      <td>0.30</td>\n",
       "      <td>0.28</td>\n",
       "      <td>0.29</td>\n",
       "      <td>0.97</td>\n",
       "      <td>900000.0</td>\n",
       "    </tr>\n",
       "    <tr>\n",
       "      <th>14</th>\n",
       "      <td>css</td>\n",
       "      <td>867</td>\n",
       "      <td>110489.49</td>\n",
       "      <td>87000.0</td>\n",
       "      <td>23489.49</td>\n",
       "      <td>0.26</td>\n",
       "      <td>0.41</td>\n",
       "      <td>0.29</td>\n",
       "      <td>1.42</td>\n",
       "      <td>900000.0</td>\n",
       "    </tr>\n",
       "    <tr>\n",
       "      <th>13</th>\n",
       "      <td>html</td>\n",
       "      <td>1313</td>\n",
       "      <td>110493.43</td>\n",
       "      <td>86317.0</td>\n",
       "      <td>24176.43</td>\n",
       "      <td>0.27</td>\n",
       "      <td>0.35</td>\n",
       "      <td>0.29</td>\n",
       "      <td>1.20</td>\n",
       "      <td>900000.0</td>\n",
       "    </tr>\n",
       "    <tr>\n",
       "      <th>12</th>\n",
       "      <td>java</td>\n",
       "      <td>1137</td>\n",
       "      <td>113783.73</td>\n",
       "      <td>97000.0</td>\n",
       "      <td>16783.73</td>\n",
       "      <td>0.33</td>\n",
       "      <td>0.33</td>\n",
       "      <td>0.29</td>\n",
       "      <td>1.15</td>\n",
       "      <td>836400.0</td>\n",
       "    </tr>\n",
       "    <tr>\n",
       "      <th>11</th>\n",
       "      <td>php</td>\n",
       "      <td>626</td>\n",
       "      <td>116371.56</td>\n",
       "      <td>90000.0</td>\n",
       "      <td>26371.56</td>\n",
       "      <td>0.29</td>\n",
       "      <td>0.42</td>\n",
       "      <td>0.29</td>\n",
       "      <td>1.44</td>\n",
       "      <td>900000.0</td>\n",
       "    </tr>\n",
       "    <tr>\n",
       "      <th>10</th>\n",
       "      <td>javascript</td>\n",
       "      <td>1825</td>\n",
       "      <td>118985.69</td>\n",
       "      <td>91000.0</td>\n",
       "      <td>27985.69</td>\n",
       "      <td>0.28</td>\n",
       "      <td>0.32</td>\n",
       "      <td>0.29</td>\n",
       "      <td>1.09</td>\n",
       "      <td>964320.0</td>\n",
       "    </tr>\n",
       "    <tr>\n",
       "      <th>9</th>\n",
       "      <td>bash/shell</td>\n",
       "      <td>796</td>\n",
       "      <td>119690.78</td>\n",
       "      <td>99000.0</td>\n",
       "      <td>20690.78</td>\n",
       "      <td>0.30</td>\n",
       "      <td>0.40</td>\n",
       "      <td>0.29</td>\n",
       "      <td>1.38</td>\n",
       "      <td>952500.0</td>\n",
       "    </tr>\n",
       "    <tr>\n",
       "      <th>8</th>\n",
       "      <td>c++</td>\n",
       "      <td>194</td>\n",
       "      <td>120190.14</td>\n",
       "      <td>91310.0</td>\n",
       "      <td>28880.14</td>\n",
       "      <td>0.23</td>\n",
       "      <td>0.73</td>\n",
       "      <td>0.29</td>\n",
       "      <td>2.52</td>\n",
       "      <td>800000.0</td>\n",
       "    </tr>\n",
       "    <tr>\n",
       "      <th>7</th>\n",
       "      <td>python</td>\n",
       "      <td>1192</td>\n",
       "      <td>121548.77</td>\n",
       "      <td>97000.0</td>\n",
       "      <td>24548.77</td>\n",
       "      <td>0.29</td>\n",
       "      <td>0.36</td>\n",
       "      <td>0.29</td>\n",
       "      <td>1.25</td>\n",
       "      <td>964320.0</td>\n",
       "    </tr>\n",
       "    <tr>\n",
       "      <th>6</th>\n",
       "      <td>typescript</td>\n",
       "      <td>600</td>\n",
       "      <td>124824.62</td>\n",
       "      <td>95000.0</td>\n",
       "      <td>29824.62</td>\n",
       "      <td>0.28</td>\n",
       "      <td>0.49</td>\n",
       "      <td>0.29</td>\n",
       "      <td>1.67</td>\n",
       "      <td>964320.0</td>\n",
       "    </tr>\n",
       "    <tr>\n",
       "      <th>5</th>\n",
       "      <td>groovy</td>\n",
       "      <td>137</td>\n",
       "      <td>125117.49</td>\n",
       "      <td>102000.0</td>\n",
       "      <td>23117.49</td>\n",
       "      <td>0.37</td>\n",
       "      <td>0.69</td>\n",
       "      <td>0.29</td>\n",
       "      <td>2.36</td>\n",
       "      <td>360000.0</td>\n",
       "    </tr>\n",
       "    <tr>\n",
       "      <th>4</th>\n",
       "      <td>kotlin</td>\n",
       "      <td>154</td>\n",
       "      <td>129140.52</td>\n",
       "      <td>116000.0</td>\n",
       "      <td>13140.52</td>\n",
       "      <td>0.36</td>\n",
       "      <td>0.71</td>\n",
       "      <td>0.29</td>\n",
       "      <td>2.44</td>\n",
       "      <td>535000.0</td>\n",
       "    </tr>\n",
       "    <tr>\n",
       "      <th>3</th>\n",
       "      <td>c</td>\n",
       "      <td>182</td>\n",
       "      <td>134639.96</td>\n",
       "      <td>95000.0</td>\n",
       "      <td>39639.96</td>\n",
       "      <td>0.23</td>\n",
       "      <td>0.71</td>\n",
       "      <td>0.29</td>\n",
       "      <td>2.45</td>\n",
       "      <td>952500.0</td>\n",
       "    </tr>\n",
       "    <tr>\n",
       "      <th>2</th>\n",
       "      <td>go</td>\n",
       "      <td>262</td>\n",
       "      <td>147480.88</td>\n",
       "      <td>115000.0</td>\n",
       "      <td>32480.88</td>\n",
       "      <td>0.29</td>\n",
       "      <td>0.70</td>\n",
       "      <td>0.29</td>\n",
       "      <td>2.40</td>\n",
       "      <td>750000.0</td>\n",
       "    </tr>\n",
       "    <tr>\n",
       "      <th>1</th>\n",
       "      <td>ruby</td>\n",
       "      <td>122</td>\n",
       "      <td>162088.12</td>\n",
       "      <td>113042.5</td>\n",
       "      <td>49045.62</td>\n",
       "      <td>0.29</td>\n",
       "      <td>0.80</td>\n",
       "      <td>0.29</td>\n",
       "      <td>2.75</td>\n",
       "      <td>850000.0</td>\n",
       "    </tr>\n",
       "    <tr>\n",
       "      <th>0</th>\n",
       "      <td>scala</td>\n",
       "      <td>104</td>\n",
       "      <td>166230.82</td>\n",
       "      <td>131000.0</td>\n",
       "      <td>35230.82</td>\n",
       "      <td>0.29</td>\n",
       "      <td>0.80</td>\n",
       "      <td>0.29</td>\n",
       "      <td>2.75</td>\n",
       "      <td>964320.0</td>\n",
       "    </tr>\n",
       "  </tbody>\n",
       "</table>\n",
       "</div>"
      ],
      "text/plain": [
       "      Language n_programmers  subpop_Salary_mean  subpop_Salary_median  \\\n",
       "19         vba           159            93967.03               80000.0   \n",
       "18     ninguno           248            97560.39               84700.0   \n",
       "17        .net           606           108266.98               86000.0   \n",
       "16          c#           540           108815.08               85000.0   \n",
       "15         sql          1579           108991.52               90000.0   \n",
       "14         css           867           110489.49               87000.0   \n",
       "13        html          1313           110493.43               86317.0   \n",
       "12        java          1137           113783.73               97000.0   \n",
       "11         php           626           116371.56               90000.0   \n",
       "10  javascript          1825           118985.69               91000.0   \n",
       "9   bash/shell           796           119690.78               99000.0   \n",
       "8          c++           194           120190.14               91310.0   \n",
       "7       python          1192           121548.77               97000.0   \n",
       "6   typescript           600           124824.62               95000.0   \n",
       "5       groovy           137           125117.49              102000.0   \n",
       "4       kotlin           154           129140.52              116000.0   \n",
       "3            c           182           134639.96               95000.0   \n",
       "2           go           262           147480.88              115000.0   \n",
       "1         ruby           122           162088.12              113042.5   \n",
       "0        scala           104           166230.82              131000.0   \n",
       "\n",
       "    subpop_Central_Diff  within_subpop_>avg  conditional_prob  pop_prob  \\\n",
       "19             13967.03                0.34              0.31      0.29   \n",
       "18             12860.39                0.35              0.35      0.29   \n",
       "17             22266.98                0.31              0.32      0.29   \n",
       "16             23815.08                0.29              0.39      0.29   \n",
       "15             18991.52                0.30              0.28      0.29   \n",
       "14             23489.49                0.26              0.41      0.29   \n",
       "13             24176.43                0.27              0.35      0.29   \n",
       "12             16783.73                0.33              0.33      0.29   \n",
       "11             26371.56                0.29              0.42      0.29   \n",
       "10             27985.69                0.28              0.32      0.29   \n",
       "9              20690.78                0.30              0.40      0.29   \n",
       "8              28880.14                0.23              0.73      0.29   \n",
       "7              24548.77                0.29              0.36      0.29   \n",
       "6              29824.62                0.28              0.49      0.29   \n",
       "5              23117.49                0.37              0.69      0.29   \n",
       "4              13140.52                0.36              0.71      0.29   \n",
       "3              39639.96                0.23              0.71      0.29   \n",
       "2              32480.88                0.29              0.70      0.29   \n",
       "1              49045.62                0.29              0.80      0.29   \n",
       "0              35230.82                0.29              0.80      0.29   \n",
       "\n",
       "    cond_ratio  max_salary  \n",
       "19        1.08    391000.0  \n",
       "18        1.21    440000.0  \n",
       "17        1.10    740000.0  \n",
       "16        1.33    740000.0  \n",
       "15        0.97    900000.0  \n",
       "14        1.42    900000.0  \n",
       "13        1.20    900000.0  \n",
       "12        1.15    836400.0  \n",
       "11        1.44    900000.0  \n",
       "10        1.09    964320.0  \n",
       "9         1.38    952500.0  \n",
       "8         2.52    800000.0  \n",
       "7         1.25    964320.0  \n",
       "6         1.67    964320.0  \n",
       "5         2.36    360000.0  \n",
       "4         2.44    535000.0  \n",
       "3         2.45    952500.0  \n",
       "2         2.40    750000.0  \n",
       "1         2.75    850000.0  \n",
       "0         2.75    964320.0  "
      ]
     },
     "execution_count": 159,
     "metadata": {},
     "output_type": "execute_result"
    }
   ],
   "source": [
    "df_final_metrics['max_salary'] = df_final_metrics.Language.map(lang_dict)\n",
    "df_final_metrics.sort_values(by=['subpop_Salary_mean'], ascending = True, inplace=True)\n",
    "df_final_metrics"
   ]
  },
  {
   "cell_type": "code",
   "execution_count": 172,
   "metadata": {},
   "outputs": [
    {
     "data": {
      "text/html": [
       "<div>\n",
       "<style scoped>\n",
       "    .dataframe tbody tr th:only-of-type {\n",
       "        vertical-align: middle;\n",
       "    }\n",
       "\n",
       "    .dataframe tbody tr th {\n",
       "        vertical-align: top;\n",
       "    }\n",
       "\n",
       "    .dataframe thead th {\n",
       "        text-align: right;\n",
       "    }\n",
       "</style>\n",
       "<table border=\"1\" class=\"dataframe\">\n",
       "  <thead>\n",
       "    <tr style=\"text-align: right;\">\n",
       "      <th></th>\n",
       "      <th>programming_language</th>\n",
       "      <th>tools_programming_languages</th>\n",
       "      <th>salary_monthly_NETO</th>\n",
       "      <th>cured_programming_languages</th>\n",
       "    </tr>\n",
       "  </thead>\n",
       "  <tbody>\n",
       "    <tr>\n",
       "      <th>0</th>\n",
       "      <td>css</td>\n",
       "      <td>CSS, HTML, Javascript</td>\n",
       "      <td>50032.00</td>\n",
       "      <td>[css, html, javascript]</td>\n",
       "    </tr>\n",
       "    <tr>\n",
       "      <th>1</th>\n",
       "      <td>html</td>\n",
       "      <td>CSS, HTML, Javascript</td>\n",
       "      <td>50032.00</td>\n",
       "      <td>[css, html, javascript]</td>\n",
       "    </tr>\n",
       "    <tr>\n",
       "      <th>2</th>\n",
       "      <td>javascript</td>\n",
       "      <td>CSS, HTML, Javascript</td>\n",
       "      <td>50032.00</td>\n",
       "      <td>[css, html, javascript]</td>\n",
       "    </tr>\n",
       "    <tr>\n",
       "      <th>3</th>\n",
       "      <td>python</td>\n",
       "      <td>Python</td>\n",
       "      <td>50069.76</td>\n",
       "      <td>[python]</td>\n",
       "    </tr>\n",
       "    <tr>\n",
       "      <th>4</th>\n",
       "      <td>php</td>\n",
       "      <td>Bash/Shell, CSS, HTML, Javascript, PHP</td>\n",
       "      <td>50138.00</td>\n",
       "      <td>[bash/shell, css, html, javascript, php]</td>\n",
       "    </tr>\n",
       "  </tbody>\n",
       "</table>\n",
       "</div>"
      ],
      "text/plain": [
       "  programming_language             tools_programming_languages  \\\n",
       "0                  css                   CSS, HTML, Javascript   \n",
       "1                 html                   CSS, HTML, Javascript   \n",
       "2           javascript                   CSS, HTML, Javascript   \n",
       "3               python                                  Python   \n",
       "4                  php  Bash/Shell, CSS, HTML, Javascript, PHP   \n",
       "\n",
       "   salary_monthly_NETO               cured_programming_languages  \n",
       "0             50032.00                   [css, html, javascript]  \n",
       "1             50032.00                   [css, html, javascript]  \n",
       "2             50032.00                   [css, html, javascript]  \n",
       "3             50069.76                                  [python]  \n",
       "4             50138.00  [bash/shell, css, html, javascript, php]  "
      ]
     },
     "execution_count": 172,
     "metadata": {},
     "output_type": "execute_result"
    }
   ],
   "source": [
    "df_filtered.head()"
   ]
  },
  {
   "cell_type": "code",
   "execution_count": 176,
   "metadata": {},
   "outputs": [],
   "source": [
    "df_filtered_2 = df_filtered[df_filtered.programming_language.isin(lenguajes_unique)]"
   ]
  },
  {
   "cell_type": "code",
   "execution_count": 179,
   "metadata": {},
   "outputs": [
    {
     "data": {
      "text/plain": [
       "count     12643.000000\n",
       "mean     116384.776406\n",
       "std       88403.848121\n",
       "min       50032.000000\n",
       "25%       72000.000000\n",
       "50%       92000.000000\n",
       "75%      122000.000000\n",
       "max      964320.000000\n",
       "Name: salary_monthly_NETO, dtype: float64"
      ]
     },
     "execution_count": 179,
     "metadata": {},
     "output_type": "execute_result"
    }
   ],
   "source": [
    "df_filtered_2.salary_monthly_NETO.describe()"
   ]
  },
  {
   "cell_type": "code",
   "execution_count": 189,
   "metadata": {},
   "outputs": [
    {
     "data": {
      "image/png": "[encoded data removed]",
      "text/plain": [
       "<Figure size 1296x720 with 1 Axes>"
      ]
     },
     "metadata": {
      "needs_background": "light"
     },
     "output_type": "display_data"
    }
   ],
   "source": [
    "fig = plt.figure(figsize=(18,10))\n",
    "ax = sns.boxplot(x=\"programming_language\", y=\"salary_monthly_NETO\", data=df_filtered_2)\n",
    "locs, labels = plt.xticks()\n",
    "plt.setp(labels, rotation=45)\n",
    "plt.ylabel('Salarios')\n",
    "plt.xlabel('Lenguajes de programación')\n",
    "y_min = 50000\n",
    "y_max = 1000000\n",
    "ticks = range(y_min, y_max, 50000)\n",
    "plt.yticks(ticks)\n",
    "plt.title('Distribución de salarios por lenguaje de programación')\n",
    "plt.grid()"
   ]
  },
  {
   "cell_type": "code",
   "execution_count": 190,
   "metadata": {},
   "outputs": [
    {
     "data": {
      "image/png": "[encoded data removed]",
      "text/plain": [
       "<Figure size 1080x720 with 1 Axes>"
      ]
     },
     "metadata": {
      "needs_background": "light"
     },
     "output_type": "display_data"
    }
   ],
   "source": [
    "fig = plt.figure(figsize=(15,10))\n",
    "ax = sns.barplot(x=df_final_metrics.Language, y=df_final_metrics.subpop_Salary_mean, data=df_final_metrics, label='Salarios medios')\n",
    "ax = sns.lineplot(x=df_final_metrics.Language, y=df_final_metrics.max_salary, data=df_final_metrics, label='Salario máximo')\n",
    "locs, labels = plt.xticks()\n",
    "plt.setp(labels, rotation=45)\n",
    "y_min = 50000\n",
    "y_max = 1000000\n",
    "ticks = range(y_min, y_max, 50000)\n",
    "plt.yticks(ticks)\n",
    "plt.ylabel('Mean Salary')\n",
    "plt.title('Salario promedio por lenguaje de programación')\n",
    "plt.grid()\n",
    "leg = ax.legend(loc =\"upper left\")\n"
   ]
  },
  {
   "cell_type": "code",
   "execution_count": 64,
   "metadata": {},
   "outputs": [
    {
     "data": {
      "text/plain": [
       "Text(0, 0.5, 'Mean Salary')"
      ]
     },
     "execution_count": 64,
     "metadata": {},
     "output_type": "execute_result"
    },
    {
     "data": {
      "image/png": "[encoded data removed]",
      "text/plain": [
       "<Figure size 1080x720 with 1 Axes>"
      ]
     },
     "metadata": {
      "needs_background": "light"
     },
     "output_type": "display_data"
    }
   ],
   "source": [
    "fig = plt.figure(figsize=(15,10))\n",
    "ax = sns.barplot(x=df_final_metrics.Language, y=df_final_metrics.n_programmers, data=df_final_metrics)\n",
    "locs, labels = plt.xticks()\n",
    "plt.setp(labels, rotation=45)\n",
    "plt.ylabel('Mean Salary')"
   ]
  },
  {
   "cell_type": "markdown",
   "metadata": {
    "id": "BIgYvlrLmDih"
   },
   "source": [
    "#Respuestas a las preguntas principales:\n",
    "\n",
    "###1-Que lenguajes ganan más?\n",
    "\n",
    "\n",
    "> Los 3 lenguajes que mas ganan son ***scala***, ***ruby*** y ***go***. A pesar de ello ***no son los mas populares***. Comparando medias y medianas, son los tres que tienen mas desplazamiento a la derecha, lo cual se interpreta como mas asimetría hacia mejores pagos, talvez asociado a programadores en el mismo lenguage que son mas creativos y puestos de trabajo mas especializados. ***Saber estos lenguages también es lo que dá mayores chances de ganar más que la media de programadores***. Si se analiza el ranking de pagos y el número de programadores, ***no se observa correlación entre paga y popularidad***.\n",
    "\n",
    "\n",
    "\n"
   ]
  }
 ],
 "metadata": {
  "colab": {
   "authorship_tag": "ABX9TyPDnjvVlem87e+S0BRIzNfG",
   "collapsed_sections": [],
   "name": "Entregable-1-Alfredo-Quevedo.ipynb",
   "provenance": []
  },
  "kernelspec": {
   "display_name": "Python 3 (ipykernel)",
   "language": "python",
   "name": "python3"
  },
  "language_info": {
   "codemirror_mode": {
    "name": "ipython",
    "version": 3
   },
   "file_extension": ".py",
   "mimetype": "text/x-python",
   "name": "python",
   "nbconvert_exporter": "python",
   "pygments_lexer": "ipython3",
   "version": "3.8.12"
  }
 },
 "nbformat": 4,
 "nbformat_minor": 4
}
